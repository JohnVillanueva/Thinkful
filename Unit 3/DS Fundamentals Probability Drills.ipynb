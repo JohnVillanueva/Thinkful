{
 "cells": [
  {
   "cell_type": "markdown",
   "metadata": {},
   "source": [
    "Drill 1. <br><br> P(HTTH) = P(HHHH) = P(TTHH) = 0.5 ** 4 = 1/16"
   ]
  },
  {
   "cell_type": "markdown",
   "metadata": {},
   "source": [
    "Drill 2. <br><br> P(man) = 21/45 <br> P(not man) = 1 - P(man) = 24/45"
   ]
  },
  {
   "cell_type": "code",
   "execution_count": 1,
   "metadata": {},
   "outputs": [
    {
     "data": {
      "text/plain": [
       "5e-06"
      ]
     },
     "execution_count": 1,
     "metadata": {},
     "output_type": "execute_result"
    }
   ],
   "source": [
    "0.1 * 0.00005"
   ]
  },
  {
   "cell_type": "markdown",
   "metadata": {},
   "source": [
    "Drill 3. <br><br> P(Bernice Gets in a Plane Crash)<br>= P(Bernice Gets on Plane) and P(Bernice's Plane Crash)<br>= P(Bernice Gets on Plane) * P(Bernice's Plane Crashes)<br>= 0.1 * 0.00005<br>= 0.000005"
   ]
  },
  {
   "cell_type": "markdown",
   "metadata": {},
   "source": [
    "Drill 4.\n",
    "\n",
    "I think the primary issue with the data scientists conclusion is that pool of people who actually respond to the survey are not representative of all the visitors to the website in general. The ones who repond to the survey probably feel very strongly about the website or the company and are more likely to take the time out to complete the survey, while the majority of users will opt out of the survey. Rather than asking people thorugh a survey about their usage, it's better to anonymously track each users web usage.\n",
    "\n",
    "Also, it's possible that a pop up survey actually affect their behavior on the website and deter them away from it."
   ]
  }
 ],
 "metadata": {
  "kernelspec": {
   "display_name": "Python 3",
   "language": "python",
   "name": "python3"
  },
  "language_info": {
   "codemirror_mode": {
    "name": "ipython",
    "version": 3
   },
   "file_extension": ".py",
   "mimetype": "text/x-python",
   "name": "python",
   "nbconvert_exporter": "python",
   "pygments_lexer": "ipython3",
   "version": "3.7.2"
  }
 },
 "nbformat": 4,
 "nbformat_minor": 2
}
