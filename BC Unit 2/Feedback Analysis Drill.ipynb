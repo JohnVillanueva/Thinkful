{
 "cells": [
  {
   "cell_type": "code",
   "execution_count": 87,
   "metadata": {},
   "outputs": [],
   "source": [
    "%matplotlib inline\n",
    "import numpy as np\n",
    "import pandas as pd\n",
    "import scipy\n",
    "import sklearn\n",
    "import matplotlib.pyplot as plt\n",
    "import seaborn as sns"
   ]
  },
  {
   "cell_type": "code",
   "execution_count": 180,
   "metadata": {},
   "outputs": [
    {
     "data": {
      "text/html": [
       "<div>\n",
       "<style scoped>\n",
       "    .dataframe tbody tr th:only-of-type {\n",
       "        vertical-align: middle;\n",
       "    }\n",
       "\n",
       "    .dataframe tbody tr th {\n",
       "        vertical-align: top;\n",
       "    }\n",
       "\n",
       "    .dataframe thead th {\n",
       "        text-align: right;\n",
       "    }\n",
       "</style>\n",
       "<table border=\"1\" class=\"dataframe\">\n",
       "  <thead>\n",
       "    <tr style=\"text-align: right;\">\n",
       "      <th></th>\n",
       "      <th>sentence</th>\n",
       "      <th>positivity</th>\n",
       "    </tr>\n",
       "  </thead>\n",
       "  <tbody>\n",
       "    <tr>\n",
       "      <th>0</th>\n",
       "      <td>So there is no way for me to plug it in here i...</td>\n",
       "      <td>0</td>\n",
       "    </tr>\n",
       "    <tr>\n",
       "      <th>1</th>\n",
       "      <td>Good case, Excellent value.</td>\n",
       "      <td>1</td>\n",
       "    </tr>\n",
       "    <tr>\n",
       "      <th>2</th>\n",
       "      <td>Great for the jawbone.</td>\n",
       "      <td>1</td>\n",
       "    </tr>\n",
       "    <tr>\n",
       "      <th>3</th>\n",
       "      <td>Tied to charger for conversations lasting more...</td>\n",
       "      <td>0</td>\n",
       "    </tr>\n",
       "    <tr>\n",
       "      <th>4</th>\n",
       "      <td>The mic is great.</td>\n",
       "      <td>1</td>\n",
       "    </tr>\n",
       "  </tbody>\n",
       "</table>\n",
       "</div>"
      ],
      "text/plain": [
       "                                            sentence  positivity\n",
       "0  So there is no way for me to plug it in here i...           0\n",
       "1                        Good case, Excellent value.           1\n",
       "2                             Great for the jawbone.           1\n",
       "3  Tied to charger for conversations lasting more...           0\n",
       "4                                  The mic is great.           1"
      ]
     },
     "execution_count": 180,
     "metadata": {},
     "output_type": "execute_result"
    }
   ],
   "source": [
    "yelp_path = (\"../__DATA__/sentiment labelled sentences/yelp_labelled.txt\")\n",
    "amz_path = (\"../__DATA__/sentiment labelled sentences/amazon_cells_labelled.txt\")\n",
    "imdb_path = (\"../__DATA__/sentiment labelled sentences/imdb_labelled.txt\")\n",
    "#f = open(data_path)\n",
    "amzraw = pd.read_csv(amz_path, delimiter='\\t',header=None)\n",
    "amzraw.columns = ['sentence','positivity']\n",
    "amzraw.head()"
   ]
  },
  {
   "cell_type": "code",
   "execution_count": 153,
   "metadata": {},
   "outputs": [
    {
     "data": {
      "text/plain": [
       "['.', '!', '?', ',']"
      ]
     },
     "execution_count": 153,
     "metadata": {},
     "output_type": "execute_result"
    }
   ],
   "source": [
    "punctuation"
   ]
  },
  {
   "cell_type": "code",
   "execution_count": 173,
   "metadata": {},
   "outputs": [
    {
     "data": {
      "text/plain": [
       "(1000, 2)"
      ]
     },
     "execution_count": 173,
     "metadata": {},
     "output_type": "execute_result"
    }
   ],
   "source": [
    "punctuation = ['.','!','?',',']\n",
    "for p in punctuation:\n",
    "    df2=amzraw['sentence'].str.replace(p,' ')\n",
    "    df2=pd.DataFrame(df2)\n",
    "    amzraw['sentence'] = df2\n",
    "amzraw.shape"
   ]
  },
  {
   "cell_type": "code",
   "execution_count": null,
   "metadata": {},
   "outputs": [],
   "source": [
    "from sklearn.naive_bayes import BernoulliNB"
   ]
  },
  {
   "cell_type": "code",
   "execution_count": 175,
   "metadata": {},
   "outputs": [
    {
     "name": "stdout",
     "output_type": "stream",
     "text": [
      "Number of mislabeled points out of a total 1000 points : 215\n"
     ]
    }
   ],
   "source": [
    "keys = ['good','great','excellent','must have','impressed','recommend','love','best', 'nice', 'beautiful',\n",
    "        'waste','disappoint','junk','not', 'happy', 'eas', 'well','fine','joy', 'satis', 'like', 'sweet', 'wow']\n",
    "amzfeats = pd.DataFrame(amzraw['positivity'])\n",
    "for key in keys:\n",
    "    amzfeats[str(key)] = amzraw.sentence.str.contains(str(key), case=False)\n",
    "\n",
    "#setting data\n",
    "data = amzfeats[keys]\n",
    "target = amzfeats['positivity']\n",
    "\n",
    "#testing classifier\n",
    "bnb = BernoulliNB()\n",
    "bnb.fit(data, target)\n",
    "y_pred = bnb.predict(data)\n",
    "print(\"Number of mislabeled points out of a total {} points : {}\".format(data.shape[0],(target != y_pred).sum()))"
   ]
  },
  {
   "cell_type": "code",
   "execution_count": 177,
   "metadata": {},
   "outputs": [],
   "source": [
    "#Filter out negative reviews\n",
    "#amzraw[amzraw['positivity'] == 1]['sentence']"
   ]
  },
  {
   "cell_type": "code",
   "execution_count": 146,
   "metadata": {},
   "outputs": [
    {
     "data": {
      "text/plain": [
       "'Just reading on the specs alone makes you say WOW '"
      ]
     },
     "execution_count": 146,
     "metadata": {},
     "output_type": "execute_result"
    }
   ],
   "source": [
    "amzraw['sentence'][956]"
   ]
  },
  {
   "cell_type": "code",
   "execution_count": 176,
   "metadata": {},
   "outputs": [
    {
     "data": {
      "text/plain": [
       "<matplotlib.axes._subplots.AxesSubplot at 0x1326e0438>"
      ]
     },
     "execution_count": 176,
     "metadata": {},
     "output_type": "execute_result"
    },
    {
     "data": {
      "image/png": "[encoded data removed]",
      "text/plain": [
       "<Figure size 1080x720 with 2 Axes>"
      ]
     },
     "metadata": {
      "needs_background": "light"
     },
     "output_type": "display_data"
    }
   ],
   "source": [
    "plt.figure(figsize=(15,10))\n",
    "sns.heatmap(amzfeats.corr())"
   ]
  },
  {
   "cell_type": "code",
   "execution_count": 193,
   "metadata": {},
   "outputs": [],
   "source": [
    "def revclasseval(path):\n",
    "    raw = pd.read_csv(path, delimiter='\\t',header=None)\n",
    "    raw.columns = ['sentence','positivity']\n",
    "    \n",
    "    punctuation = ['.','!','?',',']\n",
    "    for p in punctuation:\n",
    "        df2=raw['sentence'].str.replace(p,' ')\n",
    "        df2=pd.DataFrame(df2)\n",
    "        raw['sentence'] = df2\n",
    "        \n",
    "    keys = ['good','great','excellent','must have','impressed','recommend','love','best', 'nice', 'beautiful',\n",
    "        'waste','disappoint','junk','not', 'happy', 'eas', 'well','fine','joy', 'satis', 'like', 'sweet', 'wow']\n",
    "    \n",
    "    feats = pd.DataFrame(raw['positivity'])\n",
    "    for key in keys:\n",
    "        feats[str(key)] = raw.sentence.str.contains(str(key), case=False)\n",
    "\n",
    "    #setting data\n",
    "    data = feats[keys]\n",
    "    target = feats['positivity']\n",
    "\n",
    "    #testing classifier\n",
    "    bnb = BernoulliNB()\n",
    "    bnb.fit(data, target)\n",
    "    y_pred = bnb.predict(data)\n",
    "    print(\"Number of mislabeled points out of a total {} points : {}\".format(data.shape[0],(target != y_pred).sum()))"
   ]
  },
  {
   "cell_type": "code",
   "execution_count": 194,
   "metadata": {},
   "outputs": [
    {
     "name": "stdout",
     "output_type": "stream",
     "text": [
      "Number of mislabeled points out of a total 1000 points : 300\n"
     ]
    }
   ],
   "source": [
    "revclasseval(yelp_path)"
   ]
  },
  {
   "cell_type": "code",
   "execution_count": 195,
   "metadata": {},
   "outputs": [
    {
     "name": "stdout",
     "output_type": "stream",
     "text": [
      "Number of mislabeled points out of a total 748 points : 261\n"
     ]
    }
   ],
   "source": [
    "revclasseval(imdb_path)"
   ]
  },
  {
   "cell_type": "code",
   "execution_count": 196,
   "metadata": {},
   "outputs": [
    {
     "name": "stdout",
     "output_type": "stream",
     "text": [
      "Number of mislabeled points out of a total 1000 points : 215\n"
     ]
    }
   ],
   "source": [
    "revclasseval(amz_path)"
   ]
  },
  {
   "cell_type": "code",
   "execution_count": null,
   "metadata": {},
   "outputs": [],
   "source": []
  }
 ],
 "metadata": {
  "kernelspec": {
   "display_name": "Python 3",
   "language": "python",
   "name": "python3"
  },
  "language_info": {
   "codemirror_mode": {
    "name": "ipython",
    "version": 3
   },
   "file_extension": ".py",
   "mimetype": "text/x-python",
   "name": "python",
   "nbconvert_exporter": "python",
   "pygments_lexer": "ipython3",
   "version": "3.7.2"
  }
 },
 "nbformat": 4,
 "nbformat_minor": 2
}
