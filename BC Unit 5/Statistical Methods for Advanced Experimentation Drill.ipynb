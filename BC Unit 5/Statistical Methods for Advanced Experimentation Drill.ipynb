{
 "cells": [
  {
   "cell_type": "code",
   "execution_count": 1,
   "metadata": {},
   "outputs": [],
   "source": [
    "import pandas as pd\n",
    "import numpy as np\n",
    "import scipy.stats as stats\n",
    "import matplotlib.pyplot as plt\n",
    "import seaborn as sns\n",
    "%matplotlib inline"
   ]
  },
  {
   "cell_type": "code",
   "execution_count": 6,
   "metadata": {},
   "outputs": [
    {
     "name": "stdout",
     "output_type": "stream",
     "text": [
      "(8594, 13)\n"
     ]
    },
    {
     "data": {
      "text/html": [
       "<div>\n",
       "<style scoped>\n",
       "    .dataframe tbody tr th:only-of-type {\n",
       "        vertical-align: middle;\n",
       "    }\n",
       "\n",
       "    .dataframe tbody tr th {\n",
       "        vertical-align: top;\n",
       "    }\n",
       "\n",
       "    .dataframe thead th {\n",
       "        text-align: right;\n",
       "    }\n",
       "</style>\n",
       "<table border=\"1\" class=\"dataframe\">\n",
       "  <thead>\n",
       "    <tr style=\"text-align: right;\">\n",
       "      <th></th>\n",
       "      <th>cntry</th>\n",
       "      <th>idno</th>\n",
       "      <th>year</th>\n",
       "      <th>tvtot</th>\n",
       "      <th>ppltrst</th>\n",
       "      <th>pplfair</th>\n",
       "      <th>pplhlp</th>\n",
       "      <th>happy</th>\n",
       "      <th>sclmeet</th>\n",
       "      <th>sclact</th>\n",
       "      <th>gndr</th>\n",
       "      <th>agea</th>\n",
       "      <th>partner</th>\n",
       "    </tr>\n",
       "  </thead>\n",
       "  <tbody>\n",
       "    <tr>\n",
       "      <th>0</th>\n",
       "      <td>CH</td>\n",
       "      <td>5.0</td>\n",
       "      <td>6</td>\n",
       "      <td>3.0</td>\n",
       "      <td>3.0</td>\n",
       "      <td>10.0</td>\n",
       "      <td>5.0</td>\n",
       "      <td>8.0</td>\n",
       "      <td>5.0</td>\n",
       "      <td>4.0</td>\n",
       "      <td>2.0</td>\n",
       "      <td>60.0</td>\n",
       "      <td>1.0</td>\n",
       "    </tr>\n",
       "    <tr>\n",
       "      <th>1</th>\n",
       "      <td>CH</td>\n",
       "      <td>25.0</td>\n",
       "      <td>6</td>\n",
       "      <td>6.0</td>\n",
       "      <td>5.0</td>\n",
       "      <td>7.0</td>\n",
       "      <td>5.0</td>\n",
       "      <td>9.0</td>\n",
       "      <td>3.0</td>\n",
       "      <td>2.0</td>\n",
       "      <td>2.0</td>\n",
       "      <td>59.0</td>\n",
       "      <td>1.0</td>\n",
       "    </tr>\n",
       "    <tr>\n",
       "      <th>2</th>\n",
       "      <td>CH</td>\n",
       "      <td>26.0</td>\n",
       "      <td>6</td>\n",
       "      <td>1.0</td>\n",
       "      <td>8.0</td>\n",
       "      <td>8.0</td>\n",
       "      <td>8.0</td>\n",
       "      <td>7.0</td>\n",
       "      <td>6.0</td>\n",
       "      <td>3.0</td>\n",
       "      <td>1.0</td>\n",
       "      <td>24.0</td>\n",
       "      <td>2.0</td>\n",
       "    </tr>\n",
       "    <tr>\n",
       "      <th>3</th>\n",
       "      <td>CH</td>\n",
       "      <td>28.0</td>\n",
       "      <td>6</td>\n",
       "      <td>4.0</td>\n",
       "      <td>6.0</td>\n",
       "      <td>6.0</td>\n",
       "      <td>7.0</td>\n",
       "      <td>10.0</td>\n",
       "      <td>6.0</td>\n",
       "      <td>2.0</td>\n",
       "      <td>2.0</td>\n",
       "      <td>64.0</td>\n",
       "      <td>1.0</td>\n",
       "    </tr>\n",
       "    <tr>\n",
       "      <th>4</th>\n",
       "      <td>CH</td>\n",
       "      <td>29.0</td>\n",
       "      <td>6</td>\n",
       "      <td>5.0</td>\n",
       "      <td>6.0</td>\n",
       "      <td>7.0</td>\n",
       "      <td>5.0</td>\n",
       "      <td>8.0</td>\n",
       "      <td>7.0</td>\n",
       "      <td>2.0</td>\n",
       "      <td>2.0</td>\n",
       "      <td>55.0</td>\n",
       "      <td>1.0</td>\n",
       "    </tr>\n",
       "  </tbody>\n",
       "</table>\n",
       "</div>"
      ],
      "text/plain": [
       "  cntry  idno  year  tvtot  ppltrst  pplfair  pplhlp  happy  sclmeet  sclact  \\\n",
       "0    CH   5.0     6    3.0      3.0     10.0     5.0    8.0      5.0     4.0   \n",
       "1    CH  25.0     6    6.0      5.0      7.0     5.0    9.0      3.0     2.0   \n",
       "2    CH  26.0     6    1.0      8.0      8.0     8.0    7.0      6.0     3.0   \n",
       "3    CH  28.0     6    4.0      6.0      6.0     7.0   10.0      6.0     2.0   \n",
       "4    CH  29.0     6    5.0      6.0      7.0     5.0    8.0      7.0     2.0   \n",
       "\n",
       "   gndr  agea  partner  \n",
       "0   2.0  60.0      1.0  \n",
       "1   2.0  59.0      1.0  \n",
       "2   1.0  24.0      2.0  \n",
       "3   2.0  64.0      1.0  \n",
       "4   2.0  55.0      1.0  "
      ]
     },
     "execution_count": 6,
     "metadata": {},
     "output_type": "execute_result"
    }
   ],
   "source": [
    "ess = pd.read_csv('https://raw.githubusercontent.com/Thinkful-Ed/data-201-resources/master/ESS_practice_data/ESSdata_Thinkful.csv')\n",
    "print(ess.shape)\n",
    "ess.head()"
   ]
  },
  {
   "cell_type": "code",
   "execution_count": 3,
   "metadata": {},
   "outputs": [
    {
     "data": {
      "text/plain": [
       "array([6, 7])"
      ]
     },
     "execution_count": 3,
     "metadata": {},
     "output_type": "execute_result"
    }
   ],
   "source": [
    "ess['year'].unique()\n",
    "# 6 = Year 2012\n",
    "# 7 = Year 2014"
   ]
  },
  {
   "cell_type": "code",
   "execution_count": 7,
   "metadata": {},
   "outputs": [
    {
     "data": {
      "text/plain": [
       "3086"
      ]
     },
     "execution_count": 7,
     "metadata": {},
     "output_type": "execute_result"
    }
   ],
   "source": [
    "ess['idno'].nunique()\n",
    "# of Unique respondents to this survey"
   ]
  },
  {
   "cell_type": "code",
   "execution_count": 8,
   "metadata": {},
   "outputs": [
    {
     "data": {
      "text/plain": [
       "array(['CH', 'CZ', 'DE', 'ES', 'NO', 'SE'], dtype=object)"
      ]
     },
     "execution_count": 8,
     "metadata": {},
     "output_type": "execute_result"
    }
   ],
   "source": [
    "ess['cntry'].unique()"
   ]
  },
  {
   "cell_type": "code",
   "execution_count": 35,
   "metadata": {},
   "outputs": [
    {
     "data": {
      "text/plain": [
       "0     CH_5\n",
       "1    CH_25\n",
       "2    CH_26\n",
       "3    CH_28\n",
       "4    CH_29\n",
       "Name: cntry_idno, dtype: object"
      ]
     },
     "execution_count": 35,
     "metadata": {},
     "output_type": "execute_result"
    }
   ],
   "source": [
    "# Combining country and idno catecatories because idno's are reused between countries rather than having a unique # for each individual\n",
    "cntry_id= []\n",
    "for i in ess.index:\n",
    "    country = ess.loc[i, 'cntry']\n",
    "    idnum = str(int(ess.loc[i, 'idno']))\n",
    "    co_id = country + '_' + idnum\n",
    "    cntry_id.append(co_id)\n",
    "ess['cntry_idno'] = cntry_id\n",
    "ess['cntry_idno'].head()"
   ]
  },
  {
   "cell_type": "markdown",
   "metadata": {},
   "source": [
    "## 1. Did people become less trusting from 2012 to 2014? Compute results for each country in the sample.\n",
    "\n",
    "For each country, trust scores for the same inviduals in 2012 and 2014 will be paired. If individuals aren't present for both years, their data will be discarded."
   ]
  },
  {
   "cell_type": "code",
   "execution_count": 62,
   "metadata": {},
   "outputs": [
    {
     "data": {
      "text/html": [
       "<div>\n",
       "<style scoped>\n",
       "    .dataframe tbody tr th:only-of-type {\n",
       "        vertical-align: middle;\n",
       "    }\n",
       "\n",
       "    .dataframe tbody tr th {\n",
       "        vertical-align: top;\n",
       "    }\n",
       "\n",
       "    .dataframe thead th {\n",
       "        text-align: right;\n",
       "    }\n",
       "</style>\n",
       "<table border=\"1\" class=\"dataframe\">\n",
       "  <thead>\n",
       "    <tr style=\"text-align: right;\">\n",
       "      <th></th>\n",
       "      <th>cntry</th>\n",
       "      <th>cntry_idno</th>\n",
       "      <th>ppltrst_x</th>\n",
       "      <th>ppltrst_y</th>\n",
       "    </tr>\n",
       "  </thead>\n",
       "  <tbody>\n",
       "    <tr>\n",
       "      <th>0</th>\n",
       "      <td>CH</td>\n",
       "      <td>CH_5</td>\n",
       "      <td>3.0</td>\n",
       "      <td>8.0</td>\n",
       "    </tr>\n",
       "    <tr>\n",
       "      <th>1</th>\n",
       "      <td>CH</td>\n",
       "      <td>CH_25</td>\n",
       "      <td>5.0</td>\n",
       "      <td>4.0</td>\n",
       "    </tr>\n",
       "    <tr>\n",
       "      <th>2</th>\n",
       "      <td>CH</td>\n",
       "      <td>CH_26</td>\n",
       "      <td>8.0</td>\n",
       "      <td>8.0</td>\n",
       "    </tr>\n",
       "    <tr>\n",
       "      <th>3</th>\n",
       "      <td>CH</td>\n",
       "      <td>CH_28</td>\n",
       "      <td>6.0</td>\n",
       "      <td>7.0</td>\n",
       "    </tr>\n",
       "    <tr>\n",
       "      <th>4</th>\n",
       "      <td>CH</td>\n",
       "      <td>CH_29</td>\n",
       "      <td>6.0</td>\n",
       "      <td>4.0</td>\n",
       "    </tr>\n",
       "  </tbody>\n",
       "</table>\n",
       "</div>"
      ],
      "text/plain": [
       "  cntry cntry_idno  ppltrst_x  ppltrst_y\n",
       "0    CH       CH_5        3.0        8.0\n",
       "1    CH      CH_25        5.0        4.0\n",
       "2    CH      CH_26        8.0        8.0\n",
       "3    CH      CH_28        6.0        7.0\n",
       "4    CH      CH_29        6.0        4.0"
      ]
     },
     "metadata": {},
     "output_type": "display_data"
    },
    {
     "data": {
      "text/plain": [
       "(4283, 4)"
      ]
     },
     "execution_count": 62,
     "metadata": {},
     "output_type": "execute_result"
    }
   ],
   "source": [
    "trust_12 = ess.loc[ess['year'] == 6, ['cntry','cntry_idno','ppltrst']]\n",
    "trust_14 = ess.loc[ess['year'] == 7, ['cntry_idno','ppltrst']]\n",
    "trust_df = trust_12.merge(trust_14, on = 'cntry_idno')#.dropna(axis=0)\n",
    "display(trust_df.head())\n",
    "trust_df.shape"
   ]
  },
  {
   "cell_type": "code",
   "execution_count": 63,
   "metadata": {},
   "outputs": [
    {
     "data": {
      "text/plain": [
       "cntry         0\n",
       "cntry_idno    0\n",
       "ppltrst_x     0\n",
       "ppltrst_y     0\n",
       "dtype: int64"
      ]
     },
     "execution_count": 63,
     "metadata": {},
     "output_type": "execute_result"
    }
   ],
   "source": [
    "trust_df.isna().sum()"
   ]
  },
  {
   "cell_type": "code",
   "execution_count": 40,
   "metadata": {},
   "outputs": [
    {
     "data": {
      "image/png": "[encoded data removed]",
      "text/plain": [
       "<Figure size 432x1008 with 2 Axes>"
      ]
     },
     "metadata": {
      "needs_background": "light"
     },
     "output_type": "display_data"
    }
   ],
   "source": [
    "plt.figure(figsize = (6,14))\n",
    "\n",
    "plt.subplot(2,1,1)\n",
    "plt.hist(trust_df['ppltrst_x'])\n",
    "plt.title('Distribution of 2012 Trust Scores')\n",
    "\n",
    "plt.subplot(2,1,2)\n",
    "plt.hist(trust_df['ppltrst_y'])\n",
    "plt.title('Distribution of 2014 Trust Scores')\n",
    "\n",
    "plt.show()"
   ]
  },
  {
   "cell_type": "code",
   "execution_count": 43,
   "metadata": {},
   "outputs": [
    {
     "data": {
      "text/plain": [
       "ppltrst_x    5.563098\n",
       "ppltrst_y    5.556720\n",
       "dtype: float64"
      ]
     },
     "execution_count": 43,
     "metadata": {},
     "output_type": "execute_result"
    }
   ],
   "source": [
    "trust_df.mean(axis=0),"
   ]
  },
  {
   "cell_type": "code",
   "execution_count": 64,
   "metadata": {},
   "outputs": [
    {
     "data": {
      "text/html": [
       "<div>\n",
       "<style scoped>\n",
       "    .dataframe tbody tr th:only-of-type {\n",
       "        vertical-align: middle;\n",
       "    }\n",
       "\n",
       "    .dataframe tbody tr th {\n",
       "        vertical-align: top;\n",
       "    }\n",
       "\n",
       "    .dataframe thead th {\n",
       "        text-align: right;\n",
       "    }\n",
       "</style>\n",
       "<table border=\"1\" class=\"dataframe\">\n",
       "  <thead>\n",
       "    <tr style=\"text-align: right;\">\n",
       "      <th></th>\n",
       "      <th>t_score</th>\n",
       "      <th>pvalue</th>\n",
       "    </tr>\n",
       "  </thead>\n",
       "  <tbody>\n",
       "    <tr>\n",
       "      <th>CH</th>\n",
       "      <td>0.658685</td>\n",
       "      <td>0.510294</td>\n",
       "    </tr>\n",
       "    <tr>\n",
       "      <th>CZ</th>\n",
       "      <td>0.500164</td>\n",
       "      <td>0.617129</td>\n",
       "    </tr>\n",
       "    <tr>\n",
       "      <th>DE</th>\n",
       "      <td>0.183995</td>\n",
       "      <td>0.856856</td>\n",
       "    </tr>\n",
       "    <tr>\n",
       "      <th>ES</th>\n",
       "      <td>-2.45619</td>\n",
       "      <td>0.0141816</td>\n",
       "    </tr>\n",
       "    <tr>\n",
       "      <th>NO</th>\n",
       "      <td>-0.507308</td>\n",
       "      <td>0.612093</td>\n",
       "    </tr>\n",
       "    <tr>\n",
       "      <th>SE</th>\n",
       "      <td>2.06711</td>\n",
       "      <td>0.0390078</td>\n",
       "    </tr>\n",
       "  </tbody>\n",
       "</table>\n",
       "</div>"
      ],
      "text/plain": [
       "     t_score     pvalue\n",
       "CH  0.658685   0.510294\n",
       "CZ  0.500164   0.617129\n",
       "DE  0.183995   0.856856\n",
       "ES  -2.45619  0.0141816\n",
       "NO -0.507308   0.612093\n",
       "SE   2.06711  0.0390078"
      ]
     },
     "execution_count": 64,
     "metadata": {},
     "output_type": "execute_result"
    }
   ],
   "source": [
    "countries = trust_df['cntry'].unique()\n",
    "paired_ttest_trust = pd.DataFrame(index = countries, columns = ['t_score','pvalue'])\n",
    "\n",
    "for country in countries:\n",
    "    A = trust_df.loc[trust_df['cntry'] == country, 'ppltrst_x'] # 2012 Trust Measurements\n",
    "    B = trust_df.loc[trust_df['cntry'] == country, 'ppltrst_y'] # 2014 Trust MEsaurements\n",
    "    t_score, pvalue = stats.ttest_rel(B,A, nan_policy = 'omit') # We switch the order in order to get a Final - Intial Measurement\n",
    "    paired_ttest_trust.loc[country, ['t_score','pvalue']] = [t_score, pvalue]   \n",
    "\n",
    "paired_ttest_trust"
   ]
  },
  {
   "cell_type": "markdown",
   "metadata": {},
   "source": [
    "For the pairwise t-tests above, the mean difference in trust for the same individual, meaning that each individual was compared to him or herself between 2012 and 2014. Looking at the results of our paired t_test, it seems that that Spain and Sweden were the only countries to have an actual change in trust. (P-values both less than 0.05; p-values for other countries are much higher than 0.5 meaning the differences are not even questionably significant).\n",
    "\n",
    "Spain however lost it's trust in other people while trust in people actually increased in Sweden.\n",
    "\n",
    "--------\n",
    "\n",
    "A paired t-test was chosen to test this sample because when see how behavior over time changes, it's best to measure the diffences between the same individual overtime then average those differences across individuals. This is opposed to get the average across invididual people over time. Comparing behaviors between the same individual gives a more raw and accurate change in behavior over time."
   ]
  },
  {
   "cell_type": "markdown",
   "metadata": {},
   "source": [
    "## 2. Did people become happier from 2012 to 2014? Compute results for each country in the sample."
   ]
  },
  {
   "cell_type": "code",
   "execution_count": 68,
   "metadata": {},
   "outputs": [
    {
     "data": {
      "text/html": [
       "<div>\n",
       "<style scoped>\n",
       "    .dataframe tbody tr th:only-of-type {\n",
       "        vertical-align: middle;\n",
       "    }\n",
       "\n",
       "    .dataframe tbody tr th {\n",
       "        vertical-align: top;\n",
       "    }\n",
       "\n",
       "    .dataframe thead th {\n",
       "        text-align: right;\n",
       "    }\n",
       "</style>\n",
       "<table border=\"1\" class=\"dataframe\">\n",
       "  <thead>\n",
       "    <tr style=\"text-align: right;\">\n",
       "      <th></th>\n",
       "      <th>cntry</th>\n",
       "      <th>cntry_idno</th>\n",
       "      <th>happy_x</th>\n",
       "      <th>happy_y</th>\n",
       "    </tr>\n",
       "  </thead>\n",
       "  <tbody>\n",
       "    <tr>\n",
       "      <th>0</th>\n",
       "      <td>CH</td>\n",
       "      <td>CH_5</td>\n",
       "      <td>8.0</td>\n",
       "      <td>9.0</td>\n",
       "    </tr>\n",
       "    <tr>\n",
       "      <th>1</th>\n",
       "      <td>CH</td>\n",
       "      <td>CH_25</td>\n",
       "      <td>9.0</td>\n",
       "      <td>6.0</td>\n",
       "    </tr>\n",
       "    <tr>\n",
       "      <th>2</th>\n",
       "      <td>CH</td>\n",
       "      <td>CH_26</td>\n",
       "      <td>7.0</td>\n",
       "      <td>8.0</td>\n",
       "    </tr>\n",
       "    <tr>\n",
       "      <th>3</th>\n",
       "      <td>CH</td>\n",
       "      <td>CH_28</td>\n",
       "      <td>10.0</td>\n",
       "      <td>9.0</td>\n",
       "    </tr>\n",
       "    <tr>\n",
       "      <th>4</th>\n",
       "      <td>CH</td>\n",
       "      <td>CH_29</td>\n",
       "      <td>8.0</td>\n",
       "      <td>8.0</td>\n",
       "    </tr>\n",
       "  </tbody>\n",
       "</table>\n",
       "</div>"
      ],
      "text/plain": [
       "  cntry cntry_idno  happy_x  happy_y\n",
       "0    CH       CH_5      8.0      9.0\n",
       "1    CH      CH_25      9.0      6.0\n",
       "2    CH      CH_26      7.0      8.0\n",
       "3    CH      CH_28     10.0      9.0\n",
       "4    CH      CH_29      8.0      8.0"
      ]
     },
     "metadata": {},
     "output_type": "display_data"
    },
    {
     "data": {
      "text/plain": [
       "(4297, 4)"
      ]
     },
     "execution_count": 68,
     "metadata": {},
     "output_type": "execute_result"
    }
   ],
   "source": [
    "happy_12 = ess.loc[ess['year'] == 6, ['cntry','cntry_idno','happy']]\n",
    "happy_14 = ess.loc[ess['year'] == 7, ['cntry_idno','happy']]\n",
    "happy_df = happy_12.merge(happy_14, on = 'cntry_idno')#.dropna(axis=0)\n",
    "display(happy_df.head())\n",
    "happy_df.shape"
   ]
  },
  {
   "cell_type": "code",
   "execution_count": 88,
   "metadata": {},
   "outputs": [
    {
     "data": {
      "image/png": "[encoded data removed]",
      "text/plain": [
       "<Figure size 432x1008 with 1 Axes>"
      ]
     },
     "metadata": {
      "needs_background": "light"
     },
     "output_type": "display_data"
    }
   ],
   "source": [
    "plt.figure(figsize = (6,14))\n",
    "\n",
    "plt.subplot(2,1,1)\n",
    "plt.hist(happy_df['happy_x']-happy_df['happy_y'])\n",
    "plt.title('Distribution of Happiness Differences \\nfor Each Inidividual between 2012 and 2014')\n",
    "\n",
    "plt.show()"
   ]
  },
  {
   "cell_type": "code",
   "execution_count": 89,
   "metadata": {},
   "outputs": [
    {
     "data": {
      "text/html": [
       "<div>\n",
       "<style scoped>\n",
       "    .dataframe tbody tr th:only-of-type {\n",
       "        vertical-align: middle;\n",
       "    }\n",
       "\n",
       "    .dataframe tbody tr th {\n",
       "        vertical-align: top;\n",
       "    }\n",
       "\n",
       "    .dataframe thead th {\n",
       "        text-align: right;\n",
       "    }\n",
       "</style>\n",
       "<table border=\"1\" class=\"dataframe\">\n",
       "  <thead>\n",
       "    <tr style=\"text-align: right;\">\n",
       "      <th></th>\n",
       "      <th>t_score</th>\n",
       "      <th>pvalue</th>\n",
       "    </tr>\n",
       "  </thead>\n",
       "  <tbody>\n",
       "    <tr>\n",
       "      <th>CH</th>\n",
       "      <td>0.319413</td>\n",
       "      <td>0.7495</td>\n",
       "    </tr>\n",
       "    <tr>\n",
       "      <th>CZ</th>\n",
       "      <td>1.45614</td>\n",
       "      <td>0.145845</td>\n",
       "    </tr>\n",
       "    <tr>\n",
       "      <th>DE</th>\n",
       "      <td>0.806226</td>\n",
       "      <td>0.434614</td>\n",
       "    </tr>\n",
       "    <tr>\n",
       "      <th>ES</th>\n",
       "      <td>-1.61383</td>\n",
       "      <td>0.106825</td>\n",
       "    </tr>\n",
       "    <tr>\n",
       "      <th>NO</th>\n",
       "      <td>-4.28568</td>\n",
       "      <td>2.06745e-05</td>\n",
       "    </tr>\n",
       "    <tr>\n",
       "      <th>SE</th>\n",
       "      <td>0.558164</td>\n",
       "      <td>0.576871</td>\n",
       "    </tr>\n",
       "  </tbody>\n",
       "</table>\n",
       "</div>"
      ],
      "text/plain": [
       "     t_score       pvalue\n",
       "CH  0.319413       0.7495\n",
       "CZ   1.45614     0.145845\n",
       "DE  0.806226     0.434614\n",
       "ES  -1.61383     0.106825\n",
       "NO  -4.28568  2.06745e-05\n",
       "SE  0.558164     0.576871"
      ]
     },
     "execution_count": 89,
     "metadata": {},
     "output_type": "execute_result"
    }
   ],
   "source": [
    "countries = happy_df['cntry'].unique()\n",
    "paired_ttest_happy = pd.DataFrame(index = countries, columns = ['t_score','pvalue'])\n",
    "\n",
    "for country in countries:\n",
    "    A = happy_df.loc[happy_df['cntry'] == country, 'happy_x'] # 2012 Happiness Measurements\n",
    "    B = happy_df.loc[happy_df['cntry'] == country, 'happy_y'] # 2014 Happiness Measurements\n",
    "    t_score, pvalue = stats.ttest_rel(B,A, nan_policy = 'omit') # We switch the order in order to get a Final - Intial Measurement\n",
    "    paired_ttest_happy.loc[country, ['t_score','pvalue']] = [t_score, pvalue]   \n",
    "\n",
    "paired_ttest_happy"
   ]
  },
  {
   "cell_type": "markdown",
   "metadata": {},
   "source": [
    "Only one country observed a signifcant change in happiness, and unfortunately the residents of that country became much unhappier. Norway produced a t-score of -4.28568 and p-value of much less than 0.01%, which means happiness is much lower in 2014 than in 2012. All other countries besides Spain showed an increase in happiness but none to extent that produces a p-value below 0.05.\n",
    "\n",
    "----\n",
    "\n",
    "Again, we use the paired t-test because we want to compare how residents of each country actually changed in happiness. Aggregating changes in individuals into an overall country average provides a more accurate statistical description of the behavioral changes."
   ]
  },
  {
   "cell_type": "markdown",
   "metadata": {},
   "source": [
    "## 3. Who reported watching more TV in 2012, men or women?"
   ]
  },
  {
   "cell_type": "code",
   "execution_count": 91,
   "metadata": {},
   "outputs": [
    {
     "name": "stdout",
     "output_type": "stream",
     "text": [
      "Avg. Hours of TV on a Weekday: \n",
      "Men: 3.901906090190609 \n",
      "Women: 3.944392523364486\n"
     ]
    }
   ],
   "source": [
    "tv_df = ess.loc[ess['year'] == 6, ['tvtot', 'gndr']]\n",
    "male_tv = tv_df.loc[tv_df['gndr'] == 1, 'tvtot'].mean()\n",
    "female_tv = tv_df.loc[tv_df['gndr'] == 2, 'tvtot'].mean()\n",
    "print('Avg. Hours of TV on a Weekday: \\nMen: {} \\nWomen: {}'.format(male_tv, female_tv))"
   ]
  },
  {
   "cell_type": "markdown",
   "metadata": {},
   "source": [
    "Looking at the average across all countries for men and for women, it seems that the amount of time that one gender watches TV on an average weekday in 2012 is similar to the other. However, we will use a t-test to see just how if the difference happens to be statistically significant."
   ]
  },
  {
   "cell_type": "code",
   "execution_count": 93,
   "metadata": {},
   "outputs": [
    {
     "name": "stdout",
     "output_type": "stream",
     "text": [
      "t_score: 0.6899351288552367 \n",
      " pvalue: 0.4902723647949663\n"
     ]
    }
   ],
   "source": [
    "A = tv_df.loc[tv_df['gndr'] == 1, 'tvtot']\n",
    "B = tv_df.loc[tv_df['gndr'] == 2, 'tvtot']\n",
    "\n",
    "t_score, pvalue = stats.ttest_ind(B, A, nan_policy = 'omit', equal_var = False)\n",
    "print('t_score: {} \\n pvalue: {}'.format(t_score, pvalue))"
   ]
  },
  {
   "cell_type": "markdown",
   "metadata": {},
   "source": [
    "The difference between men and women for average hours of tv watched per weekday is not statistically significant. the pvalue is at nearly 50%, 10x higher than what would be considered a significant difference.\n",
    "\n",
    "------\n",
    "We use a normal t-test in this case because samples cannot be paired between the two groups."
   ]
  },
  {
   "cell_type": "markdown",
   "metadata": {},
   "source": [
    "## 4. Who was more likely to believe people were fair in 2012, people living with a partner or people living alone?"
   ]
  },
  {
   "cell_type": "code",
   "execution_count": 101,
   "metadata": {},
   "outputs": [
    {
     "name": "stdout",
     "output_type": "stream",
     "text": [
      "Avg. Rating of Fairness: \n",
      "Partnered: 6.080736012016523 \n",
      "Unpartnered: 5.856965174129353\n"
     ]
    }
   ],
   "source": [
    "A = ess.loc[(ess['year']==6) & (ess['partner']==1), 'pplfair'] # Partnered\n",
    "B = ess.loc[(ess['year']==6) & (ess['partner']==2), 'pplfair'] # Unpartnered\n",
    "print('Avg. Rating of Fairness: \\nPartnered: {} \\nUnpartnered: {}'.format(A.mean(), B.mean()))"
   ]
  },
  {
   "cell_type": "markdown",
   "metadata": {},
   "source": [
    "There does seem to be a difference so let's perform a t-test if the difference is significant."
   ]
  },
  {
   "cell_type": "code",
   "execution_count": 102,
   "metadata": {},
   "outputs": [
    {
     "name": "stdout",
     "output_type": "stream",
     "text": [
      "t_score: 3.302788974656336 \n",
      " pvalue: 0.000967389776311858\n"
     ]
    }
   ],
   "source": [
    "t_score, pvalue = stats.ttest_ind(A, B, nan_policy = 'omit', equal_var = False)\n",
    "print('t_score: {} \\npvalue: {}'.format(t_score, pvalue))"
   ]
  },
  {
   "cell_type": "markdown",
   "metadata": {},
   "source": [
    "The statistics shows that people who live with their partner are more likely to see others around them as fair. Despite the difference being small, this difference is quite significant, corresponding to a p-value of less than 0.001. A simple t-test was employed because the people in the two groups are independent of each other."
   ]
  },
  {
   "cell_type": "markdown",
   "metadata": {},
   "source": [
    "## 5. Pick three or four of the countries in the sample and compare how often people met socially in 2014. Are there differences, and if so, which countries stand out?"
   ]
  },
  {
   "cell_type": "code",
   "execution_count": 121,
   "metadata": {},
   "outputs": [
    {
     "data": {
      "image/png": "[encoded data removed]",
      "text/plain": [
       "<Figure size 1080x720 with 4 Axes>"
      ]
     },
     "metadata": {
      "needs_background": "light"
     },
     "output_type": "display_data"
    }
   ],
   "source": [
    "countries = ['CH', 'DE', 'ES', 'SE']\n",
    "plt.figure(figsize=(15,10))\n",
    "for i, country in enumerate(countries):\n",
    "    socialness = ess.loc[(ess['year']==7) & (ess['cntry'] == country), 'sclmeet']\n",
    "    plt.subplot(2,2,i+1)\n",
    "    plt.hist(socialness)\n",
    "    plt.title(country + ' Distribution of Socialness')"
   ]
  },
  {
   "cell_type": "markdown",
   "metadata": {},
   "source": [
    "Besides Germany, the distributions are slightly left skewed. We will procedd to run standard t-tests then validate them with a median test."
   ]
  },
  {
   "cell_type": "code",
   "execution_count": 116,
   "metadata": {},
   "outputs": [
    {
     "data": {
      "text/html": [
       "<div>\n",
       "<style scoped>\n",
       "    .dataframe tbody tr th:only-of-type {\n",
       "        vertical-align: middle;\n",
       "    }\n",
       "\n",
       "    .dataframe tbody tr th {\n",
       "        vertical-align: top;\n",
       "    }\n",
       "\n",
       "    .dataframe thead th {\n",
       "        text-align: right;\n",
       "    }\n",
       "</style>\n",
       "<table border=\"1\" class=\"dataframe\">\n",
       "  <thead>\n",
       "    <tr style=\"text-align: right;\">\n",
       "      <th></th>\n",
       "      <th>country_1</th>\n",
       "      <th>country_2</th>\n",
       "      <th>C1 Mean</th>\n",
       "      <th>C2 Mean</th>\n",
       "      <th>Mean Difference (C2-C1)</th>\n",
       "      <th>t-score</th>\n",
       "      <th>pvalue</th>\n",
       "    </tr>\n",
       "  </thead>\n",
       "  <tbody>\n",
       "    <tr>\n",
       "      <th>0</th>\n",
       "      <td>CH</td>\n",
       "      <td>DE</td>\n",
       "      <td>5.160622</td>\n",
       "      <td>4.428571</td>\n",
       "      <td>-0.732050</td>\n",
       "      <td>-3.528859</td>\n",
       "      <td>0.003196</td>\n",
       "    </tr>\n",
       "    <tr>\n",
       "      <th>1</th>\n",
       "      <td>CH</td>\n",
       "      <td>ES</td>\n",
       "      <td>5.160622</td>\n",
       "      <td>5.260116</td>\n",
       "      <td>0.099494</td>\n",
       "      <td>1.573721</td>\n",
       "      <td>0.115730</td>\n",
       "    </tr>\n",
       "    <tr>\n",
       "      <th>2</th>\n",
       "      <td>CH</td>\n",
       "      <td>SE</td>\n",
       "      <td>5.160622</td>\n",
       "      <td>5.426211</td>\n",
       "      <td>0.265590</td>\n",
       "      <td>4.052908</td>\n",
       "      <td>0.000053</td>\n",
       "    </tr>\n",
       "    <tr>\n",
       "      <th>3</th>\n",
       "      <td>DE</td>\n",
       "      <td>ES</td>\n",
       "      <td>4.428571</td>\n",
       "      <td>5.260116</td>\n",
       "      <td>0.831544</td>\n",
       "      <td>4.029057</td>\n",
       "      <td>0.001217</td>\n",
       "    </tr>\n",
       "    <tr>\n",
       "      <th>4</th>\n",
       "      <td>DE</td>\n",
       "      <td>SE</td>\n",
       "      <td>4.428571</td>\n",
       "      <td>5.426211</td>\n",
       "      <td>0.997640</td>\n",
       "      <td>4.817058</td>\n",
       "      <td>0.000255</td>\n",
       "    </tr>\n",
       "    <tr>\n",
       "      <th>5</th>\n",
       "      <td>ES</td>\n",
       "      <td>SE</td>\n",
       "      <td>5.260116</td>\n",
       "      <td>5.426211</td>\n",
       "      <td>0.166096</td>\n",
       "      <td>2.674926</td>\n",
       "      <td>0.007535</td>\n",
       "    </tr>\n",
       "  </tbody>\n",
       "</table>\n",
       "</div>"
      ],
      "text/plain": [
       "  country_1 country_2   C1 Mean   C2 Mean  Mean Difference (C2-C1)    t-score  \\\n",
       "0        CH        DE  5.160622  4.428571                 -0.732050 -3.528859   \n",
       "1        CH        ES  5.160622  5.260116                  0.099494  1.573721   \n",
       "2        CH        SE  5.160622  5.426211                  0.265590  4.052908   \n",
       "3        DE        ES  4.428571  5.260116                  0.831544  4.029057   \n",
       "4        DE        SE  4.428571  5.426211                  0.997640  4.817058   \n",
       "5        ES        SE  5.260116  5.426211                  0.166096  2.674926   \n",
       "\n",
       "     pvalue  \n",
       "0  0.003196  \n",
       "1  0.115730  \n",
       "2  0.000053  \n",
       "3  0.001217  \n",
       "4  0.000255  \n",
       "5  0.007535  "
      ]
     },
     "execution_count": 116,
     "metadata": {},
     "output_type": "execute_result"
    }
   ],
   "source": [
    "countries = ['CH', 'DE', 'ES', 'SE']\n",
    "country_pairs = countries.copy()\n",
    "social_df = pd.DataFrame(columns = ['country_1','country_2','C1 Mean','C2 Mean','Mean Difference (C2-C1) ','t-score', 'pvalue'])\n",
    "\n",
    "i = 0\n",
    "for country_1 in countries:\n",
    "    country_pairs.remove(country_1)\n",
    "    for country_2 in country_pairs:\n",
    "        A = ess.loc[(ess['year']==7) & (ess['cntry'] == country_1), 'sclmeet']\n",
    "        B = ess.loc[(ess['year']==7) & (ess['cntry'] == country_2), 'sclmeet']\n",
    "        diff_in_means = B.mean() - A.mean()\n",
    "        t_score, pvalue = stats.ttest_ind(B, A, nan_policy = 'omit', equal_var = False)\n",
    "        social_df.loc[i] = [country_1, country_2, A.mean(), B.mean(), diff_in_means, t_score, pvalue]\n",
    "        i += 1\n",
    "\n",
    "social_df"
   ]
  },
  {
   "cell_type": "markdown",
   "metadata": {},
   "source": [
    "It appears that Sweden, Spain, Switzerland, then Germany are happiest in that order, although the only difference that is not statistically significant are the happiness levels of Spain and Switzerland. Germany stands out as the unhappiest among the group and sweden stands out as the happiest in the group of countries.\n",
    "\n",
    "Because we used multiple t-test here, we must also employ another statistical test to ensure that there are multiple different types of tests to test evaluate the differences in the group. But also, because the distributions are slightly left-skewed we are running this non-parametric test to see whether it produces the same results on the countries."
   ]
  },
  {
   "cell_type": "code",
   "execution_count": 125,
   "metadata": {},
   "outputs": [
    {
     "name": "stdout",
     "output_type": "stream",
     "text": [
      "Stat: 23.25766815620429\n",
      "Pvalue: 3.5684521897914065e-05\n",
      "Grand Median: 6.0\n"
     ]
    },
    {
     "data": {
      "text/plain": [
       "array([[391,   1, 629, 527],\n",
       "       [381,  13, 582, 381]])"
      ]
     },
     "metadata": {},
     "output_type": "display_data"
    }
   ],
   "source": [
    "A = ess.loc[(ess['year']==7) & (ess['cntry'] == 'CH'), 'sclmeet']\n",
    "B = ess.loc[(ess['year']==7) & (ess['cntry'] == 'DE'), 'sclmeet']\n",
    "C = ess.loc[(ess['year']==7) & (ess['cntry'] == 'ES'), 'sclmeet']\n",
    "D = ess.loc[(ess['year']==7) & (ess['cntry'] == 'SE'), 'sclmeet']\n",
    "stat, p, med, tbl = stats.median_test(A, B, C, D, nan_policy = 'omit', ties = 'above')\n",
    "\n",
    "print('Stat: {}\\nPvalue: {}\\nGrand Median: {}'.format(stat,p,med))\n",
    "display(tbl)"
   ]
  },
  {
   "cell_type": "markdown",
   "metadata": {},
   "source": [
    "The median test does confirm that some or one of the countries are siginficantly different from the rest but it's not a very robust. The best that can be said is that Germanw don't feel as social as the other countries. We will run one more test to see the differences"
   ]
  },
  {
   "cell_type": "code",
   "execution_count": 154,
   "metadata": {},
   "outputs": [
    {
     "data": {
      "text/html": [
       "<table class=\"simpletable\">\n",
       "<caption>Multiple Comparison of Means - Tukey HSD, FWER=0.05</caption>\n",
       "<tr>\n",
       "  <th>group1</th> <th>group2</th> <th>meandiff</th>  <th>p-adj</th>  <th>lower</th>   <th>upper</th> <th>reject</th>\n",
       "</tr>\n",
       "<tr>\n",
       "    <td>CH</td>     <td>DE</td>    <td>-0.7321</td> <td>0.2092</td> <td>-1.699</td>  <td>0.2349</td>  <td>False</td>\n",
       "</tr>\n",
       "<tr>\n",
       "    <td>CH</td>     <td>ES</td>    <td>0.0995</td>  <td>0.4099</td> <td>-0.0656</td> <td>0.2646</td>  <td>False</td>\n",
       "</tr>\n",
       "<tr>\n",
       "    <td>CH</td>     <td>SE</td>    <td>0.2656</td>   <td>0.001</td> <td>0.0901</td>  <td>0.4411</td>  <td>True</td> \n",
       "</tr>\n",
       "<tr>\n",
       "    <td>DE</td>     <td>ES</td>    <td>0.8315</td>  <td>0.1188</td> <td>-0.1323</td> <td>1.7954</td>  <td>False</td>\n",
       "</tr>\n",
       "<tr>\n",
       "    <td>DE</td>     <td>SE</td>    <td>0.9976</td>  <td>0.0398</td>  <td>0.032</td>  <td>1.9633</td>  <td>True</td> \n",
       "</tr>\n",
       "<tr>\n",
       "    <td>ES</td>     <td>SE</td>    <td>0.1661</td>   <td>0.034</td> <td>0.0087</td>  <td>0.3235</td>  <td>True</td> \n",
       "</tr>\n",
       "</table>"
      ],
      "text/plain": [
       "<class 'statsmodels.iolib.table.SimpleTable'>"
      ]
     },
     "execution_count": 154,
     "metadata": {},
     "output_type": "execute_result"
    }
   ],
   "source": [
    "from statsmodels.stats.multicomp import pairwise_tukeyhsd\n",
    "\n",
    "A = ess.loc[(ess['year']==7) & (ess['cntry'] == 'CH'), 'sclmeet'].dropna().tolist()\n",
    "B = ess.loc[(ess['year']==7) & (ess['cntry'] == 'DE'), 'sclmeet'].dropna().tolist()\n",
    "C = ess.loc[(ess['year']==7) & (ess['cntry'] == 'ES'), 'sclmeet'].dropna().tolist()\n",
    "D = ess.loc[(ess['year']==7) & (ess['cntry'] == 'SE'), 'sclmeet'].dropna().tolist()\n",
    "\n",
    "data = np.asarray(A+B+C+D)\n",
    "countries = np.asarray(np.repeat('CH', len(A)).tolist()\n",
    "                       + np.repeat('DE', len(B)).tolist()\n",
    "                       + np.repeat('ES', len(C)).tolist()\n",
    "                       + np.repeat('SE', len(D)).tolist())\n",
    "\n",
    "tukey = pairwise_tukeyhsd(endog = data,\n",
    "                         groups = countries,\n",
    "                         alpha = 0.05)\n",
    "\n",
    "tukey.summary()"
   ]
  },
  {
   "cell_type": "markdown",
   "metadata": {},
   "source": [
    "From the table above, this graph shows that the only statistically significant conclusion that can be drawn is that Sweden is more social than the rest of the countries. The multiple t-tests returned a figure that represented Germany as much less social than the rest of the countries, but according to Tukey's test, Germany is cannot not be distiguished from Spain and Switzerland. I believe the small sample size for the Germans contributes to this discrepancy. It's a good thing we ran a second test of a different type."
   ]
  },
  {
   "cell_type": "markdown",
   "metadata": {},
   "source": [
    "## 6. Pick three or four of the countries in the sample and compare how often people took part in social activities, relative to others their age, in 2014. Are there differences, and if so, which countries stand out?"
   ]
  },
  {
   "cell_type": "code",
   "execution_count": 156,
   "metadata": {},
   "outputs": [
    {
     "data": {
      "image/png": "[encoded data removed]",
      "text/plain": [
       "<Figure size 1080x720 with 4 Axes>"
      ]
     },
     "metadata": {
      "needs_background": "light"
     },
     "output_type": "display_data"
    }
   ],
   "source": [
    "countries = ['CH', 'DE', 'ES', 'SE']\n",
    "plt.figure(figsize=(15,10))\n",
    "for i, country in enumerate(countries):\n",
    "    socialact = ess.loc[(ess['year']==7) & (ess['cntry'] == country), 'sclact']\n",
    "    plt.subplot(2,2,i+1)\n",
    "    plt.hist(socialact)\n",
    "    plt.title(country + ' Distribution of Social Activity')"
   ]
  },
  {
   "cell_type": "markdown",
   "metadata": {},
   "source": [
    "Great! They're all pretty normally distributed."
   ]
  },
  {
   "cell_type": "code",
   "execution_count": 157,
   "metadata": {},
   "outputs": [
    {
     "data": {
      "text/html": [
       "<div>\n",
       "<style scoped>\n",
       "    .dataframe tbody tr th:only-of-type {\n",
       "        vertical-align: middle;\n",
       "    }\n",
       "\n",
       "    .dataframe tbody tr th {\n",
       "        vertical-align: top;\n",
       "    }\n",
       "\n",
       "    .dataframe thead th {\n",
       "        text-align: right;\n",
       "    }\n",
       "</style>\n",
       "<table border=\"1\" class=\"dataframe\">\n",
       "  <thead>\n",
       "    <tr style=\"text-align: right;\">\n",
       "      <th></th>\n",
       "      <th>country_1</th>\n",
       "      <th>country_2</th>\n",
       "      <th>C1 Mean</th>\n",
       "      <th>C2 Mean</th>\n",
       "      <th>Mean Difference (C2-C1)</th>\n",
       "      <th>t-score</th>\n",
       "      <th>pvalue</th>\n",
       "    </tr>\n",
       "  </thead>\n",
       "  <tbody>\n",
       "    <tr>\n",
       "      <th>0</th>\n",
       "      <td>CH</td>\n",
       "      <td>DE</td>\n",
       "      <td>2.781699</td>\n",
       "      <td>2.714286</td>\n",
       "      <td>-0.067414</td>\n",
       "      <td>-0.342392</td>\n",
       "      <td>7.372287e-01</td>\n",
       "    </tr>\n",
       "    <tr>\n",
       "      <th>1</th>\n",
       "      <td>CH</td>\n",
       "      <td>ES</td>\n",
       "      <td>2.781699</td>\n",
       "      <td>2.616878</td>\n",
       "      <td>-0.164822</td>\n",
       "      <td>-3.825761</td>\n",
       "      <td>1.351363e-04</td>\n",
       "    </tr>\n",
       "    <tr>\n",
       "      <th>2</th>\n",
       "      <td>CH</td>\n",
       "      <td>SE</td>\n",
       "      <td>2.781699</td>\n",
       "      <td>2.879425</td>\n",
       "      <td>0.097725</td>\n",
       "      <td>2.236272</td>\n",
       "      <td>2.547250e-02</td>\n",
       "    </tr>\n",
       "    <tr>\n",
       "      <th>3</th>\n",
       "      <td>DE</td>\n",
       "      <td>ES</td>\n",
       "      <td>2.714286</td>\n",
       "      <td>2.616878</td>\n",
       "      <td>-0.097408</td>\n",
       "      <td>-0.496802</td>\n",
       "      <td>6.273005e-01</td>\n",
       "    </tr>\n",
       "    <tr>\n",
       "      <th>4</th>\n",
       "      <td>DE</td>\n",
       "      <td>SE</td>\n",
       "      <td>2.714286</td>\n",
       "      <td>2.879425</td>\n",
       "      <td>0.165139</td>\n",
       "      <td>0.841657</td>\n",
       "      <td>4.145641e-01</td>\n",
       "    </tr>\n",
       "    <tr>\n",
       "      <th>5</th>\n",
       "      <td>ES</td>\n",
       "      <td>SE</td>\n",
       "      <td>2.616878</td>\n",
       "      <td>2.879425</td>\n",
       "      <td>0.262547</td>\n",
       "      <td>6.589385</td>\n",
       "      <td>5.612167e-11</td>\n",
       "    </tr>\n",
       "  </tbody>\n",
       "</table>\n",
       "</div>"
      ],
      "text/plain": [
       "  country_1 country_2   C1 Mean   C2 Mean  Mean Difference (C2-C1)    t-score  \\\n",
       "0        CH        DE  2.781699  2.714286                 -0.067414 -0.342392   \n",
       "1        CH        ES  2.781699  2.616878                 -0.164822 -3.825761   \n",
       "2        CH        SE  2.781699  2.879425                  0.097725  2.236272   \n",
       "3        DE        ES  2.714286  2.616878                 -0.097408 -0.496802   \n",
       "4        DE        SE  2.714286  2.879425                  0.165139  0.841657   \n",
       "5        ES        SE  2.616878  2.879425                  0.262547  6.589385   \n",
       "\n",
       "         pvalue  \n",
       "0  7.372287e-01  \n",
       "1  1.351363e-04  \n",
       "2  2.547250e-02  \n",
       "3  6.273005e-01  \n",
       "4  4.145641e-01  \n",
       "5  5.612167e-11  "
      ]
     },
     "execution_count": 157,
     "metadata": {},
     "output_type": "execute_result"
    }
   ],
   "source": [
    "countries = ['CH', 'DE', 'ES', 'SE']\n",
    "country_pairs = countries.copy()\n",
    "socialact_df = pd.DataFrame(columns = ['country_1','country_2','C1 Mean','C2 Mean','Mean Difference (C2-C1) ','t-score', 'pvalue'])\n",
    "\n",
    "i = 0\n",
    "for country_1 in countries:\n",
    "    country_pairs.remove(country_1)\n",
    "    for country_2 in country_pairs:\n",
    "        A = ess.loc[(ess['year']==7) & (ess['cntry'] == country_1), 'sclact']\n",
    "        B = ess.loc[(ess['year']==7) & (ess['cntry'] == country_2), 'sclact']\n",
    "        diff_in_means = B.mean() - A.mean()\n",
    "        t_score, pvalue = stats.ttest_ind(B, A, nan_policy = 'omit', equal_var = False)\n",
    "        socialact_df.loc[i] = [country_1, country_2, A.mean(), B.mean(), diff_in_means, t_score, pvalue]\n",
    "        i += 1\n",
    "\n",
    "socialact_df"
   ]
  },
  {
   "cell_type": "markdown",
   "metadata": {},
   "source": [
    "Sweden participates in more social activities than Switzerland, Switzerland more than Germany, and Germany more than Spain. However, all of p-values involving Germany do show the difference between it's own level of social activity and that of other countries is statistically significant. This is due to it's small sample size. Let's run Tukey's just to cross validate."
   ]
  },
  {
   "cell_type": "code",
   "execution_count": 158,
   "metadata": {},
   "outputs": [
    {
     "data": {
      "text/html": [
       "<table class=\"simpletable\">\n",
       "<caption>Multiple Comparison of Means - Tukey HSD, FWER=0.05</caption>\n",
       "<tr>\n",
       "  <th>group1</th> <th>group2</th> <th>meandiff</th>  <th>p-adj</th>  <th>lower</th>   <th>upper</th>  <th>reject</th>\n",
       "</tr>\n",
       "<tr>\n",
       "    <td>CH</td>     <td>DE</td>    <td>-0.0674</td>   <td>0.9</td>  <td>-0.7006</td> <td>0.5658</td>   <td>False</td>\n",
       "</tr>\n",
       "<tr>\n",
       "    <td>CH</td>     <td>ES</td>    <td>-0.1648</td>  <td>0.001</td> <td>-0.2737</td> <td>-0.0559</td>  <td>True</td> \n",
       "</tr>\n",
       "<tr>\n",
       "    <td>CH</td>     <td>SE</td>    <td>0.0977</td>  <td>0.1294</td> <td>-0.0176</td> <td>0.2131</td>   <td>False</td>\n",
       "</tr>\n",
       "<tr>\n",
       "    <td>DE</td>     <td>ES</td>    <td>-0.0974</td>   <td>0.9</td>  <td>-0.7286</td> <td>0.5338</td>   <td>False</td>\n",
       "</tr>\n",
       "<tr>\n",
       "    <td>DE</td>     <td>SE</td>    <td>0.1651</td>    <td>0.9</td>  <td>-0.4672</td> <td>0.7975</td>   <td>False</td>\n",
       "</tr>\n",
       "<tr>\n",
       "    <td>ES</td>     <td>SE</td>    <td>0.2625</td>   <td>0.001</td> <td>0.1589</td>  <td>0.3662</td>   <td>True</td> \n",
       "</tr>\n",
       "</table>"
      ],
      "text/plain": [
       "<class 'statsmodels.iolib.table.SimpleTable'>"
      ]
     },
     "execution_count": 158,
     "metadata": {},
     "output_type": "execute_result"
    }
   ],
   "source": [
    "A = ess.loc[(ess['year']==7) & (ess['cntry'] == 'CH'), 'sclact'].dropna().tolist()\n",
    "B = ess.loc[(ess['year']==7) & (ess['cntry'] == 'DE'), 'sclact'].dropna().tolist()\n",
    "C = ess.loc[(ess['year']==7) & (ess['cntry'] == 'ES'), 'sclact'].dropna().tolist()\n",
    "D = ess.loc[(ess['year']==7) & (ess['cntry'] == 'SE'), 'sclact'].dropna().tolist()\n",
    "\n",
    "data = np.asarray(A+B+C+D)\n",
    "countries = np.asarray(np.repeat('CH', len(A)).tolist()\n",
    "                       + np.repeat('DE', len(B)).tolist()\n",
    "                       + np.repeat('ES', len(C)).tolist()\n",
    "                       + np.repeat('SE', len(D)).tolist())\n",
    "\n",
    "tukey = pairwise_tukeyhsd(endog = data,\n",
    "                         groups = countries,\n",
    "                         alpha = 0.05)\n",
    "\n",
    "tukey.summary()"
   ]
  },
  {
   "cell_type": "markdown",
   "metadata": {},
   "source": [
    "Naturally, all tests involving Germany produced insiginificant differences. However, according to the Tukey test, Switzerland and Spain don't have a significant difference in social activity. It's a good thing we checked with this second test.\n",
    "\n",
    "----\n",
    "For the last two questions, we used multiple t-tests pairing each country and finally Tukey's Honest Siginificant Differences test. The groups are independent of each other, but it was necessary to run a second kind of test to catch any false positive significances from original t-tests which we did in both cases."
   ]
  },
  {
   "cell_type": "code",
   "execution_count": null,
   "metadata": {},
   "outputs": [],
   "source": []
  }
 ],
 "metadata": {
  "kernelspec": {
   "display_name": "Python 3",
   "language": "python",
   "name": "python3"
  },
  "language_info": {
   "codemirror_mode": {
    "name": "ipython",
    "version": 3
   },
   "file_extension": ".py",
   "mimetype": "text/x-python",
   "name": "python",
   "nbconvert_exporter": "python",
   "pygments_lexer": "ipython3",
   "version": "3.7.4"
  }
 },
 "nbformat": 4,
 "nbformat_minor": 2
}
