{
 "cells": [
  {
   "cell_type": "code",
   "execution_count": null,
   "metadata": {
    "_cell_guid": "b1076dfc-b9ad-4769-8c92-a6c4dae69d19",
    "_uuid": "8f2839f25d086af736a60e9eeb907d3b93b6e0e5"
   },
   "outputs": [],
   "source": [
    "## This notebook is meant to be run in a Kaggle Kernel; both for the sake of not downloading the\n",
    "## 1GB of training/testing data, as well as utilizing the Kaggle servers for computations\n",
    "## to keep my computer from overheating.\n",
    "\n",
    "\n",
    "# This Python 3 environment comes with many helpful analytics libraries installed\n",
    "# It is defined by the kaggle/python docker image: https://github.com/kaggle/docker-python\n",
    "# For example, here's several helpful packages to load in \n",
    "\n",
    "import numpy as np # linear algebra\n",
    "import pandas as pd # data processing, CSV file I/O (e.g. pd.read_csv)\n",
    "\n",
    "# Input data files are available in the \"../input/\" directory.\n",
    "# For example, running this (by clicking run or pressing Shift+Enter) will list all files under the input directory\n",
    "\n",
    "import os\n",
    "for dirname, _, filenames in os.walk('/kaggle/input'):\n",
    "    for filename in filenames:\n",
    "        print(os.path.join(dirname, filename))\n",
    "\n",
    "# Any results you write to the current directory are saved as output.\n",
    "import matplotlib.pyplot as plt\n",
    "%matplotlib inline\n",
    "\n",
    "import cv2\n",
    "import random\n",
    "import gc\n"
   ]
  },
  {
   "cell_type": "code",
   "execution_count": null,
   "metadata": {},
   "outputs": [],
   "source": [
    "train_dir = '../input/dogs-vs-cats-redux-kernels-edition/train'\n",
    "test_dir = '../input/dogs-vs-cats-redux-kernels-edition/test'\n",
    "\n",
    "train_dogs = ['../input/dogs-vs-cats-redux-kernels-edition/train/{}'.format(i) for i in os.listdir(train_dir) if 'dog' in i] #get dog images\n",
    "train_cats = ['../input/dogs-vs-cats-redux-kernels-edition/train/{}'.format(i) for i in os.listdir(train_dir) if 'cat' in i] #get cat images\n",
    "\n",
    "test_imgs = ['../input/dogs-vs-cats-redux-kernels-edition/test/{}'.format(i) for i in os.listdir(test_dir)] #get test images\n",
    "\n",
    "train_imgs = train_dogs[:2000] + train_cats[:2000] # slice the dataset and use 2000 in each class\n",
    "random.shuffle(train_imgs)\n",
    "\n",
    "del train_dogs\n",
    "del train_cats\n",
    "gc.collect()"
   ]
  },
  {
   "cell_type": "code",
   "execution_count": null,
   "metadata": {},
   "outputs": [],
   "source": [
    "import matplotlib.image as mpimg\n",
    "for ima in train_imgs[0:3]:\n",
    "    img = mpimg.imread(ima)\n",
    "    imgplot = plt.imshow(img)\n",
    "    plt.show()"
   ]
  },
  {
   "cell_type": "code",
   "execution_count": null,
   "metadata": {},
   "outputs": [],
   "source": [
    "#Declaring Image Dimensions; Using colored image, 3 Channels for RGB\n",
    "nrows = 150\n",
    "ncolumns = 150\n",
    "channels = 3"
   ]
  },
  {
   "cell_type": "code",
   "execution_count": null,
   "metadata": {},
   "outputs": [],
   "source": [
    "def read_and_process_image(list_of_images):\n",
    "    '''\n",
    "    Returns two arrays:\n",
    "        X is an array of resized images\n",
    "        Y is an array of labels\n",
    "    '''\n",
    "    X = [] # Images\n",
    "    Y = [] # Labels\n",
    "    \n",
    "    for image in list_of_images:\n",
    "        X.append(cv2.resize(cv2.imread(image, cv2.IMREAD_COLOR), (nrows,ncolumns), interpolation = cv2.INTER_CUBIC)) #Read the image\n",
    "        if 'train/dog' in image:\n",
    "            Y.append(1)\n",
    "        elif 'train/cat' in image:\n",
    "            Y.append(0)\n",
    "            \n",
    "    return X, Y"
   ]
  },
  {
   "cell_type": "code",
   "execution_count": null,
   "metadata": {},
   "outputs": [],
   "source": [
    "X, Y = read_and_process_image(train_imgs)"
   ]
  },
  {
   "cell_type": "code",
   "execution_count": null,
   "metadata": {},
   "outputs": [],
   "source": [
    "X[0]"
   ]
  },
  {
   "cell_type": "code",
   "execution_count": null,
   "metadata": {},
   "outputs": [],
   "source": [
    "np.mean(Y)"
   ]
  },
  {
   "cell_type": "code",
   "execution_count": null,
   "metadata": {},
   "outputs": [],
   "source": [
    "Y[:5]"
   ]
  },
  {
   "cell_type": "code",
   "execution_count": null,
   "metadata": {},
   "outputs": [],
   "source": [
    "plt.figure(figsize = (20,10))\n",
    "columns = 5\n",
    "for i in range(columns):\n",
    "    plt.subplot(5 / columns + 1, columns, i + 1)\n",
    "    plt.imshow(X[i])"
   ]
  },
  {
   "cell_type": "code",
   "execution_count": null,
   "metadata": {},
   "outputs": [],
   "source": [
    "import seaborn as sns\n",
    "del train_imgs\n",
    "gc.collect()\n",
    "\n",
    "#Convert list to np.array()\n",
    "X = np.array(X)\n",
    "Y = np.array(Y)\n",
    "\n",
    "#Lets plot the label to be sure we just have two classes\n",
    "sns.countplot(Y)\n",
    "plt.title('Labels for Cats and Dogs')"
   ]
  },
  {
   "cell_type": "code",
   "execution_count": null,
   "metadata": {},
   "outputs": [],
   "source": [
    "print('Shape of train images is:', X.shape)\n",
    "print('Shape of labels is:', Y.shape)"
   ]
  },
  {
   "cell_type": "code",
   "execution_count": null,
   "metadata": {},
   "outputs": [],
   "source": [
    "from sklearn.model_selection import train_test_split\n",
    "X_train, X_val, Y_train, Y_val = train_test_split(X, Y, test_size = 0.20, random_state = 2)\n",
    "\n",
    "print('Shape of train images is:', X_train.shape)\n",
    "print('Shape of validation images is:', X_val.shape)\n",
    "print('Shape of train labels is:', Y_train.shape)\n",
    "print('Shape of validation labels is:', Y_val.shape)"
   ]
  },
  {
   "cell_type": "code",
   "execution_count": null,
   "metadata": {},
   "outputs": [],
   "source": [
    "del X\n",
    "del Y\n",
    "gc.collect()\n",
    "\n",
    "#get the length of the train and validation data\n",
    "ntrain = len(X_train)\n",
    "nval = len(X_val)\n",
    "\n",
    "#We will use a batch size of 32. Note: batch size should ve a factor of 2.***4,8,16, 32, etc..***\n",
    "batch_size = 32"
   ]
  },
  {
   "cell_type": "code",
   "execution_count": null,
   "metadata": {},
   "outputs": [],
   "source": [
    "from sklearn.neural_network import BernoulliRBM\n",
    "from sklearn.pipeline import Pipeline\n",
    "from sklearn import linear_model, metrics\n",
    "\n",
    "logistic = linear_model.LogisticRegression(solver='newton-cg', tol =1, C=6000)\n",
    "\n",
    "rbm = BernoulliRBM(random_state=0, verbose = True, n_iter = 20,\n",
    "                  learning_rate = 0.01, n_components = 50)\n",
    "\n",
    "steps = [('rbm', rbm), ('logistic', logistic)]\n",
    "rbm_features_classifier = Pipeline(steps)\n",
    "\n",
    "rbm.fit(X_train.reshape(3200,67500),Y_train)"
   ]
  },
  {
   "cell_type": "code",
   "execution_count": null,
   "metadata": {},
   "outputs": [],
   "source": [
    "rbm.intercept_hidden_"
   ]
  },
  {
   "cell_type": "code",
   "execution_count": null,
   "metadata": {},
   "outputs": [],
   "source": [
    "plt.figure(figsize=(20,10))\n",
    "for i, comp in enumerate(rbm.components_):\n",
    "    plt.subplot(5,10, i +1)\n",
    "    plt.imshow(comp.reshape(150,150,3))\n",
    "    plt.xticks(())\n",
    "    plt.yticks(())\n",
    "plt.suptitle('50 components extracted by RBM', fontsize=10)"
   ]
  },
  {
   "cell_type": "code",
   "execution_count": null,
   "metadata": {},
   "outputs": [],
   "source": [
    "feats = rbm.components_\n",
    "feats.reshape(50,150,150,3)\n",
    "feats[0].shape"
   ]
  },
  {
   "cell_type": "code",
   "execution_count": null,
   "metadata": {},
   "outputs": [],
   "source": [
    "plt.imshow(feats[2].reshape(150,150,3))"
   ]
  },
  {
   "cell_type": "code",
   "execution_count": null,
   "metadata": {},
   "outputs": [],
   "source": [
    "X_train[0]"
   ]
  }
 ],
 "metadata": {
  "kernelspec": {
   "display_name": "Python 3",
   "language": "python",
   "name": "python3"
  },
  "language_info": {
   "codemirror_mode": {
    "name": "ipython",
    "version": 3
   },
   "file_extension": ".py",
   "mimetype": "text/x-python",
   "name": "python",
   "nbconvert_exporter": "python",
   "pygments_lexer": "ipython3",
   "version": "3.7.4"
  }
 },
 "nbformat": 4,
 "nbformat_minor": 1
}
