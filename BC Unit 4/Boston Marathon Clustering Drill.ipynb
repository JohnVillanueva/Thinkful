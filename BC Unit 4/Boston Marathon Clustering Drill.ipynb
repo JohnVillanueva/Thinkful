{
 "cells": [
  {
   "cell_type": "code",
   "execution_count": 1,
   "metadata": {},
   "outputs": [],
   "source": [
    "import pandas as pd\n",
    "from matplotlib import pyplot as plt\n",
    "import numpy as np\n",
    "import math\n",
    "import seaborn as sns\n",
    "%matplotlib inline  \n",
    "\n",
    "import random\n",
    "\n",
    "import warnings\n",
    "warnings.filterwarnings(\"ignore\")"
   ]
  },
  {
   "cell_type": "code",
   "execution_count": 2,
   "metadata": {},
   "outputs": [
    {
     "data": {
      "text/html": [
       "<div>\n",
       "<style scoped>\n",
       "    .dataframe tbody tr th:only-of-type {\n",
       "        vertical-align: middle;\n",
       "    }\n",
       "\n",
       "    .dataframe tbody tr th {\n",
       "        vertical-align: top;\n",
       "    }\n",
       "\n",
       "    .dataframe thead th {\n",
       "        text-align: right;\n",
       "    }\n",
       "</style>\n",
       "<table border=\"1\" class=\"dataframe\">\n",
       "  <thead>\n",
       "    <tr style=\"text-align: right;\">\n",
       "      <th></th>\n",
       "      <th>10k</th>\n",
       "      <th>name</th>\n",
       "      <th>division</th>\n",
       "      <th>25k</th>\n",
       "      <th>gender</th>\n",
       "      <th>age</th>\n",
       "      <th>official</th>\n",
       "      <th>bib</th>\n",
       "      <th>genderdiv</th>\n",
       "      <th>ctz</th>\n",
       "      <th>...</th>\n",
       "      <th>overall</th>\n",
       "      <th>pace</th>\n",
       "      <th>state</th>\n",
       "      <th>30k</th>\n",
       "      <th>5k</th>\n",
       "      <th>half</th>\n",
       "      <th>20k</th>\n",
       "      <th>country</th>\n",
       "      <th>city</th>\n",
       "      <th>40k</th>\n",
       "    </tr>\n",
       "  </thead>\n",
       "  <tbody>\n",
       "    <tr>\n",
       "      <th>0</th>\n",
       "      <td>17.37</td>\n",
       "      <td>Yamamoto, Hiroyuki</td>\n",
       "      <td>8</td>\n",
       "      <td>47.67</td>\n",
       "      <td>M</td>\n",
       "      <td>47</td>\n",
       "      <td>85.25</td>\n",
       "      <td>W1</td>\n",
       "      <td>8</td>\n",
       "      <td>NaN</td>\n",
       "      <td>...</td>\n",
       "      <td>8</td>\n",
       "      <td>3.27</td>\n",
       "      <td>NaN</td>\n",
       "      <td>59.18</td>\n",
       "      <td>8.02</td>\n",
       "      <td>39.72</td>\n",
       "      <td>37.65</td>\n",
       "      <td>JPN</td>\n",
       "      <td>Fukuoka</td>\n",
       "      <td>80.43</td>\n",
       "    </tr>\n",
       "    <tr>\n",
       "      <th>1</th>\n",
       "      <td>32.58</td>\n",
       "      <td>Jeptoo, Rita</td>\n",
       "      <td>1</td>\n",
       "      <td>82.43</td>\n",
       "      <td>F</td>\n",
       "      <td>33</td>\n",
       "      <td>138.95</td>\n",
       "      <td>F1</td>\n",
       "      <td>1</td>\n",
       "      <td>NaN</td>\n",
       "      <td>...</td>\n",
       "      <td>21</td>\n",
       "      <td>5.30</td>\n",
       "      <td>NaN</td>\n",
       "      <td>99.33</td>\n",
       "      <td>16.22</td>\n",
       "      <td>69.47</td>\n",
       "      <td>65.83</td>\n",
       "      <td>KEN</td>\n",
       "      <td>Eldoret</td>\n",
       "      <td>132.10</td>\n",
       "    </tr>\n",
       "    <tr>\n",
       "      <th>2</th>\n",
       "      <td>16.62</td>\n",
       "      <td>Van Dyk, Ernst F.</td>\n",
       "      <td>1</td>\n",
       "      <td>45.80</td>\n",
       "      <td>M</td>\n",
       "      <td>41</td>\n",
       "      <td>80.60</td>\n",
       "      <td>W2</td>\n",
       "      <td>1</td>\n",
       "      <td>NaN</td>\n",
       "      <td>...</td>\n",
       "      <td>1</td>\n",
       "      <td>3.08</td>\n",
       "      <td>NaN</td>\n",
       "      <td>56.45</td>\n",
       "      <td>7.75</td>\n",
       "      <td>38.03</td>\n",
       "      <td>36.10</td>\n",
       "      <td>RSA</td>\n",
       "      <td>Paarl</td>\n",
       "      <td>76.10</td>\n",
       "    </tr>\n",
       "    <tr>\n",
       "      <th>3</th>\n",
       "      <td>32.57</td>\n",
       "      <td>Dibaba, Mare</td>\n",
       "      <td>3</td>\n",
       "      <td>82.43</td>\n",
       "      <td>F</td>\n",
       "      <td>24</td>\n",
       "      <td>140.58</td>\n",
       "      <td>F2</td>\n",
       "      <td>3</td>\n",
       "      <td>NaN</td>\n",
       "      <td>...</td>\n",
       "      <td>27</td>\n",
       "      <td>5.37</td>\n",
       "      <td>NaN</td>\n",
       "      <td>99.33</td>\n",
       "      <td>16.20</td>\n",
       "      <td>69.47</td>\n",
       "      <td>65.83</td>\n",
       "      <td>ETH</td>\n",
       "      <td>Shoa</td>\n",
       "      <td>132.95</td>\n",
       "    </tr>\n",
       "    <tr>\n",
       "      <th>4</th>\n",
       "      <td>17.12</td>\n",
       "      <td>Hokinoue, Kota</td>\n",
       "      <td>2</td>\n",
       "      <td>46.37</td>\n",
       "      <td>M</td>\n",
       "      <td>40</td>\n",
       "      <td>81.23</td>\n",
       "      <td>W3</td>\n",
       "      <td>2</td>\n",
       "      <td>NaN</td>\n",
       "      <td>...</td>\n",
       "      <td>2</td>\n",
       "      <td>3.10</td>\n",
       "      <td>NaN</td>\n",
       "      <td>57.03</td>\n",
       "      <td>8.02</td>\n",
       "      <td>38.60</td>\n",
       "      <td>36.58</td>\n",
       "      <td>JPN</td>\n",
       "      <td>Nogata Fukuoka</td>\n",
       "      <td>76.72</td>\n",
       "    </tr>\n",
       "  </tbody>\n",
       "</table>\n",
       "<p>5 rows × 21 columns</p>\n",
       "</div>"
      ],
      "text/plain": [
       "     10k                name  division    25k gender  age  official bib  \\\n",
       "0  17.37  Yamamoto, Hiroyuki         8  47.67      M   47     85.25  W1   \n",
       "1  32.58        Jeptoo, Rita         1  82.43      F   33    138.95  F1   \n",
       "2  16.62   Van Dyk, Ernst F.         1  45.80      M   41     80.60  W2   \n",
       "3  32.57        Dibaba, Mare         3  82.43      F   24    140.58  F2   \n",
       "4  17.12      Hokinoue, Kota         2  46.37      M   40     81.23  W3   \n",
       "\n",
       "   genderdiv  ctz  ... overall  pace  state    30k     5k   half    20k  \\\n",
       "0          8  NaN  ...       8  3.27    NaN  59.18   8.02  39.72  37.65   \n",
       "1          1  NaN  ...      21  5.30    NaN  99.33  16.22  69.47  65.83   \n",
       "2          1  NaN  ...       1  3.08    NaN  56.45   7.75  38.03  36.10   \n",
       "3          3  NaN  ...      27  5.37    NaN  99.33  16.20  69.47  65.83   \n",
       "4          2  NaN  ...       2  3.10    NaN  57.03   8.02  38.60  36.58   \n",
       "\n",
       "  country            city     40k  \n",
       "0     JPN         Fukuoka   80.43  \n",
       "1     KEN         Eldoret  132.10  \n",
       "2     RSA           Paarl   76.10  \n",
       "3     ETH            Shoa  132.95  \n",
       "4     JPN  Nogata Fukuoka   76.72  \n",
       "\n",
       "[5 rows x 21 columns]"
      ]
     },
     "execution_count": 2,
     "metadata": {},
     "output_type": "execute_result"
    }
   ],
   "source": [
    "#Loading data from the 2014 boston marathon\n",
    "marathon = pd.read_csv('https://raw.githubusercontent.com/llimllib/bostonmarathon/master/results/2014/results.csv')\n",
    "marathon.head(5)"
   ]
  },
  {
   "cell_type": "code",
   "execution_count": 86,
   "metadata": {},
   "outputs": [
    {
     "data": {
      "text/plain": [
       "Index(['10k', 'name', 'division', '25k', 'gender', 'age', 'official', 'bib',\n",
       "       'genderdiv', 'ctz', '35k', 'overall', 'pace', 'state', '30k', '5k',\n",
       "       'half', '20k', 'country', 'city', '40k'],\n",
       "      dtype='object')"
      ]
     },
     "execution_count": 86,
     "metadata": {},
     "output_type": "execute_result"
    }
   ],
   "source": [
    "marathon.columns"
   ]
  },
  {
   "cell_type": "code",
   "execution_count": 3,
   "metadata": {},
   "outputs": [],
   "source": [
    "marathon_df = marathon[['name', 'division', 'gender', 'age', 'official', 'bib',\n",
    "            'genderdiv', 'ctz', 'state', 'country', 'city', 'pace', '5k',\n",
    "            '10k', '20k', '25k', '30k', '35k', '40k', 'half', 'overall']]"
   ]
  },
  {
   "cell_type": "code",
   "execution_count": 4,
   "metadata": {},
   "outputs": [],
   "source": [
    "cols_to_num = ['5k', '10k', '20k', '25k', '30k', '35k', '40k', 'half']\n",
    "for col in cols_to_num:\n",
    "    ind = marathon_df[marathon_df[col] == '-'].index\n",
    "    marathon_df.loc[ind, col] = np.nan\n",
    "    marathon_df[col] = pd.to_numeric(marathon_df[col])"
   ]
  },
  {
   "cell_type": "code",
   "execution_count": 5,
   "metadata": {},
   "outputs": [
    {
     "data": {
      "text/plain": [
       "name          object\n",
       "division       int64\n",
       "gender        object\n",
       "age            int64\n",
       "official     float64\n",
       "bib           object\n",
       "genderdiv      int64\n",
       "ctz           object\n",
       "state         object\n",
       "country       object\n",
       "city          object\n",
       "pace         float64\n",
       "5k           float64\n",
       "10k          float64\n",
       "20k          float64\n",
       "25k          float64\n",
       "30k          float64\n",
       "35k          float64\n",
       "40k          float64\n",
       "half         float64\n",
       "overall        int64\n",
       "dtype: object"
      ]
     },
     "execution_count": 5,
     "metadata": {},
     "output_type": "execute_result"
    }
   ],
   "source": [
    "marathon_df.dtypes"
   ]
  },
  {
   "cell_type": "code",
   "execution_count": 6,
   "metadata": {
    "scrolled": true
   },
   "outputs": [
    {
     "data": {
      "text/plain": [
       "name             0\n",
       "division         0\n",
       "gender           0\n",
       "age              0\n",
       "official         0\n",
       "bib              0\n",
       "genderdiv        0\n",
       "ctz          30740\n",
       "state         2576\n",
       "country          0\n",
       "city             1\n",
       "pace             0\n",
       "5k              52\n",
       "10k             50\n",
       "20k             51\n",
       "25k            216\n",
       "30k             40\n",
       "35k             34\n",
       "40k             39\n",
       "half            72\n",
       "overall          0\n",
       "dtype: int64"
      ]
     },
     "execution_count": 6,
     "metadata": {},
     "output_type": "execute_result"
    }
   ],
   "source": [
    "marathon_df.isnull().sum()"
   ]
  },
  {
   "cell_type": "code",
   "execution_count": 7,
   "metadata": {},
   "outputs": [],
   "source": [
    "cols_to_num = ['5k', '10k', '20k', '25k', '30k', '35k', '40k', 'half']\n",
    "na_index = []\n",
    "for col in cols_to_num:\n",
    "    ind = marathon_df[marathon_df[col].isnull()].index\n",
    "    na_index.extend(ind)\n",
    "na_index = list(pd.Series(na_index).unique())\n",
    "marathon_df = marathon_df.drop(index = na_index)"
   ]
  },
  {
   "cell_type": "code",
   "execution_count": 8,
   "metadata": {},
   "outputs": [
    {
     "data": {
      "text/plain": [
       "(31649, 21)"
      ]
     },
     "execution_count": 8,
     "metadata": {},
     "output_type": "execute_result"
    }
   ],
   "source": [
    "marathon_df.shape"
   ]
  },
  {
   "cell_type": "code",
   "execution_count": 9,
   "metadata": {},
   "outputs": [
    {
     "data": {
      "text/html": [
       "<div>\n",
       "<style scoped>\n",
       "    .dataframe tbody tr th:only-of-type {\n",
       "        vertical-align: middle;\n",
       "    }\n",
       "\n",
       "    .dataframe tbody tr th {\n",
       "        vertical-align: top;\n",
       "    }\n",
       "\n",
       "    .dataframe thead th {\n",
       "        text-align: right;\n",
       "    }\n",
       "</style>\n",
       "<table border=\"1\" class=\"dataframe\">\n",
       "  <thead>\n",
       "    <tr style=\"text-align: right;\">\n",
       "      <th></th>\n",
       "      <th>name</th>\n",
       "      <th>division</th>\n",
       "      <th>gender</th>\n",
       "      <th>age</th>\n",
       "      <th>official</th>\n",
       "      <th>bib</th>\n",
       "      <th>genderdiv</th>\n",
       "      <th>ctz</th>\n",
       "      <th>state</th>\n",
       "      <th>country</th>\n",
       "      <th>...</th>\n",
       "      <th>pace</th>\n",
       "      <th>5k</th>\n",
       "      <th>10k</th>\n",
       "      <th>20k</th>\n",
       "      <th>25k</th>\n",
       "      <th>30k</th>\n",
       "      <th>35k</th>\n",
       "      <th>40k</th>\n",
       "      <th>half</th>\n",
       "      <th>overall</th>\n",
       "    </tr>\n",
       "  </thead>\n",
       "  <tbody>\n",
       "    <tr>\n",
       "      <th>0</th>\n",
       "      <td>Yamamoto, Hiroyuki</td>\n",
       "      <td>8</td>\n",
       "      <td>M</td>\n",
       "      <td>47</td>\n",
       "      <td>85.25</td>\n",
       "      <td>W1</td>\n",
       "      <td>8</td>\n",
       "      <td>NaN</td>\n",
       "      <td>NaN</td>\n",
       "      <td>JPN</td>\n",
       "      <td>...</td>\n",
       "      <td>3.27</td>\n",
       "      <td>8.02</td>\n",
       "      <td>17.37</td>\n",
       "      <td>37.65</td>\n",
       "      <td>47.67</td>\n",
       "      <td>59.18</td>\n",
       "      <td>71.40</td>\n",
       "      <td>80.43</td>\n",
       "      <td>39.72</td>\n",
       "      <td>8</td>\n",
       "    </tr>\n",
       "    <tr>\n",
       "      <th>1</th>\n",
       "      <td>Jeptoo, Rita</td>\n",
       "      <td>1</td>\n",
       "      <td>F</td>\n",
       "      <td>33</td>\n",
       "      <td>138.95</td>\n",
       "      <td>F1</td>\n",
       "      <td>1</td>\n",
       "      <td>NaN</td>\n",
       "      <td>NaN</td>\n",
       "      <td>KEN</td>\n",
       "      <td>...</td>\n",
       "      <td>5.30</td>\n",
       "      <td>16.22</td>\n",
       "      <td>32.58</td>\n",
       "      <td>65.83</td>\n",
       "      <td>82.43</td>\n",
       "      <td>99.33</td>\n",
       "      <td>116.37</td>\n",
       "      <td>132.10</td>\n",
       "      <td>69.47</td>\n",
       "      <td>21</td>\n",
       "    </tr>\n",
       "    <tr>\n",
       "      <th>2</th>\n",
       "      <td>Van Dyk, Ernst F.</td>\n",
       "      <td>1</td>\n",
       "      <td>M</td>\n",
       "      <td>41</td>\n",
       "      <td>80.60</td>\n",
       "      <td>W2</td>\n",
       "      <td>1</td>\n",
       "      <td>NaN</td>\n",
       "      <td>NaN</td>\n",
       "      <td>RSA</td>\n",
       "      <td>...</td>\n",
       "      <td>3.08</td>\n",
       "      <td>7.75</td>\n",
       "      <td>16.62</td>\n",
       "      <td>36.10</td>\n",
       "      <td>45.80</td>\n",
       "      <td>56.45</td>\n",
       "      <td>67.42</td>\n",
       "      <td>76.10</td>\n",
       "      <td>38.03</td>\n",
       "      <td>1</td>\n",
       "    </tr>\n",
       "    <tr>\n",
       "      <th>3</th>\n",
       "      <td>Dibaba, Mare</td>\n",
       "      <td>3</td>\n",
       "      <td>F</td>\n",
       "      <td>24</td>\n",
       "      <td>140.58</td>\n",
       "      <td>F2</td>\n",
       "      <td>3</td>\n",
       "      <td>NaN</td>\n",
       "      <td>NaN</td>\n",
       "      <td>ETH</td>\n",
       "      <td>...</td>\n",
       "      <td>5.37</td>\n",
       "      <td>16.20</td>\n",
       "      <td>32.57</td>\n",
       "      <td>65.83</td>\n",
       "      <td>82.43</td>\n",
       "      <td>99.33</td>\n",
       "      <td>116.37</td>\n",
       "      <td>132.95</td>\n",
       "      <td>69.47</td>\n",
       "      <td>27</td>\n",
       "    </tr>\n",
       "    <tr>\n",
       "      <th>4</th>\n",
       "      <td>Hokinoue, Kota</td>\n",
       "      <td>2</td>\n",
       "      <td>M</td>\n",
       "      <td>40</td>\n",
       "      <td>81.23</td>\n",
       "      <td>W3</td>\n",
       "      <td>2</td>\n",
       "      <td>NaN</td>\n",
       "      <td>NaN</td>\n",
       "      <td>JPN</td>\n",
       "      <td>...</td>\n",
       "      <td>3.10</td>\n",
       "      <td>8.02</td>\n",
       "      <td>17.12</td>\n",
       "      <td>36.58</td>\n",
       "      <td>46.37</td>\n",
       "      <td>57.03</td>\n",
       "      <td>67.83</td>\n",
       "      <td>76.72</td>\n",
       "      <td>38.60</td>\n",
       "      <td>2</td>\n",
       "    </tr>\n",
       "  </tbody>\n",
       "</table>\n",
       "<p>5 rows × 21 columns</p>\n",
       "</div>"
      ],
      "text/plain": [
       "                 name  division gender  age  official bib  genderdiv  ctz  \\\n",
       "0  Yamamoto, Hiroyuki         8      M   47     85.25  W1          8  NaN   \n",
       "1        Jeptoo, Rita         1      F   33    138.95  F1          1  NaN   \n",
       "2   Van Dyk, Ernst F.         1      M   41     80.60  W2          1  NaN   \n",
       "3        Dibaba, Mare         3      F   24    140.58  F2          3  NaN   \n",
       "4      Hokinoue, Kota         2      M   40     81.23  W3          2  NaN   \n",
       "\n",
       "  state country  ...  pace     5k    10k    20k    25k    30k     35k     40k  \\\n",
       "0   NaN     JPN  ...  3.27   8.02  17.37  37.65  47.67  59.18   71.40   80.43   \n",
       "1   NaN     KEN  ...  5.30  16.22  32.58  65.83  82.43  99.33  116.37  132.10   \n",
       "2   NaN     RSA  ...  3.08   7.75  16.62  36.10  45.80  56.45   67.42   76.10   \n",
       "3   NaN     ETH  ...  5.37  16.20  32.57  65.83  82.43  99.33  116.37  132.95   \n",
       "4   NaN     JPN  ...  3.10   8.02  17.12  36.58  46.37  57.03   67.83   76.72   \n",
       "\n",
       "    half  overall  \n",
       "0  39.72        8  \n",
       "1  69.47       21  \n",
       "2  38.03        1  \n",
       "3  69.47       27  \n",
       "4  38.60        2  \n",
       "\n",
       "[5 rows x 21 columns]"
      ]
     },
     "execution_count": 9,
     "metadata": {},
     "output_type": "execute_result"
    }
   ],
   "source": [
    "marathon_df.head()"
   ]
  },
  {
   "cell_type": "code",
   "execution_count": 10,
   "metadata": {},
   "outputs": [
    {
     "data": {
      "text/plain": [
       "division         int64\n",
       "gender           int64\n",
       "age              int64\n",
       "official       float64\n",
       "genderdiv        int64\n",
       "pace           float64\n",
       "5k             float64\n",
       "10k            float64\n",
       "20k            float64\n",
       "25k            float64\n",
       "30k            float64\n",
       "35k            float64\n",
       "40k            float64\n",
       "half           float64\n",
       "overall          int64\n",
       "country_usa      int64\n",
       "dtype: object"
      ]
     },
     "execution_count": 10,
     "metadata": {},
     "output_type": "execute_result"
    }
   ],
   "source": [
    "marathon_ppdf = marathon_df[['division', 'gender', 'age', 'official',\n",
    "            'genderdiv', 'pace', '5k',\n",
    "            '10k', '20k', '25k', '30k', '35k', '40k', 'half', 'overall']]\n",
    "\n",
    "marathon_ppdf['gender'] = marathon_ppdf['gender'].replace({'M':1, 'F':0})\n",
    "marathon_ppdf['country_usa'] = np.where(marathon_df['country'] == 'USA', 1, 0)\n",
    "\n",
    "marathon_ppdf.dtypes"
   ]
  },
  {
   "cell_type": "markdown",
   "metadata": {},
   "source": [
    "### Mean Shift"
   ]
  },
  {
   "cell_type": "code",
   "execution_count": 11,
   "metadata": {},
   "outputs": [
    {
     "name": "stdout",
     "output_type": "stream",
     "text": [
      "819 ms ± 19.5 ms per loop (mean ± std. dev. of 7 runs, 1 loop each)\n",
      "Number of estimated clusters: 4\n"
     ]
    }
   ],
   "source": [
    "from sklearn.cluster import estimate_bandwidth\n",
    "from sklearn.cluster import MeanShift\n",
    "from sklearn.cluster import SpectralClustering\n",
    "from sklearn.preprocessing import normalize\n",
    "\n",
    "X = normalize(marathon_ppdf)\n",
    "\n",
    "bandwidth = estimate_bandwidth(X, quantile=0.2, n_samples=500)\n",
    "\n",
    "# Declare and fit the model.\n",
    "ms = MeanShift(bandwidth = bandwidth, bin_seeding=True)\n",
    "%timeit ms.fit(X)\n",
    "\n",
    "# Extract cluster assignments for each data point.\n",
    "ms_labels = ms.labels_\n",
    "\n",
    "# Coordinates of the cluster centers.\n",
    "cluster_centers = ms.cluster_centers_\n",
    "\n",
    "# Count our clusters.\n",
    "n_clusters_ = len(np.unique(ms_labels))\n",
    "\n",
    "print(\"Number of estimated clusters: {}\".format(n_clusters_))"
   ]
  },
  {
   "cell_type": "code",
   "execution_count": 12,
   "metadata": {},
   "outputs": [
    {
     "data": {
      "text/plain": [
       "0.5201613856720274"
      ]
     },
     "execution_count": 12,
     "metadata": {},
     "output_type": "execute_result"
    }
   ],
   "source": [
    "from sklearn import metrics\n",
    "from sklearn.metrics import pairwise_distances\n",
    "\n",
    "metrics.silhouette_score(X, ms_labels, metric='euclidean')"
   ]
  },
  {
   "cell_type": "code",
   "execution_count": 13,
   "metadata": {},
   "outputs": [
    {
     "name": "stdout",
     "output_type": "stream",
     "text": [
      "[0.55724074 0.27768648]\n"
     ]
    },
    {
     "data": {
      "text/plain": [
       "<matplotlib.collections.PathCollection at 0x1314fcdd0>"
      ]
     },
     "execution_count": 13,
     "metadata": {},
     "output_type": "execute_result"
    },
    {
     "data": {
      "image/png": "[encoded data removed]",
      "text/plain": [
       "<Figure size 432x288 with 1 Axes>"
      ]
     },
     "metadata": {
      "needs_background": "light"
     },
     "output_type": "display_data"
    }
   ],
   "source": [
    "from sklearn.decomposition import PCA\n",
    "X = normalize(marathon_ppdf)\n",
    "\n",
    "pca = PCA(2)\n",
    "pcs = pca.fit_transform(X)\n",
    "print(pca.explained_variance_ratio_)\n",
    "\n",
    "plt.figure()\n",
    "plt.scatter(pcs[:,0],pcs[:,1], c=ms_labels)"
   ]
  },
  {
   "cell_type": "markdown",
   "metadata": {},
   "source": [
    "### Spectral Clustering"
   ]
  },
  {
   "cell_type": "code",
   "execution_count": 33,
   "metadata": {},
   "outputs": [],
   "source": [
    "from sklearn.cluster import SpectralClustering\n",
    "from sklearn.utils import resample\n",
    "\n",
    "#This is commented out so it doesn't get reset.\n",
    "#X = resample(marathon_ppdf, replace = False, n_samples = 1000)\n",
    "\n",
    "#pca = PCA(2)\n",
    "#pcs = pca.fit_transform(X)"
   ]
  },
  {
   "cell_type": "code",
   "execution_count": 38,
   "metadata": {},
   "outputs": [],
   "source": [
    "# Declare and fit the model.\n",
    "spec = SpectralClustering(n_clusters = 4, n_neighbors=10, assign_labels='discretize', gamma = 30)\n",
    "\n",
    "#Predicted clusters.\n",
    "predict = spec.fit_predict(pcs)"
   ]
  },
  {
   "cell_type": "code",
   "execution_count": 39,
   "metadata": {},
   "outputs": [
    {
     "data": {
      "text/plain": [
       "<matplotlib.collections.PathCollection at 0x1331383d0>"
      ]
     },
     "execution_count": 39,
     "metadata": {},
     "output_type": "execute_result"
    },
    {
     "data": {
      "image/png": "[encoded data removed]",
      "text/plain": [
       "<Figure size 432x288 with 1 Axes>"
      ]
     },
     "metadata": {
      "needs_background": "light"
     },
     "output_type": "display_data"
    }
   ],
   "source": [
    "plt.figure()\n",
    "plt.scatter(pcs[:,0], pcs[:,1], c=predict)"
   ]
  },
  {
   "cell_type": "code",
   "execution_count": 40,
   "metadata": {},
   "outputs": [
    {
     "data": {
      "text/plain": [
       "-0.2004512141181031"
      ]
     },
     "execution_count": 40,
     "metadata": {},
     "output_type": "execute_result"
    }
   ],
   "source": [
    "metrics.silhouette_score(pcs, predict, metric='euclidean')"
   ]
  },
  {
   "cell_type": "markdown",
   "metadata": {},
   "source": [
    "The spectral clustering method clearly didn't cluster very well. The silhouette coefficient is negative, meaning the clusters are not defined clearly. However, below these clusters will explore anyways."
   ]
  },
  {
   "cell_type": "code",
   "execution_count": null,
   "metadata": {},
   "outputs": [],
   "source": [
    "#Storing the resampling set used for spectral clustering so that it doesn't have to be run again to search for\n",
    "#the medusa like graph.\n",
    "#This is before PCA, so if it needs to be run again"
   ]
  },
  {
   "cell_type": "markdown",
   "metadata": {},
   "source": [
    "### Affinity Propogation"
   ]
  },
  {
   "cell_type": "code",
   "execution_count": 239,
   "metadata": {},
   "outputs": [
    {
     "name": "stdout",
     "output_type": "stream",
     "text": [
      "Estimated number of clusters: 264\n"
     ]
    }
   ],
   "source": [
    "from sklearn.cluster import AffinityPropagation\n",
    "\n",
    "X = resample(marathon_ppdf, replace = False, n_samples = 1000)\n",
    "\n",
    "pca = PCA(2)\n",
    "pcs = pca.fit_transform(X)\n",
    "\n",
    "af = AffinityPropagation().fit(pcs)\n",
    "\n",
    "cluster_centers_indices = af.cluster_centers_indices_\n",
    "n_clusters_ = len(cluster_centers_indices)\n",
    "labels = af.labels_\n",
    "\n",
    "print('Estimated number of clusters: {}'.format(n_clusters_))"
   ]
  },
  {
   "cell_type": "markdown",
   "metadata": {},
   "source": [
    "### Correlation Matrix"
   ]
  },
  {
   "cell_type": "code",
   "execution_count": 267,
   "metadata": {},
   "outputs": [
    {
     "data": {
      "text/plain": [
       "<matplotlib.axes._subplots.AxesSubplot at 0x13f75bfd0>"
      ]
     },
     "execution_count": 267,
     "metadata": {},
     "output_type": "execute_result"
    },
    {
     "data": {
      "image/png": "[encoded data removed]",
      "text/plain": [
       "<Figure size 864x504 with 2 Axes>"
      ]
     },
     "metadata": {
      "needs_background": "light"
     },
     "output_type": "display_data"
    }
   ],
   "source": [
    "corrmat = pd.DataFrame(normalize(marathon_ppdf), columns = marathon_ppdf.columns).corr()\n",
    "plt.figure(figsize = (12, 7))\n",
    "sns.heatmap(corrmat)"
   ]
  },
  {
   "cell_type": "markdown",
   "metadata": {},
   "source": [
    "Notes:\n",
    "\n",
    "Gender division doesn't correlate very well with other variables because it's more of a categorical variable despite it's enumeration.\n",
    "\n",
    "Age correlates positively with all race times.\n",
    "\n",
    "Being male correlates positively with race times.\n",
    "\n",
    "Also, having US nationality correlates positively (r = 0.8) with race times, but this is more likely due to the fact that around 90% of the population set are US Nationals.\n",
    "\n",
    "Thus age and gender are the most interesting correlations in this dataset."
   ]
  },
  {
   "cell_type": "markdown",
   "metadata": {},
   "source": [
    "### Exploring and Comparing Mean Shift Clusters"
   ]
  },
  {
   "cell_type": "code",
   "execution_count": 271,
   "metadata": {},
   "outputs": [],
   "source": [
    "X = marathon_ppdf\n",
    "X['cluster'] = ms_labels\n",
    "X0 = X[X['cluster'] == 0]\n",
    "X1 = X[X['cluster'] == 1]\n",
    "X2 = X[X['cluster'] == 2]\n",
    "X3 = X[X['cluster'] == 3]"
   ]
  },
  {
   "cell_type": "code",
   "execution_count": 277,
   "metadata": {},
   "outputs": [
    {
     "data": {
      "text/plain": [
       "cluster\n",
       "0    27727\n",
       "1     3446\n",
       "2      181\n",
       "3      295\n",
       "Name: overall, dtype: int64"
      ]
     },
     "execution_count": 277,
     "metadata": {},
     "output_type": "execute_result"
    }
   ],
   "source": [
    "X.groupby('cluster').count()['overall']"
   ]
  },
  {
   "cell_type": "markdown",
   "metadata": {},
   "source": [
    "All of the clusters are small (X1, X2, X3) compared to the largest cluster (X0) in the group."
   ]
  },
  {
   "cell_type": "code",
   "execution_count": 291,
   "metadata": {},
   "outputs": [
    {
     "data": {
      "text/html": [
       "<div>\n",
       "<style scoped>\n",
       "    .dataframe tbody tr th:only-of-type {\n",
       "        vertical-align: middle;\n",
       "    }\n",
       "\n",
       "    .dataframe tbody tr th {\n",
       "        vertical-align: top;\n",
       "    }\n",
       "\n",
       "    .dataframe thead th {\n",
       "        text-align: right;\n",
       "    }\n",
       "</style>\n",
       "<table border=\"1\" class=\"dataframe\">\n",
       "  <thead>\n",
       "    <tr style=\"text-align: right;\">\n",
       "      <th>cluster</th>\n",
       "      <th>0</th>\n",
       "      <th>1</th>\n",
       "      <th>2</th>\n",
       "      <th>3</th>\n",
       "    </tr>\n",
       "  </thead>\n",
       "  <tbody>\n",
       "    <tr>\n",
       "      <th>division</th>\n",
       "      <td>1959.226566</td>\n",
       "      <td>1882.607371</td>\n",
       "      <td>33.154696</td>\n",
       "      <td>122.332203</td>\n",
       "    </tr>\n",
       "    <tr>\n",
       "      <th>gender</th>\n",
       "      <td>0.490785</td>\n",
       "      <td>1.000000</td>\n",
       "      <td>0.812155</td>\n",
       "      <td>0.959322</td>\n",
       "    </tr>\n",
       "    <tr>\n",
       "      <th>age</th>\n",
       "      <td>43.796732</td>\n",
       "      <td>32.219385</td>\n",
       "      <td>31.314917</td>\n",
       "      <td>35.244068</td>\n",
       "    </tr>\n",
       "    <tr>\n",
       "      <th>official</th>\n",
       "      <td>250.532719</td>\n",
       "      <td>185.711567</td>\n",
       "      <td>133.917569</td>\n",
       "      <td>158.742746</td>\n",
       "    </tr>\n",
       "    <tr>\n",
       "      <th>genderdiv</th>\n",
       "      <td>8725.986583</td>\n",
       "      <td>3265.289031</td>\n",
       "      <td>37.624309</td>\n",
       "      <td>271.362712</td>\n",
       "    </tr>\n",
       "    <tr>\n",
       "      <th>pace</th>\n",
       "      <td>9.563714</td>\n",
       "      <td>7.091506</td>\n",
       "      <td>5.115580</td>\n",
       "      <td>6.062610</td>\n",
       "    </tr>\n",
       "    <tr>\n",
       "      <th>5k</th>\n",
       "      <td>26.437171</td>\n",
       "      <td>20.785789</td>\n",
       "      <td>14.667901</td>\n",
       "      <td>18.254644</td>\n",
       "    </tr>\n",
       "    <tr>\n",
       "      <th>10k</th>\n",
       "      <td>53.195039</td>\n",
       "      <td>41.468578</td>\n",
       "      <td>29.828011</td>\n",
       "      <td>36.505153</td>\n",
       "    </tr>\n",
       "    <tr>\n",
       "      <th>20k</th>\n",
       "      <td>108.686300</td>\n",
       "      <td>83.306053</td>\n",
       "      <td>61.112707</td>\n",
       "      <td>73.349119</td>\n",
       "    </tr>\n",
       "    <tr>\n",
       "      <th>25k</th>\n",
       "      <td>137.998372</td>\n",
       "      <td>104.598003</td>\n",
       "      <td>76.782431</td>\n",
       "      <td>91.821729</td>\n",
       "    </tr>\n",
       "    <tr>\n",
       "      <th>30k</th>\n",
       "      <td>169.503502</td>\n",
       "      <td>127.008938</td>\n",
       "      <td>93.389558</td>\n",
       "      <td>110.878814</td>\n",
       "    </tr>\n",
       "    <tr>\n",
       "      <th>35k</th>\n",
       "      <td>202.931440</td>\n",
       "      <td>150.642792</td>\n",
       "      <td>110.458398</td>\n",
       "      <td>130.414034</td>\n",
       "    </tr>\n",
       "    <tr>\n",
       "      <th>40k</th>\n",
       "      <td>236.295570</td>\n",
       "      <td>175.007510</td>\n",
       "      <td>126.460110</td>\n",
       "      <td>150.008678</td>\n",
       "    </tr>\n",
       "    <tr>\n",
       "      <th>half</th>\n",
       "      <td>114.775406</td>\n",
       "      <td>87.889071</td>\n",
       "      <td>64.458232</td>\n",
       "      <td>77.362068</td>\n",
       "    </tr>\n",
       "    <tr>\n",
       "      <th>overall</th>\n",
       "      <td>17596.164785</td>\n",
       "      <td>3812.600116</td>\n",
       "      <td>54.359116</td>\n",
       "      <td>312.020339</td>\n",
       "    </tr>\n",
       "    <tr>\n",
       "      <th>country_usa</th>\n",
       "      <td>0.851805</td>\n",
       "      <td>0.854614</td>\n",
       "      <td>0.696133</td>\n",
       "      <td>0.847458</td>\n",
       "    </tr>\n",
       "  </tbody>\n",
       "</table>\n",
       "</div>"
      ],
      "text/plain": [
       "cluster                 0            1           2           3\n",
       "division      1959.226566  1882.607371   33.154696  122.332203\n",
       "gender           0.490785     1.000000    0.812155    0.959322\n",
       "age             43.796732    32.219385   31.314917   35.244068\n",
       "official       250.532719   185.711567  133.917569  158.742746\n",
       "genderdiv     8725.986583  3265.289031   37.624309  271.362712\n",
       "pace             9.563714     7.091506    5.115580    6.062610\n",
       "5k              26.437171    20.785789   14.667901   18.254644\n",
       "10k             53.195039    41.468578   29.828011   36.505153\n",
       "20k            108.686300    83.306053   61.112707   73.349119\n",
       "25k            137.998372   104.598003   76.782431   91.821729\n",
       "30k            169.503502   127.008938   93.389558  110.878814\n",
       "35k            202.931440   150.642792  110.458398  130.414034\n",
       "40k            236.295570   175.007510  126.460110  150.008678\n",
       "half           114.775406    87.889071   64.458232   77.362068\n",
       "overall      17596.164785  3812.600116   54.359116  312.020339\n",
       "country_usa      0.851805     0.854614    0.696133    0.847458"
      ]
     },
     "execution_count": 291,
     "metadata": {},
     "output_type": "execute_result"
    }
   ],
   "source": [
    "#comparing mean values for each feature by cluster.\n",
    "X.groupby('cluster').mean().T"
   ]
  },
  {
   "cell_type": "code",
   "execution_count": 311,
   "metadata": {
    "scrolled": true
   },
   "outputs": [
    {
     "data": {
      "text/html": [
       "<div>\n",
       "<style scoped>\n",
       "    .dataframe tbody tr th:only-of-type {\n",
       "        vertical-align: middle;\n",
       "    }\n",
       "\n",
       "    .dataframe tbody tr th {\n",
       "        vertical-align: top;\n",
       "    }\n",
       "\n",
       "    .dataframe thead th {\n",
       "        text-align: right;\n",
       "    }\n",
       "</style>\n",
       "<table border=\"1\" class=\"dataframe\">\n",
       "  <thead>\n",
       "    <tr style=\"text-align: right;\">\n",
       "      <th>cluster</th>\n",
       "      <th>0</th>\n",
       "      <th>1</th>\n",
       "      <th>2</th>\n",
       "      <th>3</th>\n",
       "    </tr>\n",
       "  </thead>\n",
       "  <tbody>\n",
       "    <tr>\n",
       "      <th>count</th>\n",
       "      <td>27727.000000</td>\n",
       "      <td>3446.000000</td>\n",
       "      <td>181.000000</td>\n",
       "      <td>295.000000</td>\n",
       "    </tr>\n",
       "    <tr>\n",
       "      <th>mean</th>\n",
       "      <td>250.532719</td>\n",
       "      <td>185.711567</td>\n",
       "      <td>133.917569</td>\n",
       "      <td>158.742746</td>\n",
       "    </tr>\n",
       "    <tr>\n",
       "      <th>std</th>\n",
       "      <td>48.003992</td>\n",
       "      <td>14.467325</td>\n",
       "      <td>23.141131</td>\n",
       "      <td>3.689689</td>\n",
       "    </tr>\n",
       "    <tr>\n",
       "      <th>min</th>\n",
       "      <td>165.700000</td>\n",
       "      <td>160.020000</td>\n",
       "      <td>80.600000</td>\n",
       "      <td>152.130000</td>\n",
       "    </tr>\n",
       "    <tr>\n",
       "      <th>25%</th>\n",
       "      <td>214.670000</td>\n",
       "      <td>174.850000</td>\n",
       "      <td>128.800000</td>\n",
       "      <td>155.710000</td>\n",
       "    </tr>\n",
       "    <tr>\n",
       "      <th>50%</th>\n",
       "      <td>238.900000</td>\n",
       "      <td>183.240000</td>\n",
       "      <td>143.530000</td>\n",
       "      <td>158.520000</td>\n",
       "    </tr>\n",
       "    <tr>\n",
       "      <th>75%</th>\n",
       "      <td>279.750000</td>\n",
       "      <td>195.672500</td>\n",
       "      <td>149.430000</td>\n",
       "      <td>161.140000</td>\n",
       "    </tr>\n",
       "    <tr>\n",
       "      <th>max</th>\n",
       "      <td>538.880000</td>\n",
       "      <td>218.370000</td>\n",
       "      <td>191.330000</td>\n",
       "      <td>166.720000</td>\n",
       "    </tr>\n",
       "  </tbody>\n",
       "</table>\n",
       "</div>"
      ],
      "text/plain": [
       "cluster             0            1           2           3\n",
       "count    27727.000000  3446.000000  181.000000  295.000000\n",
       "mean       250.532719   185.711567  133.917569  158.742746\n",
       "std         48.003992    14.467325   23.141131    3.689689\n",
       "min        165.700000   160.020000   80.600000  152.130000\n",
       "25%        214.670000   174.850000  128.800000  155.710000\n",
       "50%        238.900000   183.240000  143.530000  158.520000\n",
       "75%        279.750000   195.672500  149.430000  161.140000\n",
       "max        538.880000   218.370000  191.330000  166.720000"
      ]
     },
     "execution_count": 311,
     "metadata": {},
     "output_type": "execute_result"
    }
   ],
   "source": [
    "#Comparing finishing times side by side\n",
    "X.groupby('cluster').describe()['official'].T"
   ]
  },
  {
   "cell_type": "code",
   "execution_count": 313,
   "metadata": {},
   "outputs": [
    {
     "data": {
      "text/plain": [
       "(0, 400)"
      ]
     },
     "execution_count": 313,
     "metadata": {},
     "output_type": "execute_result"
    },
    {
     "data": {
      "image/png": "[encoded data removed]",
      "text/plain": [
       "<Figure size 864x504 with 1 Axes>"
      ]
     },
     "metadata": {},
     "output_type": "display_data"
    }
   ],
   "source": [
    "plt.figure(figsize = (12,7))\n",
    "sns.set_style(\"darkgrid\")\n",
    "\n",
    "sns.kdeplot(X0['official'], label = 0)\n",
    "sns.kdeplot(X1['official'], label = 1)\n",
    "sns.kdeplot(X2['official'], label = 2)\n",
    "sns.kdeplot(X3['official'], label = 3)\n",
    "sns.kdeplot(marathon_ppdf['official'], label = 'all')\n",
    "\n",
    "plt.title('KDE Plots of Finishing Time by Cluster')\n",
    "plt.xlabel('Minutes')\n",
    "plt.xlim(0,400)"
   ]
  },
  {
   "cell_type": "raw",
   "metadata": {},
   "source": [
    "From these KDE plots it's clear that the clusters are grouped primarily by finishing time groups. It's important to remember that area of these KDE plots are normalized to one, so although cluster 0 and the \"all\" kde charts are smaller, there are significantly more runners represented by those plots.\n",
    "\n",
    "There is a small window of finishing times where it's possible to fall into any one of the four clusters (between 155 and 160 minutes).\n",
    "\n",
    "Also, the third cluster somehow captured a small range of finishing times (between 150 and 165), unlike the other three clusters which have much wider ranges."
   ]
  },
  {
   "cell_type": "code",
   "execution_count": 316,
   "metadata": {},
   "outputs": [
    {
     "data": {
      "text/html": [
       "<div>\n",
       "<style scoped>\n",
       "    .dataframe tbody tr th:only-of-type {\n",
       "        vertical-align: middle;\n",
       "    }\n",
       "\n",
       "    .dataframe tbody tr th {\n",
       "        vertical-align: top;\n",
       "    }\n",
       "\n",
       "    .dataframe thead th {\n",
       "        text-align: right;\n",
       "    }\n",
       "</style>\n",
       "<table border=\"1\" class=\"dataframe\">\n",
       "  <thead>\n",
       "    <tr style=\"text-align: right;\">\n",
       "      <th>cluster</th>\n",
       "      <th>0</th>\n",
       "      <th>1</th>\n",
       "      <th>2</th>\n",
       "      <th>3</th>\n",
       "    </tr>\n",
       "  </thead>\n",
       "  <tbody>\n",
       "    <tr>\n",
       "      <th>count</th>\n",
       "      <td>27727.000000</td>\n",
       "      <td>3446.000000</td>\n",
       "      <td>181.000000</td>\n",
       "      <td>295.000000</td>\n",
       "    </tr>\n",
       "    <tr>\n",
       "      <th>mean</th>\n",
       "      <td>43.796732</td>\n",
       "      <td>32.219385</td>\n",
       "      <td>31.314917</td>\n",
       "      <td>35.244068</td>\n",
       "    </tr>\n",
       "    <tr>\n",
       "      <th>std</th>\n",
       "      <td>11.179402</td>\n",
       "      <td>5.281788</td>\n",
       "      <td>7.065979</td>\n",
       "      <td>8.676426</td>\n",
       "    </tr>\n",
       "    <tr>\n",
       "      <th>min</th>\n",
       "      <td>18.000000</td>\n",
       "      <td>18.000000</td>\n",
       "      <td>18.000000</td>\n",
       "      <td>21.000000</td>\n",
       "    </tr>\n",
       "    <tr>\n",
       "      <th>25%</th>\n",
       "      <td>36.000000</td>\n",
       "      <td>28.000000</td>\n",
       "      <td>27.000000</td>\n",
       "      <td>27.000000</td>\n",
       "    </tr>\n",
       "    <tr>\n",
       "      <th>50%</th>\n",
       "      <td>45.000000</td>\n",
       "      <td>33.000000</td>\n",
       "      <td>30.000000</td>\n",
       "      <td>33.000000</td>\n",
       "    </tr>\n",
       "    <tr>\n",
       "      <th>75%</th>\n",
       "      <td>51.000000</td>\n",
       "      <td>36.000000</td>\n",
       "      <td>34.000000</td>\n",
       "      <td>42.000000</td>\n",
       "    </tr>\n",
       "    <tr>\n",
       "      <th>max</th>\n",
       "      <td>81.000000</td>\n",
       "      <td>44.000000</td>\n",
       "      <td>59.000000</td>\n",
       "      <td>58.000000</td>\n",
       "    </tr>\n",
       "  </tbody>\n",
       "</table>\n",
       "</div>"
      ],
      "text/plain": [
       "cluster             0            1           2           3\n",
       "count    27727.000000  3446.000000  181.000000  295.000000\n",
       "mean        43.796732    32.219385   31.314917   35.244068\n",
       "std         11.179402     5.281788    7.065979    8.676426\n",
       "min         18.000000    18.000000   18.000000   21.000000\n",
       "25%         36.000000    28.000000   27.000000   27.000000\n",
       "50%         45.000000    33.000000   30.000000   33.000000\n",
       "75%         51.000000    36.000000   34.000000   42.000000\n",
       "max         81.000000    44.000000   59.000000   58.000000"
      ]
     },
     "execution_count": 316,
     "metadata": {},
     "output_type": "execute_result"
    }
   ],
   "source": [
    "#Comparing age distributions by cluster.\n",
    "X.groupby('cluster').describe()['age'].T"
   ]
  },
  {
   "cell_type": "code",
   "execution_count": 315,
   "metadata": {},
   "outputs": [
    {
     "data": {
      "text/plain": [
       "Text(0.5, 0, 'Years')"
      ]
     },
     "execution_count": 315,
     "metadata": {},
     "output_type": "execute_result"
    },
    {
     "data": {
      "image/png": "[encoded data removed]",
      "text/plain": [
       "<Figure size 864x504 with 1 Axes>"
      ]
     },
     "metadata": {},
     "output_type": "display_data"
    }
   ],
   "source": [
    "plt.figure(figsize = (12,7))\n",
    "sns.set_style(\"darkgrid\")\n",
    "\n",
    "sns.kdeplot(X0['age'], label = 0)\n",
    "sns.kdeplot(X1['age'], label = 1)\n",
    "sns.kdeplot(X2['age'], label = 2)\n",
    "sns.kdeplot(X3['age'], label = 3)\n",
    "sns.kdeplot(X['age'], label = 'all')\n",
    "\n",
    "plt.title('KDE Plots of Age by Cluster')\n",
    "plt.xlabel('Years')"
   ]
  },
  {
   "cell_type": "markdown",
   "metadata": {},
   "source": [
    "This KDE Chart demonstrates the importance of age for running times. Looking at the KDE's for each cluster, the modes correspond to the order of average finishing times time. For example, cluster two demonstrated the fasted overall finishing times and the mode for cluster tow is the loweest. Cluster 3 was second fastest, cluster 1 the third fastest, and cluster 4 the slowest."
   ]
  },
  {
   "cell_type": "code",
   "execution_count": 317,
   "metadata": {},
   "outputs": [
    {
     "data": {
      "text/html": [
       "<div>\n",
       "<style scoped>\n",
       "    .dataframe tbody tr th:only-of-type {\n",
       "        vertical-align: middle;\n",
       "    }\n",
       "\n",
       "    .dataframe tbody tr th {\n",
       "        vertical-align: top;\n",
       "    }\n",
       "\n",
       "    .dataframe thead th {\n",
       "        text-align: right;\n",
       "    }\n",
       "</style>\n",
       "<table border=\"1\" class=\"dataframe\">\n",
       "  <thead>\n",
       "    <tr style=\"text-align: right;\">\n",
       "      <th>cluster</th>\n",
       "      <th>0</th>\n",
       "      <th>1</th>\n",
       "      <th>2</th>\n",
       "      <th>3</th>\n",
       "    </tr>\n",
       "  </thead>\n",
       "  <tbody>\n",
       "    <tr>\n",
       "      <th>count</th>\n",
       "      <td>27727.000000</td>\n",
       "      <td>3446.0</td>\n",
       "      <td>181.000000</td>\n",
       "      <td>295.000000</td>\n",
       "    </tr>\n",
       "    <tr>\n",
       "      <th>mean</th>\n",
       "      <td>0.490785</td>\n",
       "      <td>1.0</td>\n",
       "      <td>0.812155</td>\n",
       "      <td>0.959322</td>\n",
       "    </tr>\n",
       "    <tr>\n",
       "      <th>std</th>\n",
       "      <td>0.499924</td>\n",
       "      <td>0.0</td>\n",
       "      <td>0.391672</td>\n",
       "      <td>0.197879</td>\n",
       "    </tr>\n",
       "    <tr>\n",
       "      <th>min</th>\n",
       "      <td>0.000000</td>\n",
       "      <td>1.0</td>\n",
       "      <td>0.000000</td>\n",
       "      <td>0.000000</td>\n",
       "    </tr>\n",
       "    <tr>\n",
       "      <th>25%</th>\n",
       "      <td>0.000000</td>\n",
       "      <td>1.0</td>\n",
       "      <td>1.000000</td>\n",
       "      <td>1.000000</td>\n",
       "    </tr>\n",
       "    <tr>\n",
       "      <th>50%</th>\n",
       "      <td>0.000000</td>\n",
       "      <td>1.0</td>\n",
       "      <td>1.000000</td>\n",
       "      <td>1.000000</td>\n",
       "    </tr>\n",
       "    <tr>\n",
       "      <th>75%</th>\n",
       "      <td>1.000000</td>\n",
       "      <td>1.0</td>\n",
       "      <td>1.000000</td>\n",
       "      <td>1.000000</td>\n",
       "    </tr>\n",
       "    <tr>\n",
       "      <th>max</th>\n",
       "      <td>1.000000</td>\n",
       "      <td>1.0</td>\n",
       "      <td>1.000000</td>\n",
       "      <td>1.000000</td>\n",
       "    </tr>\n",
       "  </tbody>\n",
       "</table>\n",
       "</div>"
      ],
      "text/plain": [
       "cluster             0       1           2           3\n",
       "count    27727.000000  3446.0  181.000000  295.000000\n",
       "mean         0.490785     1.0    0.812155    0.959322\n",
       "std          0.499924     0.0    0.391672    0.197879\n",
       "min          0.000000     1.0    0.000000    0.000000\n",
       "25%          0.000000     1.0    1.000000    1.000000\n",
       "50%          0.000000     1.0    1.000000    1.000000\n",
       "75%          1.000000     1.0    1.000000    1.000000\n",
       "max          1.000000     1.0    1.000000    1.000000"
      ]
     },
     "execution_count": 317,
     "metadata": {},
     "output_type": "execute_result"
    }
   ],
   "source": [
    "X.groupby('cluster').describe()['gender'].T"
   ]
  },
  {
   "cell_type": "markdown",
   "metadata": {},
   "source": [
    "Without having to make a visual, it's clear that the fastest times were dominated by men. Clusters 1 and 3, are virtually all men, and cluster 2 is 81.2% men; these three clusters were all the fastest clusters. Cluster 4, the cluster with 'everyone else', has split 50/50 gender ratio. The majority of top tier runners are men."
   ]
  },
  {
   "cell_type": "markdown",
   "metadata": {},
   "source": [
    "### Exploring the Spectral Clustering Clusters"
   ]
  },
  {
   "cell_type": "code",
   "execution_count": 43,
   "metadata": {},
   "outputs": [],
   "source": [
    "Xspec = X #Terrible Code, X variable happens to carry two different datasets but it happens to have the spectral clustering sample now."
   ]
  },
  {
   "cell_type": "code",
   "execution_count": 44,
   "metadata": {},
   "outputs": [],
   "source": [
    "#adding the cluster labels\n",
    "Xspec['cluster'] = predict"
   ]
  },
  {
   "cell_type": "code",
   "execution_count": 45,
   "metadata": {},
   "outputs": [
    {
     "data": {
      "text/plain": [
       "cluster\n",
       "0    405\n",
       "1    178\n",
       "2    413\n",
       "3      4\n",
       "Name: overall, dtype: int64"
      ]
     },
     "execution_count": 45,
     "metadata": {},
     "output_type": "execute_result"
    }
   ],
   "source": [
    "Xspec.groupby('cluster').count()['overall']"
   ]
  },
  {
   "cell_type": "code",
   "execution_count": 46,
   "metadata": {},
   "outputs": [
    {
     "data": {
      "text/html": [
       "<div>\n",
       "<style scoped>\n",
       "    .dataframe tbody tr th:only-of-type {\n",
       "        vertical-align: middle;\n",
       "    }\n",
       "\n",
       "    .dataframe tbody tr th {\n",
       "        vertical-align: top;\n",
       "    }\n",
       "\n",
       "    .dataframe thead th {\n",
       "        text-align: right;\n",
       "    }\n",
       "</style>\n",
       "<table border=\"1\" class=\"dataframe\">\n",
       "  <thead>\n",
       "    <tr style=\"text-align: right;\">\n",
       "      <th>cluster</th>\n",
       "      <th>0</th>\n",
       "      <th>1</th>\n",
       "      <th>2</th>\n",
       "      <th>3</th>\n",
       "    </tr>\n",
       "  </thead>\n",
       "  <tbody>\n",
       "    <tr>\n",
       "      <th>division</th>\n",
       "      <td>2022.950617</td>\n",
       "      <td>1830.702247</td>\n",
       "      <td>1951.714286</td>\n",
       "      <td>431.5000</td>\n",
       "    </tr>\n",
       "    <tr>\n",
       "      <th>gender</th>\n",
       "      <td>0.530864</td>\n",
       "      <td>0.561798</td>\n",
       "      <td>0.554479</td>\n",
       "      <td>1.0000</td>\n",
       "    </tr>\n",
       "    <tr>\n",
       "      <th>age</th>\n",
       "      <td>41.575309</td>\n",
       "      <td>43.123596</td>\n",
       "      <td>42.295400</td>\n",
       "      <td>36.5000</td>\n",
       "    </tr>\n",
       "    <tr>\n",
       "      <th>official</th>\n",
       "      <td>244.608840</td>\n",
       "      <td>240.739719</td>\n",
       "      <td>240.519177</td>\n",
       "      <td>170.9950</td>\n",
       "    </tr>\n",
       "    <tr>\n",
       "      <th>genderdiv</th>\n",
       "      <td>8070.846914</td>\n",
       "      <td>8137.382022</td>\n",
       "      <td>7901.852300</td>\n",
       "      <td>986.7500</td>\n",
       "    </tr>\n",
       "    <tr>\n",
       "      <th>pace</th>\n",
       "      <td>9.338049</td>\n",
       "      <td>9.189944</td>\n",
       "      <td>9.181937</td>\n",
       "      <td>6.5350</td>\n",
       "    </tr>\n",
       "    <tr>\n",
       "      <th>5k</th>\n",
       "      <td>25.755259</td>\n",
       "      <td>25.734326</td>\n",
       "      <td>25.599685</td>\n",
       "      <td>19.5925</td>\n",
       "    </tr>\n",
       "    <tr>\n",
       "      <th>10k</th>\n",
       "      <td>51.791160</td>\n",
       "      <td>51.657640</td>\n",
       "      <td>51.443487</td>\n",
       "      <td>38.9850</td>\n",
       "    </tr>\n",
       "    <tr>\n",
       "      <th>20k</th>\n",
       "      <td>105.877704</td>\n",
       "      <td>105.351685</td>\n",
       "      <td>104.773850</td>\n",
       "      <td>78.3125</td>\n",
       "    </tr>\n",
       "    <tr>\n",
       "      <th>25k</th>\n",
       "      <td>134.734272</td>\n",
       "      <td>133.397584</td>\n",
       "      <td>132.835642</td>\n",
       "      <td>98.2575</td>\n",
       "    </tr>\n",
       "    <tr>\n",
       "      <th>30k</th>\n",
       "      <td>165.414716</td>\n",
       "      <td>163.513764</td>\n",
       "      <td>162.918160</td>\n",
       "      <td>119.1175</td>\n",
       "    </tr>\n",
       "    <tr>\n",
       "      <th>35k</th>\n",
       "      <td>198.144395</td>\n",
       "      <td>195.161573</td>\n",
       "      <td>194.957845</td>\n",
       "      <td>140.4125</td>\n",
       "    </tr>\n",
       "    <tr>\n",
       "      <th>40k</th>\n",
       "      <td>230.790765</td>\n",
       "      <td>227.042697</td>\n",
       "      <td>226.725617</td>\n",
       "      <td>161.4575</td>\n",
       "    </tr>\n",
       "    <tr>\n",
       "      <th>half</th>\n",
       "      <td>111.801630</td>\n",
       "      <td>111.242753</td>\n",
       "      <td>110.623293</td>\n",
       "      <td>82.6475</td>\n",
       "    </tr>\n",
       "    <tr>\n",
       "      <th>overall</th>\n",
       "      <td>16156.167901</td>\n",
       "      <td>15940.376404</td>\n",
       "      <td>15624.527845</td>\n",
       "      <td>1040.7500</td>\n",
       "    </tr>\n",
       "    <tr>\n",
       "      <th>country_usa</th>\n",
       "      <td>0.841975</td>\n",
       "      <td>0.848315</td>\n",
       "      <td>0.832930</td>\n",
       "      <td>1.0000</td>\n",
       "    </tr>\n",
       "  </tbody>\n",
       "</table>\n",
       "</div>"
      ],
      "text/plain": [
       "cluster                 0             1             2          3\n",
       "division      2022.950617   1830.702247   1951.714286   431.5000\n",
       "gender           0.530864      0.561798      0.554479     1.0000\n",
       "age             41.575309     43.123596     42.295400    36.5000\n",
       "official       244.608840    240.739719    240.519177   170.9950\n",
       "genderdiv     8070.846914   8137.382022   7901.852300   986.7500\n",
       "pace             9.338049      9.189944      9.181937     6.5350\n",
       "5k              25.755259     25.734326     25.599685    19.5925\n",
       "10k             51.791160     51.657640     51.443487    38.9850\n",
       "20k            105.877704    105.351685    104.773850    78.3125\n",
       "25k            134.734272    133.397584    132.835642    98.2575\n",
       "30k            165.414716    163.513764    162.918160   119.1175\n",
       "35k            198.144395    195.161573    194.957845   140.4125\n",
       "40k            230.790765    227.042697    226.725617   161.4575\n",
       "half           111.801630    111.242753    110.623293    82.6475\n",
       "overall      16156.167901  15940.376404  15624.527845  1040.7500\n",
       "country_usa      0.841975      0.848315      0.832930     1.0000"
      ]
     },
     "execution_count": 46,
     "metadata": {},
     "output_type": "execute_result"
    }
   ],
   "source": [
    "Xspec.groupby('cluster').mean().T"
   ]
  },
  {
   "cell_type": "markdown",
   "metadata": {},
   "source": [
    "All of the means across every category within the clusters are pretty much the same, with the exclusion of cluster three which only has four runners in the cluster (that ran faster than the other clusters). This is definitely not a useful model."
   ]
  },
  {
   "cell_type": "markdown",
   "metadata": {},
   "source": [
    "-----------------"
   ]
  },
  {
   "cell_type": "markdown",
   "metadata": {},
   "source": [
    "Overall, the best solution to our clustering problem was 4 clusters on the mean shift clustering method. The spectral clustering method did not output clusters that actually clustered together, and the affinity propogation method (as it always does) returned 274 different clusters which is far too many.\n",
    "\n",
    "4 clusters was the sweet spot based on bandwidth used with the estimating bandwidth. Some other methods to check whether this was the best is to see whether the silhouhette score is the same across subsets of the data.\n",
    "\n",
    "From the mean shift clustering method we saw that the four groups that were clustered together represented running speed groups. There were top tier runner, second tier runner, third tier runners, and a cluster that contained the rest of the group. While there was certainly overlap between the clusters based on the KDE plots, it is definitley clear visually that the clusters seemed were ranked based on very distinct modes for each KDE.\n",
    "\n",
    "The groups showed that the fastest groups were comprised mostly of men, and that younger runners ran faster than older runners. While clusters 1 and 3 were also comprised of virtually all men, their KDE's overlap with cluster 0, indicating that the given speeds for clusters 1 and 3 don't isn't just due the fact they're men. Cluster two however, only overlaps slightly with KDE's of the other clusters. This is stronger indicator (although not airtight) that men run faster than the women in the boston marathon."
   ]
  }
 ],
 "metadata": {
  "kernelspec": {
   "display_name": "Python 3",
   "language": "python",
   "name": "python3"
  },
  "language_info": {
   "codemirror_mode": {
    "name": "ipython",
    "version": 3
   },
   "file_extension": ".py",
   "mimetype": "text/x-python",
   "name": "python",
   "nbconvert_exporter": "python",
   "pygments_lexer": "ipython3",
   "version": "3.7.4"
  }
 },
 "nbformat": 4,
 "nbformat_minor": 2
}
