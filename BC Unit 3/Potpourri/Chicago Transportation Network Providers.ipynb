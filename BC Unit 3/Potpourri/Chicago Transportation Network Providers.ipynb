{
 "cells": [
  {
   "cell_type": "code",
   "execution_count": 1,
   "metadata": {},
   "outputs": [],
   "source": [
    "import pandas as pd\n",
    "from matplotlib import pyplot as plt\n",
    "import numpy as np\n",
    "import math\n",
    "import seaborn as sns\n",
    "\n",
    "import random\n",
    "\n",
    "import warnings\n",
    "warnings.filterwarnings(\"ignore\")"
   ]
  },
  {
   "cell_type": "markdown",
   "metadata": {},
   "source": [
    "From now on _edf will denote exploratory dataframes, with raw scale data and no columns dropped nor missing values filled. Missing values do not need to be filled in order for data to be visualized. New features will also be included and added as necessary\n",
    "\n",
    "_ppdf will denote preprocessed dataframes that are ready to be modeled. All missing values will be filled, all features normalized as best as possible, and categorical data binarized.\n",
    "\n",
    "DataFrames without these suffixes will either be intermediary dataframes as features are aggregated onto it, or it will be the raw state data from the data source. "
   ]
  },
  {
   "cell_type": "code",
   "execution_count": 189,
   "metadata": {},
   "outputs": [
    {
     "name": "stdout",
     "output_type": "stream",
     "text": [
      "<class 'pandas.core.frame.DataFrame'>\n",
      "RangeIndex: 10000 entries, 0 to 9999\n",
      "Data columns (total 22 columns):\n",
      "additional_charges            10000 non-null float64\n",
      "dropoff_census_tract          7187 non-null object\n",
      "dropoff_centroid_latitude     9334 non-null object\n",
      "dropoff_centroid_location     9334 non-null object\n",
      "dropoff_centroid_longitude    9334 non-null object\n",
      "dropoff_community_area        9322 non-null object\n",
      "fare                          10000 non-null float64\n",
      "pickup_census_tract           7207 non-null object\n",
      "pickup_centroid_latitude      9392 non-null object\n",
      "pickup_centroid_location      9392 non-null object\n",
      "pickup_centroid_longitude     9392 non-null object\n",
      "pickup_community_area         9383 non-null object\n",
      "shared_trip_authorized        10000 non-null bool\n",
      "tip                           10000 non-null float64\n",
      "trip_end_timestamp            10000 non-null object\n",
      "trip_id                       10000 non-null object\n",
      "trip_miles                    10000 non-null float64\n",
      "trip_seconds                  9920 non-null float64\n",
      "trip_start_timestamp          10000 non-null object\n",
      "trip_total                    10000 non-null float64\n",
      "trips_pooled                  10000 non-null float64\n",
      "speed_avg_mph                 9920 non-null float64\n",
      "dtypes: bool(1), float64(8), object(13)\n",
      "memory usage: 1.6+ MB\n"
     ]
    }
   ],
   "source": [
    "trips.info()"
   ]
  },
  {
   "cell_type": "code",
   "execution_count": 9,
   "metadata": {},
   "outputs": [
    {
     "data": {
      "text/html": [
       "<div>\n",
       "<style scoped>\n",
       "    .dataframe tbody tr th:only-of-type {\n",
       "        vertical-align: middle;\n",
       "    }\n",
       "\n",
       "    .dataframe tbody tr th {\n",
       "        vertical-align: top;\n",
       "    }\n",
       "\n",
       "    .dataframe thead th {\n",
       "        text-align: right;\n",
       "    }\n",
       "</style>\n",
       "<table border=\"1\" class=\"dataframe\">\n",
       "  <thead>\n",
       "    <tr style=\"text-align: right;\">\n",
       "      <th></th>\n",
       "      <th>additional_charges</th>\n",
       "      <th>dropoff_census_tract</th>\n",
       "      <th>dropoff_centroid_latitude</th>\n",
       "      <th>dropoff_centroid_location</th>\n",
       "      <th>dropoff_centroid_longitude</th>\n",
       "      <th>dropoff_community_area</th>\n",
       "      <th>fare</th>\n",
       "      <th>pickup_census_tract</th>\n",
       "      <th>pickup_centroid_latitude</th>\n",
       "      <th>pickup_centroid_location</th>\n",
       "      <th>...</th>\n",
       "      <th>pickup_community_area</th>\n",
       "      <th>shared_trip_authorized</th>\n",
       "      <th>tip</th>\n",
       "      <th>trip_end_timestamp</th>\n",
       "      <th>trip_id</th>\n",
       "      <th>trip_miles</th>\n",
       "      <th>trip_seconds</th>\n",
       "      <th>trip_start_timestamp</th>\n",
       "      <th>trip_total</th>\n",
       "      <th>trips_pooled</th>\n",
       "    </tr>\n",
       "  </thead>\n",
       "  <tbody>\n",
       "    <tr>\n",
       "      <th>0</th>\n",
       "      <td>2.55</td>\n",
       "      <td>1.703132e+10</td>\n",
       "      <td>41.884987</td>\n",
       "      <td>{'type': 'Point', 'coordinates': [-87.62099291...</td>\n",
       "      <td>-87.620993</td>\n",
       "      <td>32.0</td>\n",
       "      <td>12.5</td>\n",
       "      <td>1.703108e+10</td>\n",
       "      <td>41.890922</td>\n",
       "      <td>{'type': 'Point', 'coordinates': [-87.61886835...</td>\n",
       "      <td>...</td>\n",
       "      <td>8.0</td>\n",
       "      <td>False</td>\n",
       "      <td>0</td>\n",
       "      <td>2019-05-21T08:15:00.000</td>\n",
       "      <td>132888eddb0daa305a25fff76ef8f2b486a3b9e0</td>\n",
       "      <td>0.893805</td>\n",
       "      <td>498.0</td>\n",
       "      <td>2019-05-21T08:15:00.000</td>\n",
       "      <td>15.05</td>\n",
       "      <td>1</td>\n",
       "    </tr>\n",
       "    <tr>\n",
       "      <th>1</th>\n",
       "      <td>2.55</td>\n",
       "      <td>1.703101e+10</td>\n",
       "      <td>42.021224</td>\n",
       "      <td>{'type': 'Point', 'coordinates': [-87.66982477...</td>\n",
       "      <td>-87.669825</td>\n",
       "      <td>1.0</td>\n",
       "      <td>5.0</td>\n",
       "      <td>1.703101e+10</td>\n",
       "      <td>42.000320</td>\n",
       "      <td>{'type': 'Point', 'coordinates': [-87.66312679...</td>\n",
       "      <td>...</td>\n",
       "      <td>1.0</td>\n",
       "      <td>False</td>\n",
       "      <td>0</td>\n",
       "      <td>2019-05-17T20:45:00.000</td>\n",
       "      <td>13288927bab65e06e0bd8c19e2509556da405379</td>\n",
       "      <td>2.245223</td>\n",
       "      <td>560.0</td>\n",
       "      <td>2019-05-17T20:45:00.000</td>\n",
       "      <td>7.55</td>\n",
       "      <td>1</td>\n",
       "    </tr>\n",
       "    <tr>\n",
       "      <th>2</th>\n",
       "      <td>7.55</td>\n",
       "      <td>1.703108e+10</td>\n",
       "      <td>41.890922</td>\n",
       "      <td>{'type': 'Point', 'coordinates': [-87.61886835...</td>\n",
       "      <td>-87.618868</td>\n",
       "      <td>8.0</td>\n",
       "      <td>22.5</td>\n",
       "      <td>1.703198e+10</td>\n",
       "      <td>41.785999</td>\n",
       "      <td>{'type': 'Point', 'coordinates': [-87.75093428...</td>\n",
       "      <td>...</td>\n",
       "      <td>56.0</td>\n",
       "      <td>False</td>\n",
       "      <td>5</td>\n",
       "      <td>2019-06-03T14:15:00.000</td>\n",
       "      <td>13288954182feebad4b59d3b7a961f3de390004c</td>\n",
       "      <td>12.805787</td>\n",
       "      <td>2131.0</td>\n",
       "      <td>2019-06-03T13:30:00.000</td>\n",
       "      <td>35.05</td>\n",
       "      <td>1</td>\n",
       "    </tr>\n",
       "    <tr>\n",
       "      <th>3</th>\n",
       "      <td>0.00</td>\n",
       "      <td>NaN</td>\n",
       "      <td>NaN</td>\n",
       "      <td>NaN</td>\n",
       "      <td>NaN</td>\n",
       "      <td>NaN</td>\n",
       "      <td>35.0</td>\n",
       "      <td>1.703198e+10</td>\n",
       "      <td>41.979071</td>\n",
       "      <td>{'type': 'Point', 'coordinates': [-87.90303966...</td>\n",
       "      <td>...</td>\n",
       "      <td>76.0</td>\n",
       "      <td>True</td>\n",
       "      <td>0</td>\n",
       "      <td>2019-05-15T12:45:00.000</td>\n",
       "      <td>132889d3145a4d708c8c05537b78bbe0fe6da181</td>\n",
       "      <td>24.466280</td>\n",
       "      <td>1717.0</td>\n",
       "      <td>2019-05-15T12:15:00.000</td>\n",
       "      <td>35.00</td>\n",
       "      <td>1</td>\n",
       "    </tr>\n",
       "    <tr>\n",
       "      <th>4</th>\n",
       "      <td>2.55</td>\n",
       "      <td>1.703183e+10</td>\n",
       "      <td>41.879067</td>\n",
       "      <td>{'type': 'Point', 'coordinates': [-87.65700502...</td>\n",
       "      <td>-87.657005</td>\n",
       "      <td>28.0</td>\n",
       "      <td>7.5</td>\n",
       "      <td>1.703183e+10</td>\n",
       "      <td>41.916005</td>\n",
       "      <td>{'type': 'Point', 'coordinates': [-87.67509511...</td>\n",
       "      <td>...</td>\n",
       "      <td>22.0</td>\n",
       "      <td>False</td>\n",
       "      <td>0</td>\n",
       "      <td>2019-06-29T17:15:00.000</td>\n",
       "      <td>13288af9e8dd1eff9f5be9e0dc665c2c037bde90</td>\n",
       "      <td>3.691282</td>\n",
       "      <td>783.0</td>\n",
       "      <td>2019-06-29T17:00:00.000</td>\n",
       "      <td>10.05</td>\n",
       "      <td>1</td>\n",
       "    </tr>\n",
       "  </tbody>\n",
       "</table>\n",
       "<p>5 rows × 21 columns</p>\n",
       "</div>"
      ],
      "text/plain": [
       "   additional_charges  dropoff_census_tract  dropoff_centroid_latitude  \\\n",
       "0                2.55          1.703132e+10                  41.884987   \n",
       "1                2.55          1.703101e+10                  42.021224   \n",
       "2                7.55          1.703108e+10                  41.890922   \n",
       "3                0.00                   NaN                        NaN   \n",
       "4                2.55          1.703183e+10                  41.879067   \n",
       "\n",
       "                           dropoff_centroid_location  \\\n",
       "0  {'type': 'Point', 'coordinates': [-87.62099291...   \n",
       "1  {'type': 'Point', 'coordinates': [-87.66982477...   \n",
       "2  {'type': 'Point', 'coordinates': [-87.61886835...   \n",
       "3                                                NaN   \n",
       "4  {'type': 'Point', 'coordinates': [-87.65700502...   \n",
       "\n",
       "   dropoff_centroid_longitude  dropoff_community_area  fare  \\\n",
       "0                  -87.620993                    32.0  12.5   \n",
       "1                  -87.669825                     1.0   5.0   \n",
       "2                  -87.618868                     8.0  22.5   \n",
       "3                         NaN                     NaN  35.0   \n",
       "4                  -87.657005                    28.0   7.5   \n",
       "\n",
       "   pickup_census_tract  pickup_centroid_latitude  \\\n",
       "0         1.703108e+10                 41.890922   \n",
       "1         1.703101e+10                 42.000320   \n",
       "2         1.703198e+10                 41.785999   \n",
       "3         1.703198e+10                 41.979071   \n",
       "4         1.703183e+10                 41.916005   \n",
       "\n",
       "                            pickup_centroid_location  ...  \\\n",
       "0  {'type': 'Point', 'coordinates': [-87.61886835...  ...   \n",
       "1  {'type': 'Point', 'coordinates': [-87.66312679...  ...   \n",
       "2  {'type': 'Point', 'coordinates': [-87.75093428...  ...   \n",
       "3  {'type': 'Point', 'coordinates': [-87.90303966...  ...   \n",
       "4  {'type': 'Point', 'coordinates': [-87.67509511...  ...   \n",
       "\n",
       "   pickup_community_area  shared_trip_authorized  tip  \\\n",
       "0                    8.0                   False    0   \n",
       "1                    1.0                   False    0   \n",
       "2                   56.0                   False    5   \n",
       "3                   76.0                    True    0   \n",
       "4                   22.0                   False    0   \n",
       "\n",
       "        trip_end_timestamp                                   trip_id  \\\n",
       "0  2019-05-21T08:15:00.000  132888eddb0daa305a25fff76ef8f2b486a3b9e0   \n",
       "1  2019-05-17T20:45:00.000  13288927bab65e06e0bd8c19e2509556da405379   \n",
       "2  2019-06-03T14:15:00.000  13288954182feebad4b59d3b7a961f3de390004c   \n",
       "3  2019-05-15T12:45:00.000  132889d3145a4d708c8c05537b78bbe0fe6da181   \n",
       "4  2019-06-29T17:15:00.000  13288af9e8dd1eff9f5be9e0dc665c2c037bde90   \n",
       "\n",
       "  trip_miles  trip_seconds     trip_start_timestamp trip_total  trips_pooled  \n",
       "0   0.893805         498.0  2019-05-21T08:15:00.000      15.05             1  \n",
       "1   2.245223         560.0  2019-05-17T20:45:00.000       7.55             1  \n",
       "2  12.805787        2131.0  2019-06-03T13:30:00.000      35.05             1  \n",
       "3  24.466280        1717.0  2019-05-15T12:15:00.000      35.00             1  \n",
       "4   3.691282         783.0  2019-06-29T17:00:00.000      10.05             1  \n",
       "\n",
       "[5 rows x 21 columns]"
      ]
     },
     "execution_count": 9,
     "metadata": {},
     "output_type": "execute_result"
    }
   ],
   "source": [
    "trips.head()"
   ]
  },
  {
   "cell_type": "code",
   "execution_count": 26,
   "metadata": {},
   "outputs": [
    {
     "name": "stderr",
     "output_type": "stream",
     "text": [
      "WARNING:root:Requests made without an app_token will be subject to strict throttling limits.\n"
     ]
    }
   ],
   "source": [
    "from sodapy import Socrata\n",
    "\n",
    "client = Socrata(\"data.cityofchicago.org\", None)\n",
    "\n",
    "# First 2000 results, returned as JSON from API / converted to Python list of\n",
    "# dictionaries by sodapy.\n",
    "results = client.get(\"m6dm-c72p\", limit=10000)\n",
    "\n",
    "# Convert to pandas DataFrame\n",
    "trips = pd.DataFrame.from_records(results)"
   ]
  },
  {
   "cell_type": "code",
   "execution_count": 27,
   "metadata": {},
   "outputs": [
    {
     "data": {
      "text/plain": [
       "(10000, 21)"
      ]
     },
     "execution_count": 27,
     "metadata": {},
     "output_type": "execute_result"
    }
   ],
   "source": [
    "trips.shape"
   ]
  },
  {
   "cell_type": "code",
   "execution_count": 28,
   "metadata": {},
   "outputs": [
    {
     "data": {
      "text/plain": [
       "557"
      ]
     },
     "execution_count": 28,
     "metadata": {},
     "output_type": "execute_result"
    }
   ],
   "source": [
    "#for col in trips_df.columns:\n",
    "# print(trips_df[col].nunique)\n",
    "trips['dropoff_census_tract'].nunique()"
   ]
  },
  {
   "cell_type": "code",
   "execution_count": 30,
   "metadata": {},
   "outputs": [
    {
     "data": {
      "text/plain": [
       "{'type': 'Point', 'coordinates': [-87.6197106717, 41.8950334495]}"
      ]
     },
     "execution_count": 30,
     "metadata": {},
     "output_type": "execute_result"
    }
   ],
   "source": [
    "trips['dropoff_centroid_location'][0]"
   ]
  },
  {
   "cell_type": "code",
   "execution_count": 31,
   "metadata": {},
   "outputs": [
    {
     "data": {
      "text/plain": [
       "Index(['additional_charges', 'dropoff_census_tract',\n",
       "       'dropoff_centroid_latitude', 'dropoff_centroid_location',\n",
       "       'dropoff_centroid_longitude', 'dropoff_community_area', 'fare',\n",
       "       'pickup_census_tract', 'pickup_centroid_latitude',\n",
       "       'pickup_centroid_location', 'pickup_centroid_longitude',\n",
       "       'pickup_community_area', 'shared_trip_authorized', 'tip',\n",
       "       'trip_end_timestamp', 'trip_id', 'trip_miles', 'trip_seconds',\n",
       "       'trip_start_timestamp', 'trip_total', 'trips_pooled'],\n",
       "      dtype='object')"
      ]
     },
     "execution_count": 31,
     "metadata": {},
     "output_type": "execute_result"
    }
   ],
   "source": [
    "trips.columns"
   ]
  },
  {
   "cell_type": "markdown",
   "metadata": {},
   "source": [
    "Preprocessed . DFT (DataFrame Transformed) . "
   ]
  },
  {
   "cell_type": "markdown",
   "metadata": {},
   "source": [
    "## Cleaning and Filling Empty Data"
   ]
  },
  {
   "cell_type": "code",
   "execution_count": 33,
   "metadata": {},
   "outputs": [],
   "source": [
    "trips_dft = trips[['additional_charges', 'dropoff_census_tract',\n",
    "       'dropoff_centroid_latitude',\n",
    "       'dropoff_centroid_longitude', 'dropoff_community_area', 'fare',\n",
    "       'pickup_census_tract', 'pickup_centroid_latitude', 'pickup_centroid_longitude',\n",
    "       'pickup_community_area', 'shared_trip_authorized', 'tip',\n",
    "       'trip_end_timestamp', 'trip_id', 'trip_miles', 'trip_seconds',\n",
    "       'trip_start_timestamp', 'trip_total', 'trips_pooled']]\n"
   ]
  },
  {
   "cell_type": "code",
   "execution_count": 81,
   "metadata": {},
   "outputs": [],
   "source": [
    "dist_cols = ['additional_charges', 'fare', 'tip', 'trip_miles', 'trip_seconds', 'trip_total', 'trips_pooled']\n",
    "\n",
    "for col in dist_cols:\n",
    "    trips_dft[col] = trips[col].astype('float64')\n",
    "    trips[col] = trips[col].astype('float64')"
   ]
  },
  {
   "cell_type": "code",
   "execution_count": 79,
   "metadata": {},
   "outputs": [
    {
     "data": {
      "image/png": "[encoded data removed]",
      "text/plain": [
       "<Figure size 504x2520 with 7 Axes>"
      ]
     },
     "metadata": {
      "needs_background": "light"
     },
     "output_type": "display_data"
    }
   ],
   "source": [
    "plt.figure(figsize = (7,35))\n",
    "for i in range(len(dist_cols)):\n",
    "    plt.subplot(len(dist_cols), 1, i+1) \n",
    "    plt.hist(trips_dft[dist_cols[i]])\n",
    "    plt.title(dist_cols[i] + ' ' + 'Distribution')\n",
    "    plt.ylabel('# of Trips')\n",
    "plt.show()\n",
    "    #trip_plot.title(col+ ' ' + 'Distribution')\n",
    "    #trip_plot.ylabel('# of Trips')\n",
    "    #trip_plot.show()"
   ]
  },
  {
   "cell_type": "code",
   "execution_count": 57,
   "metadata": {},
   "outputs": [
    {
     "data": {
      "text/plain": [
       "(array([  96.,    0.,    0.,    0.,    0.,  565., 4043., 4363.,  899.,\n",
       "          34.]),\n",
       " array([-4.60517019, -3.62675047, -2.64833076, -1.66991105, -0.69149133,\n",
       "         0.28692838,  1.26534809,  2.24376781,  3.22218752,  4.20060723,\n",
       "         5.17902695]),\n",
       " <a list of 10 Patch objects>)"
      ]
     },
     "execution_count": 57,
     "metadata": {},
     "output_type": "execute_result"
    },
    {
     "data": {
      "image/png": "[encoded data removed]",
      "text/plain": [
       "<Figure size 432x288 with 1 Axes>"
      ]
     },
     "metadata": {
      "needs_background": "light"
     },
     "output_type": "display_data"
    }
   ],
   "source": [
    "#type(trips_dft['fare'][0])\n",
    "plt.figure()\n",
    "plt.hist(np.log(trips_dft['fare'] + 0.01))"
   ]
  },
  {
   "cell_type": "code",
   "execution_count": 62,
   "metadata": {},
   "outputs": [
    {
     "data": {
      "text/plain": [
       "additional_charges            float64\n",
       "dropoff_census_tract           object\n",
       "dropoff_centroid_latitude      object\n",
       "dropoff_centroid_longitude     object\n",
       "dropoff_community_area         object\n",
       "fare                          float64\n",
       "pickup_census_tract            object\n",
       "pickup_centroid_latitude       object\n",
       "pickup_centroid_longitude      object\n",
       "pickup_community_area          object\n",
       "shared_trip_authorized           bool\n",
       "tip                           float64\n",
       "trip_end_timestamp             object\n",
       "trip_id                        object\n",
       "trip_miles                    float64\n",
       "trip_seconds                  float64\n",
       "trip_start_timestamp           object\n",
       "trip_total                    float64\n",
       "trips_pooled                  float64\n",
       "dtype: object"
      ]
     },
     "execution_count": 62,
     "metadata": {},
     "output_type": "execute_result"
    }
   ],
   "source": [
    "trips_dft.dtypes"
   ]
  },
  {
   "cell_type": "code",
   "execution_count": 82,
   "metadata": {},
   "outputs": [
    {
     "data": {
      "text/plain": [
       "additional_charges    1.721584\n",
       "fare                  3.301377\n",
       "tip                   3.998750\n",
       "trip_miles            3.788543\n",
       "trip_seconds          2.034467\n",
       "trip_total            2.967728\n",
       "trips_pooled          3.930077\n",
       "dtype: float64"
      ]
     },
     "execution_count": 82,
     "metadata": {},
     "output_type": "execute_result"
    }
   ],
   "source": [
    "trips[dist_cols].skew()"
   ]
  },
  {
   "cell_type": "code",
   "execution_count": 83,
   "metadata": {},
   "outputs": [],
   "source": [
    "for col in dist_cols:\n",
    "    trips_dft[col] = np.log(trips[col] + 1)"
   ]
  },
  {
   "cell_type": "code",
   "execution_count": 84,
   "metadata": {
    "scrolled": true
   },
   "outputs": [
    {
     "data": {
      "text/plain": [
       "additional_charges   -0.689967\n",
       "fare                  0.009687\n",
       "tip                   2.118847\n",
       "trip_miles            0.479105\n",
       "trip_seconds         -0.194794\n",
       "trip_total            0.437227\n",
       "trips_pooled          2.709021\n",
       "dtype: float64"
      ]
     },
     "execution_count": 84,
     "metadata": {},
     "output_type": "execute_result"
    }
   ],
   "source": [
    "trips_dft[dist_cols].skew()"
   ]
  },
  {
   "cell_type": "code",
   "execution_count": 85,
   "metadata": {},
   "outputs": [
    {
     "data": {
      "image/png": "[encoded data removed]",
      "text/plain": [
       "<Figure size 504x2520 with 7 Axes>"
      ]
     },
     "metadata": {
      "needs_background": "light"
     },
     "output_type": "display_data"
    }
   ],
   "source": [
    "plt.figure(figsize = (7,35))\n",
    "for i in range(len(dist_cols)):\n",
    "    plt.subplot(len(dist_cols), 1, i+1) \n",
    "    plt.hist(trips_dft[dist_cols[i]])\n",
    "    plt.title('logged' + ' ' + dist_cols[i] + ' ' + 'Distribution')\n",
    "    plt.ylabel('# of Trips')\n",
    "plt.show()"
   ]
  },
  {
   "cell_type": "code",
   "execution_count": 102,
   "metadata": {},
   "outputs": [
    {
     "data": {
      "text/plain": [
       "(array([719., 520., 176.,  73.,  27.,  12.,   8.,   5.,   0.,   2.]),\n",
       " array([ 2.,  3.,  4.,  5.,  6.,  7.,  8.,  9., 10., 11., 12.]),\n",
       " <a list of 10 Patch objects>)"
      ]
     },
     "execution_count": 102,
     "metadata": {},
     "output_type": "execute_result"
    },
    {
     "data": {
      "image/png": "[encoded data removed]",
      "text/plain": [
       "<Figure size 432x288 with 1 Axes>"
      ]
     },
     "metadata": {
      "needs_background": "light"
     },
     "output_type": "display_data"
    }
   ],
   "source": [
    "plt.figure()\n",
    "plt.hist(trips[trips['trips_pooled'] > 1]['trips_pooled'])"
   ]
  },
  {
   "cell_type": "code",
   "execution_count": 100,
   "metadata": {},
   "outputs": [
    {
     "data": {
      "text/plain": [
       "count    1897.000000\n",
       "mean        3.337902\n",
       "std         2.477579\n",
       "min         1.000000\n",
       "25%         2.000000\n",
       "50%         3.000000\n",
       "75%         5.000000\n",
       "max        23.000000\n",
       "Name: tip, dtype: float64"
      ]
     },
     "execution_count": 100,
     "metadata": {},
     "output_type": "execute_result"
    }
   ],
   "source": [
    "trips[trips['tip'] > 0]['tip'].describe()"
   ]
  },
  {
   "cell_type": "markdown",
   "metadata": {},
   "source": [
    "Checking the distributions, it's certainly best to keep all of the distributions logged for the sake of predictive convenience for the models. Although it appears that tips and trips_pooled appear heavily right-skewed even after log transforming them, this only because all the non-pooled and non-tipped trips are included in the distribution. Above the zero values, the distributions become more normal when log transformed."
   ]
  },
  {
   "cell_type": "code",
   "execution_count": 104,
   "metadata": {},
   "outputs": [],
   "source": [
    "trips_dft['shared_trip_authorized'] = trips_dft['shared_trip_authorized'].replace([True, False], [1,0])"
   ]
  },
  {
   "cell_type": "code",
   "execution_count": 107,
   "metadata": {},
   "outputs": [
    {
     "data": {
      "text/plain": [
       "0.2232"
      ]
     },
     "execution_count": 107,
     "metadata": {},
     "output_type": "execute_result"
    }
   ],
   "source": [
    "trips_dft['shared_trip_authorized'].mean()"
   ]
  },
  {
   "cell_type": "code",
   "execution_count": 112,
   "metadata": {},
   "outputs": [
    {
     "data": {
      "text/plain": [
       "additional_charges            float64\n",
       "dropoff_census_tract           object\n",
       "dropoff_centroid_latitude     float64\n",
       "dropoff_centroid_longitude    float64\n",
       "dropoff_community_area         object\n",
       "fare                          float64\n",
       "pickup_census_tract            object\n",
       "pickup_centroid_latitude      float64\n",
       "pickup_centroid_longitude     float64\n",
       "pickup_community_area          object\n",
       "shared_trip_authorized          int64\n",
       "tip                           float64\n",
       "trip_end_timestamp             object\n",
       "trip_id                        object\n",
       "trip_miles                    float64\n",
       "trip_seconds                  float64\n",
       "trip_start_timestamp           object\n",
       "trip_total                    float64\n",
       "trips_pooled                  float64\n",
       "dtype: object"
      ]
     },
     "execution_count": 112,
     "metadata": {},
     "output_type": "execute_result"
    }
   ],
   "source": [
    "trips_dft.dtypes"
   ]
  },
  {
   "cell_type": "code",
   "execution_count": 111,
   "metadata": {},
   "outputs": [],
   "source": [
    "float_cols = ['dropoff_centroid_latitude','dropoff_centroid_longitude','pickup_centroid_latitude','pickup_centroid_longitude']\n",
    "for col in float_cols:\n",
    "    trips_dft[col] = trips[col].astype('float64')\n",
    "    "
   ]
  },
  {
   "cell_type": "code",
   "execution_count": 118,
   "metadata": {},
   "outputs": [],
   "source": [
    "#pd.Timestamp(trips_dft['trip_end_timestamp'])\n",
    "for i in trips['trip_end_timestamp']:\n",
    "    i.split('T')"
   ]
  },
  {
   "cell_type": "code",
   "execution_count": 122,
   "metadata": {},
   "outputs": [
    {
     "name": "stdout",
     "output_type": "stream",
     "text": [
      "2019-06-04\n",
      "08:00:00.000\n",
      "2019\n",
      "06\n",
      "04\n",
      "08\n",
      "00\n",
      "00.000\n"
     ]
    }
   ],
   "source": [
    "d, t = trips['trip_end_timestamp'][0].split('T')\n",
    "print(d)\n",
    "print(t)\n",
    "year, month, day = d.split('-')\n",
    "hour, minute, sec = t.split(':')\n",
    "print(year)\n",
    "print(month)\n",
    "print(day)\n",
    "print(hour)\n",
    "print(minute)\n",
    "print(sec)"
   ]
  },
  {
   "cell_type": "code",
   "execution_count": 128,
   "metadata": {},
   "outputs": [],
   "source": [
    "ts_year = []\n",
    "ts_month = []\n",
    "ts_day = []\n",
    "ts_hour = []\n",
    "ts_minute = []\n",
    "ts_sec = []\n",
    "\n",
    "for i in range(len(trips['trip_end_timestamp'])):\n",
    "    \n",
    "    d, t = trips['trip_end_timestamp'][i].split('T')\n",
    "    \n",
    "    year, month, day = d.split('-')\n",
    "    hour, minute, sec = t.split(':')\n",
    "    \n",
    "    ts_year.append(year)\n",
    "    ts_month.append(month)\n",
    "    ts_day.append(day)\n",
    "    ts_hour.append(hour)\n",
    "    ts_minute.append(minute)\n",
    "    ts_sec.append(sec)\n",
    "\n",
    "trips_dft['tsend_year'] = ts_year\n",
    "trips_dft['tsend_month'] = ts_month\n",
    "trips_dft['tsend_day'] = ts_day\n",
    "trips_dft['tsend_hour'] = ts_hour\n",
    "trips_dft['tsend_minute'] = ts_minute\n",
    "trips_dft['tsend_sec'] = ts_sec\n",
    "\n",
    "trips_dft['tsend_year'] = trips_dft['tsend_year'].astype('int64')\n",
    "trips_dft['tsend_month'] = trips_dft['tsend_month'].astype('int64')\n",
    "trips_dft['tsend_day'] = trips_dft['tsend_day'].astype('int64')\n",
    "trips_dft['tsend_hour'] = trips_dft['tsend_hour'].astype('int64')\n",
    "trips_dft['tsend_minute'] = trips_dft['tsend_minute'].astype('int64')\n",
    "trips_dft['tsend_sec'] = trips_dft['tsend_sec'].astype('float64')"
   ]
  },
  {
   "cell_type": "code",
   "execution_count": null,
   "metadata": {},
   "outputs": [],
   "source": [
    "timestamp_end_cols = ['tsend_year', 'tsend_month', 'tsend_day', 'tsend_hour', 'tsend_minute', 'tsend_sec']\n",
    "trips_dft[timestamp_end_cols].head()"
   ]
  },
  {
   "cell_type": "code",
   "execution_count": 130,
   "metadata": {},
   "outputs": [],
   "source": [
    "ts_year = []\n",
    "ts_month = []\n",
    "ts_day = []\n",
    "ts_hour = []\n",
    "ts_minute = []\n",
    "ts_sec = []\n",
    "\n",
    "for i in range(len(trips['trip_start_timestamp'])):\n",
    "    \n",
    "    d, t = trips['trip_start_timestamp'][i].split('T')\n",
    "    \n",
    "    year, month, day = d.split('-')\n",
    "    hour, minute, sec = t.split(':')\n",
    "    \n",
    "    ts_year.append(year)\n",
    "    ts_month.append(month)\n",
    "    ts_day.append(day)\n",
    "    ts_hour.append(hour)\n",
    "    ts_minute.append(minute)\n",
    "    ts_sec.append(sec)\n",
    "\n",
    "trips_dft['tsstart_year'] = ts_year\n",
    "trips_dft['tsstart_month'] = ts_month\n",
    "trips_dft['tsstart_day'] = ts_day\n",
    "trips_dft['tsstart_hour'] = ts_hour\n",
    "trips_dft['tsstart_minute'] = ts_minute\n",
    "trips_dft['tsstart_sec'] = ts_sec\n",
    "\n",
    "trips_dft['tsstart_year'] = trips_dft['tsstart_year'].astype('int64')\n",
    "trips_dft['tsstart_month'] = trips_dft['tsstart_month'].astype('int64')\n",
    "trips_dft['tsstart_day'] = trips_dft['tsstart_day'].astype('int64')\n",
    "trips_dft['tsstart_hour'] = trips_dft['tsstart_hour'].astype('int64')\n",
    "trips_dft['tsstart_minute'] = trips_dft['tsstart_minute'].astype('int64')\n",
    "trips_dft['tsstart_sec'] = trips_dft['tsstart_sec'].astype('float64')"
   ]
  },
  {
   "cell_type": "code",
   "execution_count": 131,
   "metadata": {},
   "outputs": [
    {
     "data": {
      "text/html": [
       "<div>\n",
       "<style scoped>\n",
       "    .dataframe tbody tr th:only-of-type {\n",
       "        vertical-align: middle;\n",
       "    }\n",
       "\n",
       "    .dataframe tbody tr th {\n",
       "        vertical-align: top;\n",
       "    }\n",
       "\n",
       "    .dataframe thead th {\n",
       "        text-align: right;\n",
       "    }\n",
       "</style>\n",
       "<table border=\"1\" class=\"dataframe\">\n",
       "  <thead>\n",
       "    <tr style=\"text-align: right;\">\n",
       "      <th></th>\n",
       "      <th>tsstart_year</th>\n",
       "      <th>tsstart_month</th>\n",
       "      <th>tsstart_day</th>\n",
       "      <th>tsstart_hour</th>\n",
       "      <th>tsstart_minute</th>\n",
       "      <th>tsstart_sec</th>\n",
       "    </tr>\n",
       "  </thead>\n",
       "  <tbody>\n",
       "    <tr>\n",
       "      <th>0</th>\n",
       "      <td>2019</td>\n",
       "      <td>6</td>\n",
       "      <td>4</td>\n",
       "      <td>7</td>\n",
       "      <td>30</td>\n",
       "      <td>0.0</td>\n",
       "    </tr>\n",
       "    <tr>\n",
       "      <th>1</th>\n",
       "      <td>2019</td>\n",
       "      <td>6</td>\n",
       "      <td>27</td>\n",
       "      <td>9</td>\n",
       "      <td>30</td>\n",
       "      <td>0.0</td>\n",
       "    </tr>\n",
       "    <tr>\n",
       "      <th>2</th>\n",
       "      <td>2019</td>\n",
       "      <td>5</td>\n",
       "      <td>13</td>\n",
       "      <td>20</td>\n",
       "      <td>15</td>\n",
       "      <td>0.0</td>\n",
       "    </tr>\n",
       "    <tr>\n",
       "      <th>3</th>\n",
       "      <td>2019</td>\n",
       "      <td>5</td>\n",
       "      <td>3</td>\n",
       "      <td>17</td>\n",
       "      <td>30</td>\n",
       "      <td>0.0</td>\n",
       "    </tr>\n",
       "    <tr>\n",
       "      <th>4</th>\n",
       "      <td>2019</td>\n",
       "      <td>5</td>\n",
       "      <td>21</td>\n",
       "      <td>6</td>\n",
       "      <td>30</td>\n",
       "      <td>0.0</td>\n",
       "    </tr>\n",
       "  </tbody>\n",
       "</table>\n",
       "</div>"
      ],
      "text/plain": [
       "   tsstart_year  tsstart_month  tsstart_day  tsstart_hour  tsstart_minute  \\\n",
       "0          2019              6            4             7              30   \n",
       "1          2019              6           27             9              30   \n",
       "2          2019              5           13            20              15   \n",
       "3          2019              5            3            17              30   \n",
       "4          2019              5           21             6              30   \n",
       "\n",
       "   tsstart_sec  \n",
       "0          0.0  \n",
       "1          0.0  \n",
       "2          0.0  \n",
       "3          0.0  \n",
       "4          0.0  "
      ]
     },
     "execution_count": 131,
     "metadata": {},
     "output_type": "execute_result"
    }
   ],
   "source": [
    "timestamp_start_cols = ['tsstart_year', 'tsstart_month', 'tsstart_day', 'tsstart_hour', 'tsstart_minute', 'tsstart_sec']\n",
    "trips_dft[timestamp_start_cols].head()\n"
   ]
  },
  {
   "cell_type": "markdown",
   "metadata": {},
   "source": [
    "## New Feature Ideas:\n",
    "- Binarize trips into non-tipped and tipped\n",
    "- Divide distance by seconds to calculate speed measure for each trip.\n",
    "\n"
   ]
  },
  {
   "cell_type": "code",
   "execution_count": 163,
   "metadata": {},
   "outputs": [],
   "source": [
    "from scipy.stats import mstats\n"
   ]
  },
  {
   "cell_type": "code",
   "execution_count": 132,
   "metadata": {},
   "outputs": [
    {
     "data": {
      "text/plain": [
       "Index(['additional_charges', 'dropoff_census_tract',\n",
       "       'dropoff_centroid_latitude', 'dropoff_centroid_longitude',\n",
       "       'dropoff_community_area', 'fare', 'pickup_census_tract',\n",
       "       'pickup_centroid_latitude', 'pickup_centroid_longitude',\n",
       "       'pickup_community_area', 'shared_trip_authorized', 'tip',\n",
       "       'trip_end_timestamp', 'trip_id', 'trip_miles', 'trip_seconds',\n",
       "       'trip_start_timestamp', 'trip_total', 'trips_pooled', 'tsend_year',\n",
       "       'tsend_month', 'tsend_day', 'tsend_hour', 'tsend_minute', 'tsend_sec',\n",
       "       'tsstart_year', 'tsstart_month', 'tsstart_day', 'tsstart_hour',\n",
       "       'tsstart_minute', 'tsstart_sec'],\n",
       "      dtype='object')"
      ]
     },
     "execution_count": 132,
     "metadata": {},
     "output_type": "execute_result"
    }
   ],
   "source": [
    "trips_dft.columns"
   ]
  },
  {
   "cell_type": "code",
   "execution_count": 147,
   "metadata": {},
   "outputs": [],
   "source": [
    "trips['speed_avg_mph'] = trips['trip_miles']/(trips['trip_seconds']/3600)\n"
   ]
  },
  {
   "cell_type": "code",
   "execution_count": 160,
   "metadata": {},
   "outputs": [
    {
     "data": {
      "text/plain": [
       "1"
      ]
     },
     "execution_count": 160,
     "metadata": {},
     "output_type": "execute_result"
    }
   ],
   "source": [
    "#plt.hist(trips['speed_avg_mph'])\n",
    "trips.loc[trips['speed_avg_mph'] > 70, 'speed_avg_mph'].count()"
   ]
  },
  {
   "cell_type": "code",
   "execution_count": 162,
   "metadata": {},
   "outputs": [
    {
     "data": {
      "text/plain": [
       "(array([9.919e+03, 0.000e+00, 0.000e+00, 0.000e+00, 0.000e+00, 0.000e+00,\n",
       "        0.000e+00, 0.000e+00, 0.000e+00, 1.000e+00]),\n",
       " array([  1.3889708 ,  72.7428123 , 144.0966538 , 215.4504953 ,\n",
       "        286.8043368 , 358.1581783 , 429.5120198 , 500.86586131,\n",
       "        572.21970281, 643.57354431, 714.92738581]),\n",
       " <a list of 10 Patch objects>)"
      ]
     },
     "execution_count": 162,
     "metadata": {},
     "output_type": "execute_result"
    },
    {
     "data": {
      "image/png": "[encoded data removed]",
      "text/plain": [
       "<Figure size 432x288 with 1 Axes>"
      ]
     },
     "metadata": {
      "needs_background": "light"
     },
     "output_type": "display_data"
    }
   ],
   "source": [
    "plt.hist(trips['speed_avg_mph'])"
   ]
  },
  {
   "cell_type": "code",
   "execution_count": 190,
   "metadata": {},
   "outputs": [],
   "source": [
    "speed_winzd = mstats.winsorize(trips['speed_avg_mph'], limits=[0, 0.0081])\n",
    "trips_dft['speed_avg_mph'] = np.log(speed_winzd)"
   ]
  },
  {
   "cell_type": "code",
   "execution_count": 188,
   "metadata": {},
   "outputs": [],
   "source": [
    "#trips['speed_avg_mph'].sort_values(ascending=False).head()"
   ]
  },
  {
   "cell_type": "code",
   "execution_count": 192,
   "metadata": {},
   "outputs": [
    {
     "name": "stdout",
     "output_type": "stream",
     "text": [
      "<class 'pandas.core.frame.DataFrame'>\n",
      "RangeIndex: 10000 entries, 0 to 9999\n",
      "Data columns (total 22 columns):\n",
      "additional_charges            10000 non-null float64\n",
      "dropoff_census_tract          7187 non-null object\n",
      "dropoff_centroid_latitude     9334 non-null object\n",
      "dropoff_centroid_location     9334 non-null object\n",
      "dropoff_centroid_longitude    9334 non-null object\n",
      "dropoff_community_area        9322 non-null object\n",
      "fare                          10000 non-null float64\n",
      "pickup_census_tract           7207 non-null object\n",
      "pickup_centroid_latitude      9392 non-null object\n",
      "pickup_centroid_location      9392 non-null object\n",
      "pickup_centroid_longitude     9392 non-null object\n",
      "pickup_community_area         9383 non-null object\n",
      "shared_trip_authorized        10000 non-null bool\n",
      "tip                           10000 non-null float64\n",
      "trip_end_timestamp            10000 non-null object\n",
      "trip_id                       10000 non-null object\n",
      "trip_miles                    10000 non-null float64\n",
      "trip_seconds                  9920 non-null float64\n",
      "trip_start_timestamp          10000 non-null object\n",
      "trip_total                    10000 non-null float64\n",
      "trips_pooled                  10000 non-null float64\n",
      "speed_avg_mph                 9920 non-null float64\n",
      "dtypes: bool(1), float64(8), object(13)\n",
      "memory usage: 1.6+ MB\n"
     ]
    }
   ],
   "source": [
    "trips.info()"
   ]
  },
  {
   "cell_type": "markdown",
   "metadata": {},
   "source": [
    "## Data Exploration and Visualization\n",
    "\n",
    "Questions Worth Answering:\n",
    "- Where do ride hailing pickups concentrate in?\n",
    "- How does ride volume vary over time? Different time scales?\n",
    "- How often and to what extent to patrons tip?\n",
    "- How does average speed change with drop off location? Time of day?\n",
    "- How likely is a rider to ride alone while still authorizing a pooled ride?\n",
    "- What's the average cost of a rides being picked up and/or dropped off in Chicago?"
   ]
  },
  {
   "cell_type": "code",
   "execution_count": 194,
   "metadata": {},
   "outputs": [
    {
     "data": {
      "text/plain": [
       "count    10000.000000\n",
       "mean        16.112567\n",
       "std         12.385609\n",
       "min          0.720000\n",
       "25%          7.550000\n",
       "50%         12.550000\n",
       "75%         18.050000\n",
       "max        184.000000\n",
       "Name: trip_total, dtype: float64"
      ]
     },
     "execution_count": 194,
     "metadata": {},
     "output_type": "execute_result"
    }
   ],
   "source": [
    "# What's the average cost of a rides being picked up and/or dropped off\n",
    "# in Chicago?\n",
    "trips['trip_total'].describe()"
   ]
  },
  {
   "cell_type": "code",
   "execution_count": 199,
   "metadata": {},
   "outputs": [
    {
     "data": {
      "text/plain": [
       "582     2019-03-30T00:00:00.000\n",
       "8796    2019-03-30T00:00:00.000\n",
       "3954    2019-03-30T00:15:00.000\n",
       "7728    2019-03-30T00:15:00.000\n",
       "9935    2019-03-30T00:15:00.000\n",
       "Name: trip_start_timestamp, dtype: object"
      ]
     },
     "execution_count": 199,
     "metadata": {},
     "output_type": "execute_result"
    }
   ],
   "source": [
    "# What is the time frame for all rides in the dataset?\n",
    "trips['trip_start_timestamp'].sort_values(ascending=True).head()"
   ]
  },
  {
   "cell_type": "code",
   "execution_count": 201,
   "metadata": {},
   "outputs": [
    {
     "data": {
      "text/plain": [
       "9072    2019-06-30T21:15:00.000\n",
       "2923    2019-06-30T22:00:00.000\n",
       "1720    2019-06-30T22:00:00.000\n",
       "3636    2019-06-30T23:15:00.000\n",
       "4748    2019-06-30T23:15:00.000\n",
       "Name: trip_start_timestamp, dtype: object"
      ]
     },
     "execution_count": 201,
     "metadata": {},
     "output_type": "execute_result"
    }
   ],
   "source": [
    "trips['trip_start_timestamp'].sort_values(ascending=True).tail()"
   ]
  },
  {
   "cell_type": "code",
   "execution_count": 204,
   "metadata": {},
   "outputs": [
    {
     "data": {
      "text/plain": [
       "tsstart_month\n",
       "3     245\n",
       "4    3165\n",
       "5    3348\n",
       "6    3242\n",
       "Name: trip_id, dtype: int64"
      ]
     },
     "execution_count": 204,
     "metadata": {},
     "output_type": "execute_result"
    }
   ],
   "source": [
    "# How many trips in each month?\n",
    "trips_dft.groupby('tsstart_month').count()['trip_id']"
   ]
  },
  {
   "cell_type": "code",
   "execution_count": 208,
   "metadata": {},
   "outputs": [
    {
     "data": {
      "text/plain": [
       "0.1897"
      ]
     },
     "execution_count": 208,
     "metadata": {},
     "output_type": "execute_result"
    }
   ],
   "source": [
    "#How often do patrons tip their drivers?\n",
    "trips[trips['tip'] > 0].count()['tip']/len(trips)"
   ]
  },
  {
   "cell_type": "code",
   "execution_count": 210,
   "metadata": {},
   "outputs": [
    {
     "data": {
      "text/plain": [
       "count    1897.000000\n",
       "mean        3.337902\n",
       "std         2.477579\n",
       "min         1.000000\n",
       "25%         2.000000\n",
       "50%         3.000000\n",
       "75%         5.000000\n",
       "max        23.000000\n",
       "Name: tip, dtype: float64"
      ]
     },
     "execution_count": 210,
     "metadata": {},
     "output_type": "execute_result"
    }
   ],
   "source": [
    "#When patrons tip, how much do they often tip?\n",
    "trips[trips['tip'] > 0]['tip'].describe()"
   ]
  },
  {
   "cell_type": "code",
   "execution_count": 213,
   "metadata": {},
   "outputs": [
    {
     "data": {
      "text/plain": [
       "pickup_community_area\n",
       "8     1609\n",
       "32     915\n",
       "28     816\n",
       "6      673\n",
       "24     612\n",
       "7      518\n",
       "22     384\n",
       "76     364\n",
       "33     236\n",
       "3      200\n",
       "Name: trip_id, dtype: int64"
      ]
     },
     "execution_count": 213,
     "metadata": {},
     "output_type": "execute_result"
    }
   ],
   "source": [
    "# Where do ride hailing pickups concentrate in?\n",
    "trips_dft.groupby('pickup_community_area').count()['trip_id'].sort_values(ascending=False).head(10)"
   ]
  },
  {
   "cell_type": "code",
   "execution_count": 214,
   "metadata": {},
   "outputs": [
    {
     "data": {
      "text/plain": [
       "0.2232"
      ]
     },
     "execution_count": 214,
     "metadata": {},
     "output_type": "execute_result"
    }
   ],
   "source": [
    "# How often to riders authorize pooled rides?\n",
    "trips[trips['shared_trip_authorized'] == 1]['trip_id'].count()/len(trips)"
   ]
  },
  {
   "cell_type": "code",
   "execution_count": 228,
   "metadata": {},
   "outputs": [
    {
     "data": {
      "text/plain": [
       "0.30913978494623656"
      ]
     },
     "execution_count": 228,
     "metadata": {},
     "output_type": "execute_result"
    }
   ],
   "source": [
    "# Of all authorized_shared trips, how often does the ride end up unshared?\n",
    "unshared_pooled = trips[(trips['shared_trip_authorized'] == 1) & (trips['trips_pooled'] == 1)]['trip_id'].count()\n",
    "all_pooled = trips[trips['shared_trip_authorized'] == 1]['trip_id'].count()\n",
    "unshared_pooled/all_pooled"
   ]
  },
  {
   "cell_type": "markdown",
   "metadata": {},
   "source": [
    "About 1/3 of shared authorized rides don't end up driving more than one person or collective set of people."
   ]
  },
  {
   "cell_type": "code",
   "execution_count": 226,
   "metadata": {},
   "outputs": [
    {
     "data": {
      "text/plain": [
       "tsstart_month  tsstart_day\n",
       "3              30             2.726053\n",
       "               31             2.903835\n",
       "4              1              2.850070\n",
       "               2              2.832851\n",
       "               3              2.665326\n",
       "Name: speed_avg_mph, dtype: float64"
      ]
     },
     "execution_count": 226,
     "metadata": {},
     "output_type": "execute_result"
    }
   ],
   "source": [
    "#What's the average speed of riders drivers each day in Chicago?\n",
    "= trips_dft.groupby(['tsstart_month', 'tsstart_day']).mean()['speed_avg_mph'].head()"
   ]
  },
  {
   "cell_type": "code",
   "execution_count": 227,
   "metadata": {},
   "outputs": [
    {
     "data": {
      "text/plain": [
       "tsstart_month  tsstart_day\n",
       "6              26             2.700631\n",
       "               27             2.757248\n",
       "               28             2.685105\n",
       "               29             2.725105\n",
       "               30             2.805733\n",
       "Name: speed_avg_mph, dtype: float64"
      ]
     },
     "execution_count": 227,
     "metadata": {},
     "output_type": "execute_result"
    }
   ],
   "source": [
    "trips_dft.groupby(['tsstart_month', 'tsstart_day']).mean()['speed_avg_mph'].tail()"
   ]
  },
  {
   "cell_type": "markdown",
   "metadata": {},
   "source": [
    "These are logged speed so these aren't the actual speeds."
   ]
  },
  {
   "cell_type": "code",
   "execution_count": 230,
   "metadata": {},
   "outputs": [
    {
     "data": {
      "text/plain": [
       "tsstart_month  tsstart_day\n",
       "3              30             15.272487\n",
       "               31             18.243979\n",
       "4              1              17.288997\n",
       "               2              16.993841\n",
       "               3              14.372635\n",
       "Name: speed_avg_mph, dtype: float64"
      ]
     },
     "execution_count": 230,
     "metadata": {},
     "output_type": "execute_result"
    }
   ],
   "source": [
    "day_avg_speeds = trips_dft.groupby(['tsstart_month', 'tsstart_day']).mean()['speed_avg_mph']\n",
    "np.exp(day_avg_speeds).head()"
   ]
  },
  {
   "cell_type": "code",
   "execution_count": 231,
   "metadata": {},
   "outputs": [
    {
     "data": {
      "text/plain": [
       "tsstart_month  tsstart_day\n",
       "6              26             14.889126\n",
       "               27             15.756428\n",
       "               28             14.659744\n",
       "               29             15.258019\n",
       "               30             16.539197\n",
       "Name: speed_avg_mph, dtype: float64"
      ]
     },
     "execution_count": 231,
     "metadata": {},
     "output_type": "execute_result"
    }
   ],
   "source": [
    "np.exp(day_avg_speeds).tail()"
   ]
  },
  {
   "cell_type": "code",
   "execution_count": 237,
   "metadata": {},
   "outputs": [
    {
     "data": {
      "text/plain": [
       "[<matplotlib.lines.Line2D at 0x12c2c1d50>]"
      ]
     },
     "execution_count": 237,
     "metadata": {},
     "output_type": "execute_result"
    },
    {
     "data": {
      "image/png": "[encoded data removed]",
      "text/plain": [
       "<Figure size 432x288 with 1 Axes>"
      ]
     },
     "metadata": {
      "needs_background": "light"
     },
     "output_type": "display_data"
    }
   ],
   "source": [
    "plt.plot(np.exp(day_avg_speeds).as_matrix())"
   ]
  },
  {
   "cell_type": "markdown",
   "metadata": {},
   "source": [
    "There seems to be a weekly avg speed cycle."
   ]
  },
  {
   "cell_type": "code",
   "execution_count": 239,
   "metadata": {},
   "outputs": [],
   "source": [
    "#np.exp(day_avg_speeds).as_matrix()"
   ]
  },
  {
   "cell_type": "code",
   "execution_count": null,
   "metadata": {},
   "outputs": [],
   "source": []
  }
 ],
 "metadata": {
  "kernelspec": {
   "display_name": "Python 3",
   "language": "python",
   "name": "python3"
  },
  "language_info": {
   "codemirror_mode": {
    "name": "ipython",
    "version": 3
   },
   "file_extension": ".py",
   "mimetype": "text/x-python",
   "name": "python",
   "nbconvert_exporter": "python",
   "pygments_lexer": "ipython3",
   "version": "3.7.4"
  }
 },
 "nbformat": 4,
 "nbformat_minor": 2
}
