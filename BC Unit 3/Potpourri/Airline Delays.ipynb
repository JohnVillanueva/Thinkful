{
 "cells": [
  {
   "cell_type": "markdown",
   "metadata": {},
   "source": [
    "# Predicting Airline Delays"
   ]
  },
  {
   "cell_type": "code",
   "execution_count": 356,
   "metadata": {},
   "outputs": [],
   "source": [
    "import pandas as pd\n",
    "from matplotlib import pyplot as plt\n",
    "import numpy as np\n",
    "import math\n",
    "import seaborn as sns\n",
    "from sklearn import linear_model\n",
    "from sklearn import preprocessing\n",
    "\n",
    "from sklearn.svm import SVC\n",
    "from sklearn.model_selection import cross_val_score\n",
    "from sklearn.linear_model import LogisticRegression\n",
    "from sklearn.ensemble import RandomForestClassifier\n",
    "from sklearn.ensemble import GradientBoostingClassifier\n",
    "from sklearn.metrics import confusion_matrix\n",
    "from sklearn.utils import resample\n",
    "import random\n",
    "\n",
    "import warnings\n",
    "warnings.filterwarnings(\"ignore\")"
   ]
  },
  {
   "cell_type": "code",
   "execution_count": 403,
   "metadata": {},
   "outputs": [
    {
     "name": "stdout",
     "output_type": "stream",
     "text": [
      "<class 'pandas.core.frame.DataFrame'>\n",
      "Int64Index: 300000 entries, 5692677 to 2217017\n",
      "Data columns (total 11 columns):\n",
      "Month             300000 non-null int64\n",
      "DayofMonth        300000 non-null float64\n",
      "DayOfWeek         300000 non-null int64\n",
      "CRSDepTime        300000 non-null float64\n",
      "CRSArrTime        300000 non-null float64\n",
      "UniqueCarrier     300000 non-null object\n",
      "CRSElapsedTime    299963 non-null float64\n",
      "Origin            300000 non-null object\n",
      "Dest              300000 non-null object\n",
      "Distance          300000 non-null float64\n",
      "Delayed           300000 non-null int64\n",
      "dtypes: float64(5), int64(3), object(3)\n",
      "memory usage: 37.5+ MB\n"
     ]
    }
   ],
   "source": [
    "flights_all = pd.read_csv('../../__DATA__/2008.csv')\n",
    "flights.info()"
   ]
  },
  {
   "cell_type": "code",
   "execution_count": 404,
   "metadata": {},
   "outputs": [],
   "source": [
    "###Binarizing and adding delayed classification feature.\n",
    "flights_all['Delayed'] = 0\n",
    "flights_all['TotDelayed'] = flights_all[['CarrierDelay','WeatherDelay','NASDelay','SecurityDelay','LateAircraftDelay']].sum(axis=1)\n",
    "flights_all.loc[flights_all['TotDelayed'] >= 30, 'Delayed'] = 1\n",
    "flights_all.loc[flights_all['Diverted'] == 1, 'Delayed'] = 1\n",
    "flights_all.loc[flights_all['Cancelled'] == 1, 'Delayed'] = 1\n",
    "    "
   ]
  },
  {
   "cell_type": "code",
   "execution_count": 367,
   "metadata": {},
   "outputs": [],
   "source": [
    "columns_to_drop = ['CarrierDelay','WeatherDelay','NASDelay','SecurityDelay','LateAircraftDelay','TotDelayed',\n",
    "                   'Cancelled','CancellationCode','TailNum','ArrDelay','DepDelay','DepTime','ArrTime','FlightNum',\n",
    "                   'ActualElapsedTime', 'Diverted', 'AirTime', 'TaxiIn', 'TaxiOut', 'Year']\n",
    "\n",
    "flights = resample(flights_all, replace=False, n_samples = 300000).drop(columns=columns_to_drop)\n",
    "\n",
    "##Dropping Cancelled Flights from the Dataset\n",
    "#index =(flights[flights['Cancelled'] == 1]).index.dropna().tolist()\n",
    "#flights = flights.drop(index, axis = 0).drop(columns=['Cancelled','CancellationCode','TaxiIn','TaxiOut'])"
   ]
  },
  {
   "cell_type": "code",
   "execution_count": 61,
   "metadata": {},
   "outputs": [
    {
     "data": {
      "text/plain": [
       "5873"
      ]
     },
     "execution_count": 61,
     "metadata": {},
     "output_type": "execute_result"
    }
   ],
   "source": [
    "len(index)"
   ]
  },
  {
   "cell_type": "markdown",
   "metadata": {},
   "source": [
    "### Cleaning Considerations\n",
    "\n",
    "- To eliminate or include cancelled flights as delayed flights. (Most likely include them as delayed flights, or you can try both methods and see how that affects the model) Eliminated cancelled flights because NaN are difficult to deal with.\n",
    "- Convert time to minute during the day\n",
    "- Remove Flight Number, Cancellation, CancellationCode, Actual departure and arrival times\n",
    "- Create CRS Elapsed Time"
   ]
  },
  {
   "cell_type": "code",
   "execution_count": 360,
   "metadata": {},
   "outputs": [
    {
     "name": "stdout",
     "output_type": "stream",
     "text": [
      "<class 'pandas.core.frame.DataFrame'>\n",
      "Int64Index: 300000 entries, 1871565 to 2436373\n",
      "Data columns (total 11 columns):\n",
      "Month             300000 non-null int64\n",
      "DayofMonth        300000 non-null int64\n",
      "DayOfWeek         300000 non-null int64\n",
      "CRSDepTime        300000 non-null int64\n",
      "CRSArrTime        300000 non-null int64\n",
      "UniqueCarrier     300000 non-null object\n",
      "CRSElapsedTime    299972 non-null float64\n",
      "Origin            300000 non-null object\n",
      "Dest              300000 non-null object\n",
      "Distance          300000 non-null int64\n",
      "Delayed           300000 non-null int64\n",
      "dtypes: float64(1), int64(7), object(3)\n",
      "memory usage: 27.5+ MB\n"
     ]
    }
   ],
   "source": [
    "flights.info()"
   ]
  },
  {
   "cell_type": "code",
   "execution_count": 194,
   "metadata": {},
   "outputs": [],
   "source": [
    "#flights['Month'].sort_values()"
   ]
  },
  {
   "cell_type": "code",
   "execution_count": 183,
   "metadata": {},
   "outputs": [],
   "source": [
    "#flights[flights['CRSElapsedTime'].isna() == True]\n",
    "#flights[flights['Diverted'] == 1].shape"
   ]
  },
  {
   "cell_type": "markdown",
   "metadata": {},
   "source": [
    "Questions to help move forward:\n",
    "- How to deal with four different target variables in a regression. Should I combine them? --Simply convert to classification: Cancelled flight count as delayed flights.\n",
    "- How can I convert hhmm time to mm time?\n",
    "- Regressing against time? Is that weird at all? I assume not as long as relative scale remains the same.\n",
    "- How should I classisy Cancelled Flights?\n",
    "\n",
    "Preprocessing Notes:\n",
    "- Features to Binarize: Carrier, Origin, Destination, "
   ]
  },
  {
   "cell_type": "code",
   "execution_count": 192,
   "metadata": {},
   "outputs": [
    {
     "data": {
      "text/plain": [
       "1430"
      ]
     },
     "execution_count": 192,
     "metadata": {},
     "output_type": "execute_result"
    }
   ],
   "source": [
    "import math\n",
    "math.floor(2350/100)*60 + (2350 % 100)"
   ]
  },
  {
   "cell_type": "markdown",
   "metadata": {},
   "source": [
    "### Preprocessing Checklist:\n",
    "- Categorize and Binarize Month by quarters\n",
    "- Convert hhmm times to mmmm during the day\n",
    "- Binarize day of the week.\n",
    "- Binarize Origin, Destination, and Carrier\n",
    "- Impute CRSElapsedTime Data"
   ]
  },
  {
   "cell_type": "code",
   "execution_count": 369,
   "metadata": {},
   "outputs": [],
   "source": [
    "flightsPP = flights\n",
    "\n",
    "#flightsPP['DayOfMonth'] = 4\n",
    "#flightsPP.loc[flights['DayOfMonth'] <= 23, 'DayOfMonth'] = 3\n",
    "#flightsPP.loc[flights['DayOfMonth'] <= , 'DayOfMonth'] = 2\n",
    "#flightsPP.loc[flights['DayOfMonth'] in range(7), 'DayOfMonth'] = 1\n",
    "\n",
    "#Categorizing days of the month into sequential quarters of the month\n",
    "flightsPP['DayofMonth'] = np.ceil(flights['DayofMonth']/8)\n",
    "\n",
    "#Log Transforming features to normalize the data.\n",
    "flightsPP['Distance'] = np.log(flights['Distance'])\n",
    "flightsPP['CRSElapsedTime'] = np.log(flights['CRSElapsedTime'])\n",
    "\n",
    "#converting hhmm time format into pure minutes of the day.\n",
    "timecats = ['CRSDepTime','CRSArrTime']\n",
    "for i in timecats:\n",
    "    mmhh = flights[i]\n",
    "    flightsPP[i] = np.floor(mmhh/100)*60 + (mmhh % 100)\n",
    "    \n",
    "flightsPP = pd.get_dummies(flightsPP, columns = ['DayOfWeek','DayofMonth','UniqueCarrier','Origin','Dest'],\n",
    "                           prefix = ['DoW','QTRoM','Carrier','Org','Dest'])\n",
    "\n",
    "flightsPP['CRSElapsedTime'] = flightsPP['CRSElapsedTime'].fillna(flightsPP['CRSElapsedTime'].mean())"
   ]
  },
  {
   "cell_type": "code",
   "execution_count": 362,
   "metadata": {},
   "outputs": [
    {
     "data": {
      "text/plain": [
       "(300000, 639)"
      ]
     },
     "execution_count": 362,
     "metadata": {},
     "output_type": "execute_result"
    }
   ],
   "source": [
    "flightsPP.shape"
   ]
  },
  {
   "cell_type": "code",
   "execution_count": 363,
   "metadata": {},
   "outputs": [
    {
     "data": {
      "text/plain": [
       "Index(['Month', 'CRSDepTime', 'CRSArrTime', 'CRSElapsedTime', 'Distance',\n",
       "       'Delayed', 'DoW_1', 'DoW_2', 'DoW_3', 'DoW_4', 'DoW_5', 'DoW_6',\n",
       "       'DoW_7', 'QTRoM_1.0', 'QTRoM_2.0', 'QTRoM_3.0', 'QTRoM_4.0',\n",
       "       'Carrier_9E', 'Carrier_AA', 'Carrier_AQ', 'Carrier_AS', 'Carrier_B6',\n",
       "       'Carrier_CO', 'Carrier_DL', 'Carrier_EV', 'Carrier_F9', 'Carrier_FL',\n",
       "       'Carrier_HA', 'Carrier_MQ', 'Carrier_NW', 'Carrier_OH', 'Carrier_OO',\n",
       "       'Carrier_UA', 'Carrier_US', 'Carrier_WN', 'Carrier_XE', 'Carrier_YV',\n",
       "       'Org_ABE', 'Org_ABI', 'Org_ABQ', 'Org_ABY', 'Org_ACK', 'Org_ACT',\n",
       "       'Org_ACV', 'Org_ACY', 'Org_ADK', 'Org_ADQ', 'Org_AEX', 'Org_AGS',\n",
       "       'Org_AKN'],\n",
       "      dtype='object')"
      ]
     },
     "execution_count": 363,
     "metadata": {},
     "output_type": "execute_result"
    }
   ],
   "source": [
    "flightsPP.columns[:50]"
   ]
  },
  {
   "cell_type": "code",
   "execution_count": 364,
   "metadata": {},
   "outputs": [
    {
     "data": {
      "text/plain": [
       "False"
      ]
     },
     "execution_count": 364,
     "metadata": {},
     "output_type": "execute_result"
    }
   ],
   "source": [
    "#Are any columns unfilled in the flightsPP dataframe?\n",
    "flightsPP.isna().sum().sum() > 1"
   ]
  },
  {
   "cell_type": "markdown",
   "metadata": {},
   "source": [
    "### Model Iterations"
   ]
  },
  {
   "cell_type": "code",
   "execution_count": 280,
   "metadata": {},
   "outputs": [],
   "source": [
    "# X_train = df_train.loc[:, ~(df_train.columns).isin(['income'])]"
   ]
  },
  {
   "cell_type": "markdown",
   "metadata": {},
   "source": [
    "### Data Exploration"
   ]
  },
  {
   "cell_type": "code",
   "execution_count": 371,
   "metadata": {},
   "outputs": [
    {
     "data": {
      "text/plain": [
       "(array([  151.,  2445., 11614., 30226., 54085., 74336., 71566., 37055.,\n",
       "        18005.,   517.]),\n",
       " array([3.4339872 , 3.9415449 , 4.4491026 , 4.95666029, 5.46421799,\n",
       "        5.97177568, 6.47933338, 6.98689108, 7.49444877, 8.00200647,\n",
       "        8.50956416]),\n",
       " <a list of 10 Patch objects>)"
      ]
     },
     "execution_count": 371,
     "metadata": {},
     "output_type": "execute_result"
    },
    {
     "data": {
      "image/png": "[encoded data removed]",
      "text/plain": [
       "<Figure size 432x288 with 1 Axes>"
      ]
     },
     "metadata": {
      "needs_background": "light"
     },
     "output_type": "display_data"
    }
   ],
   "source": [
    "plt.hist(flightsPP['Distance'])"
   ]
  },
  {
   "cell_type": "markdown",
   "metadata": {},
   "source": [
    "### Dimensionailty Reduction"
   ]
  },
  {
   "cell_type": "code",
   "execution_count": 372,
   "metadata": {},
   "outputs": [
    {
     "name": "stdout",
     "output_type": "stream",
     "text": [
      "[8.93249848e-01 1.06650803e-01 7.12955114e-05 5.09594021e-06\n",
      " 1.01122381e-06 9.16255696e-07 9.04977029e-07 9.04267285e-07\n",
      " 9.00754670e-07 8.65285774e-07]\n"
     ]
    }
   ],
   "source": [
    "from sklearn.decomposition import PCA\n",
    "\n",
    "X = flightsPP.loc[:, ~(flightsPP.columns).isin(['Delayed'])]\n",
    "\n",
    "pca = PCA(n_components = 10)\n",
    "PCs = pca.fit_transform(X)\n",
    "print(pca.explained_variance_ratio_)"
   ]
  },
  {
   "cell_type": "markdown",
   "metadata": {},
   "source": [
    "## Model Training Iterations\n",
    "\n",
    "Overall Strategy:\n",
    "\n",
    "This is a classification problem, so models that might work include Naive Bayes, KNN, SVM, Logistic Regression, Random Forest, and Gradient Boosting Models (Essentially all of them). The total proportion of flights that were either delayed, cancelled, or diverted is 15.4% so the data is fairly imbalanced. We will monitor type 1 and type 2 errors as a more robust way to measure the performance of the models.\n",
    "\n",
    "What's an interesting feature that captures the interaction between time and origin/destination."
   ]
  },
  {
   "cell_type": "code",
   "execution_count": 373,
   "metadata": {},
   "outputs": [
    {
     "data": {
      "text/plain": [
       "0.15434333333333333"
      ]
     },
     "execution_count": 373,
     "metadata": {},
     "output_type": "execute_result"
    }
   ],
   "source": [
    "flightsPP['Delayed'].mean()"
   ]
  },
  {
   "cell_type": "markdown",
   "metadata": {},
   "source": [
    "### Iteration 1: Logistic Regression"
   ]
  },
  {
   "cell_type": "code",
   "execution_count": 374,
   "metadata": {},
   "outputs": [
    {
     "name": "stdout",
     "output_type": "stream",
     "text": [
      "[0.84563848 0.84563848 0.84563848 0.84566667 0.84566667 0.84566667\n",
      " 0.84566667 0.84566152 0.84566152 0.84566152]\n",
      "Overall Accuracy: 0.8456566666666666\n",
      "46303 total misclassified out of 300000.\n"
     ]
    }
   ],
   "source": [
    "from sklearn.linear_model import LogisticRegression\n",
    "\n",
    "X = PCs\n",
    "Y = flightsPP['Delayed']\n",
    "\n",
    "clf = LogisticRegression(solver='sag', penalty='none')\n",
    "clf.fit(X,Y)\n",
    "print(cross_val_score(clf, X, Y, cv=10))\n",
    "\n",
    "preds = clf.predict(X)\n",
    "pred_counts = (preds == Y).value_counts()\n",
    "print('Overall Accuracy: {}'.format(pred_counts[1]/pred_counts.sum()))\n",
    "print('{} total misclassified out of {}.'.format(pred_counts[0],pred_counts.sum()))\n",
    "#conmax = confusion_matrix(Y,preds)\n",
    "#print('\\nType 2 Error / Unnoticed Fraud: {}'.format(conmax[1,0]/conmax[1].sum()))\n",
    "#print('\\nType 1 Error / Flagged Non-Fraud: {}'.format(conmax[0,1]/conmax[0].sum()))"
   ]
  },
  {
   "cell_type": "code",
   "execution_count": 325,
   "metadata": {},
   "outputs": [
    {
     "name": "stdout",
     "output_type": "stream",
     "text": [
      "[[254091  45909]\n",
      " [     0      0]]\n"
     ]
    }
   ],
   "source": [
    "conmax = confusion_matrix(Y,preds)\n",
    "print(conmax)"
   ]
  },
  {
   "cell_type": "code",
   "execution_count": 334,
   "metadata": {},
   "outputs": [
    {
     "data": {
      "text/plain": [
       "{0}"
      ]
     },
     "execution_count": 334,
     "metadata": {},
     "output_type": "execute_result"
    }
   ],
   "source": [
    "set(list(preds))"
   ]
  },
  {
   "cell_type": "markdown",
   "metadata": {},
   "source": [
    "### Iteration 2: Random Forest Classifier"
   ]
  },
  {
   "cell_type": "code",
   "execution_count": 352,
   "metadata": {},
   "outputs": [
    {
     "name": "stdout",
     "output_type": "stream",
     "text": [
      "[0.84413853 0.8435     0.84426667 0.845      0.84466667 0.84336667\n",
      " 0.84556667 0.846      0.84203333 0.84476149]\n",
      "Overall Accuracy: 0.97943\n",
      "6171 total misclassified out of 300000.\n",
      "\n",
      "Type 2 Error / Unflagged Delayed Flights: 0.13204382582935809\n",
      "\n",
      "Type 1 Error / Incorrectly Flagged On-Time: 0.00042898016852230107\n"
     ]
    }
   ],
   "source": [
    "from sklearn.ensemble import RandomForestClassifier\n",
    "\n",
    "X = PCs\n",
    "Y = flightsPP['Delayed']\n",
    "\n",
    "clf = RandomForestClassifier()\n",
    "clf.fit(X,Y)\n",
    "print(cross_val_score(clf, X, Y, cv=10))\n",
    "\n",
    "preds = clf.predict(X)\n",
    "pred_counts = (preds == Y).value_counts()\n",
    "print('Overall Accuracy: {}'.format(pred_counts[1]/pred_counts.sum()))\n",
    "print('{} total misclassified out of {}.'.format(pred_counts[0],pred_counts.sum()))\n",
    "conmax = confusion_matrix(Y,preds)\n",
    "print('\\nType 2 Error / Unflagged Delayed Flights: {}'.format(conmax[1,0]/conmax[1].sum()))\n",
    "print('\\nType 1 Error / Incorrectly Flagged On-Time: {}'.format(conmax[0,1]/conmax[0].sum()))"
   ]
  },
  {
   "cell_type": "code",
   "execution_count": 342,
   "metadata": {},
   "outputs": [
    {
     "data": {
      "text/plain": [
       "array([[254091,      0],\n",
       "       [ 45909,      0]])"
      ]
     },
     "execution_count": 342,
     "metadata": {},
     "output_type": "execute_result"
    }
   ],
   "source": [
    "conmax"
   ]
  },
  {
   "cell_type": "markdown",
   "metadata": {},
   "source": [
    "Tuning Parameters seems to flatten all the predictions to 0 such that no flights are predicted as delayed. But so far the prediction error of delayed/cancelled/diverted flights at 12.85% is very good.\n",
    "\n",
    "Despite the first two Principal Component features capturing 99.9% of the variability, the Random Forest classifier decreases its type two error by 7% when the number of PC's changes from 2 to 10, so keeping a larger number of PC's for this model is important.\n",
    "\n",
    "We will try a gradient boosted model next."
   ]
  },
  {
   "cell_type": "markdown",
   "metadata": {},
   "source": [
    "### Iteration 3: Gradient Boosting Model"
   ]
  },
  {
   "cell_type": "code",
   "execution_count": 353,
   "metadata": {},
   "outputs": [
    {
     "name": "stdout",
     "output_type": "stream",
     "text": [
      "[0.84731921 0.84751667 0.8472     0.84735    0.84736412]\n",
      "Overall Accuracy: 0.8472666666666666\n",
      "45820 total misclassified out of 300000.\n",
      "\n",
      "Type 2 Error / Unflagged Delayed Flights: 0.9972554401097824\n",
      "\n",
      "Type 1 Error / Incorrectly Flagged On-Time: 0.00014561712142500128\n"
     ]
    }
   ],
   "source": [
    "from sklearn.ensemble import GradientBoostingClassifier\n",
    "\n",
    "X = PCs\n",
    "Y = flightsPP['Delayed']\n",
    "\n",
    "clf = GradientBoostingClassifier()\n",
    "clf.fit(X,Y)\n",
    "print(cross_val_score(clf, X, Y, cv=5))\n",
    "\n",
    "preds = clf.predict(X)\n",
    "pred_counts = (preds == Y).value_counts()\n",
    "print('Overall Accuracy: {}'.format(pred_counts[1]/pred_counts.sum()))\n",
    "print('{} total misclassified out of {}.'.format(pred_counts[0],pred_counts.sum()))\n",
    "conmax = confusion_matrix(Y,preds)\n",
    "print('\\nType 2 Error / Unflagged Delayed Flights: {}'.format(conmax[1,0]/conmax[1].sum()))\n",
    "print('\\nType 1 Error / Incorrectly Flagged On-Time: {}'.format(conmax[0,1]/conmax[0].sum()))"
   ]
  },
  {
   "cell_type": "code",
   "execution_count": 347,
   "metadata": {},
   "outputs": [
    {
     "data": {
      "text/plain": [
       "array([[253965,    126],\n",
       "       [ 45632,    277]])"
      ]
     },
     "execution_count": 347,
     "metadata": {},
     "output_type": "execute_result"
    }
   ],
   "source": [
    "conmax"
   ]
  },
  {
   "cell_type": "markdown",
   "metadata": {},
   "source": [
    "Overall, the best model that I could configure for predicting airlines involved the random forest classifier. I found that the default sklearn parameters returned the highest accuracy rate while reducing the most type 2 errors of marking delayed flights as non-delayed.\n",
    "\n",
    "The only concern was that for both Gradient Boosting Classifiers and other parameter settings for the Random Forest Classifier, the modeled produced predictions that all seemed to flatten out to non-delayed (negative) outcomes for each flight - virtually no flights were predicted to have been delayed. The unstable nature of the ensemble models is concerning, and I'm unsure how to diagnose this modeling behavior. Partcularing witht he random forest classifier, increasing the estimators and depth of the model seemed to overfit the model; however, cross-validating the model returned consistent accuracies across folds despite having leaned too far in the direction of classifying all flights as undelayed. Given this, it's perhaps best to oversample delayed flights values and see how this oversampling affects the accuracy of my models.\n",
    "\n",
    "The logistic regression model did not seem to have any predictive power: it's accuracy score was no better than just guessing based on the percentage of flights that were delayed."
   ]
  },
  {
   "cell_type": "markdown",
   "metadata": {},
   "source": [
    "# Iteration Series: With Oversampled Sample"
   ]
  },
  {
   "cell_type": "code",
   "execution_count": 412,
   "metadata": {},
   "outputs": [],
   "source": [
    "DelayedFlights = resample(flights_all[flights_all['Delayed'] == 1], replace=False, n_samples = 150000).drop(columns=columns_to_drop)\n",
    "OnTimeFlights = resample(flights_all[flights_all['Delayed'] == 0], replace=False, n_samples = 150000).drop(columns=columns_to_drop)\n",
    "flights2 = pd.concat([DelayedFlights,OnTimeFlights])\n",
    "\n",
    "flightsPP2 = flights2\n",
    "\n",
    "#Categorizing days of the month into sequential quarters of the month\n",
    "flightsPP2['DayofMonth'] = np.ceil(flights2['DayofMonth']/8)\n",
    "\n",
    "#Log Transforming features to normalize the data.\n",
    "flightsPP2['Distance'] = np.log(flights2['Distance'])\n",
    "flightsPP2['CRSElapsedTime'] = np.log(flights2['CRSElapsedTime'])\n",
    "\n",
    "#converting hhmm time format into pure minutes of the day.\n",
    "timecats = ['CRSDepTime','CRSArrTime']\n",
    "for i in timecats:\n",
    "    mmhh = flights2[i]\n",
    "    flightsPP2[i] = np.floor(mmhh/100)*60 + (mmhh % 100)\n",
    "    \n",
    "#binarizing categories\n",
    "flightsPP2 = pd.get_dummies(flightsPP2, columns = ['DayOfWeek','DayofMonth','UniqueCarrier','Origin','Dest'],\n",
    "                           prefix = ['DoW','QTRoM','Carrier','Org','Dest'])\n",
    "\n",
    "#Imputing missing values\n",
    "flightsPP2['CRSElapsedTime'] = flightsPP2['CRSElapsedTime'].fillna(flightsPP2['CRSElapsedTime'].mean())\n"
   ]
  },
  {
   "cell_type": "code",
   "execution_count": 383,
   "metadata": {},
   "outputs": [
    {
     "name": "stdout",
     "output_type": "stream",
     "text": [
      "[8.76934012e-01 1.22944519e-01 8.56344897e-05 5.53199763e-06\n",
      " 1.81162927e-06 1.77209218e-06 1.48763294e-06 1.13974807e-06\n",
      " 1.00306865e-06 9.91212478e-07]\n"
     ]
    }
   ],
   "source": [
    "#Running PCA to reduce dimensions:\n",
    "X = flightsPP2.loc[:, ~(flightsPP2.columns).isin(['Delayed'])]\n",
    "\n",
    "pca = PCA(n_components = 10)\n",
    "PCs = pca.fit_transform(X)\n",
    "print(pca.explained_variance_ratio_)"
   ]
  },
  {
   "cell_type": "code",
   "execution_count": 432,
   "metadata": {},
   "outputs": [],
   "source": [
    "# Creating function/template to run any model\n",
    "\n",
    "#X = PCs\n",
    "#Y = flightsPP['Delayed']\n",
    "#clf = GradientBoostingClassifier()\n",
    "\n",
    "def FlightCLF(classifier, Xtrain, Ytrain, cv = 5):\n",
    "    clf.fit(Xtrain,Ytrain)\n",
    "    print('Cross Validation Scores:')\n",
    "    print(cross_val_score(clf, Xtrain, Ytrain, cv=cv))\n",
    "    \n",
    "    preds = clf.predict(Xtrain)\n",
    "    pred_counts = (preds == Ytrain).value_counts()\n",
    "    print('Overall Accuracy: {}'.format(pred_counts[1]/pred_counts.sum()))\n",
    "    print('{} total misclassified out of {}.'.format(pred_counts[0],pred_counts.sum()))\n",
    "    conmax = confusion_matrix(Ytrain,preds)\n",
    "    print('\\nType 2 Error / Unflagged Delayed Flights: {}'.format(conmax[1,0]/conmax[1].sum()))\n",
    "    print('\\nType 1 Error / Incorrectly Flagged On-Time: {}'.format(conmax[0,1]/conmax[0].sum()))"
   ]
  },
  {
   "cell_type": "markdown",
   "metadata": {},
   "source": [
    "### Iteration 4: Logistic Oversampling"
   ]
  },
  {
   "cell_type": "code",
   "execution_count": 433,
   "metadata": {},
   "outputs": [
    {
     "name": "stdout",
     "output_type": "stream",
     "text": [
      "Cross Validation Scores:\n",
      "[0.5 0.5 0.5 0.5 0.5]\n",
      "Overall Accuracy: 0.5\n",
      "150000 total misclassified out of 300000.\n",
      "\n",
      "Type 2 Error / Unflagged Delayed Flights: 0.34563333333333335\n",
      "\n",
      "Type 1 Error / Incorrectly Flagged On-Time: 0.6543666666666667\n"
     ]
    }
   ],
   "source": [
    "X = PCs\n",
    "Y = flightsPP2['Delayed']\n",
    "clf = LogisticRegression(solver = 'sag', penalty='none')\n",
    "\n",
    "FlightCLF(clf,X,Y)"
   ]
  },
  {
   "cell_type": "markdown",
   "metadata": {},
   "source": [
    "Logistic Regression really isn't working for this model"
   ]
  },
  {
   "cell_type": "markdown",
   "metadata": {},
   "source": [
    "### Iteration 5: Random Forest Model"
   ]
  },
  {
   "cell_type": "code",
   "execution_count": 436,
   "metadata": {},
   "outputs": [
    {
     "name": "stdout",
     "output_type": "stream",
     "text": [
      "Cross Validation Scores:\n",
      "[0.5 0.5 0.5 0.5 0.5]\n",
      "Overall Accuracy: 0.5\n",
      "150000 total misclassified out of 300000.\n",
      "\n",
      "Type 2 Error / Unflagged Delayed Flights: 0.48600666666666664\n",
      "\n",
      "Type 1 Error / Incorrectly Flagged On-Time: 0.5139933333333333\n"
     ]
    }
   ],
   "source": [
    "X = PCs\n",
    "Y = flightsPP2['Delayed']\n",
    "clf = RandomForestClassifier(n_estimators = 50, max_depth = 5, criterion='entropy')\n",
    "\n",
    "FlightCLF(clf,X,Y)"
   ]
  },
  {
   "cell_type": "markdown",
   "metadata": {},
   "source": [
    "Oversampling, unfortunately is not working very well."
   ]
  },
  {
   "cell_type": "code",
   "execution_count": null,
   "metadata": {},
   "outputs": [],
   "source": []
  }
 ],
 "metadata": {
  "kernelspec": {
   "display_name": "Python 3",
   "language": "python",
   "name": "python3"
  },
  "language_info": {
   "codemirror_mode": {
    "name": "ipython",
    "version": 3
   },
   "file_extension": ".py",
   "mimetype": "text/x-python",
   "name": "python",
   "nbconvert_exporter": "python",
   "pygments_lexer": "ipython3",
   "version": "3.7.4"
  }
 },
 "nbformat": 4,
 "nbformat_minor": 2
}
