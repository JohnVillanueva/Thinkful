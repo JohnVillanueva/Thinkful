{
 "cells": [
  {
   "cell_type": "markdown",
   "metadata": {},
   "source": [
    "# Analyzing and Predicting Tip Behavior of Ride Hailing Passengers in Chicago"
   ]
  },
  {
   "cell_type": "code",
   "execution_count": 8,
   "metadata": {},
   "outputs": [],
   "source": [
    "import pandas as pd\n",
    "from matplotlib import pyplot as plt\n",
    "import numpy as np\n",
    "import math\n",
    "import seaborn as sns\n",
    "%matplotlib inline  \n",
    "\n",
    "import random\n",
    "\n",
    "import warnings\n",
    "warnings.filterwarnings(\"ignore\")"
   ]
  },
  {
   "cell_type": "markdown",
   "metadata": {},
   "source": [
    "## The Data\n",
    "\n",
    "Ride hailing data pulled from the [City of Chicago Data website](https://data.cityofchicago.org/Transportation/Transportation-Network-Providers-Trips/m6dm-c72p). Included in the data are how long each trip took, the time, date, and approximate location that trips were picked up and dropped off, the amount of tips the driver received for each ride, and weather or not a trip was shared. Added to the data set were a few weather metrics as follows.\n",
    "\n",
    "Weather was pulled the [National Oceanic and Atmospheric Administration](https://www.ncdc.noaa.gov/cdo-web/search) for the Chicago area. Only three weather metrics were used: Daily Precipitation and Snowfall (both in inches) and Daily Average Temperature in Fahrenheit. For each day, all three measures were averaged over each weather station servicing the Chicago metropolitan.\n",
    "\n",
    "The data pulled covers the time period between November 1, 2018 to March 31, 2019."
   ]
  },
  {
   "cell_type": "code",
   "execution_count": null,
   "metadata": {},
   "outputs": [],
   "source": [
    "#Use the following cell of code to download new data from the database; otherwise previously queried data can be\n",
    "#uploaded from a local file in the next cell\n",
    "'''\n",
    "#Importing Chicago Ride Hailing Data\n",
    "from sodapy import Socrata\n",
    "\n",
    "client = Socrata(\"data.cityofchicago.org\", None)\n",
    "\n",
    "# First 2000 results, returned as JSON from API / converted to Python list of\n",
    "# dictionaries by sodapy.\n",
    "results = client.get(\"m6dm-c72p\", limit=20000)\n",
    "\n",
    "# Convert to pandas DataFrame\n",
    "trip_data = pd.DataFrame.from_records(results)\n",
    "\n",
    "trip_data.to_csv('Chicago_Ride_Hailing_Data.csv')\n",
    "'''"
   ]
  },
  {
   "cell_type": "code",
   "execution_count": 78,
   "metadata": {},
   "outputs": [],
   "source": [
    "trips = pd.read_csv('Chicago_Ride_Hailing_Data.csv')"
   ]
  },
  {
   "cell_type": "code",
   "execution_count": 79,
   "metadata": {},
   "outputs": [
    {
     "data": {
      "text/plain": [
       "10645    2018-11-01T00:00:00.000\n",
       "970      2018-11-01T00:15:00.000\n",
       "19872    2018-11-01T00:15:00.000\n",
       "13718    2018-11-01T00:45:00.000\n",
       "6457     2018-11-01T01:45:00.000\n",
       "Name: trip_start_timestamp, dtype: object"
      ]
     },
     "execution_count": 79,
     "metadata": {},
     "output_type": "execute_result"
    }
   ],
   "source": [
    "trips['trip_start_timestamp'].sort_values().head()"
   ]
  },
  {
   "cell_type": "code",
   "execution_count": 80,
   "metadata": {},
   "outputs": [
    {
     "data": {
      "text/plain": [
       "3414     2019-03-29T23:30:00.000\n",
       "3189     2019-03-29T23:45:00.000\n",
       "12698    2019-03-29T23:45:00.000\n",
       "19769    2019-03-29T23:45:00.000\n",
       "7687     2019-03-29T23:45:00.000\n",
       "Name: trip_start_timestamp, dtype: object"
      ]
     },
     "execution_count": 80,
     "metadata": {},
     "output_type": "execute_result"
    }
   ],
   "source": [
    "trips['trip_start_timestamp'].sort_values().tail()"
   ]
  },
  {
   "cell_type": "code",
   "execution_count": 81,
   "metadata": {},
   "outputs": [
    {
     "data": {
      "text/plain": [
       "(20000, 22)"
      ]
     },
     "execution_count": 81,
     "metadata": {},
     "output_type": "execute_result"
    }
   ],
   "source": [
    "trips.shape"
   ]
  },
  {
   "cell_type": "code",
   "execution_count": 82,
   "metadata": {},
   "outputs": [],
   "source": [
    "#Splitting the trip_start_timestamp and trip_end_timestamp columns into their constituent time components.\n",
    "ts_year = []\n",
    "ts_month = []\n",
    "ts_day = []\n",
    "ts_hour = []\n",
    "ts_minute = []\n",
    "ts_sec = []\n",
    "\n",
    "for i in range(len(trips['trip_end_timestamp'])):\n",
    "    \n",
    "    d, t = trips['trip_end_timestamp'][i].split('T')\n",
    "    \n",
    "    year, month, day = d.split('-')\n",
    "    hour, minute, sec = t.split(':')\n",
    "    \n",
    "    ts_year.append(year)\n",
    "    ts_month.append(month)\n",
    "    ts_day.append(day)\n",
    "    ts_hour.append(hour)\n",
    "    ts_minute.append(minute)\n",
    "    ts_sec.append(sec)\n",
    "\n",
    "trips['tsend_year'] = ts_year\n",
    "trips['tsend_month'] = ts_month\n",
    "trips['tsend_day'] = ts_day\n",
    "trips['tsend_hour'] = ts_hour\n",
    "trips['tsend_minute'] = ts_minute\n",
    "trips['tsend_sec'] = ts_sec\n",
    "\n",
    "trips['tsend_year'] = trips['tsend_year'].astype('int64')\n",
    "trips['tsend_month'] = trips['tsend_month'].astype('int64')\n",
    "trips['tsend_day'] = trips['tsend_day'].astype('int64')\n",
    "trips['tsend_hour'] = trips['tsend_hour'].astype('int64')\n",
    "trips['tsend_minute'] = trips['tsend_minute'].astype('int64')\n",
    "trips['tsend_sec'] = trips['tsend_sec'].astype('float64')"
   ]
  },
  {
   "cell_type": "code",
   "execution_count": 83,
   "metadata": {},
   "outputs": [],
   "source": [
    "ts_full_date = []\n",
    "ts_year = []\n",
    "ts_month = []\n",
    "ts_day = []\n",
    "ts_hour = []\n",
    "ts_minute = []\n",
    "ts_sec = []\n",
    "\n",
    "for i in range(len(trips['trip_start_timestamp'])):\n",
    "    \n",
    "    d, t = trips['trip_start_timestamp'][i].split('T')\n",
    "    \n",
    "    year, month, day = d.split('-')\n",
    "    hour, minute, sec = t.split(':')\n",
    "    \n",
    "    ts_full_date.append(d)\n",
    "    ts_year.append(year)\n",
    "    ts_month.append(month)\n",
    "    ts_day.append(day)\n",
    "    ts_hour.append(hour)\n",
    "    ts_minute.append(minute)\n",
    "    ts_sec.append(sec)\n",
    "\n",
    "trips['DATE'] = ts_full_date\n",
    "trips['tsstart_year'] = ts_year\n",
    "trips['tsstart_month'] = ts_month\n",
    "trips['tsstart_day'] = ts_day\n",
    "trips['tsstart_hour'] = ts_hour\n",
    "trips['tsstart_minute'] = ts_minute\n",
    "trips['tsstart_sec'] = ts_sec\n",
    "\n",
    "trips['tsstart_year'] = trips['tsstart_year'].astype('int64')\n",
    "trips['tsstart_month'] = trips['tsstart_month'].astype('int64')\n",
    "trips['tsstart_day'] = trips['tsstart_day'].astype('int64')\n",
    "trips['tsstart_hour'] = trips['tsstart_hour'].astype('int64')\n",
    "trips['tsstart_minute'] = trips['tsstart_minute'].astype('int64')\n",
    "trips['tsstart_sec'] = trips['tsstart_sec'].astype('float64')"
   ]
  },
  {
   "cell_type": "code",
   "execution_count": 84,
   "metadata": {},
   "outputs": [],
   "source": [
    "#Importing Weather Data\n",
    "weather = pd.read_csv('../../__DATA__/Chicago_Weather_Data_2.csv')"
   ]
  },
  {
   "cell_type": "code",
   "execution_count": 116,
   "metadata": {},
   "outputs": [
    {
     "data": {
      "text/html": [
       "<div>\n",
       "<style scoped>\n",
       "    .dataframe tbody tr th:only-of-type {\n",
       "        vertical-align: middle;\n",
       "    }\n",
       "\n",
       "    .dataframe tbody tr th {\n",
       "        vertical-align: top;\n",
       "    }\n",
       "\n",
       "    .dataframe thead th {\n",
       "        text-align: right;\n",
       "    }\n",
       "</style>\n",
       "<table border=\"1\" class=\"dataframe\">\n",
       "  <thead>\n",
       "    <tr style=\"text-align: right;\">\n",
       "      <th></th>\n",
       "      <th>DATE</th>\n",
       "      <th>DAPR</th>\n",
       "      <th>MDPR</th>\n",
       "      <th>PRCP</th>\n",
       "      <th>SNOW</th>\n",
       "      <th>SNWD</th>\n",
       "      <th>TAVG</th>\n",
       "      <th>TMAX</th>\n",
       "      <th>TMIN</th>\n",
       "      <th>TOBS</th>\n",
       "    </tr>\n",
       "  </thead>\n",
       "  <tbody>\n",
       "    <tr>\n",
       "      <th>0</th>\n",
       "      <td>2018-11-01</td>\n",
       "      <td>NaN</td>\n",
       "      <td>NaN</td>\n",
       "      <td>0.004831</td>\n",
       "      <td>0.0</td>\n",
       "      <td>0.0</td>\n",
       "      <td>51.0</td>\n",
       "      <td>54.9</td>\n",
       "      <td>44.9</td>\n",
       "      <td>47.428571</td>\n",
       "    </tr>\n",
       "    <tr>\n",
       "      <th>1</th>\n",
       "      <td>2018-11-02</td>\n",
       "      <td>NaN</td>\n",
       "      <td>NaN</td>\n",
       "      <td>0.035086</td>\n",
       "      <td>0.0</td>\n",
       "      <td>0.0</td>\n",
       "      <td>44.0</td>\n",
       "      <td>51.6</td>\n",
       "      <td>36.6</td>\n",
       "      <td>39.428571</td>\n",
       "    </tr>\n",
       "    <tr>\n",
       "      <th>2</th>\n",
       "      <td>2018-11-03</td>\n",
       "      <td>6.5</td>\n",
       "      <td>0.485000</td>\n",
       "      <td>0.006636</td>\n",
       "      <td>0.0</td>\n",
       "      <td>0.0</td>\n",
       "      <td>42.0</td>\n",
       "      <td>49.8</td>\n",
       "      <td>33.3</td>\n",
       "      <td>38.714286</td>\n",
       "    </tr>\n",
       "    <tr>\n",
       "      <th>3</th>\n",
       "      <td>2018-11-04</td>\n",
       "      <td>NaN</td>\n",
       "      <td>NaN</td>\n",
       "      <td>0.123545</td>\n",
       "      <td>0.0</td>\n",
       "      <td>0.0</td>\n",
       "      <td>48.0</td>\n",
       "      <td>51.4</td>\n",
       "      <td>40.2</td>\n",
       "      <td>47.714286</td>\n",
       "    </tr>\n",
       "    <tr>\n",
       "      <th>4</th>\n",
       "      <td>2018-11-05</td>\n",
       "      <td>3.0</td>\n",
       "      <td>0.666667</td>\n",
       "      <td>0.494771</td>\n",
       "      <td>0.0</td>\n",
       "      <td>0.0</td>\n",
       "      <td>48.0</td>\n",
       "      <td>51.2</td>\n",
       "      <td>43.8</td>\n",
       "      <td>46.285714</td>\n",
       "    </tr>\n",
       "  </tbody>\n",
       "</table>\n",
       "</div>"
      ],
      "text/plain": [
       "         DATE  DAPR      MDPR      PRCP  SNOW  SNWD  TAVG  TMAX  TMIN  \\\n",
       "0  2018-11-01   NaN       NaN  0.004831   0.0   0.0  51.0  54.9  44.9   \n",
       "1  2018-11-02   NaN       NaN  0.035086   0.0   0.0  44.0  51.6  36.6   \n",
       "2  2018-11-03   6.5  0.485000  0.006636   0.0   0.0  42.0  49.8  33.3   \n",
       "3  2018-11-04   NaN       NaN  0.123545   0.0   0.0  48.0  51.4  40.2   \n",
       "4  2018-11-05   3.0  0.666667  0.494771   0.0   0.0  48.0  51.2  43.8   \n",
       "\n",
       "        TOBS  \n",
       "0  47.428571  \n",
       "1  39.428571  \n",
       "2  38.714286  \n",
       "3  47.714286  \n",
       "4  46.285714  "
      ]
     },
     "metadata": {},
     "output_type": "display_data"
    },
    {
     "data": {
      "text/plain": [
       "0"
      ]
     },
     "execution_count": 116,
     "metadata": {},
     "output_type": "execute_result"
    }
   ],
   "source": [
    "#Averaging all data for each day across all weather stations\n",
    "weather_avg = weather.groupby('DATE').mean().reset_index()\n",
    "display(weather_avg.head())\n",
    "\n",
    "#Filling in missing average Tempurature values with the average of the daily max and min temperature.\n",
    "index = weather_avg['TAVG'].isnull().index\n",
    "for i in index:\n",
    "    weather_avg.loc[i,'TAVG'] = (weather_avg['TMAX'][i] + weather_avg['TMIN'][i])/2\n",
    "weather_avg['TAVG'].isnull().sum()"
   ]
  },
  {
   "cell_type": "code",
   "execution_count": 117,
   "metadata": {},
   "outputs": [
    {
     "data": {
      "text/html": [
       "<div>\n",
       "<style scoped>\n",
       "    .dataframe tbody tr th:only-of-type {\n",
       "        vertical-align: middle;\n",
       "    }\n",
       "\n",
       "    .dataframe tbody tr th {\n",
       "        vertical-align: top;\n",
       "    }\n",
       "\n",
       "    .dataframe thead th {\n",
       "        text-align: right;\n",
       "    }\n",
       "</style>\n",
       "<table border=\"1\" class=\"dataframe\">\n",
       "  <thead>\n",
       "    <tr style=\"text-align: right;\">\n",
       "      <th></th>\n",
       "      <th>DATE</th>\n",
       "      <th>PRCP</th>\n",
       "      <th>SNOW</th>\n",
       "      <th>TAVG</th>\n",
       "    </tr>\n",
       "  </thead>\n",
       "  <tbody>\n",
       "    <tr>\n",
       "      <th>0</th>\n",
       "      <td>2018-11-01</td>\n",
       "      <td>0.004831</td>\n",
       "      <td>0.0</td>\n",
       "      <td>49.90</td>\n",
       "    </tr>\n",
       "    <tr>\n",
       "      <th>1</th>\n",
       "      <td>2018-11-02</td>\n",
       "      <td>0.035086</td>\n",
       "      <td>0.0</td>\n",
       "      <td>44.10</td>\n",
       "    </tr>\n",
       "    <tr>\n",
       "      <th>2</th>\n",
       "      <td>2018-11-03</td>\n",
       "      <td>0.006636</td>\n",
       "      <td>0.0</td>\n",
       "      <td>41.55</td>\n",
       "    </tr>\n",
       "    <tr>\n",
       "      <th>3</th>\n",
       "      <td>2018-11-04</td>\n",
       "      <td>0.123545</td>\n",
       "      <td>0.0</td>\n",
       "      <td>45.80</td>\n",
       "    </tr>\n",
       "    <tr>\n",
       "      <th>4</th>\n",
       "      <td>2018-11-05</td>\n",
       "      <td>0.494771</td>\n",
       "      <td>0.0</td>\n",
       "      <td>47.50</td>\n",
       "    </tr>\n",
       "  </tbody>\n",
       "</table>\n",
       "</div>"
      ],
      "text/plain": [
       "         DATE      PRCP  SNOW   TAVG\n",
       "0  2018-11-01  0.004831   0.0  49.90\n",
       "1  2018-11-02  0.035086   0.0  44.10\n",
       "2  2018-11-03  0.006636   0.0  41.55\n",
       "3  2018-11-04  0.123545   0.0  45.80\n",
       "4  2018-11-05  0.494771   0.0  47.50"
      ]
     },
     "execution_count": 117,
     "metadata": {},
     "output_type": "execute_result"
    }
   ],
   "source": [
    "#reducing the weather dataframe down to the necessary columns\n",
    "cols = ['DATE', 'PRCP',\n",
    "       'SNOW', 'TAVG']\n",
    "weather_df = weather_avg[cols]\n",
    "weather_df.head(5)"
   ]
  },
  {
   "cell_type": "code",
   "execution_count": 118,
   "metadata": {},
   "outputs": [
    {
     "name": "stdout",
     "output_type": "stream",
     "text": [
      "0\n"
     ]
    },
    {
     "data": {
      "text/plain": [
       "(17607, 32)"
      ]
     },
     "execution_count": 118,
     "metadata": {},
     "output_type": "execute_result"
    }
   ],
   "source": [
    "#Merging weather and ride hailing data into data frame trips_df\n",
    "trips_df = trips.merge(weather_df, on='DATE')\n",
    "\n",
    "#Dropping unused/unimportant columns\n",
    "cols_to_drop = ['dropoff_census_tract','dropoff_centroid_latitude','dropoff_centroid_longitude',\n",
    "               'pickup_census_tract','pickup_centroid_latitude','pickup_centroid_longitude']\n",
    "\n",
    "trips_df = trips_df.loc[:, ~(trips_df.columns).isin(cols_to_drop)]\n",
    "'''Note that dropoff/pickup_centroid_locations were withheld in order for invidual rides traveling outside\n",
    "of Chicago to be dropped.'''\n",
    "\n",
    "#Dropping rides from the data set that originated or ended outside of Chicago\n",
    "trips_df = trips_df.dropna(axis=0)\n",
    "\n",
    "print(trips_df.isnull().sum().sum())\n",
    "trips_df.shape"
   ]
  },
  {
   "cell_type": "code",
   "execution_count": 103,
   "metadata": {},
   "outputs": [
    {
     "data": {
      "text/plain": [
       "Index(['Unnamed: 0', 'additional_charges', 'dropoff_centroid_location',\n",
       "       'dropoff_community_area', 'fare', 'pickup_centroid_location',\n",
       "       'pickup_community_area', 'shared_trip_authorized', 'tip',\n",
       "       'trip_end_timestamp', 'trip_id', 'trip_miles', 'trip_seconds',\n",
       "       'trip_start_timestamp', 'trip_total', 'trips_pooled', 'tsend_year',\n",
       "       'tsend_month', 'tsend_day', 'tsend_hour', 'tsend_minute', 'tsend_sec',\n",
       "       'DATE', 'tsstart_year', 'tsstart_month', 'tsstart_day', 'tsstart_hour',\n",
       "       'tsstart_minute', 'tsstart_sec', 'PRCP', 'SNOW', 'TAVG'],\n",
       "      dtype='object')"
      ]
     },
     "execution_count": 103,
     "metadata": {},
     "output_type": "execute_result"
    }
   ],
   "source": [
    "trips_df.columns"
   ]
  },
  {
   "cell_type": "markdown",
   "metadata": {},
   "source": [
    "## Engineering New Features"
   ]
  },
  {
   "cell_type": "code",
   "execution_count": null,
   "metadata": {},
   "outputs": [],
   "source": [
    "#intializing features DataFrame\n",
    "feats = pd.DataFrame()\n",
    "\n",
    "#Feature: Taking the distance and length of time of the trip, the average speed of the trip is calculated in mph.\n",
    "feats['speed_avg_mph'] = trips_df['trip_miles']/(trips_df['trip_seconds']/3600)\n",
    "\n",
    "#Feature: Binarizing tip into weather the driver was tipped or not.\n",
    "feats['tipped'] = trips_df['tip'].where(trips_df['tip'] == 0, 1)\n",
    "\n",
    "#Feature: Warm Weather Binarized\n",
    "feats['warm_weather'] = (trips_df['TAVG'] >= 60).astype(int)\n",
    "\n",
    "#Feature: Fare + Additional Charges per mile\n",
    "feats['cost_per_mile'] = (trips_df['fare'] + trips_df['additional_charges'])/trips_df['trip_miles']"
   ]
  },
  {
   "cell_type": "markdown",
   "metadata": {},
   "source": [
    "New features created for additional analysis and predictive value include the average speed of each ride, whether or not the drive was tipped, weather the weather was warm, and the cost of the trip per mile (not including tip)."
   ]
  },
  {
   "cell_type": "code",
   "execution_count": 131,
   "metadata": {},
   "outputs": [
    {
     "data": {
      "text/plain": [
       "Index(['Unnamed: 0', 'additional_charges', 'dropoff_centroid_location',\n",
       "       'dropoff_community_area', 'fare', 'pickup_centroid_location',\n",
       "       'pickup_community_area', 'shared_trip_authorized', 'tip',\n",
       "       'trip_end_timestamp', 'trip_id', 'trip_miles', 'trip_seconds',\n",
       "       'trip_start_timestamp', 'trip_total', 'trips_pooled', 'tsend_year',\n",
       "       'tsend_month', 'tsend_day', 'tsend_hour', 'tsend_minute', 'tsend_sec',\n",
       "       'DATE', 'tsstart_year', 'tsstart_month', 'tsstart_day', 'tsstart_hour',\n",
       "       'tsstart_minute', 'tsstart_sec', 'PRCP', 'SNOW', 'TAVG',\n",
       "       'speed_avg_mph', 'tipped', 'warm_weather', 'cost_per_mile'],\n",
       "      dtype='object')"
      ]
     },
     "execution_count": 131,
     "metadata": {},
     "output_type": "execute_result"
    }
   ],
   "source": [
    "for feat in feats.columns:\n",
    "    trips_df[feat] = feats[feat]\n",
    "trips_df.columns"
   ]
  },
  {
   "cell_type": "code",
   "execution_count": 241,
   "metadata": {},
   "outputs": [
    {
     "data": {
      "text/plain": [
       "Text(0, 0.5, 'Fahrenheit')"
      ]
     },
     "execution_count": 241,
     "metadata": {},
     "output_type": "execute_result"
    },
    {
     "data": {
      "image/png": "[encoded data removed]",
      "text/plain": [
       "<Figure size 432x288 with 1 Axes>"
      ]
     },
     "metadata": {
      "needs_background": "light"
     },
     "output_type": "display_data"
    }
   ],
   "source": [
    "plt.plot(weather_df['TAVG'])\n",
    "plt.title('Chicago Weather November 2018 - March 2019')\n",
    "plt.xlabel('Day')\n",
    "plt.ylabel('Fahrenheit')\n",
    "#feats['warm_weather'].mean()"
   ]
  },
  {
   "cell_type": "markdown",
   "metadata": {},
   "source": [
    "The above graph is average tempurature for each day across the time period for which the data was available. (November 1, 2018 to March 29, 2019). Unfortunately, this data only covers the winter months in Chicago (the temperature never elevates above 50 F, so the effect of warmer weather on tipping behavior cannot be more fully explored)."
   ]
  },
  {
   "cell_type": "markdown",
   "metadata": {},
   "source": [
    "## Data Exploration and Visualization"
   ]
  },
  {
   "cell_type": "markdown",
   "metadata": {},
   "source": [
    "Questions Worth Answering:\n",
    "- Where do ride hailing pickups / dropoffs concentrate in?\n",
    "- How does ride volume vary over time? Different time scales?\n",
    "- How often and to what extent do patrons tip?\n",
    "- How does average speed change with drop off location? Time of day?\n",
    "- How likely is a rider to ride alone while still authorizing a pooled ride?\n",
    "- What's the average cost of a rides being picked up and/or dropped off in Chicago?\n",
    "\n",
    "- How much cheaper per mile is authorizing a shared ride?\n",
    "- Calculate average tip for pick up / drop off location.\n",
    "-------\n",
    "\n",
    "Correlation matrix between all of the variables.\n",
    "    Then visualize interesting correlations\n",
    "Tipped vs. Share Authorized\n",
    "speed_avg_mph vs. weather\n",
    "Fare vs. Weather\n",
    "Average Fare and Additional Costs amount per trip time.\n",
    "Speed vs. Tips\n",
    "Tipping vs. Community Area Ride Frequency.\n",
    "\n",
    "--------\n",
    "\n",
    "Narrative must ultimately highlight and motivate an understanding of ride tips.\n",
    "\n",
    "The other questions can be framed as curiosities.\n",
    "\n",
    "From the driver perspective, knowing where patrons are more likely to tip can improve payout.\n",
    "\n",
    "From a developer perspective, understanding tipping behavior can help ensure that drivers are more fairly compensated within the payment model.\n",
    "\n",
    "There are so many tipping possibilities, it's pointless to try to and explore other facets of the data"
   ]
  },
  {
   "cell_type": "code",
   "execution_count": 128,
   "metadata": {},
   "outputs": [
    {
     "data": {
      "text/plain": [
       "0.17140909865394446"
      ]
     },
     "execution_count": 128,
     "metadata": {},
     "output_type": "execute_result"
    }
   ],
   "source": [
    "trips_df['tipped'].mean()"
   ]
  },
  {
   "cell_type": "markdown",
   "metadata": {},
   "source": []
  },
  {
   "cell_type": "code",
   "execution_count": 498,
   "metadata": {},
   "outputs": [
    {
     "data": {
      "image/png": "[encoded data removed]",
      "text/plain": [
       "<Figure size 936x576 with 2 Axes>"
      ]
     },
     "metadata": {
      "needs_background": "light"
     },
     "output_type": "display_data"
    }
   ],
   "source": [
    "corr_cols = ['additional_charges', 'fare','shared_trip_authorized', 'tip',\n",
    "             'trip_id', 'trip_miles', 'trip_seconds', 'trip_total', 'trips_pooled','tsend_month',\n",
    "             'DATE','PRCP', 'SNOW', 'TAVG', 'speed_avg_mph', 'tipped', 'cost_per_mile']\n",
    "corrmat = trips_df[corr_cols].corr()\n",
    "\n",
    "plt.figure(figsize=(13,8))\n",
    "sns.heatmap(corrmat)\n",
    "plt.show()"
   ]
  },
  {
   "cell_type": "markdown",
   "metadata": {},
   "source": [
    "Important Correlations:\n",
    "\n",
    "- Tip amount and tipped status show no significant correlations with any of the features (besides total amount, which includes the tip amount). So immediately, we know that there isn't one single features that contributes definitively to the tip amount.\n",
    "\n",
    "- Cost per mile, rightly so, has no correlation with any other features in the data set.\n",
    "\n",
    "- None of the weather variables (Average Temperature in Fahrenheit, snow inches, and precipitation inches) correlates with the other features.\n",
    "\n",
    "- In fact, it is surprising that weather doesn't to have any correlation on the average speed of each ride.\n",
    "\n",
    "- Authorizing a shared trip primarily decreases the additional charges on a ride. Authorizing a shared ride also doesn't correlate strongly with a positive increase in trip time; however, trip time does positively correlate somewhat with the number rides pooled into one route.\n",
    "\n",
    "- Speed of a ride also doesn't correlate with higher driver tips.\n",
    "\n",
    "Overall, no interesting correlations exist beyond the lack of correlation between potentially related ride variables."
   ]
  },
  {
   "cell_type": "markdown",
   "metadata": {},
   "source": [
    "### How often and to what extent do patrons tip?"
   ]
  },
  {
   "cell_type": "code",
   "execution_count": 170,
   "metadata": {},
   "outputs": [
    {
     "name": "stdout",
     "output_type": "stream",
     "text": [
      "For rides within Chicago, riders tip their drivers 17.14% of the time\n"
     ]
    }
   ],
   "source": [
    "text = 'For rides within Chicago, riders tip their drivers {}% of the time'\n",
    "tip_freq = round(trips_df['tipped'].mean()*100,2)\n",
    "print(text.format(tip_freq))"
   ]
  },
  {
   "cell_type": "code",
   "execution_count": 169,
   "metadata": {},
   "outputs": [
    {
     "data": {
      "text/plain": [
       "Text(0.5, 1.0, 'Boxplot Distribution of Tips (Excludes $0 Tips)')"
      ]
     },
     "execution_count": 169,
     "metadata": {},
     "output_type": "execute_result"
    },
    {
     "data": {
      "image/png": "[encoded data removed]",
      "text/plain": [
       "<Figure size 1008x288 with 2 Axes>"
      ]
     },
     "metadata": {
      "needs_background": "light"
     },
     "output_type": "display_data"
    }
   ],
   "source": [
    "plt.figure(figsize = (14,4))\n",
    "\n",
    "plt.subplot(1,2,1)\n",
    "sns.distplot(trips_df[trips_df['tip'] > 0]['tip'], kde = False)\n",
    "plt.title('Histogram Distribution of Tips (Excludes $0 Tips)')\n",
    "plt.ylabel('Count')\n",
    "\n",
    "plt.subplot(1,2,2)\n",
    "sns.boxplot(x = trips_df[trips_df['tip'] > 0]['tip'])\n",
    "plt.title('Boxplot Distribution of Tips (Excludes $0 Tips)')\n"
   ]
  },
  {
   "cell_type": "markdown",
   "metadata": {},
   "source": [
    "The majority of are $5 or less. There are a handful of outliers that exists for $7 tips and above. The two graphs go hand in hand, since the boxplot makes it easier to visualize which tip values are actually present, while the histogram shows the density of the individual tip values, including the outlier tip values."
   ]
  },
  {
   "cell_type": "markdown",
   "metadata": {},
   "source": [
    "### Which pickup areas result in the best tipping frequency?"
   ]
  },
  {
   "cell_type": "code",
   "execution_count": 187,
   "metadata": {},
   "outputs": [],
   "source": [
    "ca_tip_count = trips_df.groupby('pickup_community_area').sum()['tipped'].sort_values(ascending = False).head(10).reset_index()\n",
    "ca_tip_freq = (trips_df.groupby('pickup_community_area').sum()['tipped'])/(trips_df.groupby('pickup_community_area').count()['tipped'])\n",
    "ca_tip_freq = ca_tip_freq.sort_values(ascending=False).reset_index().head(10)"
   ]
  },
  {
   "cell_type": "code",
   "execution_count": 190,
   "metadata": {},
   "outputs": [
    {
     "data": {
      "text/plain": [
       "Text(0, 0.5, 'Pickup Community Area')"
      ]
     },
     "execution_count": 190,
     "metadata": {},
     "output_type": "execute_result"
    },
    {
     "data": {
      "image/png": "[encoded data removed]",
      "text/plain": [
       "<Figure size 1080x360 with 2 Axes>"
      ]
     },
     "metadata": {
      "needs_background": "light"
     },
     "output_type": "display_data"
    }
   ],
   "source": [
    "plt.figure(figsize = (15,5))\n",
    "\n",
    "plt.subplot(1,2,1)\n",
    "plt.barh(ca_tip_count['pickup_community_area'].astype(int).astype(str), ca_tip_count['tipped'])\n",
    "plt.title('Top 10 Counts of Rides Tipped by Pickup Community Area')\n",
    "plt.ylabel('Pickup Community Area')\n",
    "\n",
    "plt.subplot(1,2,2)\n",
    "plt.barh(ca_tip_freq['pickup_community_area'].astype(int).astype(str), ca_tip_freq['tipped'], color ='gold')\n",
    "plt.title('Top 10 of Tipping Frequency by Pickup Community Area')\n",
    "plt.ylabel('Pickup Community Area')"
   ]
  },
  {
   "cell_type": "markdown",
   "metadata": {},
   "source": [
    "Although the top number of rides tipped in occur mostly in the datatown area (area 8, 32, 28, 24, and 6), another interesting metric was the rate of tipping based on the area that passengers were picked up from. Areas 55, 52, and 10 top the list of highest tipping rate, and these areas very far from teh downtown area. None of the downtowl location in the first graph measuring raw tipping counts made it the top list of tipping rates.\n",
    "\n",
    "Below is the map of the Chicago Community areas pulled from Wikipedia. This is a standardized list of neighborhoods and areas mapped out to help social science research on the different communities and areas of Chicago."
   ]
  },
  {
   "cell_type": "markdown",
   "metadata": {},
   "source": [
    "![Map of Chicago Community Areas](https://upload.wikimedia.org/wikipedia/commons/2/24/Map_of_the_Community_Areas_and_%27Sides%27_of_the_City_of_Chicago.svg)"
   ]
  },
  {
   "cell_type": "markdown",
   "metadata": {},
   "source": [
    "### Do dropoff community areas show interesting tipping behaviors?"
   ]
  },
  {
   "cell_type": "code",
   "execution_count": 268,
   "metadata": {},
   "outputs": [
    {
     "data": {
      "text/plain": [
       "Text(0, 0.5, 'Dropoff Community Area')"
      ]
     },
     "execution_count": 268,
     "metadata": {},
     "output_type": "execute_result"
    },
    {
     "data": {
      "image/png": "[encoded data removed]",
      "text/plain": [
       "<Figure size 1080x360 with 2 Axes>"
      ]
     },
     "metadata": {
      "needs_background": "light"
     },
     "output_type": "display_data"
    }
   ],
   "source": [
    "ca_tip_count = trips_df.groupby('dropoff_community_area').sum()['tipped'].sort_values(ascending = False).head(10).reset_index()\n",
    "ca_tip_freq = (trips_df.groupby('dropoff_community_area').sum()['tipped'])/(trips_df.groupby('dropoff_community_area').count()['tipped'])\n",
    "ca_tip_freq = ca_tip_freq.sort_values(ascending=False).reset_index().head(10)\n",
    "\n",
    "plt.figure(figsize = (15,5))\n",
    "\n",
    "plt.subplot(1,2,1)\n",
    "plt.barh(ca_tip_count['dropoff_community_area'].astype(int).astype(str), ca_tip_count['tipped'])\n",
    "plt.title('Top 10 Counts of Rides Tipped by Dropoff Community Area')\n",
    "plt.ylabel('Dropoff Community Area')\n",
    "\n",
    "plt.subplot(1,2,2)\n",
    "plt.barh(ca_tip_freq['dropoff_community_area'].astype(int).astype(str), ca_tip_freq['tipped'], color ='gold')\n",
    "plt.title('Top 10 of Tipping Frequency by Dropoff Community Area')\n",
    "plt.ylabel('Dropoff Community Area')"
   ]
  },
  {
   "cell_type": "markdown",
   "metadata": {},
   "source": [
    "Again, many of the downtown locations result in the highest number of tipped rides, but the community areas with the higher rates include areas 76, 11, and 5, none of which are downtown. Area 76 corresponds to the Chicago Ohare International airport - so it's clear that people getting dropped off to the airport love to tip their drivers."
   ]
  },
  {
   "cell_type": "markdown",
   "metadata": {},
   "source": [
    "### Does distance affect to tipping rate at all? And which pickup areas correspond to the great average trip distances?"
   ]
  },
  {
   "cell_type": "code",
   "execution_count": 201,
   "metadata": {},
   "outputs": [
    {
     "data": {
      "text/plain": [
       "0.20109521229771302"
      ]
     },
     "execution_count": 201,
     "metadata": {},
     "output_type": "execute_result"
    }
   ],
   "source": [
    "corr = np.corrcoef(trips_df['trip_miles'],trips_df['tip'])[0,1]\n",
    "text = 'While the correlation between distance and'"
   ]
  },
  {
   "cell_type": "code",
   "execution_count": 264,
   "metadata": {},
   "outputs": [
    {
     "data": {
      "image/png": "[encoded data removed]",
      "text/plain": [
       "<Figure size 432x432 with 3 Axes>"
      ]
     },
     "metadata": {
      "needs_background": "light"
     },
     "output_type": "display_data"
    }
   ],
   "source": [
    "X = np.log(trips_df[(trips_df['tip'] > 0) & (trips_df['trip_miles'] > 0)]['trip_miles'])\n",
    "Y = trips_df[(trips_df['tip'] > 0) & (trips_df['trip_miles'] > 0)]['tip']\n",
    "\n",
    "ax = sns.jointplot(x = X, y = Y, color = \"#4CB391\")\n",
    "ax.set_axis_labels('Trip Distance (log miles)','Tip ($)')\n",
    "\n",
    "plt.show()"
   ]
  },
  {
   "cell_type": "markdown",
   "metadata": {},
   "source": [
    "With the logged distanced plotted against tips that drivers receiver for their rides, it's clear that longer drives result it higher tips, but a higher tip isn't guaranteed - the triangular shape of the dat is shows this. 0 dollar - 5 dollar tips run the range of trip distances, while simply driving for longer trips result in a higher probability of getting a larger tip."
   ]
  },
  {
   "cell_type": "code",
   "execution_count": 499,
   "metadata": {},
   "outputs": [
    {
     "data": {
      "text/plain": [
       "Text(0, 0.5, 'Pickup Community Area')"
      ]
     },
     "execution_count": 499,
     "metadata": {},
     "output_type": "execute_result"
    },
    {
     "data": {
      "image/png": "[encoded data removed]",
      "text/plain": [
       "<Figure size 432x288 with 1 Axes>"
      ]
     },
     "metadata": {
      "needs_background": "light"
     },
     "output_type": "display_data"
    }
   ],
   "source": [
    "pickup_dists = trips_df.groupby('pickup_community_area').mean()['trip_miles'].sort_values(ascending = False).head(10).reset_index()\n",
    "plt.barh(pickup_dists['pickup_community_area'].astype(int).astype(str), pickup_dists['trip_miles'], color = 'g')\n",
    "plt.title('Top 10 Average Ride Distances by Pickup Community Area')\n",
    "plt.xlabel('Miles')\n",
    "plt.ylabel('Pickup Community Area')"
   ]
  },
  {
   "cell_type": "markdown",
   "metadata": {},
   "source": [
    "The pick community areas that result in the longest trip distances are area 56 and area 76, which are the Midway and  O'hare Internationl airports respectively. "
   ]
  },
  {
   "cell_type": "markdown",
   "metadata": {},
   "source": [
    "## Preprocessing the Data for Modeling"
   ]
  },
  {
   "cell_type": "code",
   "execution_count": 296,
   "metadata": {},
   "outputs": [],
   "source": [
    "from scipy.stats import mstats"
   ]
  },
  {
   "cell_type": "code",
   "execution_count": 265,
   "metadata": {},
   "outputs": [
    {
     "data": {
      "text/plain": [
       "Index(['Unnamed: 0', 'additional_charges', 'dropoff_centroid_location',\n",
       "       'dropoff_community_area', 'fare', 'pickup_centroid_location',\n",
       "       'pickup_community_area', 'shared_trip_authorized', 'tip',\n",
       "       'trip_end_timestamp', 'trip_id', 'trip_miles', 'trip_seconds',\n",
       "       'trip_start_timestamp', 'trip_total', 'trips_pooled', 'tsend_year',\n",
       "       'tsend_month', 'tsend_day', 'tsend_hour', 'tsend_minute', 'tsend_sec',\n",
       "       'DATE', 'tsstart_year', 'tsstart_month', 'tsstart_day', 'tsstart_hour',\n",
       "       'tsstart_minute', 'tsstart_sec', 'PRCP', 'SNOW', 'TAVG',\n",
       "       'speed_avg_mph', 'tipped', 'warm_weather', 'cost_per_mile'],\n",
       "      dtype='object')"
      ]
     },
     "execution_count": 265,
     "metadata": {},
     "output_type": "execute_result"
    }
   ],
   "source": [
    "trips_df.columns"
   ]
  },
  {
   "cell_type": "code",
   "execution_count": 365,
   "metadata": {},
   "outputs": [
    {
     "name": "stdout",
     "output_type": "stream",
     "text": [
      "<class 'pandas.core.frame.DataFrame'>\n",
      "Int64Index: 17607 entries, 0 to 19999\n",
      "Data columns (total 17 columns):\n",
      "additional_charges        17607 non-null float64\n",
      "dropoff_community_area    17607 non-null float64\n",
      "fare                      17607 non-null float64\n",
      "pickup_community_area     17607 non-null float64\n",
      "shared_trip_authorized    17607 non-null bool\n",
      "tip                       17607 non-null int64\n",
      "trip_miles                17607 non-null float64\n",
      "trip_seconds              17607 non-null float64\n",
      "trip_total                17607 non-null float64\n",
      "trips_pooled              17607 non-null int64\n",
      "tsstart_month             17607 non-null int64\n",
      "PRCP                      17607 non-null float64\n",
      "SNOW                      17607 non-null float64\n",
      "TAVG                      17607 non-null float64\n",
      "speed_avg_mph             17607 non-null float64\n",
      "tipped                    17607 non-null int64\n",
      "cost_per_mile             17605 non-null float64\n",
      "dtypes: bool(1), float64(12), int64(4)\n",
      "memory usage: 2.3 MB\n"
     ]
    },
    {
     "data": {
      "text/plain": [
       "None"
      ]
     },
     "metadata": {},
     "output_type": "display_data"
    },
    {
     "data": {
      "text/plain": [
       "2"
      ]
     },
     "execution_count": 365,
     "metadata": {},
     "output_type": "execute_result"
    }
   ],
   "source": [
    "trips_ppdf = trips_df[['additional_charges',\n",
    "       'dropoff_community_area', 'fare',\n",
    "       'pickup_community_area', 'shared_trip_authorized', 'tip',\n",
    "       'trip_miles', 'trip_seconds',\n",
    "       'trip_total', 'trips_pooled','tsstart_month', 'PRCP', 'SNOW', 'TAVG',\n",
    "       'speed_avg_mph', 'tipped', 'cost_per_mile']]\n",
    "\n",
    "#replacing infinite values for NaN's, this will allow you to observe the skew values of each feature distribution.\n",
    "trips_ppdf = trips_ppdf.replace([np.inf,-np.inf],np.nan)\n",
    "\n",
    "display(trips_ppdf.info())\n",
    "trips_ppdf.isnull().sum().sum()"
   ]
  },
  {
   "cell_type": "code",
   "execution_count": 356,
   "metadata": {},
   "outputs": [
    {
     "data": {
      "text/plain": [
       "additional_charges          1.709881\n",
       "dropoff_community_area      1.095558\n",
       "fare                        2.745084\n",
       "pickup_community_area       1.108117\n",
       "shared_trip_authorized      0.961308\n",
       "tip                         4.420335\n",
       "trip_miles                  2.043672\n",
       "trip_seconds                2.517754\n",
       "trip_total                  2.766949\n",
       "trips_pooled                3.158897\n",
       "tsstart_month               1.476500\n",
       "PRCP                        2.883512\n",
       "SNOW                        4.024269\n",
       "TAVG                       -0.808179\n",
       "speed_avg_mph              47.496002\n",
       "tipped                      1.743956\n",
       "cost_per_mile             120.537852\n",
       "dtype: float64"
      ]
     },
     "execution_count": 356,
     "metadata": {},
     "output_type": "execute_result"
    }
   ],
   "source": [
    "trips_ppdf.skew()"
   ]
  },
  {
   "cell_type": "code",
   "execution_count": 357,
   "metadata": {},
   "outputs": [
    {
     "data": {
      "text/plain": [
       "additional_charges        0\n",
       "dropoff_community_area    0\n",
       "fare                      0\n",
       "pickup_community_area     0\n",
       "shared_trip_authorized    0\n",
       "tip                       0\n",
       "trip_miles                0\n",
       "trip_seconds              0\n",
       "trip_total                0\n",
       "trips_pooled              0\n",
       "tsstart_month             0\n",
       "PRCP                      0\n",
       "SNOW                      0\n",
       "TAVG                      0\n",
       "speed_avg_mph             0\n",
       "tipped                    0\n",
       "cost_per_mile             0\n",
       "dtype: int64"
      ]
     },
     "execution_count": 357,
     "metadata": {},
     "output_type": "execute_result"
    }
   ],
   "source": [
    "(trips_ppdf == np.inf).sum()"
   ]
  },
  {
   "cell_type": "code",
   "execution_count": 368,
   "metadata": {},
   "outputs": [
    {
     "data": {
      "image/png": "[encoded data removed]",
      "text/plain": [
       "<Figure size 1080x864 with 3 Axes>"
      ]
     },
     "metadata": {
      "needs_background": "light"
     },
     "output_type": "display_data"
    }
   ],
   "source": [
    "plt.figure(figsize=(15,12))\n",
    "\n",
    "plt.subplot(2,2,1)\n",
    "plt.boxplot(trips_ppdf['speed_avg_mph'])\n",
    "plt.title('Boxplot of Average Ride Speed')\n",
    "plt.ylabel('MPH')\n",
    "\n",
    "plt.subplot(2,2,2)\n",
    "plt.title('Histogram of Average Daily Weather')\n",
    "plt.xlabel('Fahrenheit')\n",
    "plt.hist(trips_ppdf['TAVG'])\n",
    "\n",
    "plt.subplot(2,2,3)\n",
    "plt.boxplot(trips_ppdf['cost_per_mile'])\n",
    "plt.title('Cost per mile')\n",
    "plt.ylabel('$/mi')\n",
    "\n",
    "plt.show()"
   ]
  },
  {
   "cell_type": "markdown",
   "metadata": {},
   "source": [
    "Although the above distributions show skew, this was after they were winsorized for incredibly large outliers. The amount of skew presented in the above graphs is great improvement, and acceptable for analysis."
   ]
  },
  {
   "cell_type": "code",
   "execution_count": 435,
   "metadata": {},
   "outputs": [
    {
     "name": "stdout",
     "output_type": "stream",
     "text": [
      "The dataset is preprocessed and ready for modeling. There are 0 indeterminate values in the dataset.\n"
     ]
    }
   ],
   "source": [
    "trips_ppdf = trips_df[['additional_charges',\n",
    "       'dropoff_community_area', 'fare',\n",
    "       'pickup_community_area', 'shared_trip_authorized', 'tip',\n",
    "       'trip_miles', 'trip_seconds',\n",
    "       'trip_total', 'trips_pooled','tsstart_month', 'PRCP', 'SNOW', 'TAVG',\n",
    "       'speed_avg_mph', 'tipped', 'cost_per_mile']]\n",
    "\n",
    "#replacing infinite values for NaN's\n",
    "trips_ppdf = trips_ppdf.replace([np.inf,-np.inf],np.nan)\n",
    "\n",
    "#Winsorizing the Speed feature to remove outliers\n",
    "speed_winzd = mstats.winsorize(trips_df['speed_avg_mph'], limits=[0, 0.00012])\n",
    "trips_ppdf['speed_avg_mph'] = speed_winzd\n",
    "\n",
    "#Dropping rows with infinite values in the cost_per_mile feature\n",
    "#trips_ppdf = trips_ppdf[~trips_ppdf.isin([np.nan, np.inf, -np.inf]).any(1)]\n",
    "\n",
    "#Winsorizing the cost_per_mile \n",
    "costpmi_winzd = mstats.winsorize(trips_ppdf['cost_per_mile'], limits=[0,0.001])\n",
    "trips_ppdf['cost_per_mile'] = costpmi_winzd\n",
    "\n",
    "#Changing int columns to categorical variables.\n",
    "cols_to_str = ['pickup_community_area', 'dropoff_community_area']\n",
    "for col in cols_to_str:\n",
    "    trips_ppdf[col] = trips_ppdf[col].astype(int).astype(str)\n",
    "\n",
    "#log transforming right skewed data to normalize distributions\n",
    "cols_to_log = ['additional_charges', 'tip', 'trip_miles', 'trip_seconds', 'trip_total',\n",
    "               'trips_pooled', 'PRCP', 'SNOW', 'speed_avg_mph', 'cost_per_mile']\n",
    "for col in cols_to_log:\n",
    "    trips_ppdf[col] = np.log(trips_ppdf[col] + 0.01)\n",
    "\n",
    "# Cube root transforming fare\n",
    "trips_ppdf['fare'] = trips_ppdf['fare']**(1/3)\n",
    "\n",
    "# Binarizing the community areas\n",
    "trips_ppdf = pd.get_dummies(trips_ppdf, columns = ['pickup_community_area','dropoff_community_area'],\n",
    "                           prefix = ['pickup', 'dropoff'])\n",
    "\n",
    "#Dropping rows with NaN values.\n",
    "#trips_ppdf = trips_ppdf.dropna(axis=0)\n",
    "\n",
    "#Checking for any inf or nan values\n",
    "indeterminates = trips_ppdf.isin([np.nan,np.inf,-np.inf]).sum().sum()\n",
    "print('The dataset is preprocessed and ready for modeling. There are {} indeterminate values in the dataset.'.format(indeterminates))"
   ]
  },
  {
   "cell_type": "code",
   "execution_count": null,
   "metadata": {},
   "outputs": [],
   "source": [
    "Winsorize by\n",
    "##df['col'] = df['col'].apply(lambda x: cut_num2 if x > cut_num2 else x)"
   ]
  },
  {
   "cell_type": "code",
   "execution_count": 433,
   "metadata": {},
   "outputs": [
    {
     "data": {
      "text/plain": [
       "additional_charges   -2.067862\n",
       "tip                   1.802414\n",
       "trip_miles           -0.042950\n",
       "trip_seconds         -0.231731\n",
       "trip_total            0.061116\n",
       "trips_pooled          1.929303\n",
       "PRCP                  0.921970\n",
       "SNOW                  1.348444\n",
       "speed_avg_mph        -0.501136\n",
       "cost_per_mile        -0.150557\n",
       "dtype: float64"
      ]
     },
     "metadata": {},
     "output_type": "display_data"
    },
    {
     "data": {
      "text/plain": [
       "-0.08734611496299875"
      ]
     },
     "execution_count": 433,
     "metadata": {},
     "output_type": "execute_result"
    }
   ],
   "source": [
    "display(trips_ppdf[cols_to_log].skew())\n",
    "trips_ppdf['fare'].skew()"
   ]
  },
  {
   "cell_type": "markdown",
   "metadata": {},
   "source": [
    "## Dimensionality Reduction"
   ]
  },
  {
   "cell_type": "code",
   "execution_count": 436,
   "metadata": {},
   "outputs": [],
   "source": [
    "from sklearn.decomposition import PCA"
   ]
  },
  {
   "cell_type": "code",
   "execution_count": 450,
   "metadata": {},
   "outputs": [
    {
     "name": "stdout",
     "output_type": "stream",
     "text": [
      "[8.42850057e-01 8.16729149e-02 2.25620333e-02 1.96576033e-02\n",
      " 1.13246095e-02 5.66134300e-03 2.68873555e-03 1.38796988e-03\n",
      " 9.64412729e-04 8.67112427e-04 6.51486690e-04 6.17926003e-04\n",
      " 5.90269212e-04 5.65680210e-04 4.88431011e-04]\n"
     ]
    },
    {
     "data": {
      "text/plain": [
       "0.9925505846090139"
      ]
     },
     "execution_count": 450,
     "metadata": {},
     "output_type": "execute_result"
    }
   ],
   "source": [
    "#Splitting features into independent and target variables\n",
    "Y1 = trips_ppdf['tipped'] #Classification Model\n",
    "Y2 = trips_ppdf['tip'] #Regression Model\n",
    "X = trips_ppdf.loc[:, ~(trips_ppdf.columns).isin(['tipped','tip'])]\n",
    "\n",
    "#Performing PCA Dimension Reduction\n",
    "pca = PCA(n_components = 15)\n",
    "PCs = pca.fit_transform(X)\n",
    "\n",
    "#Variance Captured by Principal Components\n",
    "pca_evr = pca.explained_variance_ratio_\n",
    "print(pca_evr)\n",
    "pca_evr.sum()"
   ]
  },
  {
   "cell_type": "markdown",
   "metadata": {},
   "source": [
    "## Modeling the data to predict Tipping Behavior"
   ]
  },
  {
   "cell_type": "markdown",
   "metadata": {},
   "source": [
    "For the following model iterations, regression models were not used because the data concentrated heavliy in $0 Tip values, making classification models better suited to model the data."
   ]
  },
  {
   "cell_type": "code",
   "execution_count": 458,
   "metadata": {},
   "outputs": [],
   "source": [
    "from sklearn.model_selection import cross_val_score\n",
    "from sklearn.metrics import confusion_matrix\n",
    "from sklearn.model_selection import train_test_split\n",
    "from sklearn.utils import resample"
   ]
  },
  {
   "cell_type": "code",
   "execution_count": null,
   "metadata": {},
   "outputs": [],
   "source": [
    "#Classifier function that trains and tests on the same data\n",
    "\n",
    "#X = PCs\n",
    "#Y = trips_ppdf['tipped']\n",
    "#clf = GradientBoostingClassifier()\n",
    "\n",
    "def TipCLF(clf, Xtrain, Ytrain, cv = 10):\n",
    "    clf.fit(Xtrain,Ytrain)\n",
    "    print('Cross Validation Scores:')\n",
    "    print(cross_val_score(clf, Xtrain, Ytrain, cv=cv))\n",
    "    \n",
    "    preds = clf.predict(Xtrain)\n",
    "    pred_counts = (preds == Ytrain).value_counts()\n",
    "    print('\\nOverall Accuracy: {}'.format(pred_counts[1]/pred_counts.sum()))\n",
    "    print('{} total misclassified out of {}.'.format(pred_counts[0],pred_counts.sum()))\n",
    "    conmax = confusion_matrix(Ytrain,preds)\n",
    "    print('\\nType 2 Error / Tipped Rides predicted as Untipped: {}'.format(conmax[1,0]/conmax[1].sum()))\n",
    "    print('\\nType 1 Error / Untipped Rides predicted as Tipped: {}'.format(conmax[0,1]/conmax[0].sum()))"
   ]
  },
  {
   "cell_type": "code",
   "execution_count": 486,
   "metadata": {},
   "outputs": [],
   "source": [
    "#Classifier function that trains and tests on different data sets\n",
    "\n",
    "#X = PCs\n",
    "#Y = trips_ppdf['tipped']\n",
    "#clf = GradientBoostingClassifier()\n",
    "\n",
    "def TipCLF_Split(clf, Xtrain, Ytrain, Xtest, Ytest, cv = 10):\n",
    "    clf.fit(Xtrain,Ytrain)\n",
    "    print('\\nCross Validation Scores:')\n",
    "    print(cross_val_score(clf, Xtrain, Ytrain, cv=cv))\n",
    "    \n",
    "    preds = clf.predict(Xtest)\n",
    "    pred_counts = pd.Series(preds == Ytest).value_counts() ##pd.Series() added for .value_counts() method to function\n",
    "    print('\\nOverall Accuracy of trained model on Test Data: {}'.format(pred_counts[1]/pred_counts.sum()))\n",
    "    print('{} total misclassified out of {}.'.format(pred_counts[0],pred_counts.sum()))\n",
    "    conmax = confusion_matrix(Ytest,preds)\n",
    "    print('\\nType 2 Error / Tipped Rides predicted as Untipped: {}'.format(conmax[1,0]/conmax[1].sum()))\n",
    "    print('\\nType 1 Error / Untipped Rides predicted as Tipped: {}'.format(conmax[0,1]/conmax[0].sum()))"
   ]
  },
  {
   "cell_type": "markdown",
   "metadata": {},
   "source": [
    "### Iteration 1: Random Forest Classifier"
   ]
  },
  {
   "cell_type": "code",
   "execution_count": 457,
   "metadata": {},
   "outputs": [
    {
     "name": "stdout",
     "output_type": "stream",
     "text": [
      "Cross Validation Scores:\n",
      "[0.83134583 0.82453152 0.8330494  0.82964225 0.82793867 0.81998864\n",
      " 0.83077797 0.82907439 0.77954545 0.82092098]\n",
      "Overall Accuracy: 0.9993752484807179\n",
      "11 total misclassified out of 17607.\n",
      "\n",
      "Type 2 Error / Tipped Rides predicted as Untipped: 0.003644797879390325\n",
      "\n",
      "Type 1 Error / Untipped Rides predicted as Tipped: 0.0\n"
     ]
    }
   ],
   "source": [
    "from sklearn.ensemble import RandomForestClassifier\n",
    "\n",
    "X = PCs\n",
    "Y = trips_ppdf['tipped']\n",
    "clf = RandomForestClassifier(n_estimators = 50)\n",
    "\n",
    "TipCLF(clf,X,Y)"
   ]
  },
  {
   "cell_type": "code",
   "execution_count": 456,
   "metadata": {},
   "outputs": [
    {
     "data": {
      "text/plain": [
       "0.17140909865394446"
      ]
     },
     "execution_count": 456,
     "metadata": {},
     "output_type": "execute_result"
    }
   ],
   "source": [
    "(trips_ppdf['tipped'] == 1).sum()/len(trips_ppdf['tipped'])"
   ]
  },
  {
   "cell_type": "markdown",
   "metadata": {},
   "source": [
    "The CV scores indicate that the model is not actually than randomly guessing (overall tip rate is 17.14% corresponding to an 82.86% random guess accuracy rate), while the overall accuracy of the model when trained and tested on the same data shows an accuracy of nearly 100%. This is probably due to fact that the random forest is seems to 'memorize' what the outcome of the this data is rather than predicting the outcome new data."
   ]
  },
  {
   "cell_type": "markdown",
   "metadata": {},
   "source": [
    "### Iteration 2: Random Forest Classifier, with resample and test/train split data\n",
    "This is iteration will improve upon the previous by rebalancing the sample data, then running this retrained Random Forest Classifier model on new data."
   ]
  },
  {
   "cell_type": "code",
   "execution_count": 464,
   "metadata": {},
   "outputs": [
    {
     "name": "stdout",
     "output_type": "stream",
     "text": [
      "Tipped:  3018\n",
      "Untipped:  14589\n"
     ]
    }
   ],
   "source": [
    "print('Tipped: ', trips_ppdf[trips_ppdf['tipped'] == 1].shape[0])\n",
    "print('Untipped: ', trips_ppdf[trips_ppdf['tipped'] == 0].shape[0])\n",
    "\n",
    "### Older resampling method\n",
    "#trips_tipped = resample(trips_ppdf[trips_ppdf['tipped'] == 1], replace = True, n_samples = 5000)\n",
    "#trips_untipped = resample(trips_ppdf[trips_ppdf['tipped'] == 0], replace = True, n_samples = 5000)\n",
    "#trips_bal_ppdf = pd.concat([trips_tipped, trip_untipped])"
   ]
  },
  {
   "cell_type": "code",
   "execution_count": 489,
   "metadata": {},
   "outputs": [
    {
     "name": "stdout",
     "output_type": "stream",
     "text": [
      "Original dataset shape Counter({0: 14589, 1: 3018})\n",
      "Resampled dataset shape Counter({0: 14589, 1: 14589})\n",
      "\n",
      "Cross Validation Scores:\n",
      "[0.85159817 0.85779555 0.85836665 0.85494003 0.84922901 0.85257143\n",
      " 0.85542857 0.83771429 0.84571429 0.852     ]\n",
      "\n",
      "Overall Accuracy of trained model on Test Data: 0.8539239204934886\n",
      "1705 total misclassified out of 11672.\n",
      "\n",
      "Type 2 Error / Tipped Rides predicted as Untipped: 0.14255765199161424\n",
      "\n",
      "Type 1 Error / Untipped Rides predicted as Tipped: 0.14946200403496973\n"
     ]
    }
   ],
   "source": [
    "from collections import Counter\n",
    "from sklearn.datasets import make_classification\n",
    "from imblearn.over_sampling import SMOTE\n",
    "\n",
    "#Resampling data using SMOTE to create a balance training set.\n",
    "resample_size = len(trips_ppdf[trips_ppdf['tipped']==0])\n",
    "\n",
    "print('Original dataset shape %s' % Counter(Y1))\n",
    "sm = SMOTE(sampling_strategy = {0:resample_size, 1:resample_size})\n",
    "X_res, Y1_res = sm.fit_resample(PCs, Y1)\n",
    "print('Resampled dataset shape %s' % Counter(Y1_res))\n",
    "\n",
    "X_train, X_test, Y_train, Y_test = train_test_split(X_res, Y1_res , test_size=0.40, random_state=4)\n",
    "\n",
    "#Fitting and testing the model\n",
    "clf = RandomForestClassifier(n_estimators = 50)\n",
    "TipCLF_Split(clf, X_train, Y_train, X_test, Y_test)"
   ]
  },
  {
   "cell_type": "markdown",
   "metadata": {},
   "source": [
    "These results are definitely more realistic. The overall accuracy and the CV scores match, indicating that the model is behaving consistently for different sets of data. Also, because training and test sets were balanced, an overall accuracy score of 85.39% is quite good considering that randomly guessing would result in a 50% accuracy."
   ]
  },
  {
   "cell_type": "markdown",
   "metadata": {},
   "source": [
    "### Iteration 3: Support Vector Classifier\n",
    "Using the same train/test split data as the previous iteration, this iteration aims to improve the predictive accuracy of the model."
   ]
  },
  {
   "cell_type": "code",
   "execution_count": 490,
   "metadata": {},
   "outputs": [
    {
     "name": "stdout",
     "output_type": "stream",
     "text": [
      "\n",
      "Cross Validation Scores:\n",
      "[0.68721461 0.70359794 0.68475157 0.69446031 0.68874929 0.69257143\n",
      " 0.69257143 0.676      0.69257143 0.69085714]\n",
      "\n",
      "Overall Accuracy of trained model on Test Data: 0.6837731322823852\n",
      "3691 total misclassified out of 11672.\n",
      "\n",
      "Type 2 Error / Tipped Rides predicted as Untipped: 0.23287910552061494\n",
      "\n",
      "Type 1 Error / Untipped Rides predicted as Tipped: 0.3964357767316745\n"
     ]
    }
   ],
   "source": [
    "from sklearn.svm import SVC\n",
    "\n",
    "X_train, X_test, Y_train, Y_test = train_test_split(X_res, Y1_res , test_size=0.40, random_state=4)\n",
    "\n",
    "clf = SVC()\n",
    "TipCLF_Split(clf, X_train, Y_train, X_test, Y_test)"
   ]
  },
  {
   "cell_type": "markdown",
   "metadata": {},
   "source": [
    "### Iteration 4: Gradient Boosting Classifier"
   ]
  },
  {
   "cell_type": "code",
   "execution_count": 493,
   "metadata": {},
   "outputs": [
    {
     "name": "stdout",
     "output_type": "stream",
     "text": [
      "\n",
      "Cross Validation Scores:\n",
      "[0.86244292 0.86921759 0.86179326 0.86807539 0.87321531 0.864\n",
      " 0.87028571 0.85542857 0.85257143 0.86228571]\n",
      "\n",
      "Overall Accuracy of trained model on Test Data: 0.86737491432488\n",
      "1548 total misclassified out of 11672.\n",
      "\n",
      "Type 2 Error / Tipped Rides predicted as Untipped: 0.123340321453529\n",
      "\n",
      "Type 1 Error / Untipped Rides predicted as Tipped: 0.14156018829858777\n"
     ]
    }
   ],
   "source": [
    "from sklearn.ensemble import GradientBoostingClassifier\n",
    "\n",
    "X_train, X_test, Y_train, Y_test = train_test_split(X_res, Y1_res , test_size=0.40, random_state=4)\n",
    "\n",
    "clf = GradientBoostingClassifier(max_depth = 10)\n",
    "TipCLF_Split(clf, X_train, Y_train, X_test, Y_test)"
   ]
  },
  {
   "cell_type": "markdown",
   "metadata": {},
   "source": [
    "### Optimizing Gradient Boosting Classifier using Hyperopt"
   ]
  },
  {
   "cell_type": "code",
   "execution_count": 497,
   "metadata": {},
   "outputs": [
    {
     "name": "stdout",
     "output_type": "stream",
     "text": [
      "new best:                                           \n",
      "0.8200822481151474                                  \n",
      "{'criterion': 'entropy', 'max_depth': 15, 'n_estimators': 90}\n",
      "new best:                                                                     \n",
      "0.8379026730637423                                                            \n",
      "{'criterion': 'gini', 'max_depth': 18, 'n_estimators': 96}                    \n",
      "new best:                                                                     \n",
      "0.8400445510623715                                                            \n",
      "{'criterion': 'entropy', 'max_depth': 19, 'n_estimators': 93}                 \n",
      "100%|██████████| 20/20 [00:59<00:00,  2.55s/it, best loss: -0.8400445510623715]\n",
      "best:\n",
      "{'criterion': 1, 'max_depth': 18, 'n_estimators': 3}\n"
     ]
    }
   ],
   "source": [
    "from hyperopt import hp, tpe, fmin, Trials, STATUS_OK\n",
    "\n",
    "X_train, X_test, Y_train, Y_test = train_test_split(X_res, Y1_res , test_size=0.40, random_state=4)\n",
    "\n",
    "def hyperopt_train_test(params):\n",
    "    clf = GradientBoostingClassifier(**params)\n",
    "    clf.fit(X_train, Y_train)\n",
    "    preds = clf.predict(X_test)\n",
    "    pred_counts = pd.Series(preds == Y_test).value_counts()\n",
    "    return pred_counts[1]/pred_counts.sum()\n",
    "    #return cross_val_score(clf, X, y).mean()\n",
    "\n",
    "space4rf = {\n",
    "    'max_depth': hp.uniform('max_depth', range(0,)),\n",
    "     #'max_features': hp.choice('max_features', range(1,5)),\n",
    "    'learning_rate': hp.choice('learning_rate', []\n",
    "    'n_estimators': hp.choice('n_estimators', range(10,100)),\n",
    "    'criterion': hp.choice('criterion', [\"gini\", \"entropy\"]),\n",
    "}\n",
    "\n",
    "best = 0\n",
    "\n",
    "def f(params):\n",
    "    global best\n",
    "    acc = hyperopt_train_test(params)\n",
    "    if acc > best:\n",
    "        best = acc\n",
    "        print('new best:', best, params)\n",
    "    return {'loss': -acc, 'status': STATUS_OK}\n",
    "\n",
    "trials = Trials()\n",
    "\n",
    "best = fmin(f, space4rf, algo=tpe.suggest, max_evals = 200, trials=trials)\n",
    "print('best:')\n",
    "print(best)"
   ]
  },
  {
   "cell_type": "markdown",
   "metadata": {},
   "source": [
    "Conclusion:\n",
    "\n",
    "After four model iterations, the gradient boosting classifier resulted in the highest accuracy rate to predict whether a ride would result in the passenger tipping the rider at 87.73% overall accuracy, and Type 2 error of 12.3% and Type 1 error of 14.15%. This is all without using data about the driver's performance and customer service aptitude, but simply using data.\n",
    "\n",
    "The training data was resampled using SMOTE to create a 50/50 split between tipped and untipped rides, and this new resampled data set was used to fit the models. The GBC model resulted in 86.73% accuracy rate which corresponds closely to the 17.14% tipping rate of original data classes. Thus, it is not clear whether the accuracy is significantly different from random guessing.\n",
    "\n",
    "Hyperopt was employed to optimize the parameters of the GBC model, but the overall accuracy (using the same training and test data) was not improved using the parameter space indicated.\n",
    "\n",
    "---------\n",
    "\n",
    "Overall, this model is imporant in predicting tips based solely on the logistics of the ride that the driver (weather, dropoff, locations) and is a great compliment when predicting tips, if as employee of ride hailing service, I can then complement more rigorous data on driver and passenger behavior into tipping predictions.\n",
    "\n",
    "Also, understanding how drivers are being compensated can help to improve who drivers are being compensated, both on the driver side and the business side.\n",
    "\n",
    "Learning to predict tips can also help drivers more strategically plan their rides if they consider the geographic and temporal factors of tipping behavior."
   ]
  },
  {
   "cell_type": "code",
   "execution_count": null,
   "metadata": {},
   "outputs": [],
   "source": []
  }
 ],
 "metadata": {
  "kernelspec": {
   "display_name": "Python 3",
   "language": "python",
   "name": "python3"
  },
  "language_info": {
   "codemirror_mode": {
    "name": "ipython",
    "version": 3
   },
   "file_extension": ".py",
   "mimetype": "text/x-python",
   "name": "python",
   "nbconvert_exporter": "python",
   "pygments_lexer": "ipython3",
   "version": "3.7.4"
  }
 },
 "nbformat": 4,
 "nbformat_minor": 2
}
