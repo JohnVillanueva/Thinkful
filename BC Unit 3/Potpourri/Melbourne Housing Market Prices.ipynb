{
 "cells": [
  {
   "cell_type": "code",
   "execution_count": 1,
   "metadata": {},
   "outputs": [],
   "source": [
    "import pandas as pd\n",
    "import numpy as np\n",
    "import matplotlib.pyplot as plt\n",
    "import seaborn as sns\n",
    "\n",
    "housing = pd.read_csv('../../__DATA__/melbourne-housing-market/Melbourne_housing_FULL.csv')\n",
    "display(housing.head())\n",
    "print(housing.columns)\n",
    "print(housing.shape)\n",
    "\n",
    "housing.isna().sum()"
   ]
  },
  {
   "cell_type": "markdown",
   "metadata": {},
   "source": [
    "### Preliminary Notes; Brainstorming\n",
    "- Bedrooms: Aggregate an average between the two columns\n",
    "- Prices: Remove the data points where price is missing, since this is supervised learning and that's the exact varable that we're trying to predict.\n",
    "- Distance: Fill manually based on suburb; Fill based on KNN or look at other suburbs (Datawig sounds best; allows imputation of target variable based on specified variables.\n",
    "- Postcode: Fill manually based on suburb. Or Datawig or KNN\n",
    "- Region Name: Datawig or KNN\n",
    "- Property Count: Datawig or KNN\n",
    "- Council Area: KNN or Datawig\n",
    "- Bathroom\n",
    "- Car\n",
    "- Landsize\n",
    "- Building Area\n",
    "- Year Built: \n",
    "\n"
   ]
  },
  {
   "cell_type": "code",
   "execution_count": 4,
   "metadata": {},
   "outputs": [
    {
     "data": {
      "text/html": [
       "<div>\n",
       "<style scoped>\n",
       "    .dataframe tbody tr th:only-of-type {\n",
       "        vertical-align: middle;\n",
       "    }\n",
       "\n",
       "    .dataframe tbody tr th {\n",
       "        vertical-align: top;\n",
       "    }\n",
       "\n",
       "    .dataframe thead th {\n",
       "        text-align: right;\n",
       "    }\n",
       "</style>\n",
       "<table border=\"1\" class=\"dataframe\">\n",
       "  <thead>\n",
       "    <tr style=\"text-align: right;\">\n",
       "      <th></th>\n",
       "      <th>Rooms</th>\n",
       "      <th>Price</th>\n",
       "      <th>Distance</th>\n",
       "      <th>Postcode</th>\n",
       "      <th>Bedroom2</th>\n",
       "      <th>Bathroom</th>\n",
       "      <th>Car</th>\n",
       "      <th>Landsize</th>\n",
       "      <th>BuildingArea</th>\n",
       "      <th>YearBuilt</th>\n",
       "      <th>Lattitude</th>\n",
       "      <th>Longtitude</th>\n",
       "      <th>Propertycount</th>\n",
       "    </tr>\n",
       "  </thead>\n",
       "  <tbody>\n",
       "    <tr>\n",
       "      <th>count</th>\n",
       "      <td>34857.000000</td>\n",
       "      <td>2.724700e+04</td>\n",
       "      <td>34856.000000</td>\n",
       "      <td>34856.000000</td>\n",
       "      <td>26640.000000</td>\n",
       "      <td>26631.000000</td>\n",
       "      <td>26129.000000</td>\n",
       "      <td>23047.000000</td>\n",
       "      <td>13742.00000</td>\n",
       "      <td>15551.000000</td>\n",
       "      <td>26881.000000</td>\n",
       "      <td>26881.000000</td>\n",
       "      <td>34854.000000</td>\n",
       "    </tr>\n",
       "    <tr>\n",
       "      <th>mean</th>\n",
       "      <td>3.031012</td>\n",
       "      <td>1.050173e+06</td>\n",
       "      <td>11.184929</td>\n",
       "      <td>3116.062859</td>\n",
       "      <td>3.084647</td>\n",
       "      <td>1.624798</td>\n",
       "      <td>1.728845</td>\n",
       "      <td>593.598993</td>\n",
       "      <td>160.25640</td>\n",
       "      <td>1965.289885</td>\n",
       "      <td>-37.810634</td>\n",
       "      <td>145.001851</td>\n",
       "      <td>7572.888306</td>\n",
       "    </tr>\n",
       "    <tr>\n",
       "      <th>std</th>\n",
       "      <td>0.969933</td>\n",
       "      <td>6.414671e+05</td>\n",
       "      <td>6.788892</td>\n",
       "      <td>109.023903</td>\n",
       "      <td>0.980690</td>\n",
       "      <td>0.724212</td>\n",
       "      <td>1.010771</td>\n",
       "      <td>3398.841946</td>\n",
       "      <td>401.26706</td>\n",
       "      <td>37.328178</td>\n",
       "      <td>0.090279</td>\n",
       "      <td>0.120169</td>\n",
       "      <td>4428.090313</td>\n",
       "    </tr>\n",
       "    <tr>\n",
       "      <th>min</th>\n",
       "      <td>1.000000</td>\n",
       "      <td>8.500000e+04</td>\n",
       "      <td>0.000000</td>\n",
       "      <td>3000.000000</td>\n",
       "      <td>0.000000</td>\n",
       "      <td>0.000000</td>\n",
       "      <td>0.000000</td>\n",
       "      <td>0.000000</td>\n",
       "      <td>0.00000</td>\n",
       "      <td>1196.000000</td>\n",
       "      <td>-38.190430</td>\n",
       "      <td>144.423790</td>\n",
       "      <td>83.000000</td>\n",
       "    </tr>\n",
       "    <tr>\n",
       "      <th>25%</th>\n",
       "      <td>2.000000</td>\n",
       "      <td>6.350000e+05</td>\n",
       "      <td>6.400000</td>\n",
       "      <td>3051.000000</td>\n",
       "      <td>2.000000</td>\n",
       "      <td>1.000000</td>\n",
       "      <td>1.000000</td>\n",
       "      <td>224.000000</td>\n",
       "      <td>102.00000</td>\n",
       "      <td>1940.000000</td>\n",
       "      <td>-37.862950</td>\n",
       "      <td>144.933500</td>\n",
       "      <td>4385.000000</td>\n",
       "    </tr>\n",
       "    <tr>\n",
       "      <th>50%</th>\n",
       "      <td>3.000000</td>\n",
       "      <td>8.700000e+05</td>\n",
       "      <td>10.300000</td>\n",
       "      <td>3103.000000</td>\n",
       "      <td>3.000000</td>\n",
       "      <td>2.000000</td>\n",
       "      <td>2.000000</td>\n",
       "      <td>521.000000</td>\n",
       "      <td>136.00000</td>\n",
       "      <td>1970.000000</td>\n",
       "      <td>-37.807600</td>\n",
       "      <td>145.007800</td>\n",
       "      <td>6763.000000</td>\n",
       "    </tr>\n",
       "    <tr>\n",
       "      <th>75%</th>\n",
       "      <td>4.000000</td>\n",
       "      <td>1.295000e+06</td>\n",
       "      <td>14.000000</td>\n",
       "      <td>3156.000000</td>\n",
       "      <td>4.000000</td>\n",
       "      <td>2.000000</td>\n",
       "      <td>2.000000</td>\n",
       "      <td>670.000000</td>\n",
       "      <td>188.00000</td>\n",
       "      <td>2000.000000</td>\n",
       "      <td>-37.754100</td>\n",
       "      <td>145.071900</td>\n",
       "      <td>10412.000000</td>\n",
       "    </tr>\n",
       "    <tr>\n",
       "      <th>max</th>\n",
       "      <td>16.000000</td>\n",
       "      <td>1.120000e+07</td>\n",
       "      <td>48.100000</td>\n",
       "      <td>3978.000000</td>\n",
       "      <td>30.000000</td>\n",
       "      <td>12.000000</td>\n",
       "      <td>26.000000</td>\n",
       "      <td>433014.000000</td>\n",
       "      <td>44515.00000</td>\n",
       "      <td>2106.000000</td>\n",
       "      <td>-37.390200</td>\n",
       "      <td>145.526350</td>\n",
       "      <td>21650.000000</td>\n",
       "    </tr>\n",
       "  </tbody>\n",
       "</table>\n",
       "</div>"
      ],
      "text/plain": [
       "              Rooms         Price      Distance      Postcode      Bedroom2  \\\n",
       "count  34857.000000  2.724700e+04  34856.000000  34856.000000  26640.000000   \n",
       "mean       3.031012  1.050173e+06     11.184929   3116.062859      3.084647   \n",
       "std        0.969933  6.414671e+05      6.788892    109.023903      0.980690   \n",
       "min        1.000000  8.500000e+04      0.000000   3000.000000      0.000000   \n",
       "25%        2.000000  6.350000e+05      6.400000   3051.000000      2.000000   \n",
       "50%        3.000000  8.700000e+05     10.300000   3103.000000      3.000000   \n",
       "75%        4.000000  1.295000e+06     14.000000   3156.000000      4.000000   \n",
       "max       16.000000  1.120000e+07     48.100000   3978.000000     30.000000   \n",
       "\n",
       "           Bathroom           Car       Landsize  BuildingArea     YearBuilt  \\\n",
       "count  26631.000000  26129.000000   23047.000000   13742.00000  15551.000000   \n",
       "mean       1.624798      1.728845     593.598993     160.25640   1965.289885   \n",
       "std        0.724212      1.010771    3398.841946     401.26706     37.328178   \n",
       "min        0.000000      0.000000       0.000000       0.00000   1196.000000   \n",
       "25%        1.000000      1.000000     224.000000     102.00000   1940.000000   \n",
       "50%        2.000000      2.000000     521.000000     136.00000   1970.000000   \n",
       "75%        2.000000      2.000000     670.000000     188.00000   2000.000000   \n",
       "max       12.000000     26.000000  433014.000000   44515.00000   2106.000000   \n",
       "\n",
       "          Lattitude    Longtitude  Propertycount  \n",
       "count  26881.000000  26881.000000   34854.000000  \n",
       "mean     -37.810634    145.001851    7572.888306  \n",
       "std        0.090279      0.120169    4428.090313  \n",
       "min      -38.190430    144.423790      83.000000  \n",
       "25%      -37.862950    144.933500    4385.000000  \n",
       "50%      -37.807600    145.007800    6763.000000  \n",
       "75%      -37.754100    145.071900   10412.000000  \n",
       "max      -37.390200    145.526350   21650.000000  "
      ]
     },
     "execution_count": 4,
     "metadata": {},
     "output_type": "execute_result"
    }
   ],
   "source": [
    "housing.describe()"
   ]
  },
  {
   "cell_type": "code",
   "execution_count": 12,
   "metadata": {},
   "outputs": [
    {
     "name": "stdout",
     "output_type": "stream",
     "text": [
      "<class 'pandas.core.frame.DataFrame'>\n",
      "RangeIndex: 34857 entries, 0 to 34856\n",
      "Data columns (total 21 columns):\n",
      "Suburb           34857 non-null object\n",
      "Address          34857 non-null object\n",
      "Rooms            34857 non-null int64\n",
      "Type             34857 non-null object\n",
      "Price            27247 non-null float64\n",
      "Method           34857 non-null object\n",
      "SellerG          34857 non-null object\n",
      "Date             34857 non-null object\n",
      "Distance         34856 non-null float64\n",
      "Postcode         34856 non-null float64\n",
      "Bedroom2         26640 non-null float64\n",
      "Bathroom         26631 non-null float64\n",
      "Car              26129 non-null float64\n",
      "Landsize         23047 non-null float64\n",
      "BuildingArea     13742 non-null float64\n",
      "YearBuilt        15551 non-null float64\n",
      "CouncilArea      34854 non-null object\n",
      "Lattitude        26881 non-null float64\n",
      "Longtitude       26881 non-null float64\n",
      "Regionname       34854 non-null object\n",
      "Propertycount    34854 non-null float64\n",
      "dtypes: float64(12), int64(1), object(8)\n",
      "memory usage: 5.6+ MB\n"
     ]
    },
    {
     "data": {
      "text/plain": [
       "NoneType"
      ]
     },
     "execution_count": 12,
     "metadata": {},
     "output_type": "execute_result"
    }
   ],
   "source": []
  },
  {
   "cell_type": "code",
   "execution_count": 17,
   "metadata": {},
   "outputs": [
    {
     "name": "stdout",
     "output_type": "stream",
     "text": [
      "Suburb column has 351 unique categories.\n",
      "Address column has 34009 unique categories.\n",
      "Type column has 3 unique categories.\n",
      "Method column has 9 unique categories.\n",
      "SellerG column has 388 unique categories.\n",
      "Date column has 78 unique categories.\n",
      "CouncilArea column has 33 unique categories.\n",
      "Regionname column has 8 unique categories.\n"
     ]
    }
   ],
   "source": [
    "for col in housing.columns:\n",
    "    if type(housing.copy().dropna(axis=0, how='any').reset_index()[col][0]) == str:\n",
    "        print('{} column has {} unique categories.'.format(col, housing[col].nunique()))"
   ]
  },
  {
   "cell_type": "code",
   "execution_count": 68,
   "metadata": {},
   "outputs": [
    {
     "data": {
      "text/plain": [
       "{'whiskers': [<matplotlib.lines.Line2D at 0x14f923c50>,\n",
       "  <matplotlib.lines.Line2D at 0x14f0920d0>],\n",
       " 'caps': [<matplotlib.lines.Line2D at 0x14f5ca710>,\n",
       "  <matplotlib.lines.Line2D at 0x133a03f90>],\n",
       " 'boxes': [<matplotlib.lines.Line2D at 0x14f092850>],\n",
       " 'medians': [<matplotlib.lines.Line2D at 0x14e4058d0>],\n",
       " 'fliers': [<matplotlib.lines.Line2D at 0x14f092710>],\n",
       " 'means': []}"
      ]
     },
     "execution_count": 68,
     "metadata": {},
     "output_type": "execute_result"
    },
    {
     "data": {
      "image/png": "[encoded data removed]",
      "text/plain": [
       "<Figure size 432x288 with 1 Axes>"
      ]
     },
     "metadata": {
      "needs_background": "light"
     },
     "output_type": "display_data"
    }
   ],
   "source": []
  },
  {
   "cell_type": "markdown",
   "metadata": {},
   "source": [
    "### Potential Feature Engineering Ideas:\n",
    "(For if or when they come to me)\n",
    "- Bedroom Average"
   ]
  },
  {
   "cell_type": "code",
   "execution_count": 18,
   "metadata": {},
   "outputs": [
    {
     "data": {
      "text/plain": [
       "Rooms             0.499097\n",
       "Price             2.588969\n",
       "Distance          1.503586\n",
       "Postcode          4.018786\n",
       "Bedroom2          1.406366\n",
       "Bathroom          1.356293\n",
       "Car               2.095176\n",
       "Landsize         96.022311\n",
       "BuildingArea     99.132579\n",
       "YearBuilt        -1.080913\n",
       "Lattitude        -0.257661\n",
       "Longtitude       -0.394880\n",
       "Propertycount     0.992100\n",
       "dtype: float64"
      ]
     },
     "execution_count": 18,
     "metadata": {},
     "output_type": "execute_result"
    }
   ],
   "source": [
    "housing.skew()"
   ]
  },
  {
   "cell_type": "markdown",
   "metadata": {},
   "source": [
    "Notes: \n",
    "\n",
    "- Despite the fact that binarizing the categorical variables will drastically increase the feature dimensions, I do not want to use dimension reduction so that I can easily interpret the coefficents that regression produces.\n",
    "- Creating pipelines for imputation, preprocessing, \n",
    "- Revisit the assumptions for linear regression to work. After messing with interpretable linear regression to a full\n",
    "- Note that the test set must always be PCA transformed based on a PCA fitting of it's corresponding train set"
   ]
  },
  {
   "cell_type": "markdown",
   "metadata": {},
   "source": [
    "Mapping Out Workflow:\n",
    "1. Impute smaller set of missing values manually using KNN. Or if that's too complicated I can just drop those values from the data set as a whole. Also drop all missing price rows.\n",
    "2. Impute rest of variable using datawig neural network imputer; do not impute based on prices ever. Autoimpute Actually with a Stochastic Strategy\n",
    "3. Check for normality and linear regression requirements. Normalize column distributions as necessary, including the price. And yes, it's okay for test and train data to be transformed seperately, rather than together, transformation functions are not dependent on the variables they transform, either works. Also consider any multicollinearity at this stage.\n",
    "4. Create imputation and Preprocessing Funcations functions for the purpose of implementing in a pipeline.\n",
    "5. Fit, Test, and Crossvalidate Models\n",
    "6. If using linear regression without regularization, analyze regressed coefficients, and check for normality and homoscedasticity of the errors."
   ]
  },
  {
   "cell_type": "markdown",
   "metadata": {},
   "source": [
    "### Pre-Pipeline Cleaning\n",
    "Before the dataset is set for pipelining through train and test set processing, some missing values need to be removed. Any row without a price will be removed since we are trying to train the model on that specific label."
   ]
  },
  {
   "cell_type": "code",
   "execution_count": 19,
   "metadata": {},
   "outputs": [
    {
     "data": {
      "text/plain": [
       "Index(['Suburb', 'Address', 'Rooms', 'Type', 'Price', 'Method', 'SellerG',\n",
       "       'Date', 'Distance', 'Postcode', 'Bedroom2', 'Bathroom', 'Car',\n",
       "       'Landsize', 'BuildingArea', 'YearBuilt', 'CouncilArea', 'Lattitude',\n",
       "       'Longtitude', 'Regionname', 'Propertycount'],\n",
       "      dtype='object')"
      ]
     },
     "execution_count": 19,
     "metadata": {},
     "output_type": "execute_result"
    }
   ],
   "source": [
    "housing.columns"
   ]
  },
  {
   "cell_type": "code",
   "execution_count": 21,
   "metadata": {},
   "outputs": [
    {
     "name": "stdout",
     "output_type": "stream",
     "text": [
      "Suburb               0\n",
      "Address              0\n",
      "Rooms                0\n",
      "Type                 0\n",
      "Price                0\n",
      "Method               0\n",
      "SellerG              0\n",
      "Date                 0\n",
      "Distance             0\n",
      "Postcode             0\n",
      "Bedroom2          6438\n",
      "Bathroom          6444\n",
      "Car               6821\n",
      "Landsize          9262\n",
      "BuildingArea     16588\n",
      "YearBuilt        15160\n",
      "CouncilArea          0\n",
      "Lattitude         6251\n",
      "Longtitude        6251\n",
      "Regionname           0\n",
      "Propertycount        0\n",
      "dtype: int64\n"
     ]
    },
    {
     "data": {
      "text/plain": [
       "(27244, 21)"
      ]
     },
     "execution_count": 21,
     "metadata": {},
     "output_type": "execute_result"
    }
   ],
   "source": [
    "# Removing rows with missing values from select columns\n",
    "rows_to_drop = ['Price', 'Distance', 'Postcode', 'CouncilArea', 'Regionname', 'Propertycount']\n",
    "housing = housing.dropna(how='any', subset = rows_to_drop)\n",
    "print(housing.isna().sum())\n",
    "housing.shape"
   ]
  },
  {
   "cell_type": "code",
   "execution_count": 73,
   "metadata": {},
   "outputs": [
    {
     "data": {
      "text/plain": [
       "Suburb            object\n",
       "Address           object\n",
       "Type              object\n",
       "Price            float64\n",
       "Method            object\n",
       "SellerG           object\n",
       "Date              object\n",
       "Distance         float64\n",
       "Postcode          object\n",
       "Bathroom         float64\n",
       "Car              float64\n",
       "Landsize         float64\n",
       "BuildingArea     float64\n",
       "YearBuilt        float64\n",
       "CouncilArea       object\n",
       "Lattitude        float64\n",
       "Longtitude       float64\n",
       "Regionname        object\n",
       "Propertycount    float64\n",
       "room_avg         float64\n",
       "dtype: object"
      ]
     },
     "execution_count": 73,
     "metadata": {},
     "output_type": "execute_result"
    }
   ],
   "source": [
    "# Changing postal code to a categorical dtype of object/string\n",
    "housing['Postcode'] = pd.to_numeric(housing['Postcode']).astype(int).astype(str)\n",
    "housing.dtypes"
   ]
  },
  {
   "cell_type": "code",
   "execution_count": 76,
   "metadata": {},
   "outputs": [
    {
     "data": {
      "text/html": [
       "<div>\n",
       "<style scoped>\n",
       "    .dataframe tbody tr th:only-of-type {\n",
       "        vertical-align: middle;\n",
       "    }\n",
       "\n",
       "    .dataframe tbody tr th {\n",
       "        vertical-align: top;\n",
       "    }\n",
       "\n",
       "    .dataframe thead th {\n",
       "        text-align: right;\n",
       "    }\n",
       "</style>\n",
       "<table border=\"1\" class=\"dataframe\">\n",
       "  <thead>\n",
       "    <tr style=\"text-align: right;\">\n",
       "      <th></th>\n",
       "      <th>Suburb</th>\n",
       "      <th>Address</th>\n",
       "      <th>Type</th>\n",
       "      <th>Price</th>\n",
       "      <th>Method</th>\n",
       "      <th>SellerG</th>\n",
       "      <th>Date</th>\n",
       "      <th>Distance</th>\n",
       "      <th>Postcode</th>\n",
       "      <th>Bathroom</th>\n",
       "      <th>Car</th>\n",
       "      <th>Landsize</th>\n",
       "      <th>BuildingArea</th>\n",
       "      <th>YearBuilt</th>\n",
       "      <th>CouncilArea</th>\n",
       "      <th>Lattitude</th>\n",
       "      <th>Longtitude</th>\n",
       "      <th>Regionname</th>\n",
       "      <th>Propertycount</th>\n",
       "      <th>room_avg</th>\n",
       "    </tr>\n",
       "  </thead>\n",
       "  <tbody>\n",
       "    <tr>\n",
       "      <th>1</th>\n",
       "      <td>Abbotsford</td>\n",
       "      <td>85 Turner St</td>\n",
       "      <td>h</td>\n",
       "      <td>1480000.0</td>\n",
       "      <td>S</td>\n",
       "      <td>Biggin</td>\n",
       "      <td>736035</td>\n",
       "      <td>2.5</td>\n",
       "      <td>3067</td>\n",
       "      <td>1.0</td>\n",
       "      <td>1.0</td>\n",
       "      <td>202.0</td>\n",
       "      <td>NaN</td>\n",
       "      <td>NaN</td>\n",
       "      <td>Yarra City Council</td>\n",
       "      <td>-37.7996</td>\n",
       "      <td>144.9984</td>\n",
       "      <td>Northern Metropolitan</td>\n",
       "      <td>4019.0</td>\n",
       "      <td>2.0</td>\n",
       "    </tr>\n",
       "    <tr>\n",
       "      <th>2</th>\n",
       "      <td>Abbotsford</td>\n",
       "      <td>25 Bloomburg St</td>\n",
       "      <td>h</td>\n",
       "      <td>1035000.0</td>\n",
       "      <td>S</td>\n",
       "      <td>Biggin</td>\n",
       "      <td>736056</td>\n",
       "      <td>2.5</td>\n",
       "      <td>3067</td>\n",
       "      <td>1.0</td>\n",
       "      <td>0.0</td>\n",
       "      <td>156.0</td>\n",
       "      <td>79.0</td>\n",
       "      <td>1900.0</td>\n",
       "      <td>Yarra City Council</td>\n",
       "      <td>-37.8079</td>\n",
       "      <td>144.9934</td>\n",
       "      <td>Northern Metropolitan</td>\n",
       "      <td>4019.0</td>\n",
       "      <td>2.0</td>\n",
       "    </tr>\n",
       "    <tr>\n",
       "      <th>4</th>\n",
       "      <td>Abbotsford</td>\n",
       "      <td>5 Charles St</td>\n",
       "      <td>h</td>\n",
       "      <td>1465000.0</td>\n",
       "      <td>SP</td>\n",
       "      <td>Biggin</td>\n",
       "      <td>736422</td>\n",
       "      <td>2.5</td>\n",
       "      <td>3067</td>\n",
       "      <td>2.0</td>\n",
       "      <td>0.0</td>\n",
       "      <td>134.0</td>\n",
       "      <td>150.0</td>\n",
       "      <td>1900.0</td>\n",
       "      <td>Yarra City Council</td>\n",
       "      <td>-37.8093</td>\n",
       "      <td>144.9944</td>\n",
       "      <td>Northern Metropolitan</td>\n",
       "      <td>4019.0</td>\n",
       "      <td>3.0</td>\n",
       "    </tr>\n",
       "    <tr>\n",
       "      <th>5</th>\n",
       "      <td>Abbotsford</td>\n",
       "      <td>40 Federation La</td>\n",
       "      <td>h</td>\n",
       "      <td>850000.0</td>\n",
       "      <td>PI</td>\n",
       "      <td>Biggin</td>\n",
       "      <td>736422</td>\n",
       "      <td>2.5</td>\n",
       "      <td>3067</td>\n",
       "      <td>2.0</td>\n",
       "      <td>1.0</td>\n",
       "      <td>94.0</td>\n",
       "      <td>NaN</td>\n",
       "      <td>NaN</td>\n",
       "      <td>Yarra City Council</td>\n",
       "      <td>-37.7969</td>\n",
       "      <td>144.9969</td>\n",
       "      <td>Northern Metropolitan</td>\n",
       "      <td>4019.0</td>\n",
       "      <td>3.0</td>\n",
       "    </tr>\n",
       "    <tr>\n",
       "      <th>6</th>\n",
       "      <td>Abbotsford</td>\n",
       "      <td>55a Park St</td>\n",
       "      <td>h</td>\n",
       "      <td>1600000.0</td>\n",
       "      <td>VB</td>\n",
       "      <td>Nelson</td>\n",
       "      <td>736060</td>\n",
       "      <td>2.5</td>\n",
       "      <td>3067</td>\n",
       "      <td>1.0</td>\n",
       "      <td>2.0</td>\n",
       "      <td>120.0</td>\n",
       "      <td>142.0</td>\n",
       "      <td>2014.0</td>\n",
       "      <td>Yarra City Council</td>\n",
       "      <td>-37.8072</td>\n",
       "      <td>144.9941</td>\n",
       "      <td>Northern Metropolitan</td>\n",
       "      <td>4019.0</td>\n",
       "      <td>3.5</td>\n",
       "    </tr>\n",
       "  </tbody>\n",
       "</table>\n",
       "</div>"
      ],
      "text/plain": [
       "       Suburb           Address Type      Price Method SellerG    Date  \\\n",
       "1  Abbotsford      85 Turner St    h  1480000.0      S  Biggin  736035   \n",
       "2  Abbotsford   25 Bloomburg St    h  1035000.0      S  Biggin  736056   \n",
       "4  Abbotsford      5 Charles St    h  1465000.0     SP  Biggin  736422   \n",
       "5  Abbotsford  40 Federation La    h   850000.0     PI  Biggin  736422   \n",
       "6  Abbotsford       55a Park St    h  1600000.0     VB  Nelson  736060   \n",
       "\n",
       "   Distance Postcode  Bathroom  Car  Landsize  BuildingArea  YearBuilt  \\\n",
       "1       2.5     3067       1.0  1.0     202.0           NaN        NaN   \n",
       "2       2.5     3067       1.0  0.0     156.0          79.0     1900.0   \n",
       "4       2.5     3067       2.0  0.0     134.0         150.0     1900.0   \n",
       "5       2.5     3067       2.0  1.0      94.0           NaN        NaN   \n",
       "6       2.5     3067       1.0  2.0     120.0         142.0     2014.0   \n",
       "\n",
       "          CouncilArea  Lattitude  Longtitude             Regionname  \\\n",
       "1  Yarra City Council   -37.7996    144.9984  Northern Metropolitan   \n",
       "2  Yarra City Council   -37.8079    144.9934  Northern Metropolitan   \n",
       "4  Yarra City Council   -37.8093    144.9944  Northern Metropolitan   \n",
       "5  Yarra City Council   -37.7969    144.9969  Northern Metropolitan   \n",
       "6  Yarra City Council   -37.8072    144.9941  Northern Metropolitan   \n",
       "\n",
       "   Propertycount  room_avg  \n",
       "1         4019.0       2.0  \n",
       "2         4019.0       2.0  \n",
       "4         4019.0       3.0  \n",
       "5         4019.0       3.0  \n",
       "6         4019.0       3.5  "
      ]
     },
     "metadata": {},
     "output_type": "display_data"
    },
    {
     "data": {
      "text/plain": [
       "Suburb            object\n",
       "Address           object\n",
       "Type              object\n",
       "Price            float64\n",
       "Method            object\n",
       "SellerG           object\n",
       "Date               int64\n",
       "Distance         float64\n",
       "Postcode          object\n",
       "Bathroom         float64\n",
       "Car              float64\n",
       "Landsize         float64\n",
       "BuildingArea     float64\n",
       "YearBuilt        float64\n",
       "CouncilArea       object\n",
       "Lattitude        float64\n",
       "Longtitude       float64\n",
       "Regionname        object\n",
       "Propertycount    float64\n",
       "room_avg         float64\n",
       "dtype: object"
      ]
     },
     "execution_count": 76,
     "metadata": {},
     "output_type": "execute_result"
    }
   ],
   "source": [
    "# Changing date column into appropriate, useable data type for regression\n",
    "import datetime as dt\n",
    "housing['Date'] = pd.to_datetime(housing['Date'])\n",
    "housing['Date'] = housing['Date'].map(dt.datetime.toordinal)\n",
    "display(housing.head())\n",
    "housing.dtypes"
   ]
  },
  {
   "cell_type": "markdown",
   "metadata": {},
   "source": [
    "### Finding and eliminating outliers"
   ]
  },
  {
   "cell_type": "code",
   "execution_count": 77,
   "metadata": {},
   "outputs": [
    {
     "data": {
      "text/html": [
       "<div>\n",
       "<style scoped>\n",
       "    .dataframe tbody tr th:only-of-type {\n",
       "        vertical-align: middle;\n",
       "    }\n",
       "\n",
       "    .dataframe tbody tr th {\n",
       "        vertical-align: top;\n",
       "    }\n",
       "\n",
       "    .dataframe thead th {\n",
       "        text-align: right;\n",
       "    }\n",
       "</style>\n",
       "<table border=\"1\" class=\"dataframe\">\n",
       "  <thead>\n",
       "    <tr style=\"text-align: right;\">\n",
       "      <th></th>\n",
       "      <th>Price</th>\n",
       "      <th>Date</th>\n",
       "      <th>Distance</th>\n",
       "      <th>Bathroom</th>\n",
       "      <th>Car</th>\n",
       "      <th>Landsize</th>\n",
       "      <th>BuildingArea</th>\n",
       "      <th>YearBuilt</th>\n",
       "      <th>Lattitude</th>\n",
       "      <th>Longtitude</th>\n",
       "      <th>Propertycount</th>\n",
       "      <th>room_avg</th>\n",
       "    </tr>\n",
       "  </thead>\n",
       "  <tbody>\n",
       "    <tr>\n",
       "      <th>1</th>\n",
       "      <td>1480000.0</td>\n",
       "      <td>736035</td>\n",
       "      <td>2.5</td>\n",
       "      <td>1.0</td>\n",
       "      <td>1.0</td>\n",
       "      <td>202.0</td>\n",
       "      <td>NaN</td>\n",
       "      <td>NaN</td>\n",
       "      <td>-37.7996</td>\n",
       "      <td>144.9984</td>\n",
       "      <td>4019.0</td>\n",
       "      <td>2.0</td>\n",
       "    </tr>\n",
       "    <tr>\n",
       "      <th>2</th>\n",
       "      <td>1035000.0</td>\n",
       "      <td>736056</td>\n",
       "      <td>2.5</td>\n",
       "      <td>1.0</td>\n",
       "      <td>0.0</td>\n",
       "      <td>156.0</td>\n",
       "      <td>79.0</td>\n",
       "      <td>1900.0</td>\n",
       "      <td>-37.8079</td>\n",
       "      <td>144.9934</td>\n",
       "      <td>4019.0</td>\n",
       "      <td>2.0</td>\n",
       "    </tr>\n",
       "    <tr>\n",
       "      <th>4</th>\n",
       "      <td>1465000.0</td>\n",
       "      <td>736422</td>\n",
       "      <td>2.5</td>\n",
       "      <td>2.0</td>\n",
       "      <td>0.0</td>\n",
       "      <td>134.0</td>\n",
       "      <td>150.0</td>\n",
       "      <td>1900.0</td>\n",
       "      <td>-37.8093</td>\n",
       "      <td>144.9944</td>\n",
       "      <td>4019.0</td>\n",
       "      <td>3.0</td>\n",
       "    </tr>\n",
       "    <tr>\n",
       "      <th>5</th>\n",
       "      <td>850000.0</td>\n",
       "      <td>736422</td>\n",
       "      <td>2.5</td>\n",
       "      <td>2.0</td>\n",
       "      <td>1.0</td>\n",
       "      <td>94.0</td>\n",
       "      <td>NaN</td>\n",
       "      <td>NaN</td>\n",
       "      <td>-37.7969</td>\n",
       "      <td>144.9969</td>\n",
       "      <td>4019.0</td>\n",
       "      <td>3.0</td>\n",
       "    </tr>\n",
       "    <tr>\n",
       "      <th>6</th>\n",
       "      <td>1600000.0</td>\n",
       "      <td>736060</td>\n",
       "      <td>2.5</td>\n",
       "      <td>1.0</td>\n",
       "      <td>2.0</td>\n",
       "      <td>120.0</td>\n",
       "      <td>142.0</td>\n",
       "      <td>2014.0</td>\n",
       "      <td>-37.8072</td>\n",
       "      <td>144.9941</td>\n",
       "      <td>4019.0</td>\n",
       "      <td>3.5</td>\n",
       "    </tr>\n",
       "  </tbody>\n",
       "</table>\n",
       "</div>"
      ],
      "text/plain": [
       "       Price    Date  Distance  Bathroom  Car  Landsize  BuildingArea  \\\n",
       "1  1480000.0  736035       2.5       1.0  1.0     202.0           NaN   \n",
       "2  1035000.0  736056       2.5       1.0  0.0     156.0          79.0   \n",
       "4  1465000.0  736422       2.5       2.0  0.0     134.0         150.0   \n",
       "5   850000.0  736422       2.5       2.0  1.0      94.0           NaN   \n",
       "6  1600000.0  736060       2.5       1.0  2.0     120.0         142.0   \n",
       "\n",
       "   YearBuilt  Lattitude  Longtitude  Propertycount  room_avg  \n",
       "1        NaN   -37.7996    144.9984         4019.0       2.0  \n",
       "2     1900.0   -37.8079    144.9934         4019.0       2.0  \n",
       "4     1900.0   -37.8093    144.9944         4019.0       3.0  \n",
       "5        NaN   -37.7969    144.9969         4019.0       3.0  \n",
       "6     2014.0   -37.8072    144.9941         4019.0       3.5  "
      ]
     },
     "execution_count": 77,
     "metadata": {},
     "output_type": "execute_result"
    }
   ],
   "source": [
    "housing.select_dtypes(np.number).head()"
   ]
  },
  {
   "cell_type": "code",
   "execution_count": 87,
   "metadata": {},
   "outputs": [
    {
     "data": {
      "image/png": "[encoded data removed]",
      "text/plain": [
       "<Figure size 720x288 with 2 Axes>"
      ]
     },
     "metadata": {
      "needs_background": "light"
     },
     "output_type": "display_data"
    },
    {
     "name": "stdout",
     "output_type": "stream",
     "text": [
      "Outliers:  112\n"
     ]
    },
    {
     "data": {
      "image/png": "[encoded data removed]",
      "text/plain": [
       "<Figure size 720x288 with 2 Axes>"
      ]
     },
     "metadata": {
      "needs_background": "light"
     },
     "output_type": "display_data"
    },
    {
     "name": "stdout",
     "output_type": "stream",
     "text": [
      "Outliers:  0\n"
     ]
    },
    {
     "data": {
      "image/png": "[encoded data removed]",
      "text/plain": [
       "<Figure size 720x288 with 2 Axes>"
      ]
     },
     "metadata": {
      "needs_background": "light"
     },
     "output_type": "display_data"
    },
    {
     "name": "stdout",
     "output_type": "stream",
     "text": [
      "Outliers:  54\n"
     ]
    },
    {
     "data": {
      "image/png": "[encoded data removed]",
      "text/plain": [
       "<Figure size 720x288 with 2 Axes>"
      ]
     },
     "metadata": {
      "needs_background": "light"
     },
     "output_type": "display_data"
    },
    {
     "name": "stdout",
     "output_type": "stream",
     "text": [
      "Outliers:  16\n"
     ]
    },
    {
     "data": {
      "image/png": "[encoded data removed]",
      "text/plain": [
       "<Figure size 720x288 with 2 Axes>"
      ]
     },
     "metadata": {
      "needs_background": "light"
     },
     "output_type": "display_data"
    },
    {
     "name": "stdout",
     "output_type": "stream",
     "text": [
      "Outliers:  46\n"
     ]
    },
    {
     "data": {
      "image/png": "[encoded data removed]",
      "text/plain": [
       "<Figure size 720x288 with 2 Axes>"
      ]
     },
     "metadata": {
      "needs_background": "light"
     },
     "output_type": "display_data"
    },
    {
     "name": "stdout",
     "output_type": "stream",
     "text": [
      "Outliers:  19\n"
     ]
    },
    {
     "data": {
      "image/png": "[encoded data removed]",
      "text/plain": [
       "<Figure size 720x288 with 2 Axes>"
      ]
     },
     "metadata": {
      "needs_background": "light"
     },
     "output_type": "display_data"
    },
    {
     "name": "stdout",
     "output_type": "stream",
     "text": [
      "Outliers:  5\n"
     ]
    },
    {
     "data": {
      "image/png": "[encoded data removed]",
      "text/plain": [
       "<Figure size 720x288 with 2 Axes>"
      ]
     },
     "metadata": {
      "needs_background": "light"
     },
     "output_type": "display_data"
    },
    {
     "name": "stdout",
     "output_type": "stream",
     "text": [
      "Outliers:  1\n"
     ]
    },
    {
     "data": {
      "image/png": "[encoded data removed]",
      "text/plain": [
       "<Figure size 720x288 with 2 Axes>"
      ]
     },
     "metadata": {
      "needs_background": "light"
     },
     "output_type": "display_data"
    },
    {
     "name": "stdout",
     "output_type": "stream",
     "text": [
      "Outliers:  0\n"
     ]
    },
    {
     "data": {
      "image/png": "[encoded data removed]",
      "text/plain": [
       "<Figure size 720x288 with 2 Axes>"
      ]
     },
     "metadata": {
      "needs_background": "light"
     },
     "output_type": "display_data"
    },
    {
     "name": "stdout",
     "output_type": "stream",
     "text": [
      "Outliers:  0\n"
     ]
    },
    {
     "data": {
      "image/png": "[encoded data removed]",
      "text/plain": [
       "<Figure size 720x288 with 2 Axes>"
      ]
     },
     "metadata": {
      "needs_background": "light"
     },
     "output_type": "display_data"
    },
    {
     "name": "stdout",
     "output_type": "stream",
     "text": [
      "Outliers:  0\n"
     ]
    },
    {
     "data": {
      "image/png": "[encoded data removed]",
      "text/plain": [
       "<Figure size 720x288 with 2 Axes>"
      ]
     },
     "metadata": {
      "needs_background": "light"
     },
     "output_type": "display_data"
    },
    {
     "name": "stdout",
     "output_type": "stream",
     "text": [
      "Outliers:  21\n"
     ]
    }
   ],
   "source": [
    "num_cols = housing.select_dtypes(np.number).columns\n",
    "z = 5\n",
    "for col in num_cols:\n",
    "    upper_thresh = housing[col].mean() + housing[col].std()*z\n",
    "    lower_thresh = housing[col].mean() - housing[col].std()*z\n",
    "    plt.figure(figsize = (10,4))\n",
    "    plt.subplot(1,2,1)\n",
    "    plt.hist(housing[col].dropna())\n",
    "    plt.title(col + ' Histogram')\n",
    "    plt.subplot(1,2,2)\n",
    "    plt.boxplot(housing[col].dropna())\n",
    "    plt.title(col + ' Boxplot')\n",
    "    plt.axhline(upper_thresh)\n",
    "    plt.axhline(lower_thresh)\n",
    "    plt.show()\n",
    "    \n",
    "    z_scores = (housing[col] - housing[col].mean())/housing[col].std()\n",
    "    print('Outliers: ',(np.absolute(z_scores) > z).sum())"
   ]
  },
  {
   "cell_type": "code",
   "execution_count": 106,
   "metadata": {},
   "outputs": [
    {
     "data": {
      "text/html": [
       "<div>\n",
       "<style scoped>\n",
       "    .dataframe tbody tr th:only-of-type {\n",
       "        vertical-align: middle;\n",
       "    }\n",
       "\n",
       "    .dataframe tbody tr th {\n",
       "        vertical-align: top;\n",
       "    }\n",
       "\n",
       "    .dataframe thead th {\n",
       "        text-align: right;\n",
       "    }\n",
       "</style>\n",
       "<table border=\"1\" class=\"dataframe\">\n",
       "  <thead>\n",
       "    <tr style=\"text-align: right;\">\n",
       "      <th></th>\n",
       "      <th>Suburb</th>\n",
       "      <th>Address</th>\n",
       "      <th>Type</th>\n",
       "      <th>Price</th>\n",
       "      <th>Method</th>\n",
       "      <th>SellerG</th>\n",
       "      <th>Date</th>\n",
       "      <th>Distance</th>\n",
       "      <th>Postcode</th>\n",
       "      <th>Bathroom</th>\n",
       "      <th>Car</th>\n",
       "      <th>Landsize</th>\n",
       "      <th>BuildingArea</th>\n",
       "      <th>YearBuilt</th>\n",
       "      <th>CouncilArea</th>\n",
       "      <th>Lattitude</th>\n",
       "      <th>Longtitude</th>\n",
       "      <th>Regionname</th>\n",
       "      <th>Propertycount</th>\n",
       "      <th>room_avg</th>\n",
       "    </tr>\n",
       "  </thead>\n",
       "  <tbody>\n",
       "    <tr>\n",
       "      <th>1</th>\n",
       "      <td>Abbotsford</td>\n",
       "      <td>85 Turner St</td>\n",
       "      <td>h</td>\n",
       "      <td>1480000.0</td>\n",
       "      <td>S</td>\n",
       "      <td>Biggin</td>\n",
       "      <td>736035</td>\n",
       "      <td>2.5</td>\n",
       "      <td>3067</td>\n",
       "      <td>1.0</td>\n",
       "      <td>1.0</td>\n",
       "      <td>202.0</td>\n",
       "      <td>NaN</td>\n",
       "      <td>NaN</td>\n",
       "      <td>Yarra City Council</td>\n",
       "      <td>-37.7996</td>\n",
       "      <td>144.9984</td>\n",
       "      <td>Northern Metropolitan</td>\n",
       "      <td>4019.0</td>\n",
       "      <td>2.0</td>\n",
       "    </tr>\n",
       "    <tr>\n",
       "      <th>2</th>\n",
       "      <td>Abbotsford</td>\n",
       "      <td>25 Bloomburg St</td>\n",
       "      <td>h</td>\n",
       "      <td>1035000.0</td>\n",
       "      <td>S</td>\n",
       "      <td>Biggin</td>\n",
       "      <td>736056</td>\n",
       "      <td>2.5</td>\n",
       "      <td>3067</td>\n",
       "      <td>1.0</td>\n",
       "      <td>0.0</td>\n",
       "      <td>156.0</td>\n",
       "      <td>79.0</td>\n",
       "      <td>1900.0</td>\n",
       "      <td>Yarra City Council</td>\n",
       "      <td>-37.8079</td>\n",
       "      <td>144.9934</td>\n",
       "      <td>Northern Metropolitan</td>\n",
       "      <td>4019.0</td>\n",
       "      <td>2.0</td>\n",
       "    </tr>\n",
       "    <tr>\n",
       "      <th>4</th>\n",
       "      <td>Abbotsford</td>\n",
       "      <td>5 Charles St</td>\n",
       "      <td>h</td>\n",
       "      <td>1465000.0</td>\n",
       "      <td>SP</td>\n",
       "      <td>Biggin</td>\n",
       "      <td>736422</td>\n",
       "      <td>2.5</td>\n",
       "      <td>3067</td>\n",
       "      <td>2.0</td>\n",
       "      <td>0.0</td>\n",
       "      <td>134.0</td>\n",
       "      <td>150.0</td>\n",
       "      <td>1900.0</td>\n",
       "      <td>Yarra City Council</td>\n",
       "      <td>-37.8093</td>\n",
       "      <td>144.9944</td>\n",
       "      <td>Northern Metropolitan</td>\n",
       "      <td>4019.0</td>\n",
       "      <td>3.0</td>\n",
       "    </tr>\n",
       "    <tr>\n",
       "      <th>5</th>\n",
       "      <td>Abbotsford</td>\n",
       "      <td>40 Federation La</td>\n",
       "      <td>h</td>\n",
       "      <td>850000.0</td>\n",
       "      <td>PI</td>\n",
       "      <td>Biggin</td>\n",
       "      <td>736422</td>\n",
       "      <td>2.5</td>\n",
       "      <td>3067</td>\n",
       "      <td>2.0</td>\n",
       "      <td>1.0</td>\n",
       "      <td>94.0</td>\n",
       "      <td>NaN</td>\n",
       "      <td>NaN</td>\n",
       "      <td>Yarra City Council</td>\n",
       "      <td>-37.7969</td>\n",
       "      <td>144.9969</td>\n",
       "      <td>Northern Metropolitan</td>\n",
       "      <td>4019.0</td>\n",
       "      <td>3.0</td>\n",
       "    </tr>\n",
       "    <tr>\n",
       "      <th>6</th>\n",
       "      <td>Abbotsford</td>\n",
       "      <td>55a Park St</td>\n",
       "      <td>h</td>\n",
       "      <td>1600000.0</td>\n",
       "      <td>VB</td>\n",
       "      <td>Nelson</td>\n",
       "      <td>736060</td>\n",
       "      <td>2.5</td>\n",
       "      <td>3067</td>\n",
       "      <td>1.0</td>\n",
       "      <td>2.0</td>\n",
       "      <td>120.0</td>\n",
       "      <td>142.0</td>\n",
       "      <td>2014.0</td>\n",
       "      <td>Yarra City Council</td>\n",
       "      <td>-37.8072</td>\n",
       "      <td>144.9941</td>\n",
       "      <td>Northern Metropolitan</td>\n",
       "      <td>4019.0</td>\n",
       "      <td>3.5</td>\n",
       "    </tr>\n",
       "  </tbody>\n",
       "</table>\n",
       "</div>"
      ],
      "text/plain": [
       "       Suburb           Address Type      Price Method SellerG    Date  \\\n",
       "1  Abbotsford      85 Turner St    h  1480000.0      S  Biggin  736035   \n",
       "2  Abbotsford   25 Bloomburg St    h  1035000.0      S  Biggin  736056   \n",
       "4  Abbotsford      5 Charles St    h  1465000.0     SP  Biggin  736422   \n",
       "5  Abbotsford  40 Federation La    h   850000.0     PI  Biggin  736422   \n",
       "6  Abbotsford       55a Park St    h  1600000.0     VB  Nelson  736060   \n",
       "\n",
       "   Distance Postcode  Bathroom  Car  Landsize  BuildingArea  YearBuilt  \\\n",
       "1       2.5     3067       1.0  1.0     202.0           NaN        NaN   \n",
       "2       2.5     3067       1.0  0.0     156.0          79.0     1900.0   \n",
       "4       2.5     3067       2.0  0.0     134.0         150.0     1900.0   \n",
       "5       2.5     3067       2.0  1.0      94.0           NaN        NaN   \n",
       "6       2.5     3067       1.0  2.0     120.0         142.0     2014.0   \n",
       "\n",
       "          CouncilArea  Lattitude  Longtitude             Regionname  \\\n",
       "1  Yarra City Council   -37.7996    144.9984  Northern Metropolitan   \n",
       "2  Yarra City Council   -37.8079    144.9934  Northern Metropolitan   \n",
       "4  Yarra City Council   -37.8093    144.9944  Northern Metropolitan   \n",
       "5  Yarra City Council   -37.7969    144.9969  Northern Metropolitan   \n",
       "6  Yarra City Council   -37.8072    144.9941  Northern Metropolitan   \n",
       "\n",
       "   Propertycount  room_avg  \n",
       "1         4019.0       2.0  \n",
       "2         4019.0       2.0  \n",
       "4         4019.0       3.0  \n",
       "5         4019.0       3.0  \n",
       "6         4019.0       3.5  "
      ]
     },
     "metadata": {},
     "output_type": "display_data"
    },
    {
     "data": {
      "text/plain": [
       "(27059, 20)"
      ]
     },
     "execution_count": 106,
     "metadata": {},
     "output_type": "execute_result"
    }
   ],
   "source": [
    "# removing outliers from the data frame\n",
    "from scipy import stats\n",
    "numeric_df = housing.select_dtypes(np.number)\n",
    "z_threshed_index = ~np.any(np.absolute(stats.zscore(numeric_df)) > 5, axis = 1)\n",
    "housing_threshed = housing.copy().loc[z_threshed_index]\n",
    "display(housing_threshed.head())\n",
    "housing_threshed.shape"
   ]
  },
  {
   "cell_type": "code",
   "execution_count": 124,
   "metadata": {},
   "outputs": [
    {
     "data": {
      "text/plain": [
       "Price              1.708007\n",
       "Date              -0.220916\n",
       "Distance           1.329769\n",
       "Bathroom           1.117528\n",
       "Car                1.639245\n",
       "Landsize         105.066477\n",
       "BuildingArea      25.494495\n",
       "YearBuilt         -1.325249\n",
       "Lattitude         -0.377562\n",
       "Longtitude        -0.342991\n",
       "Propertycount      1.017914\n",
       "room_avg           0.229467\n",
       "dtype: float64"
      ]
     },
     "execution_count": 124,
     "metadata": {},
     "output_type": "execute_result"
    }
   ],
   "source": [
    "housing_threshed.skew()"
   ]
  },
  {
   "cell_type": "markdown",
   "metadata": {},
   "source": [
    "### Imputing the data using Autoimputer"
   ]
  },
  {
   "cell_type": "code",
   "execution_count": 28,
   "metadata": {},
   "outputs": [
    {
     "data": {
      "text/plain": [
       "721"
      ]
     },
     "execution_count": 28,
     "metadata": {},
     "output_type": "execute_result"
    }
   ],
   "source": [
    "housing_test = housing.copy().dropna(axis = 0, subset = ['Bedroom2'])\n",
    "counter = 0\n",
    "for i in housing_test.index:\n",
    "    if housing_test.loc[i,'Rooms'] != housing_test.loc[i,'Bedroom2']:\n",
    "        counter += 1\n",
    "counter"
   ]
  },
  {
   "cell_type": "code",
   "execution_count": 33,
   "metadata": {},
   "outputs": [
    {
     "data": {
      "text/plain": [
       "39.44616584663204"
      ]
     },
     "execution_count": 33,
     "metadata": {},
     "output_type": "execute_result"
    }
   ],
   "source": [
    "sse = 0\n",
    "for i in housing_test.index:\n",
    "    sse += (housing_test.loc[i,'Rooms'] - housing_test.loc[i,'Bedroom2'])**2\n",
    "np.sqrt(sse)"
   ]
  },
  {
   "cell_type": "code",
   "execution_count": 44,
   "metadata": {},
   "outputs": [
    {
     "data": {
      "image/png": "[encoded data removed]",
      "text/plain": [
       "<Figure size 432x288 with 1 Axes>"
      ]
     },
     "metadata": {
      "needs_background": "light"
     },
     "output_type": "display_data"
    }
   ],
   "source": [
    "diffs = []\n",
    "for i in housing_test.index:\n",
    "    diff = housing_test.loc[i,'Rooms'] - housing_test.loc[i,'Bedroom2']\n",
    "    if (diff != 0):\n",
    "        diffs.append(diff)\n",
    "plt.figure()\n",
    "plt.hist(diffs)\n",
    "plt.show()"
   ]
  },
  {
   "cell_type": "code",
   "execution_count": 45,
   "metadata": {},
   "outputs": [
    {
     "data": {
      "text/plain": [
       "5"
      ]
     },
     "execution_count": 45,
     "metadata": {},
     "output_type": "execute_result"
    }
   ],
   "source": [
    "# How many values lie below -4 for bedrooms\n",
    "i = 0\n",
    "for diff in diffs:\n",
    "    if diff < -4:\n",
    "        i += 1\n",
    "i"
   ]
  },
  {
   "cell_type": "markdown",
   "metadata": {},
   "source": [
    "Given that most of the Bedroom data has a discrepancy of absolute value of 1 between the two sources of bedroom number data, we will take the average of the bedroom data, and use that as our final bedroom data."
   ]
  },
  {
   "cell_type": "code",
   "execution_count": 48,
   "metadata": {},
   "outputs": [
    {
     "name": "stdout",
     "output_type": "stream",
     "text": [
      "Suburb               0\n",
      "Address              0\n",
      "Rooms                0\n",
      "Type                 0\n",
      "Price                0\n",
      "Method               0\n",
      "SellerG              0\n",
      "Date                 0\n",
      "Distance             0\n",
      "Postcode             0\n",
      "Bedroom2          6438\n",
      "Bathroom          6444\n",
      "Car               6821\n",
      "Landsize          9262\n",
      "BuildingArea     16588\n",
      "YearBuilt        15160\n",
      "CouncilArea          0\n",
      "Lattitude         6251\n",
      "Longtitude        6251\n",
      "Regionname           0\n",
      "Propertycount        0\n",
      "room_avg             0\n",
      "dtype: int64\n"
     ]
    },
    {
     "data": {
      "text/plain": [
       "Index(['Suburb', 'Address', 'Rooms', 'Type', 'Price', 'Method', 'SellerG',\n",
       "       'Date', 'Distance', 'Postcode', 'Bedroom2', 'Bathroom', 'Car',\n",
       "       'Landsize', 'BuildingArea', 'YearBuilt', 'CouncilArea', 'Lattitude',\n",
       "       'Longtitude', 'Regionname', 'Propertycount', 'room_avg'],\n",
       "      dtype='object')"
      ]
     },
     "execution_count": 48,
     "metadata": {},
     "output_type": "execute_result"
    }
   ],
   "source": [
    "housing['Bedroom2'].fillna(0)\n",
    "housing['room_avg'] = housing[['Rooms', 'Bedroom2']].mean(axis=1)\n",
    "print(housing.isna().sum())\n",
    "housing.columns"
   ]
  },
  {
   "cell_type": "code",
   "execution_count": 148,
   "metadata": {},
   "outputs": [
    {
     "data": {
      "text/plain": [
       "Price              1.708007\n",
       "Date              -0.220916\n",
       "Distance           1.329769\n",
       "Bathroom           1.117528\n",
       "Car                1.639245\n",
       "Landsize         105.066477\n",
       "BuildingArea      25.494495\n",
       "YearBuilt         -1.325249\n",
       "Lattitude         -0.377562\n",
       "Longtitude        -0.342991\n",
       "Propertycount      1.017914\n",
       "room_avg           0.229467\n",
       "dtype: float64"
      ]
     },
     "execution_count": 148,
     "metadata": {},
     "output_type": "execute_result"
    }
   ],
   "source": [
    "housing_threshed.skew()"
   ]
  },
  {
   "cell_type": "code",
   "execution_count": 160,
   "metadata": {},
   "outputs": [
    {
     "data": {
      "image/png": "[encoded data removed]",
      "text/plain": [
       "<Figure size 432x288 with 1 Axes>"
      ]
     },
     "metadata": {
      "needs_background": "light"
     },
     "output_type": "display_data"
    },
    {
     "name": "stdout",
     "output_type": "stream",
     "text": [
      "Price Logged Skew: 0.22834031364800664\n"
     ]
    },
    {
     "data": {
      "image/png": "[encoded data removed]",
      "text/plain": [
       "<Figure size 432x288 with 1 Axes>"
      ]
     },
     "metadata": {
      "needs_background": "light"
     },
     "output_type": "display_data"
    },
    {
     "name": "stdout",
     "output_type": "stream",
     "text": [
      "Distance Logged Skew: -2.3197563715628724\n"
     ]
    },
    {
     "data": {
      "image/png": "[encoded data removed]",
      "text/plain": [
       "<Figure size 432x288 with 1 Axes>"
      ]
     },
     "metadata": {
      "needs_background": "light"
     },
     "output_type": "display_data"
    },
    {
     "name": "stdout",
     "output_type": "stream",
     "text": [
      "Bathroom Logged Skew: -1.9333530806278563\n"
     ]
    },
    {
     "data": {
      "image/png": "[encoded data removed]",
      "text/plain": [
       "<Figure size 432x288 with 1 Axes>"
      ]
     },
     "metadata": {
      "needs_background": "light"
     },
     "output_type": "display_data"
    },
    {
     "name": "stdout",
     "output_type": "stream",
     "text": [
      "Car Logged Skew: -2.985692780237842\n"
     ]
    },
    {
     "data": {
      "image/png": "[encoded data removed]",
      "text/plain": [
       "<Figure size 432x288 with 1 Axes>"
      ]
     },
     "metadata": {
      "needs_background": "light"
     },
     "output_type": "display_data"
    },
    {
     "name": "stdout",
     "output_type": "stream",
     "text": [
      "Landsize Logged Skew: -2.335865378937462\n"
     ]
    },
    {
     "data": {
      "image/png": "[encoded data removed]",
      "text/plain": [
       "<Figure size 432x288 with 1 Axes>"
      ]
     },
     "metadata": {
      "needs_background": "light"
     },
     "output_type": "display_data"
    },
    {
     "name": "stdout",
     "output_type": "stream",
     "text": [
      "BuildingArea Logged Skew: -6.407222637072737\n"
     ]
    },
    {
     "data": {
      "image/png": "[encoded data removed]",
      "text/plain": [
       "<Figure size 432x288 with 1 Axes>"
      ]
     },
     "metadata": {
      "needs_background": "light"
     },
     "output_type": "display_data"
    },
    {
     "name": "stdout",
     "output_type": "stream",
     "text": [
      "Propertycount Logged Skew: -0.6758479397413947\n"
     ]
    }
   ],
   "source": [
    "cols_to_log = ['Price', 'Distance', 'Bathroom', 'Car', 'Landsize', 'BuildingArea', 'Propertycount']\n",
    "for col in cols_to_log:\n",
    "    logged_dist = np.log(housing_threshed[col]+.01)\n",
    "    plt.figure()\n",
    "    plt.hist(logged_dist)\n",
    "    plt.title(col + ' Logged Distribution')\n",
    "    plt.show()\n",
    "    print(col + ' Logged Skew: {}'.format(logged_dist.skew()))\n",
    "#plt.hist(np.log(housing_threshed['Landsize']+1))\n",
    "#housing_threshed[housing_threshed['Landsize'] == 0]\n",
    "#housing_threshed[housing_threshed['Landsize'] > 1000].count()\n",
    "#housing_threshed.loc[housing_threshed['Landsize'] == 0]"
   ]
  },
  {
   "cell_type": "markdown",
   "metadata": {},
   "source": [
    "Absolute value of skew decreased for all after taking the logarithm.\n",
    "\n",
    "Logged Columns:\n",
    "'Price', 'Distance', 'Bathroom', 'Car', 'Landsize', 'BuildingArea', 'Propertycount'"
   ]
  },
  {
   "cell_type": "code",
   "execution_count": 159,
   "metadata": {},
   "outputs": [
    {
     "data": {
      "text/plain": [
       "Price            0.228342\n",
       "Distance        -0.433404\n",
       "Bathroom         0.473566\n",
       "Car             -0.431941\n",
       "Landsize        -2.020822\n",
       "BuildingArea    -2.907631\n",
       "Propertycount   -0.675067\n",
       "dtype: float64"
      ]
     },
     "execution_count": 159,
     "metadata": {},
     "output_type": "execute_result"
    }
   ],
   "source": [
    "housing_gauss = housing_threshed.copy()\n",
    "cols_to_log = ['Price', 'Distance', 'Bathroom', 'Car', 'Landsize', 'BuildingArea', 'Propertycount']\n",
    "for col in cols_to_log:\n",
    "    housing_gauss[col] = np.log(housing_threshed[col] + 1)\n",
    "housing_gauss[cols_to_log].skew()\n",
    "    "
   ]
  },
  {
   "cell_type": "markdown",
   "metadata": {},
   "source": [
    "### Pipeline Imputing"
   ]
  },
  {
   "cell_type": "code",
   "execution_count": 107,
   "metadata": {},
   "outputs": [],
   "source": [
    "housing_df = housing_threshed.copy()"
   ]
  },
  {
   "cell_type": "code",
   "execution_count": 49,
   "metadata": {},
   "outputs": [],
   "source": [
    "# removing Rooms and Bedroom2 columns\n",
    "housing = housing[['Suburb', 'Address', 'Type', 'Price', 'Method', 'SellerG',\n",
    "       'Date', 'Distance', 'Postcode', 'Bathroom', 'Car',\n",
    "       'Landsize', 'BuildingArea', 'YearBuilt', 'CouncilArea', 'Lattitude',\n",
    "       'Longtitude', 'Regionname', 'Propertycount', 'room_avg']]"
   ]
  },
  {
   "cell_type": "code",
   "execution_count": 109,
   "metadata": {},
   "outputs": [],
   "source": [
    "from autoimpute.imputations import MultipleImputer\n",
    "\n",
    "strategies = {'Lattitude':'pmm', 'Longitude':'pmm', 'Bathroom':'pmm', 'Car':'pmm',\n",
    "              'Landsize':'stochastic', 'BuildingArea':'stochastic', 'YearBuilt':'stochastic' }\n",
    "predictors = {'Lattitude':['Suburb','Postcode','Distance', 'Regionname'],\n",
    "              'Longitude':['Suburb','Postcode','Distance', 'Regionname'],\n",
    "              'Bathroom':['room_avg','BuildingArea', 'Suburb','Postcode', 'Landsize','Type','Distance'],\n",
    "              'Car':['room_avg','BuildingArea', 'Suburb','Postcode', 'Landsize','Type','Distance'],\n",
    "              'Landsize':['Type','room_avg','BuildingArea', 'Suburb','Postcode','Car','Bathroom','Distance'],\n",
    "              'BuildingArea':['Type','room_avg','Landsize', 'Suburb','Postcode','Car','Bathroom','Distance'],\n",
    "              'YearBuilt':['Suburb','Regionname','CouncilArea','Latitude','Longitude']}\n",
    "imp_args = {'pmm':{'neighbors': 10}, 'stochastic':{'normalize': True}}\n",
    "\n",
    "imputer = MultipleImputer(n=10, strategy = strategies, predictors = predictors, imp_kwgs = imp_args,\n",
    "                         visit = 'default')"
   ]
  },
  {
   "cell_type": "markdown",
   "metadata": {},
   "source": [
    "----------------\n",
    "# Let's Start Over and Do This Cleaning Thing One More Time\n",
    "\n",
    "Although the order may depend on the dataset in question, data cleaning should be done in the following order to prevent data leakage between the train and test sets, to optimize the flow of data through a pipeline for cross-validation, and to ensure that outlier management and skewed distributions are handled appropriately.\n",
    "\n",
    "The Process:\n",
    "1. Eliminate rows with missing values if possible or unnecessary\n",
    "2. Engineer new features\n",
    "3. Normalize Column Distributions\n",
    "4. Eliminate Rows Containing Outliers (Or Winsorize)\n",
    "5. Train/Test Split --- MODEL PIPELINE BEGINS ---\n",
    "6. Impute using autoimpute API"
   ]
  },
  {
   "cell_type": "code",
   "execution_count": 1,
   "metadata": {},
   "outputs": [
    {
     "data": {
      "text/html": [
       "<div>\n",
       "<style scoped>\n",
       "    .dataframe tbody tr th:only-of-type {\n",
       "        vertical-align: middle;\n",
       "    }\n",
       "\n",
       "    .dataframe tbody tr th {\n",
       "        vertical-align: top;\n",
       "    }\n",
       "\n",
       "    .dataframe thead th {\n",
       "        text-align: right;\n",
       "    }\n",
       "</style>\n",
       "<table border=\"1\" class=\"dataframe\">\n",
       "  <thead>\n",
       "    <tr style=\"text-align: right;\">\n",
       "      <th></th>\n",
       "      <th>Suburb</th>\n",
       "      <th>Address</th>\n",
       "      <th>Rooms</th>\n",
       "      <th>Type</th>\n",
       "      <th>Price</th>\n",
       "      <th>Method</th>\n",
       "      <th>SellerG</th>\n",
       "      <th>Date</th>\n",
       "      <th>Distance</th>\n",
       "      <th>Postcode</th>\n",
       "      <th>...</th>\n",
       "      <th>Bathroom</th>\n",
       "      <th>Car</th>\n",
       "      <th>Landsize</th>\n",
       "      <th>BuildingArea</th>\n",
       "      <th>YearBuilt</th>\n",
       "      <th>CouncilArea</th>\n",
       "      <th>Lattitude</th>\n",
       "      <th>Longtitude</th>\n",
       "      <th>Regionname</th>\n",
       "      <th>Propertycount</th>\n",
       "    </tr>\n",
       "  </thead>\n",
       "  <tbody>\n",
       "    <tr>\n",
       "      <th>0</th>\n",
       "      <td>Abbotsford</td>\n",
       "      <td>68 Studley St</td>\n",
       "      <td>2</td>\n",
       "      <td>h</td>\n",
       "      <td>NaN</td>\n",
       "      <td>SS</td>\n",
       "      <td>Jellis</td>\n",
       "      <td>3/09/2016</td>\n",
       "      <td>2.5</td>\n",
       "      <td>3067.0</td>\n",
       "      <td>...</td>\n",
       "      <td>1.0</td>\n",
       "      <td>1.0</td>\n",
       "      <td>126.0</td>\n",
       "      <td>NaN</td>\n",
       "      <td>NaN</td>\n",
       "      <td>Yarra City Council</td>\n",
       "      <td>-37.8014</td>\n",
       "      <td>144.9958</td>\n",
       "      <td>Northern Metropolitan</td>\n",
       "      <td>4019.0</td>\n",
       "    </tr>\n",
       "    <tr>\n",
       "      <th>1</th>\n",
       "      <td>Abbotsford</td>\n",
       "      <td>85 Turner St</td>\n",
       "      <td>2</td>\n",
       "      <td>h</td>\n",
       "      <td>1480000.0</td>\n",
       "      <td>S</td>\n",
       "      <td>Biggin</td>\n",
       "      <td>3/12/2016</td>\n",
       "      <td>2.5</td>\n",
       "      <td>3067.0</td>\n",
       "      <td>...</td>\n",
       "      <td>1.0</td>\n",
       "      <td>1.0</td>\n",
       "      <td>202.0</td>\n",
       "      <td>NaN</td>\n",
       "      <td>NaN</td>\n",
       "      <td>Yarra City Council</td>\n",
       "      <td>-37.7996</td>\n",
       "      <td>144.9984</td>\n",
       "      <td>Northern Metropolitan</td>\n",
       "      <td>4019.0</td>\n",
       "    </tr>\n",
       "    <tr>\n",
       "      <th>2</th>\n",
       "      <td>Abbotsford</td>\n",
       "      <td>25 Bloomburg St</td>\n",
       "      <td>2</td>\n",
       "      <td>h</td>\n",
       "      <td>1035000.0</td>\n",
       "      <td>S</td>\n",
       "      <td>Biggin</td>\n",
       "      <td>4/02/2016</td>\n",
       "      <td>2.5</td>\n",
       "      <td>3067.0</td>\n",
       "      <td>...</td>\n",
       "      <td>1.0</td>\n",
       "      <td>0.0</td>\n",
       "      <td>156.0</td>\n",
       "      <td>79.0</td>\n",
       "      <td>1900.0</td>\n",
       "      <td>Yarra City Council</td>\n",
       "      <td>-37.8079</td>\n",
       "      <td>144.9934</td>\n",
       "      <td>Northern Metropolitan</td>\n",
       "      <td>4019.0</td>\n",
       "    </tr>\n",
       "    <tr>\n",
       "      <th>3</th>\n",
       "      <td>Abbotsford</td>\n",
       "      <td>18/659 Victoria St</td>\n",
       "      <td>3</td>\n",
       "      <td>u</td>\n",
       "      <td>NaN</td>\n",
       "      <td>VB</td>\n",
       "      <td>Rounds</td>\n",
       "      <td>4/02/2016</td>\n",
       "      <td>2.5</td>\n",
       "      <td>3067.0</td>\n",
       "      <td>...</td>\n",
       "      <td>2.0</td>\n",
       "      <td>1.0</td>\n",
       "      <td>0.0</td>\n",
       "      <td>NaN</td>\n",
       "      <td>NaN</td>\n",
       "      <td>Yarra City Council</td>\n",
       "      <td>-37.8114</td>\n",
       "      <td>145.0116</td>\n",
       "      <td>Northern Metropolitan</td>\n",
       "      <td>4019.0</td>\n",
       "    </tr>\n",
       "    <tr>\n",
       "      <th>4</th>\n",
       "      <td>Abbotsford</td>\n",
       "      <td>5 Charles St</td>\n",
       "      <td>3</td>\n",
       "      <td>h</td>\n",
       "      <td>1465000.0</td>\n",
       "      <td>SP</td>\n",
       "      <td>Biggin</td>\n",
       "      <td>4/03/2017</td>\n",
       "      <td>2.5</td>\n",
       "      <td>3067.0</td>\n",
       "      <td>...</td>\n",
       "      <td>2.0</td>\n",
       "      <td>0.0</td>\n",
       "      <td>134.0</td>\n",
       "      <td>150.0</td>\n",
       "      <td>1900.0</td>\n",
       "      <td>Yarra City Council</td>\n",
       "      <td>-37.8093</td>\n",
       "      <td>144.9944</td>\n",
       "      <td>Northern Metropolitan</td>\n",
       "      <td>4019.0</td>\n",
       "    </tr>\n",
       "  </tbody>\n",
       "</table>\n",
       "<p>5 rows × 21 columns</p>\n",
       "</div>"
      ],
      "text/plain": [
       "       Suburb             Address  Rooms Type      Price Method SellerG  \\\n",
       "0  Abbotsford       68 Studley St      2    h        NaN     SS  Jellis   \n",
       "1  Abbotsford        85 Turner St      2    h  1480000.0      S  Biggin   \n",
       "2  Abbotsford     25 Bloomburg St      2    h  1035000.0      S  Biggin   \n",
       "3  Abbotsford  18/659 Victoria St      3    u        NaN     VB  Rounds   \n",
       "4  Abbotsford        5 Charles St      3    h  1465000.0     SP  Biggin   \n",
       "\n",
       "        Date  Distance  Postcode  ...  Bathroom  Car  Landsize  BuildingArea  \\\n",
       "0  3/09/2016       2.5    3067.0  ...       1.0  1.0     126.0           NaN   \n",
       "1  3/12/2016       2.5    3067.0  ...       1.0  1.0     202.0           NaN   \n",
       "2  4/02/2016       2.5    3067.0  ...       1.0  0.0     156.0          79.0   \n",
       "3  4/02/2016       2.5    3067.0  ...       2.0  1.0       0.0           NaN   \n",
       "4  4/03/2017       2.5    3067.0  ...       2.0  0.0     134.0         150.0   \n",
       "\n",
       "   YearBuilt         CouncilArea Lattitude  Longtitude             Regionname  \\\n",
       "0        NaN  Yarra City Council  -37.8014    144.9958  Northern Metropolitan   \n",
       "1        NaN  Yarra City Council  -37.7996    144.9984  Northern Metropolitan   \n",
       "2     1900.0  Yarra City Council  -37.8079    144.9934  Northern Metropolitan   \n",
       "3        NaN  Yarra City Council  -37.8114    145.0116  Northern Metropolitan   \n",
       "4     1900.0  Yarra City Council  -37.8093    144.9944  Northern Metropolitan   \n",
       "\n",
       "  Propertycount  \n",
       "0        4019.0  \n",
       "1        4019.0  \n",
       "2        4019.0  \n",
       "3        4019.0  \n",
       "4        4019.0  \n",
       "\n",
       "[5 rows x 21 columns]"
      ]
     },
     "metadata": {},
     "output_type": "display_data"
    },
    {
     "name": "stdout",
     "output_type": "stream",
     "text": [
      "Index(['Suburb', 'Address', 'Rooms', 'Type', 'Price', 'Method', 'SellerG',\n",
      "       'Date', 'Distance', 'Postcode', 'Bedroom2', 'Bathroom', 'Car',\n",
      "       'Landsize', 'BuildingArea', 'YearBuilt', 'CouncilArea', 'Lattitude',\n",
      "       'Longtitude', 'Regionname', 'Propertycount'],\n",
      "      dtype='object')\n",
      "(34857, 21)\n"
     ]
    },
    {
     "data": {
      "text/plain": [
       "Suburb               0\n",
       "Address              0\n",
       "Rooms                0\n",
       "Type                 0\n",
       "Price             7610\n",
       "Method               0\n",
       "SellerG              0\n",
       "Date                 0\n",
       "Distance             1\n",
       "Postcode             1\n",
       "Bedroom2          8217\n",
       "Bathroom          8226\n",
       "Car               8728\n",
       "Landsize         11810\n",
       "BuildingArea     21115\n",
       "YearBuilt        19306\n",
       "CouncilArea          3\n",
       "Lattitude         7976\n",
       "Longtitude        7976\n",
       "Regionname           3\n",
       "Propertycount        3\n",
       "dtype: int64"
      ]
     },
     "execution_count": 1,
     "metadata": {},
     "output_type": "execute_result"
    }
   ],
   "source": [
    "import pandas as pd\n",
    "import numpy as np\n",
    "import matplotlib.pyplot as plt\n",
    "import seaborn as sns\n",
    "\n",
    "# Importing and summarizing the raw data set\n",
    "housing_raw = pd.read_csv('../../__DATA__/melbourne-housing-market/Melbourne_housing_FULL.csv')\n",
    "display(housing_raw.head())\n",
    "print(housing_raw.columns)\n",
    "print(housing_raw.shape)\n",
    "housing_raw.isna().sum()"
   ]
  },
  {
   "cell_type": "code",
   "execution_count": 2,
   "metadata": {},
   "outputs": [
    {
     "name": "stdout",
     "output_type": "stream",
     "text": [
      "Rooms column has 12 unique categories.\n",
      "Price column has 2871 unique categories.\n",
      "Distance column has 215 unique categories.\n",
      "Postcode column has 211 unique categories.\n",
      "Bedroom2 column has 15 unique categories.\n",
      "Bathroom column has 11 unique categories.\n",
      "Car column has 15 unique categories.\n",
      "Landsize column has 1684 unique categories.\n",
      "BuildingArea column has 740 unique categories.\n",
      "YearBuilt column has 160 unique categories.\n",
      "Lattitude column has 13402 unique categories.\n",
      "Longtitude column has 14524 unique categories.\n",
      "Propertycount column has 342 unique categories.\n"
     ]
    }
   ],
   "source": [
    "for col in housing_raw.select_dtypes(np.number).columns:\n",
    "    print('{} column has {} unique categories.'.format(col, housing_raw[col].nunique()))"
   ]
  },
  {
   "cell_type": "markdown",
   "metadata": {},
   "source": [
    "### Initial Pruning and Feature Tuning"
   ]
  },
  {
   "cell_type": "code",
   "execution_count": 3,
   "metadata": {},
   "outputs": [
    {
     "name": "stdout",
     "output_type": "stream",
     "text": [
      "(27244, 20)\n"
     ]
    },
    {
     "data": {
      "text/plain": [
       "Suburb               0\n",
       "Address              0\n",
       "Type                 0\n",
       "Price                0\n",
       "Method               0\n",
       "SellerG              0\n",
       "Date                 0\n",
       "Distance             0\n",
       "Postcode             0\n",
       "Bathroom          6444\n",
       "Car               6821\n",
       "Landsize          9262\n",
       "BuildingArea     16588\n",
       "YearBuilt        15160\n",
       "CouncilArea          0\n",
       "Lattitude         6251\n",
       "Longtitude        6251\n",
       "Regionname           0\n",
       "Propertycount        0\n",
       "room_avg             0\n",
       "dtype: int64"
      ]
     },
     "execution_count": 3,
     "metadata": {},
     "output_type": "execute_result"
    }
   ],
   "source": [
    "housing_pruned = housing_raw.copy()\n",
    "\n",
    "# Change Postal Code to String Datatype\n",
    "housing_pruned['Postcode'] = housing_raw['Postcode'].astype(int, errors = 'ignore').astype(str, errors = 'ignore')\n",
    "\n",
    "# Change Date from string to Ordinal date integer\n",
    "import datetime as dt\n",
    "housing_pruned['Date'] = pd.to_datetime(housing_raw['Date'])\n",
    "housing_pruned['Date'] = housing_pruned['Date'].map(dt.datetime.toordinal)\n",
    "    \n",
    "# Average the two bedroom listings\n",
    "housing_pruned['room_avg'] = housing_raw[['Rooms', 'Bedroom2']].mean(axis=1)\n",
    "housing_pruned = housing_pruned.drop(columns = ['Rooms','Bedroom2'])\n",
    "\n",
    "# Discard any individual datapoints that do not list a price, and other subsets of N/A values that can easily be discarded\n",
    "# Missing prices are discarded because that is our target variable. Other categories are being stripped on N/A because they are small enough samples to discard\n",
    "rows_to_drop = ['Price', 'Distance', 'Postcode', 'CouncilArea', 'Regionname', 'Propertycount']\n",
    "housing_pruned = housing_pruned.dropna(how='any', subset = rows_to_drop)\n",
    "\n",
    "# List the columns\n",
    "print(housing_pruned.shape)\n",
    "housing_pruned.isna().sum()"
   ]
  },
  {
   "cell_type": "markdown",
   "metadata": {},
   "source": [
    "### Normalizing Column Distributions"
   ]
  },
  {
   "cell_type": "code",
   "execution_count": 4,
   "metadata": {},
   "outputs": [
    {
     "data": {
      "text/plain": [
       "Price             2.588797\n",
       "Date             -0.222986\n",
       "Distance          1.478676\n",
       "Bathroom          1.284930\n",
       "Car               1.639197\n",
       "Landsize         90.442620\n",
       "BuildingArea     90.993694\n",
       "YearBuilt        -1.316290\n",
       "Lattitude        -0.321994\n",
       "Longtitude       -0.351165\n",
       "Propertycount     1.015455\n",
       "room_avg          0.535417\n",
       "dtype: float64"
      ]
     },
     "execution_count": 4,
     "metadata": {},
     "output_type": "execute_result"
    }
   ],
   "source": [
    "housing_pruned.skew()"
   ]
  },
  {
   "cell_type": "markdown",
   "metadata": {},
   "source": [
    "Although this is a subjective rule of thumb, any column - including the target - with a skew value greater than 1 will be log transformed. (Although we will ignore the YearBuilt for the sake simplifying the normalization process.)\n",
    "\n",
    "This is important to prepare the dataset for regression and as an initial step to identify and remove outliers."
   ]
  },
  {
   "cell_type": "code",
   "execution_count": 5,
   "metadata": {},
   "outputs": [
    {
     "data": {
      "text/plain": [
       "Price            0.335768\n",
       "Distance        -0.400508\n",
       "Bathroom         0.508660\n",
       "Car             -0.425305\n",
       "Landsize        -2.013727\n",
       "BuildingArea    -2.788141\n",
       "Propertycount   -0.693419\n",
       "dtype: float64"
      ]
     },
     "execution_count": 5,
     "metadata": {},
     "output_type": "execute_result"
    }
   ],
   "source": [
    "housing_gauss = housing_pruned.copy()\n",
    "cols_to_log = ['Price', 'Distance', 'Bathroom', 'Car', 'Landsize', 'BuildingArea', 'Propertycount']\n",
    "for col in cols_to_log:\n",
    "    housing_gauss[col] = np.log(housing_pruned[col] + 1)\n",
    "housing_gauss[cols_to_log].skew()"
   ]
  },
  {
   "cell_type": "markdown",
   "metadata": {},
   "source": [
    "Adding 1 before log transforming the columns ensures that there are no zero values being logged. Also 1 was chose, as opposed to 0.01 and 0.1, because it reduces the absolute skew values the most."
   ]
  },
  {
   "cell_type": "markdown",
   "metadata": {},
   "source": [
    "### Detecting and Stripping Outliers"
   ]
  },
  {
   "cell_type": "code",
   "execution_count": 6,
   "metadata": {},
   "outputs": [
    {
     "data": {
      "image/png": "[encoded data removed]",
      "text/plain": [
       "<Figure size 720x288 with 2 Axes>"
      ]
     },
     "metadata": {
      "needs_background": "light"
     },
     "output_type": "display_data"
    },
    {
     "name": "stdout",
     "output_type": "stream",
     "text": [
      "Outliers:  0\n"
     ]
    },
    {
     "data": {
      "image/png": "[encoded data removed]",
      "text/plain": [
       "<Figure size 720x288 with 2 Axes>"
      ]
     },
     "metadata": {
      "needs_background": "light"
     },
     "output_type": "display_data"
    },
    {
     "name": "stdout",
     "output_type": "stream",
     "text": [
      "Outliers:  0\n"
     ]
    },
    {
     "data": {
      "image/png": "[encoded data removed]",
      "text/plain": [
       "<Figure size 720x288 with 2 Axes>"
      ]
     },
     "metadata": {
      "needs_background": "light"
     },
     "output_type": "display_data"
    },
    {
     "name": "stdout",
     "output_type": "stream",
     "text": [
      "Outliers:  0\n"
     ]
    },
    {
     "data": {
      "image/png": "[encoded data removed]",
      "text/plain": [
       "<Figure size 720x288 with 2 Axes>"
      ]
     },
     "metadata": {
      "needs_background": "light"
     },
     "output_type": "display_data"
    },
    {
     "name": "stdout",
     "output_type": "stream",
     "text": [
      "Outliers:  4\n"
     ]
    },
    {
     "data": {
      "image/png": "[encoded data removed]",
      "text/plain": [
       "<Figure size 720x288 with 2 Axes>"
      ]
     },
     "metadata": {
      "needs_background": "light"
     },
     "output_type": "display_data"
    },
    {
     "name": "stdout",
     "output_type": "stream",
     "text": [
      "Outliers:  1\n"
     ]
    },
    {
     "data": {
      "image/png": "[encoded data removed]",
      "text/plain": [
       "<Figure size 720x288 with 2 Axes>"
      ]
     },
     "metadata": {
      "needs_background": "light"
     },
     "output_type": "display_data"
    },
    {
     "name": "stdout",
     "output_type": "stream",
     "text": [
      "Outliers:  0\n"
     ]
    },
    {
     "data": {
      "image/png": "[encoded data removed]",
      "text/plain": [
       "<Figure size 720x288 with 2 Axes>"
      ]
     },
     "metadata": {
      "needs_background": "light"
     },
     "output_type": "display_data"
    },
    {
     "name": "stdout",
     "output_type": "stream",
     "text": [
      "Outliers:  118\n"
     ]
    },
    {
     "data": {
      "image/png": "[encoded data removed]",
      "text/plain": [
       "<Figure size 720x288 with 2 Axes>"
      ]
     },
     "metadata": {
      "needs_background": "light"
     },
     "output_type": "display_data"
    },
    {
     "name": "stdout",
     "output_type": "stream",
     "text": [
      "Outliers:  1\n"
     ]
    },
    {
     "data": {
      "image/png": "[encoded data removed]",
      "text/plain": [
       "<Figure size 720x288 with 2 Axes>"
      ]
     },
     "metadata": {
      "needs_background": "light"
     },
     "output_type": "display_data"
    },
    {
     "name": "stdout",
     "output_type": "stream",
     "text": [
      "Outliers:  0\n"
     ]
    },
    {
     "data": {
      "image/png": "[encoded data removed]",
      "text/plain": [
       "<Figure size 720x288 with 2 Axes>"
      ]
     },
     "metadata": {
      "needs_background": "light"
     },
     "output_type": "display_data"
    },
    {
     "name": "stdout",
     "output_type": "stream",
     "text": [
      "Outliers:  0\n"
     ]
    },
    {
     "data": {
      "image/png": "[encoded data removed]",
      "text/plain": [
       "<Figure size 720x288 with 2 Axes>"
      ]
     },
     "metadata": {
      "needs_background": "light"
     },
     "output_type": "display_data"
    },
    {
     "name": "stdout",
     "output_type": "stream",
     "text": [
      "Outliers:  2\n"
     ]
    },
    {
     "data": {
      "image/png": "[encoded data removed]",
      "text/plain": [
       "<Figure size 720x288 with 2 Axes>"
      ]
     },
     "metadata": {
      "needs_background": "light"
     },
     "output_type": "display_data"
    },
    {
     "name": "stdout",
     "output_type": "stream",
     "text": [
      "Outliers:  21\n"
     ]
    }
   ],
   "source": [
    "num_cols = housing_gauss.select_dtypes(np.number).columns\n",
    "z = 5\n",
    "for col in num_cols:\n",
    "    upper_thresh = housing_gauss[col].mean() + housing_gauss[col].std()*z\n",
    "    lower_thresh = housing_gauss[col].mean() - housing_gauss[col].std()*z\n",
    "    plt.figure(figsize = (10,4))\n",
    "    plt.subplot(1,2,1)\n",
    "    plt.hist(housing_gauss[col].dropna())\n",
    "    plt.title(col + ' Histogram')\n",
    "    plt.subplot(1,2,2)\n",
    "    plt.boxplot(housing_gauss[col].dropna())\n",
    "    plt.title(col + ' Boxplot')\n",
    "    plt.axhline(upper_thresh)\n",
    "    plt.axhline(lower_thresh)\n",
    "    plt.show()\n",
    "    \n",
    "    z_scores = (housing_gauss[col] - housing_gauss[col].mean())/housing_gauss[col].std()\n",
    "    print('Outliers: ',(np.absolute(z_scores) > z).sum())"
   ]
  },
  {
   "cell_type": "markdown",
   "metadata": {},
   "source": [
    "Being extremely conservative, all numerical features will be stripped of their outliers defined as having a z-score above 5. However, because the BuildingArea columns exhibits a high number a outliers at this score, its outliers will be defined as having a score above z=6."
   ]
  },
  {
   "cell_type": "code",
   "execution_count": 7,
   "metadata": {},
   "outputs": [
    {
     "data": {
      "text/plain": [
       "(27142, 20)"
      ]
     },
     "execution_count": 7,
     "metadata": {},
     "output_type": "execute_result"
    }
   ],
   "source": [
    "# removing outliers from the data frame\n",
    "\n",
    "# computing z_scores\n",
    "numeric_df = housing_gauss.copy().select_dtypes(np.number)\n",
    "z_scores = (numeric_df - numeric_df.mean())/numeric_df.std()\n",
    "\n",
    "# indexing all values of abs(z) <= 5 as true, or abs(z) <= 6 for building area\n",
    "z_index_1 = ~np.any(np.absolute(z_scores.drop(columns = 'BuildingArea')) > 5, axis = 1)\n",
    "z_index_2 = ~(np.absolute(z_scores['BuildingArea']) > 6)\n",
    "z_index = (z_index_1 & z_index_2)\n",
    "\n",
    "housing_threshed = housing_gauss.copy().loc[z_index]\n",
    "housing_threshed.shape"
   ]
  },
  {
   "cell_type": "markdown",
   "metadata": {},
   "source": [
    "### Testing AutoImputer, Fancy Imputer, Impyute"
   ]
  },
  {
   "cell_type": "code",
   "execution_count": 8,
   "metadata": {},
   "outputs": [],
   "source": [
    "from autoimpute.imputations import SingleImputer\n",
    "\n",
    "strategies = {'Lattitude':'pmm', 'Longtitude':'pmm', 'Bathroom':'pmm', 'Car':'pmm',\n",
    "              'Landsize':'stochastic', 'BuildingArea':'stochastic', 'YearBuilt':'stochastic' }\n",
    "predictors = {'Lattitude':['Suburb','Postcode','Distance', 'Regionname'],\n",
    "              'Longtitude':['Suburb','Postcode','Distance', 'Regionname'],\n",
    "              'Bathroom':['room_avg','BuildingArea', 'Suburb','Postcode', 'Landsize','Type','Distance'],\n",
    "              'Car':['room_avg','BuildingArea', 'Suburb','Postcode', 'Landsize','Type','Distance'],\n",
    "              'Landsize':['Type','room_avg','BuildingArea', 'Suburb','Postcode','Car','Bathroom','Distance'],\n",
    "              'BuildingArea':['Type','room_avg','Landsize', 'Suburb','Postcode','Car','Bathroom','Distance'],\n",
    "              'YearBuilt':['Suburb','Regionname','CouncilArea','Lattitude','Longtitude']}\n",
    "imp_args = {'pmm':{'neighbors': 5}, 'stochastic':{'normalize': True}}\n",
    "\n",
    "imputer = SingleImputer(strategy = strategies, predictors = predictors, #imp_kwgs = imp_args,\n",
    "                         visit = 'default', copy=True)"
   ]
  },
  {
   "cell_type": "code",
   "execution_count": 9,
   "metadata": {},
   "outputs": [],
   "source": [
    "# imputer.fit_transform(housing_threshed)"
   ]
  },
  {
   "cell_type": "code",
   "execution_count": 28,
   "metadata": {},
   "outputs": [
    {
     "name": "stdout",
     "output_type": "stream",
     "text": [
      "(27142, 18)\n"
     ]
    },
    {
     "data": {
      "text/html": [
       "<div>\n",
       "<style scoped>\n",
       "    .dataframe tbody tr th:only-of-type {\n",
       "        vertical-align: middle;\n",
       "    }\n",
       "\n",
       "    .dataframe tbody tr th {\n",
       "        vertical-align: top;\n",
       "    }\n",
       "\n",
       "    .dataframe thead th {\n",
       "        text-align: right;\n",
       "    }\n",
       "</style>\n",
       "<table border=\"1\" class=\"dataframe\">\n",
       "  <thead>\n",
       "    <tr style=\"text-align: right;\">\n",
       "      <th></th>\n",
       "      <th>Date</th>\n",
       "      <th>Distance</th>\n",
       "      <th>Bathroom</th>\n",
       "      <th>Car</th>\n",
       "      <th>Landsize</th>\n",
       "      <th>BuildingArea</th>\n",
       "      <th>YearBuilt</th>\n",
       "      <th>Lattitude</th>\n",
       "      <th>Longtitude</th>\n",
       "      <th>Propertycount</th>\n",
       "      <th>room_avg</th>\n",
       "    </tr>\n",
       "  </thead>\n",
       "  <tbody>\n",
       "    <tr>\n",
       "      <th>1</th>\n",
       "      <td>736035</td>\n",
       "      <td>1.252763</td>\n",
       "      <td>0.693147</td>\n",
       "      <td>0.693147</td>\n",
       "      <td>5.313206</td>\n",
       "      <td>NaN</td>\n",
       "      <td>NaN</td>\n",
       "      <td>-37.7996</td>\n",
       "      <td>144.9984</td>\n",
       "      <td>8.299037</td>\n",
       "      <td>2.0</td>\n",
       "    </tr>\n",
       "    <tr>\n",
       "      <th>2</th>\n",
       "      <td>736056</td>\n",
       "      <td>1.252763</td>\n",
       "      <td>0.693147</td>\n",
       "      <td>0.000000</td>\n",
       "      <td>5.056246</td>\n",
       "      <td>4.382027</td>\n",
       "      <td>1900.0</td>\n",
       "      <td>-37.8079</td>\n",
       "      <td>144.9934</td>\n",
       "      <td>8.299037</td>\n",
       "      <td>2.0</td>\n",
       "    </tr>\n",
       "    <tr>\n",
       "      <th>4</th>\n",
       "      <td>736422</td>\n",
       "      <td>1.252763</td>\n",
       "      <td>1.098612</td>\n",
       "      <td>0.000000</td>\n",
       "      <td>4.905275</td>\n",
       "      <td>5.017280</td>\n",
       "      <td>1900.0</td>\n",
       "      <td>-37.8093</td>\n",
       "      <td>144.9944</td>\n",
       "      <td>8.299037</td>\n",
       "      <td>3.0</td>\n",
       "    </tr>\n",
       "    <tr>\n",
       "      <th>5</th>\n",
       "      <td>736422</td>\n",
       "      <td>1.252763</td>\n",
       "      <td>1.098612</td>\n",
       "      <td>0.693147</td>\n",
       "      <td>4.553877</td>\n",
       "      <td>NaN</td>\n",
       "      <td>NaN</td>\n",
       "      <td>-37.7969</td>\n",
       "      <td>144.9969</td>\n",
       "      <td>8.299037</td>\n",
       "      <td>3.0</td>\n",
       "    </tr>\n",
       "    <tr>\n",
       "      <th>6</th>\n",
       "      <td>736060</td>\n",
       "      <td>1.252763</td>\n",
       "      <td>0.693147</td>\n",
       "      <td>1.098612</td>\n",
       "      <td>4.795791</td>\n",
       "      <td>4.962845</td>\n",
       "      <td>2014.0</td>\n",
       "      <td>-37.8072</td>\n",
       "      <td>144.9941</td>\n",
       "      <td>8.299037</td>\n",
       "      <td>3.5</td>\n",
       "    </tr>\n",
       "  </tbody>\n",
       "</table>\n",
       "</div>"
      ],
      "text/plain": [
       "     Date  Distance  Bathroom       Car  Landsize  BuildingArea  YearBuilt  \\\n",
       "1  736035  1.252763  0.693147  0.693147  5.313206           NaN        NaN   \n",
       "2  736056  1.252763  0.693147  0.000000  5.056246      4.382027     1900.0   \n",
       "4  736422  1.252763  1.098612  0.000000  4.905275      5.017280     1900.0   \n",
       "5  736422  1.252763  1.098612  0.693147  4.553877           NaN        NaN   \n",
       "6  736060  1.252763  0.693147  1.098612  4.795791      4.962845     2014.0   \n",
       "\n",
       "   Lattitude  Longtitude  Propertycount  room_avg  \n",
       "1   -37.7996    144.9984       8.299037       2.0  \n",
       "2   -37.8079    144.9934       8.299037       2.0  \n",
       "4   -37.8093    144.9944       8.299037       3.0  \n",
       "5   -37.7969    144.9969       8.299037       3.0  \n",
       "6   -37.8072    144.9941       8.299037       3.5  "
      ]
     },
     "execution_count": 28,
     "metadata": {},
     "output_type": "execute_result"
    }
   ],
   "source": [
    "print(X_incomplete.shape)\n",
    "X_incomplete = housing_threshed.select_dtypes(np.number)\n",
    "X_incomplete = X_incomplete.drop(columns = 'Price')\n",
    "X_incomplete.head()"
   ]
  },
  {
   "cell_type": "code",
   "execution_count": 29,
   "metadata": {},
   "outputs": [
    {
     "name": "stdout",
     "output_type": "stream",
     "text": [
      "Imputing row 1/27142 with 2 missing, elapsed time: 103.898\n",
      "Imputing row 101/27142 with 7 missing, elapsed time: 103.967\n",
      "Imputing row 201/27142 with 7 missing, elapsed time: 103.998\n",
      "Imputing row 301/27142 with 7 missing, elapsed time: 104.050\n",
      "Imputing row 401/27142 with 0 missing, elapsed time: 104.080\n",
      "Imputing row 501/27142 with 0 missing, elapsed time: 104.111\n",
      "Imputing row 601/27142 with 2 missing, elapsed time: 104.163\n",
      "Imputing row 701/27142 with 2 missing, elapsed time: 104.206\n",
      "Imputing row 801/27142 with 0 missing, elapsed time: 104.250\n",
      "Imputing row 901/27142 with 7 missing, elapsed time: 104.290\n",
      "Imputing row 1001/27142 with 7 missing, elapsed time: 104.326\n",
      "Imputing row 1101/27142 with 0 missing, elapsed time: 104.370\n",
      "Imputing row 1201/27142 with 2 missing, elapsed time: 104.419\n",
      "Imputing row 1301/27142 with 0 missing, elapsed time: 104.458\n",
      "Imputing row 1401/27142 with 0 missing, elapsed time: 104.483\n",
      "Imputing row 1501/27142 with 7 missing, elapsed time: 104.514\n",
      "Imputing row 1601/27142 with 2 missing, elapsed time: 104.552\n",
      "Imputing row 1701/27142 with 2 missing, elapsed time: 104.589\n",
      "Imputing row 1801/27142 with 0 missing, elapsed time: 104.613\n",
      "Imputing row 1901/27142 with 0 missing, elapsed time: 104.645\n",
      "Imputing row 2001/27142 with 0 missing, elapsed time: 104.684\n",
      "Imputing row 2101/27142 with 0 missing, elapsed time: 104.727\n",
      "Imputing row 2201/27142 with 0 missing, elapsed time: 104.761\n",
      "Imputing row 2301/27142 with 2 missing, elapsed time: 104.787\n",
      "Imputing row 2401/27142 with 1 missing, elapsed time: 104.818\n",
      "Imputing row 2501/27142 with 1 missing, elapsed time: 104.857\n",
      "Imputing row 2601/27142 with 0 missing, elapsed time: 104.881\n",
      "Imputing row 2701/27142 with 0 missing, elapsed time: 104.912\n",
      "Imputing row 2801/27142 with 1 missing, elapsed time: 104.942\n",
      "Imputing row 2901/27142 with 7 missing, elapsed time: 104.966\n",
      "Imputing row 3001/27142 with 0 missing, elapsed time: 104.986\n",
      "Imputing row 3101/27142 with 2 missing, elapsed time: 105.011\n",
      "Imputing row 3201/27142 with 1 missing, elapsed time: 105.036\n",
      "Imputing row 3301/27142 with 2 missing, elapsed time: 105.057\n",
      "Imputing row 3401/27142 with 2 missing, elapsed time: 105.078\n",
      "Imputing row 3501/27142 with 0 missing, elapsed time: 105.105\n",
      "Imputing row 3601/27142 with 7 missing, elapsed time: 105.132\n",
      "Imputing row 3701/27142 with 1 missing, elapsed time: 105.179\n",
      "Imputing row 3801/27142 with 2 missing, elapsed time: 105.223\n",
      "Imputing row 3901/27142 with 1 missing, elapsed time: 105.256\n",
      "Imputing row 4001/27142 with 0 missing, elapsed time: 105.305\n",
      "Imputing row 4101/27142 with 0 missing, elapsed time: 105.329\n",
      "Imputing row 4201/27142 with 7 missing, elapsed time: 105.357\n",
      "Imputing row 4301/27142 with 7 missing, elapsed time: 105.384\n",
      "Imputing row 4401/27142 with 7 missing, elapsed time: 105.408\n",
      "Imputing row 4501/27142 with 2 missing, elapsed time: 105.440\n",
      "Imputing row 4601/27142 with 0 missing, elapsed time: 105.478\n",
      "Imputing row 4701/27142 with 0 missing, elapsed time: 105.513\n",
      "Imputing row 4801/27142 with 7 missing, elapsed time: 105.548\n",
      "Imputing row 4901/27142 with 7 missing, elapsed time: 105.580\n",
      "Imputing row 5001/27142 with 2 missing, elapsed time: 105.615\n",
      "Imputing row 5101/27142 with 0 missing, elapsed time: 105.662\n",
      "Imputing row 5201/27142 with 0 missing, elapsed time: 105.710\n",
      "Imputing row 5301/27142 with 2 missing, elapsed time: 105.731\n",
      "Imputing row 5401/27142 with 2 missing, elapsed time: 105.759\n",
      "Imputing row 5501/27142 with 2 missing, elapsed time: 105.783\n",
      "Imputing row 5601/27142 with 7 missing, elapsed time: 105.807\n",
      "Imputing row 5701/27142 with 7 missing, elapsed time: 105.836\n",
      "Imputing row 5801/27142 with 2 missing, elapsed time: 105.877\n",
      "Imputing row 5901/27142 with 0 missing, elapsed time: 105.910\n",
      "Imputing row 6001/27142 with 0 missing, elapsed time: 105.947\n",
      "Imputing row 6101/27142 with 0 missing, elapsed time: 105.974\n",
      "Imputing row 6201/27142 with 0 missing, elapsed time: 106.004\n",
      "Imputing row 6301/27142 with 7 missing, elapsed time: 106.039\n",
      "Imputing row 6401/27142 with 0 missing, elapsed time: 106.072\n",
      "Imputing row 6501/27142 with 7 missing, elapsed time: 106.106\n",
      "Imputing row 6601/27142 with 0 missing, elapsed time: 106.156\n",
      "Imputing row 6701/27142 with 0 missing, elapsed time: 106.203\n",
      "Imputing row 6801/27142 with 7 missing, elapsed time: 106.231\n",
      "Imputing row 6901/27142 with 2 missing, elapsed time: 106.257\n",
      "Imputing row 7001/27142 with 7 missing, elapsed time: 106.289\n",
      "Imputing row 7101/27142 with 2 missing, elapsed time: 106.309\n",
      "Imputing row 7201/27142 with 2 missing, elapsed time: 106.334\n",
      "Imputing row 7301/27142 with 1 missing, elapsed time: 106.362\n",
      "Imputing row 7401/27142 with 7 missing, elapsed time: 106.394\n",
      "Imputing row 7501/27142 with 7 missing, elapsed time: 106.426\n",
      "Imputing row 7601/27142 with 2 missing, elapsed time: 106.470\n",
      "Imputing row 7701/27142 with 1 missing, elapsed time: 106.503\n",
      "Imputing row 7801/27142 with 2 missing, elapsed time: 106.547\n",
      "Imputing row 7901/27142 with 2 missing, elapsed time: 106.569\n",
      "Imputing row 8001/27142 with 1 missing, elapsed time: 106.614\n",
      "Imputing row 8101/27142 with 7 missing, elapsed time: 106.640\n",
      "Imputing row 8201/27142 with 7 missing, elapsed time: 106.675\n",
      "Imputing row 8301/27142 with 1 missing, elapsed time: 106.700\n",
      "Imputing row 8401/27142 with 1 missing, elapsed time: 106.724\n",
      "Imputing row 8501/27142 with 2 missing, elapsed time: 106.750\n",
      "Imputing row 8601/27142 with 2 missing, elapsed time: 106.772\n",
      "Imputing row 8701/27142 with 7 missing, elapsed time: 106.807\n",
      "Imputing row 8801/27142 with 0 missing, elapsed time: 106.834\n",
      "Imputing row 8901/27142 with 1 missing, elapsed time: 106.859\n",
      "Imputing row 9001/27142 with 7 missing, elapsed time: 106.890\n",
      "Imputing row 9101/27142 with 0 missing, elapsed time: 106.921\n",
      "Imputing row 9201/27142 with 0 missing, elapsed time: 106.943\n",
      "Imputing row 9301/27142 with 2 missing, elapsed time: 106.990\n",
      "Imputing row 9401/27142 with 1 missing, elapsed time: 107.025\n",
      "Imputing row 9501/27142 with 2 missing, elapsed time: 107.076\n",
      "Imputing row 9601/27142 with 7 missing, elapsed time: 107.112\n",
      "Imputing row 9701/27142 with 7 missing, elapsed time: 107.143\n",
      "Imputing row 9801/27142 with 0 missing, elapsed time: 107.178\n",
      "Imputing row 9901/27142 with 1 missing, elapsed time: 107.213\n",
      "Imputing row 10001/27142 with 0 missing, elapsed time: 107.247\n",
      "Imputing row 10101/27142 with 0 missing, elapsed time: 107.292\n",
      "Imputing row 10201/27142 with 7 missing, elapsed time: 107.338\n",
      "Imputing row 10301/27142 with 0 missing, elapsed time: 107.376\n",
      "Imputing row 10401/27142 with 7 missing, elapsed time: 107.405\n",
      "Imputing row 10501/27142 with 0 missing, elapsed time: 107.444\n",
      "Imputing row 10601/27142 with 0 missing, elapsed time: 107.486\n",
      "Imputing row 10701/27142 with 0 missing, elapsed time: 107.526\n",
      "Imputing row 10801/27142 with 0 missing, elapsed time: 107.557\n",
      "Imputing row 10901/27142 with 1 missing, elapsed time: 107.587\n",
      "Imputing row 11001/27142 with 0 missing, elapsed time: 107.615\n",
      "Imputing row 11101/27142 with 2 missing, elapsed time: 107.648\n",
      "Imputing row 11201/27142 with 2 missing, elapsed time: 107.689\n",
      "Imputing row 11301/27142 with 1 missing, elapsed time: 107.727\n",
      "Imputing row 11401/27142 with 0 missing, elapsed time: 107.772\n",
      "Imputing row 11501/27142 with 0 missing, elapsed time: 107.810\n",
      "Imputing row 11601/27142 with 0 missing, elapsed time: 107.843\n",
      "Imputing row 11701/27142 with 0 missing, elapsed time: 107.873\n",
      "Imputing row 11801/27142 with 0 missing, elapsed time: 107.910\n",
      "Imputing row 11901/27142 with 0 missing, elapsed time: 107.951\n",
      "Imputing row 12001/27142 with 7 missing, elapsed time: 107.990\n",
      "Imputing row 12101/27142 with 2 missing, elapsed time: 108.024\n",
      "Imputing row 12201/27142 with 2 missing, elapsed time: 108.060\n",
      "Imputing row 12301/27142 with 2 missing, elapsed time: 108.098\n",
      "Imputing row 12401/27142 with 7 missing, elapsed time: 108.132\n",
      "Imputing row 12501/27142 with 2 missing, elapsed time: 108.181\n",
      "Imputing row 12601/27142 with 0 missing, elapsed time: 108.228\n",
      "Imputing row 12701/27142 with 7 missing, elapsed time: 108.273\n",
      "Imputing row 12801/27142 with 7 missing, elapsed time: 108.310\n",
      "Imputing row 12901/27142 with 0 missing, elapsed time: 108.356\n",
      "Imputing row 13001/27142 with 7 missing, elapsed time: 108.393\n",
      "Imputing row 13101/27142 with 2 missing, elapsed time: 108.443\n",
      "Imputing row 13201/27142 with 0 missing, elapsed time: 108.492\n",
      "Imputing row 13301/27142 with 0 missing, elapsed time: 108.542\n",
      "Imputing row 13401/27142 with 2 missing, elapsed time: 108.586\n"
     ]
    },
    {
     "name": "stdout",
     "output_type": "stream",
     "text": [
      "Imputing row 13501/27142 with 0 missing, elapsed time: 108.636\n",
      "Imputing row 13601/27142 with 2 missing, elapsed time: 108.661\n",
      "Imputing row 13701/27142 with 2 missing, elapsed time: 108.685\n",
      "Imputing row 13801/27142 with 2 missing, elapsed time: 108.714\n",
      "Imputing row 13901/27142 with 1 missing, elapsed time: 108.743\n",
      "Imputing row 14001/27142 with 1 missing, elapsed time: 108.772\n",
      "Imputing row 14101/27142 with 2 missing, elapsed time: 108.795\n",
      "Imputing row 14201/27142 with 7 missing, elapsed time: 108.831\n",
      "Imputing row 14301/27142 with 0 missing, elapsed time: 108.862\n",
      "Imputing row 14401/27142 with 0 missing, elapsed time: 108.890\n",
      "Imputing row 14501/27142 with 0 missing, elapsed time: 108.913\n",
      "Imputing row 14601/27142 with 7 missing, elapsed time: 108.945\n",
      "Imputing row 14701/27142 with 5 missing, elapsed time: 108.973\n",
      "Imputing row 14801/27142 with 2 missing, elapsed time: 108.996\n",
      "Imputing row 14901/27142 with 7 missing, elapsed time: 109.021\n",
      "Imputing row 15001/27142 with 7 missing, elapsed time: 109.044\n",
      "Imputing row 15101/27142 with 0 missing, elapsed time: 109.078\n",
      "Imputing row 15201/27142 with 2 missing, elapsed time: 109.103\n",
      "Imputing row 15301/27142 with 0 missing, elapsed time: 109.130\n",
      "Imputing row 15401/27142 with 3 missing, elapsed time: 109.156\n",
      "Imputing row 15501/27142 with 7 missing, elapsed time: 109.184\n",
      "Imputing row 15601/27142 with 5 missing, elapsed time: 109.216\n",
      "Imputing row 15701/27142 with 2 missing, elapsed time: 109.251\n",
      "Imputing row 15801/27142 with 1 missing, elapsed time: 109.283\n",
      "Imputing row 15901/27142 with 3 missing, elapsed time: 109.322\n",
      "Imputing row 16001/27142 with 0 missing, elapsed time: 109.353\n",
      "Imputing row 16101/27142 with 0 missing, elapsed time: 109.384\n",
      "Imputing row 16201/27142 with 3 missing, elapsed time: 109.413\n",
      "Imputing row 16301/27142 with 1 missing, elapsed time: 109.455\n",
      "Imputing row 16401/27142 with 2 missing, elapsed time: 109.487\n",
      "Imputing row 16501/27142 with 3 missing, elapsed time: 109.519\n",
      "Imputing row 16601/27142 with 0 missing, elapsed time: 109.551\n",
      "Imputing row 16701/27142 with 1 missing, elapsed time: 109.586\n",
      "Imputing row 16801/27142 with 1 missing, elapsed time: 109.614\n",
      "Imputing row 16901/27142 with 0 missing, elapsed time: 109.646\n",
      "Imputing row 17001/27142 with 2 missing, elapsed time: 109.674\n",
      "Imputing row 17101/27142 with 3 missing, elapsed time: 109.700\n",
      "Imputing row 17201/27142 with 7 missing, elapsed time: 109.731\n",
      "Imputing row 17301/27142 with 3 missing, elapsed time: 109.767\n",
      "Imputing row 17401/27142 with 0 missing, elapsed time: 109.802\n",
      "Imputing row 17501/27142 with 3 missing, elapsed time: 109.834\n",
      "Imputing row 17601/27142 with 4 missing, elapsed time: 109.869\n",
      "Imputing row 17701/27142 with 2 missing, elapsed time: 109.897\n",
      "Imputing row 17801/27142 with 2 missing, elapsed time: 109.935\n",
      "Imputing row 17901/27142 with 1 missing, elapsed time: 109.966\n",
      "Imputing row 18001/27142 with 2 missing, elapsed time: 110.000\n",
      "Imputing row 18101/27142 with 1 missing, elapsed time: 110.028\n",
      "Imputing row 18201/27142 with 0 missing, elapsed time: 110.059\n",
      "Imputing row 18301/27142 with 2 missing, elapsed time: 110.090\n",
      "Imputing row 18401/27142 with 0 missing, elapsed time: 110.131\n",
      "Imputing row 18501/27142 with 2 missing, elapsed time: 110.178\n",
      "Imputing row 18601/27142 with 0 missing, elapsed time: 110.218\n",
      "Imputing row 18701/27142 with 7 missing, elapsed time: 110.270\n",
      "Imputing row 18801/27142 with 3 missing, elapsed time: 110.316\n",
      "Imputing row 18901/27142 with 0 missing, elapsed time: 110.365\n",
      "Imputing row 19001/27142 with 1 missing, elapsed time: 110.407\n",
      "Imputing row 19101/27142 with 7 missing, elapsed time: 110.455\n",
      "Imputing row 19201/27142 with 5 missing, elapsed time: 110.502\n",
      "Imputing row 19301/27142 with 1 missing, elapsed time: 110.553\n",
      "Imputing row 19401/27142 with 0 missing, elapsed time: 110.593\n",
      "Imputing row 19501/27142 with 7 missing, elapsed time: 110.640\n",
      "Imputing row 19601/27142 with 0 missing, elapsed time: 110.682\n",
      "Imputing row 19701/27142 with 7 missing, elapsed time: 110.727\n",
      "Imputing row 19801/27142 with 7 missing, elapsed time: 110.776\n",
      "Imputing row 19901/27142 with 1 missing, elapsed time: 110.814\n",
      "Imputing row 20001/27142 with 0 missing, elapsed time: 110.860\n",
      "Imputing row 20101/27142 with 7 missing, elapsed time: 110.907\n",
      "Imputing row 20201/27142 with 1 missing, elapsed time: 110.951\n",
      "Imputing row 20301/27142 with 3 missing, elapsed time: 110.991\n",
      "Imputing row 20401/27142 with 3 missing, elapsed time: 111.043\n",
      "Imputing row 20501/27142 with 0 missing, elapsed time: 111.091\n",
      "Imputing row 20601/27142 with 3 missing, elapsed time: 111.153\n",
      "Imputing row 20701/27142 with 7 missing, elapsed time: 111.210\n",
      "Imputing row 20801/27142 with 1 missing, elapsed time: 111.266\n",
      "Imputing row 20901/27142 with 0 missing, elapsed time: 111.318\n",
      "Imputing row 21001/27142 with 0 missing, elapsed time: 111.379\n",
      "Imputing row 21101/27142 with 7 missing, elapsed time: 111.440\n",
      "Imputing row 21201/27142 with 3 missing, elapsed time: 111.503\n",
      "Imputing row 21301/27142 with 3 missing, elapsed time: 111.561\n",
      "Imputing row 21401/27142 with 7 missing, elapsed time: 111.614\n",
      "Imputing row 21501/27142 with 3 missing, elapsed time: 111.683\n",
      "Imputing row 21601/27142 with 1 missing, elapsed time: 111.737\n",
      "Imputing row 21701/27142 with 0 missing, elapsed time: 111.786\n",
      "Imputing row 21801/27142 with 7 missing, elapsed time: 111.853\n",
      "Imputing row 21901/27142 with 7 missing, elapsed time: 111.970\n",
      "Imputing row 22001/27142 with 7 missing, elapsed time: 112.090\n",
      "Imputing row 22101/27142 with 7 missing, elapsed time: 112.209\n",
      "Imputing row 22201/27142 with 7 missing, elapsed time: 112.330\n",
      "Imputing row 22301/27142 with 0 missing, elapsed time: 112.446\n",
      "Imputing row 22401/27142 with 2 missing, elapsed time: 112.505\n",
      "Imputing row 22501/27142 with 2 missing, elapsed time: 112.569\n",
      "Imputing row 22601/27142 with 1 missing, elapsed time: 112.642\n",
      "Imputing row 22701/27142 with 2 missing, elapsed time: 112.705\n",
      "Imputing row 22801/27142 with 2 missing, elapsed time: 112.768\n",
      "Imputing row 22901/27142 with 1 missing, elapsed time: 112.837\n",
      "Imputing row 23001/27142 with 2 missing, elapsed time: 112.904\n",
      "Imputing row 23101/27142 with 7 missing, elapsed time: 112.966\n",
      "Imputing row 23201/27142 with 2 missing, elapsed time: 113.041\n",
      "Imputing row 23301/27142 with 3 missing, elapsed time: 113.117\n",
      "Imputing row 23401/27142 with 7 missing, elapsed time: 113.180\n",
      "Imputing row 23501/27142 with 2 missing, elapsed time: 113.243\n",
      "Imputing row 23601/27142 with 7 missing, elapsed time: 113.317\n",
      "Imputing row 23701/27142 with 0 missing, elapsed time: 113.401\n",
      "Imputing row 23801/27142 with 1 missing, elapsed time: 113.483\n",
      "Imputing row 23901/27142 with 7 missing, elapsed time: 113.555\n",
      "Imputing row 24001/27142 with 7 missing, elapsed time: 113.638\n",
      "Imputing row 24101/27142 with 1 missing, elapsed time: 113.692\n",
      "Imputing row 24201/27142 with 7 missing, elapsed time: 113.750\n",
      "Imputing row 24301/27142 with 3 missing, elapsed time: 113.822\n",
      "Imputing row 24401/27142 with 7 missing, elapsed time: 113.886\n",
      "Imputing row 24501/27142 with 1 missing, elapsed time: 113.948\n",
      "Imputing row 24601/27142 with 2 missing, elapsed time: 113.994\n",
      "Imputing row 24701/27142 with 0 missing, elapsed time: 114.050\n",
      "Imputing row 24801/27142 with 0 missing, elapsed time: 114.110\n",
      "Imputing row 24901/27142 with 0 missing, elapsed time: 114.162\n",
      "Imputing row 25001/27142 with 0 missing, elapsed time: 114.231\n",
      "Imputing row 25101/27142 with 2 missing, elapsed time: 114.286\n",
      "Imputing row 25201/27142 with 5 missing, elapsed time: 114.322\n",
      "Imputing row 25301/27142 with 0 missing, elapsed time: 114.377\n",
      "Imputing row 25401/27142 with 0 missing, elapsed time: 114.425\n",
      "Imputing row 25501/27142 with 2 missing, elapsed time: 114.479\n",
      "Imputing row 25601/27142 with 2 missing, elapsed time: 114.542\n",
      "Imputing row 25701/27142 with 2 missing, elapsed time: 114.605\n",
      "Imputing row 25801/27142 with 2 missing, elapsed time: 114.657\n",
      "Imputing row 25901/27142 with 7 missing, elapsed time: 114.712\n",
      "Imputing row 26001/27142 with 0 missing, elapsed time: 114.759\n",
      "Imputing row 26101/27142 with 2 missing, elapsed time: 114.815\n",
      "Imputing row 26201/27142 with 7 missing, elapsed time: 114.871\n",
      "Imputing row 26301/27142 with 7 missing, elapsed time: 114.933\n",
      "Imputing row 26401/27142 with 2 missing, elapsed time: 114.977\n",
      "Imputing row 26501/27142 with 2 missing, elapsed time: 115.024\n",
      "Imputing row 26601/27142 with 0 missing, elapsed time: 115.072\n",
      "Imputing row 26701/27142 with 7 missing, elapsed time: 115.125\n",
      "Imputing row 26801/27142 with 7 missing, elapsed time: 115.176\n",
      "Imputing row 26901/27142 with 0 missing, elapsed time: 115.221\n"
     ]
    },
    {
     "name": "stdout",
     "output_type": "stream",
     "text": [
      "Imputing row 27001/27142 with 2 missing, elapsed time: 115.280\n",
      "Imputing row 27101/27142 with 0 missing, elapsed time: 115.333\n"
     ]
    },
    {
     "ename": "AttributeError",
     "evalue": "'numpy.ndarray' object has no attribute 'isna'",
     "output_type": "error",
     "traceback": [
      "\u001b[0;31m---------------------------------------------------------------------------\u001b[0m",
      "\u001b[0;31mAttributeError\u001b[0m                            Traceback (most recent call last)",
      "\u001b[0;32m<ipython-input-29-446cfb14f0e3>\u001b[0m in \u001b[0;36m<module>\u001b[0;34m\u001b[0m\n\u001b[1;32m      1\u001b[0m \u001b[0;32mfrom\u001b[0m \u001b[0mfancyimpute\u001b[0m \u001b[0;32mimport\u001b[0m \u001b[0mKNN\u001b[0m\u001b[0;34m\u001b[0m\u001b[0;34m\u001b[0m\u001b[0m\n\u001b[1;32m      2\u001b[0m \u001b[0mX_complete_KNN\u001b[0m \u001b[0;34m=\u001b[0m \u001b[0mKNN\u001b[0m\u001b[0;34m(\u001b[0m\u001b[0mk\u001b[0m\u001b[0;34m=\u001b[0m\u001b[0;36m5\u001b[0m\u001b[0;34m)\u001b[0m\u001b[0;34m.\u001b[0m\u001b[0mfit_transform\u001b[0m\u001b[0;34m(\u001b[0m\u001b[0mX_incomplete\u001b[0m\u001b[0;34m)\u001b[0m\u001b[0;34m\u001b[0m\u001b[0;34m\u001b[0m\u001b[0m\n\u001b[0;32m----> 3\u001b[0;31m \u001b[0mX_complete_KNN\u001b[0m\u001b[0;34m.\u001b[0m\u001b[0misna\u001b[0m\u001b[0;34m(\u001b[0m\u001b[0;34m)\u001b[0m\u001b[0;34m.\u001b[0m\u001b[0msum\u001b[0m\u001b[0;34m(\u001b[0m\u001b[0;34m)\u001b[0m\u001b[0;34m\u001b[0m\u001b[0;34m\u001b[0m\u001b[0m\n\u001b[0m",
      "\u001b[0;31mAttributeError\u001b[0m: 'numpy.ndarray' object has no attribute 'isna'"
     ]
    }
   ],
   "source": [
    "from fancyimpute import KNN\n",
    "X_complete_KNN = KNN(k=5).fit_transform(X_incomplete)\n",
    "X_complete_KNN.isna().sum()"
   ]
  },
  {
   "cell_type": "code",
   "execution_count": 32,
   "metadata": {},
   "outputs": [
    {
     "data": {
      "text/plain": [
       "Date             0\n",
       "Distance         0\n",
       "Bathroom         0\n",
       "Car              0\n",
       "Landsize         0\n",
       "BuildingArea     0\n",
       "YearBuilt        0\n",
       "Lattitude        0\n",
       "Longtitude       0\n",
       "Propertycount    0\n",
       "room_avg         0\n",
       "dtype: int64"
      ]
     },
     "execution_count": 32,
     "metadata": {},
     "output_type": "execute_result"
    }
   ],
   "source": [
    "X_complete_df = pd.DataFrame(X_complete_KNN, columns = X_incomplete.columns, index = X_incomplete.index)\n",
    "X_complete_df.isna().sum()"
   ]
  },
  {
   "cell_type": "code",
   "execution_count": 33,
   "metadata": {},
   "outputs": [
    {
     "data": {
      "text/plain": [
       "Suburb               0\n",
       "Address              0\n",
       "Type                 0\n",
       "Price                0\n",
       "Method               0\n",
       "SellerG              0\n",
       "Date                 0\n",
       "Distance             0\n",
       "Postcode             0\n",
       "Bathroom          6437\n",
       "Car               6811\n",
       "Landsize          9237\n",
       "BuildingArea     16570\n",
       "YearBuilt        15139\n",
       "CouncilArea          0\n",
       "Lattitude         6248\n",
       "Longtitude        6248\n",
       "Regionname           0\n",
       "Propertycount        0\n",
       "room_avg             0\n",
       "dtype: int64"
      ]
     },
     "execution_count": 33,
     "metadata": {},
     "output_type": "execute_result"
    }
   ],
   "source": [
    "housing_threshed.isna().sum()"
   ]
  },
  {
   "cell_type": "code",
   "execution_count": null,
   "metadata": {},
   "outputs": [],
   "source": [
    "# Testing impyute MICE\n",
    "from impyute.imputation.cs import mice\n",
    "\n",
    "X_incomplete = housing_threshed.select_dtypes(np.number)\n",
    "X_incomplete = X_incomplete.drop(columns = 'Price')\n",
    "\n",
    "housing_impyuted = mice(X_incomplete)\n",
    "housing_impyuted.isna().sum()"
   ]
  },
  {
   "cell_type": "code",
   "execution_count": 36,
   "metadata": {},
   "outputs": [
    {
     "data": {
      "text/html": [
       "<div>\n",
       "<style scoped>\n",
       "    .dataframe tbody tr th:only-of-type {\n",
       "        vertical-align: middle;\n",
       "    }\n",
       "\n",
       "    .dataframe tbody tr th {\n",
       "        vertical-align: top;\n",
       "    }\n",
       "\n",
       "    .dataframe thead th {\n",
       "        text-align: right;\n",
       "    }\n",
       "</style>\n",
       "<table border=\"1\" class=\"dataframe\">\n",
       "  <thead>\n",
       "    <tr style=\"text-align: right;\">\n",
       "      <th></th>\n",
       "      <th>0</th>\n",
       "      <th>1</th>\n",
       "      <th>2</th>\n",
       "      <th>3</th>\n",
       "      <th>4</th>\n",
       "      <th>5</th>\n",
       "      <th>6</th>\n",
       "      <th>7</th>\n",
       "      <th>8</th>\n",
       "      <th>9</th>\n",
       "      <th>10</th>\n",
       "    </tr>\n",
       "  </thead>\n",
       "  <tbody>\n",
       "    <tr>\n",
       "      <th>0</th>\n",
       "      <td>736035.0</td>\n",
       "      <td>1.252763</td>\n",
       "      <td>0.693147</td>\n",
       "      <td>0.693147</td>\n",
       "      <td>5.313206</td>\n",
       "      <td>4.500088</td>\n",
       "      <td>1929.287073</td>\n",
       "      <td>-37.7996</td>\n",
       "      <td>144.9984</td>\n",
       "      <td>8.299037</td>\n",
       "      <td>2.0</td>\n",
       "    </tr>\n",
       "    <tr>\n",
       "      <th>1</th>\n",
       "      <td>736056.0</td>\n",
       "      <td>1.252763</td>\n",
       "      <td>0.693147</td>\n",
       "      <td>0.000000</td>\n",
       "      <td>5.056246</td>\n",
       "      <td>4.382027</td>\n",
       "      <td>1900.000000</td>\n",
       "      <td>-37.8079</td>\n",
       "      <td>144.9934</td>\n",
       "      <td>8.299037</td>\n",
       "      <td>2.0</td>\n",
       "    </tr>\n",
       "    <tr>\n",
       "      <th>2</th>\n",
       "      <td>736422.0</td>\n",
       "      <td>1.252763</td>\n",
       "      <td>1.098612</td>\n",
       "      <td>0.000000</td>\n",
       "      <td>4.905275</td>\n",
       "      <td>5.017280</td>\n",
       "      <td>1900.000000</td>\n",
       "      <td>-37.8093</td>\n",
       "      <td>144.9944</td>\n",
       "      <td>8.299037</td>\n",
       "      <td>3.0</td>\n",
       "    </tr>\n",
       "    <tr>\n",
       "      <th>3</th>\n",
       "      <td>736422.0</td>\n",
       "      <td>1.252763</td>\n",
       "      <td>1.098612</td>\n",
       "      <td>0.693147</td>\n",
       "      <td>4.553877</td>\n",
       "      <td>4.903122</td>\n",
       "      <td>1945.071375</td>\n",
       "      <td>-37.7969</td>\n",
       "      <td>144.9969</td>\n",
       "      <td>8.299037</td>\n",
       "      <td>3.0</td>\n",
       "    </tr>\n",
       "    <tr>\n",
       "      <th>4</th>\n",
       "      <td>736060.0</td>\n",
       "      <td>1.252763</td>\n",
       "      <td>0.693147</td>\n",
       "      <td>1.098612</td>\n",
       "      <td>4.795791</td>\n",
       "      <td>4.962845</td>\n",
       "      <td>2014.000000</td>\n",
       "      <td>-37.8072</td>\n",
       "      <td>144.9941</td>\n",
       "      <td>8.299037</td>\n",
       "      <td>3.5</td>\n",
       "    </tr>\n",
       "  </tbody>\n",
       "</table>\n",
       "</div>"
      ],
      "text/plain": [
       "         0         1         2         3         4         5            6   \\\n",
       "0  736035.0  1.252763  0.693147  0.693147  5.313206  4.500088  1929.287073   \n",
       "1  736056.0  1.252763  0.693147  0.000000  5.056246  4.382027  1900.000000   \n",
       "2  736422.0  1.252763  1.098612  0.000000  4.905275  5.017280  1900.000000   \n",
       "3  736422.0  1.252763  1.098612  0.693147  4.553877  4.903122  1945.071375   \n",
       "4  736060.0  1.252763  0.693147  1.098612  4.795791  4.962845  2014.000000   \n",
       "\n",
       "        7         8         9    10  \n",
       "0 -37.7996  144.9984  8.299037  2.0  \n",
       "1 -37.8079  144.9934  8.299037  2.0  \n",
       "2 -37.8093  144.9944  8.299037  3.0  \n",
       "3 -37.7969  144.9969  8.299037  3.0  \n",
       "4 -37.8072  144.9941  8.299037  3.5  "
      ]
     },
     "execution_count": 36,
     "metadata": {},
     "output_type": "execute_result"
    }
   ],
   "source": [
    "housing_impyuted.head()"
   ]
  },
  {
   "cell_type": "markdown",
   "metadata": {},
   "source": [
    "We will use MICE from the impyute package."
   ]
  },
  {
   "cell_type": "markdown",
   "metadata": {},
   "source": [
    "### Actually Imputing: MICE with the impyute package"
   ]
  },
  {
   "cell_type": "code",
   "execution_count": 43,
   "metadata": {},
   "outputs": [],
   "source": [
    "housing_threshed = housing_threshed.drop(columns = 'Address')"
   ]
  },
  {
   "cell_type": "code",
   "execution_count": 44,
   "metadata": {},
   "outputs": [
    {
     "data": {
      "text/plain": [
       "Suburb               0\n",
       "Type                 0\n",
       "Price                0\n",
       "Method               0\n",
       "SellerG              0\n",
       "Date                 0\n",
       "Distance             0\n",
       "Postcode             0\n",
       "Bathroom          6437\n",
       "Car               6811\n",
       "Landsize          9237\n",
       "BuildingArea     16570\n",
       "YearBuilt        15139\n",
       "CouncilArea          0\n",
       "Lattitude         6248\n",
       "Longtitude        6248\n",
       "Regionname           0\n",
       "Propertycount        0\n",
       "room_avg             0\n",
       "dtype: int64"
      ]
     },
     "execution_count": 44,
     "metadata": {},
     "output_type": "execute_result"
    }
   ],
   "source": [
    "housing_threshed.isna().sum()"
   ]
  },
  {
   "cell_type": "code",
   "execution_count": 59,
   "metadata": {},
   "outputs": [
    {
     "data": {
      "text/plain": [
       "Index(['Date', 'Distance', 'Bathroom', 'Car', 'Landsize', 'BuildingArea',\n",
       "       'YearBuilt', 'Lattitude', 'Longtitude', 'Propertycount', 'room_avg'],\n",
       "      dtype='object')"
      ]
     },
     "execution_count": 59,
     "metadata": {},
     "output_type": "execute_result"
    }
   ],
   "source": [
    "num_cols = housing_threshed.select_dtypes(np.number).columns\n",
    "num_cols = num_cols.drop('Price')\n",
    "num_cols"
   ]
  },
  {
   "cell_type": "code",
   "execution_count": 45,
   "metadata": {},
   "outputs": [
    {
     "data": {
      "text/plain": [
       "Index(['Suburb', 'Type', 'Method', 'SellerG', 'Postcode', 'CouncilArea',\n",
       "       'Regionname'],\n",
       "      dtype='object')"
      ]
     },
     "execution_count": 45,
     "metadata": {},
     "output_type": "execute_result"
    }
   ],
   "source": [
    "cols_to_dummy = housing_threshed.select_dtypes('object').columns\n",
    "cols_to_dummy"
   ]
  },
  {
   "cell_type": "code",
   "execution_count": 46,
   "metadata": {},
   "outputs": [
    {
     "data": {
      "text/plain": [
       "(27142, 960)"
      ]
     },
     "execution_count": 46,
     "metadata": {},
     "output_type": "execute_result"
    }
   ],
   "source": [
    "# One hot encoding the entire categorical subset of the dataset\n",
    "housing_dummied = pd.get_dummies(housing_threshed, columns = cols_to_dummy, prefix = cols_to_dummy)\n",
    "housing_dummied.shape"
   ]
  },
  {
   "cell_type": "code",
   "execution_count": 54,
   "metadata": {},
   "outputs": [
    {
     "data": {
      "text/plain": [
       "Index(['CouncilArea_Yarra City Council',\n",
       "       'CouncilArea_Yarra Ranges Shire Council',\n",
       "       'Regionname_Eastern Metropolitan', 'Regionname_Eastern Victoria',\n",
       "       'Regionname_Northern Metropolitan', 'Regionname_Northern Victoria',\n",
       "       'Regionname_South-Eastern Metropolitan',\n",
       "       'Regionname_Southern Metropolitan', 'Regionname_Western Metropolitan',\n",
       "       'Regionname_Western Victoria'],\n",
       "      dtype='object')"
      ]
     },
     "execution_count": 54,
     "metadata": {},
     "output_type": "execute_result"
    }
   ],
   "source": [
    "# Removing the Price Column to insulate imputation process from pricing information\n",
    "X_incomplete = housing_dummied.copy().drop(columns = 'Price')\n",
    "Y = housing_dummied.loc[:,'Price']\n",
    "\n",
    "# Preserving Column Names because impyute does not.\n",
    "X_columns = X_incomplete.columns\n",
    "X_columns[-10:]"
   ]
  },
  {
   "cell_type": "code",
   "execution_count": 55,
   "metadata": {
    "collapsed": true
   },
   "outputs": [
    {
     "name": "stderr",
     "output_type": "stream",
     "text": [
      "/usr/local/lib/python3.7/site-packages/impyute/util/preprocess.py:52: FutureWarning: Method .as_matrix will be removed in a future version. Use .values instead.\n",
      "  args[0] = args[0].as_matrix()\n"
     ]
    },
    {
     "data": {
      "text/plain": [
       "0      0\n",
       "1      0\n",
       "2      0\n",
       "3      0\n",
       "4      0\n",
       "5      0\n",
       "6      0\n",
       "7      0\n",
       "8      0\n",
       "9      0\n",
       "10     0\n",
       "11     0\n",
       "12     0\n",
       "13     0\n",
       "14     0\n",
       "15     0\n",
       "16     0\n",
       "17     0\n",
       "18     0\n",
       "19     0\n",
       "20     0\n",
       "21     0\n",
       "22     0\n",
       "23     0\n",
       "24     0\n",
       "25     0\n",
       "26     0\n",
       "27     0\n",
       "28     0\n",
       "29     0\n",
       "      ..\n",
       "929    0\n",
       "930    0\n",
       "931    0\n",
       "932    0\n",
       "933    0\n",
       "934    0\n",
       "935    0\n",
       "936    0\n",
       "937    0\n",
       "938    0\n",
       "939    0\n",
       "940    0\n",
       "941    0\n",
       "942    0\n",
       "943    0\n",
       "944    0\n",
       "945    0\n",
       "946    0\n",
       "947    0\n",
       "948    0\n",
       "949    0\n",
       "950    0\n",
       "951    0\n",
       "952    0\n",
       "953    0\n",
       "954    0\n",
       "955    0\n",
       "956    0\n",
       "957    0\n",
       "958    0\n",
       "Length: 959, dtype: int64"
      ]
     },
     "execution_count": 55,
     "metadata": {},
     "output_type": "execute_result"
    }
   ],
   "source": [
    "# Impyuting with MICE\n",
    "from impyute.imputation.cs import mice\n",
    "\n",
    "X_complete = mice(X_incomplete)\n",
    "X_complete.isna().sum()"
   ]
  },
  {
   "cell_type": "code",
   "execution_count": 60,
   "metadata": {},
   "outputs": [
    {
     "data": {
      "text/plain": [
       "Date             0\n",
       "Distance         0\n",
       "Bathroom         0\n",
       "Car              0\n",
       "Landsize         0\n",
       "BuildingArea     0\n",
       "YearBuilt        0\n",
       "Lattitude        0\n",
       "Longtitude       0\n",
       "Propertycount    0\n",
       "room_avg         0\n",
       "dtype: int64"
      ]
     },
     "execution_count": 60,
     "metadata": {},
     "output_type": "execute_result"
    }
   ],
   "source": [
    "X_complete.columns = X_columns\n",
    "X_complete[num_cols].isna().sum()"
   ]
  },
  {
   "cell_type": "markdown",
   "metadata": {},
   "source": [
    "Great! We're ready to start modeling!"
   ]
  },
  {
   "cell_type": "markdown",
   "metadata": {},
   "source": [
    "### Modeling Melbourne Real Estate Data to Predict Housing Prices"
   ]
  },
  {
   "cell_type": "code",
   "execution_count": 71,
   "metadata": {},
   "outputs": [],
   "source": [
    "from sklearn.model_selection import train_test_split\n",
    "\n",
    "X = X_complete.copy()\n",
    "Y = housing_dummied.loc[:,'Price']\n",
    "\n",
    "X_train, X_test, Y_train, Y_test = train_test_split(X, Y, test_size = 0.25, random_state = 15)"
   ]
  },
  {
   "cell_type": "code",
   "execution_count": 72,
   "metadata": {},
   "outputs": [
    {
     "data": {
      "text/plain": [
       "-1.918271140197434e+26"
      ]
     },
     "execution_count": 72,
     "metadata": {},
     "output_type": "execute_result"
    }
   ],
   "source": [
    "from sklearn.linear_model import LinearRegression\n",
    "\n",
    "reg = LinearRegression(normalize = True)\n",
    "reg.fit(X_train, Y_train)\n",
    "reg.score(X_test, Y_test)"
   ]
  },
  {
   "cell_type": "code",
   "execution_count": 74,
   "metadata": {},
   "outputs": [
    {
     "data": {
      "text/plain": [
       "-0.00010191410568771708"
      ]
     },
     "execution_count": 74,
     "metadata": {},
     "output_type": "execute_result"
    }
   ],
   "source": [
    "from sklearn.linear_model import ElasticNet\n",
    "\n",
    "elreg = ElasticNet(normalize = True)\n",
    "elreg.fit(X_train, Y_train)\n",
    "elreg.score(X_test, Y_test)"
   ]
  },
  {
   "cell_type": "code",
   "execution_count": 75,
   "metadata": {},
   "outputs": [
    {
     "data": {
      "text/plain": [
       "0.8552643766026057"
      ]
     },
     "execution_count": 75,
     "metadata": {},
     "output_type": "execute_result"
    }
   ],
   "source": [
    "from sklearn.ensemble import RandomForestRegressor\n",
    "\n",
    "rfr = RandomForestRegressor(n_estimators = 100)\n",
    "rfr.fit(X_train, Y_train)\n",
    "rfr.score(X_test, Y_test)"
   ]
  },
  {
   "cell_type": "code",
   "execution_count": 78,
   "metadata": {},
   "outputs": [
    {
     "data": {
      "text/plain": [
       "0.852269111953552"
      ]
     },
     "execution_count": 78,
     "metadata": {},
     "output_type": "execute_result"
    }
   ],
   "source": [
    "from sklearn.ensemble import GradientBoostingRegressor\n",
    "\n",
    "gbr = GradientBoostingRegressor(n_estimators = 500, loss = 'lad')\n",
    "gbr.fit(X_train, Y_train)\n",
    "gbr.score(X_test, Y_test)"
   ]
  },
  {
   "cell_type": "code",
   "execution_count": 79,
   "metadata": {},
   "outputs": [
    {
     "data": {
      "text/plain": [
       "array([0.83451104, 0.81055592, 0.85514795, 0.8534445 , 0.84064724])"
      ]
     },
     "execution_count": 79,
     "metadata": {},
     "output_type": "execute_result"
    }
   ],
   "source": [
    "# Cross Validating the best model: RandomForestRegressor\n",
    "from sklearn.model_selection import cross_val_score\n",
    "cross_val_score(rfr,X,Y,cv=5)"
   ]
  },
  {
   "cell_type": "markdown",
   "metadata": {},
   "source": [
    "The model that returned the highest R^2 score was the random forest regression model. Unfortunately, none of the linear models returned good R^2 scores, although many other iterations could have been done on the linear regression models (i.e. feature tuning, etc.) Therefore, finding the features that correlate must be done with out the help of the predictive model."
   ]
  },
  {
   "cell_type": "markdown",
   "metadata": {},
   "source": [
    "### Which variables correlate most with price?"
   ]
  },
  {
   "cell_type": "code",
   "execution_count": 80,
   "metadata": {},
   "outputs": [],
   "source": [
    "housing_complete = X_complete.copy()\n",
    "housing_complete['Price'] = Y"
   ]
  },
  {
   "cell_type": "code",
   "execution_count": 81,
   "metadata": {
    "collapsed": true
   },
   "outputs": [
    {
     "ename": "IndexError",
     "evalue": "Inconsistent shape between the condition and the input (got (10, 1) and (10,))",
     "output_type": "error",
     "traceback": [
      "\u001b[0;31m---------------------------------------------------------------------------\u001b[0m",
      "\u001b[0;31mIndexError\u001b[0m                                Traceback (most recent call last)",
      "\u001b[0;32m<ipython-input-81-7213ab1dd3ff>\u001b[0m in \u001b[0;36m<module>\u001b[0;34m\u001b[0m\n\u001b[1;32m      1\u001b[0m \u001b[0;31m# Taking Correlations\u001b[0m\u001b[0;34m\u001b[0m\u001b[0;34m\u001b[0m\u001b[0;34m\u001b[0m\u001b[0m\n\u001b[1;32m      2\u001b[0m \u001b[0mhousing_corr\u001b[0m \u001b[0;34m=\u001b[0m \u001b[0mhousing_complete\u001b[0m\u001b[0;34m.\u001b[0m\u001b[0mcorr\u001b[0m\u001b[0;34m(\u001b[0m\u001b[0;34m)\u001b[0m\u001b[0;34m\u001b[0m\u001b[0;34m\u001b[0m\u001b[0m\n\u001b[0;32m----> 3\u001b[0;31m \u001b[0msns\u001b[0m\u001b[0;34m.\u001b[0m\u001b[0mheatmap\u001b[0m\u001b[0;34m(\u001b[0m\u001b[0mhousing_corr\u001b[0m\u001b[0;34m[\u001b[0m\u001b[0;34m'Price'\u001b[0m\u001b[0;34m]\u001b[0m\u001b[0;34m.\u001b[0m\u001b[0msort_values\u001b[0m\u001b[0;34m(\u001b[0m\u001b[0mascending\u001b[0m \u001b[0;34m=\u001b[0m \u001b[0;32mFalse\u001b[0m\u001b[0;34m)\u001b[0m\u001b[0;34m[\u001b[0m\u001b[0;34m:\u001b[0m\u001b[0;36m10\u001b[0m\u001b[0;34m]\u001b[0m\u001b[0;34m)\u001b[0m\u001b[0;34m\u001b[0m\u001b[0;34m\u001b[0m\u001b[0m\n\u001b[0m",
      "\u001b[0;32m/usr/local/lib/python3.7/site-packages/seaborn/matrix.py\u001b[0m in \u001b[0;36mheatmap\u001b[0;34m(data, vmin, vmax, cmap, center, robust, annot, fmt, annot_kws, linewidths, linecolor, cbar, cbar_kws, cbar_ax, square, xticklabels, yticklabels, mask, ax, **kwargs)\u001b[0m\n\u001b[1;32m    515\u001b[0m     plotter = _HeatMapper(data, vmin, vmax, cmap, center, robust, annot, fmt,\n\u001b[1;32m    516\u001b[0m                           \u001b[0mannot_kws\u001b[0m\u001b[0;34m,\u001b[0m \u001b[0mcbar\u001b[0m\u001b[0;34m,\u001b[0m \u001b[0mcbar_kws\u001b[0m\u001b[0;34m,\u001b[0m \u001b[0mxticklabels\u001b[0m\u001b[0;34m,\u001b[0m\u001b[0;34m\u001b[0m\u001b[0;34m\u001b[0m\u001b[0m\n\u001b[0;32m--> 517\u001b[0;31m                           yticklabels, mask)\n\u001b[0m\u001b[1;32m    518\u001b[0m \u001b[0;34m\u001b[0m\u001b[0m\n\u001b[1;32m    519\u001b[0m     \u001b[0;31m# Add the pcolormesh kwargs here\u001b[0m\u001b[0;34m\u001b[0m\u001b[0;34m\u001b[0m\u001b[0;34m\u001b[0m\u001b[0m\n",
      "\u001b[0;32m/usr/local/lib/python3.7/site-packages/seaborn/matrix.py\u001b[0m in \u001b[0;36m__init__\u001b[0;34m(self, data, vmin, vmax, cmap, center, robust, annot, fmt, annot_kws, cbar, cbar_kws, xticklabels, yticklabels, mask)\u001b[0m\n\u001b[1;32m    113\u001b[0m         \u001b[0mmask\u001b[0m \u001b[0;34m=\u001b[0m \u001b[0m_matrix_mask\u001b[0m\u001b[0;34m(\u001b[0m\u001b[0mdata\u001b[0m\u001b[0;34m,\u001b[0m \u001b[0mmask\u001b[0m\u001b[0;34m)\u001b[0m\u001b[0;34m\u001b[0m\u001b[0;34m\u001b[0m\u001b[0m\n\u001b[1;32m    114\u001b[0m \u001b[0;34m\u001b[0m\u001b[0m\n\u001b[0;32m--> 115\u001b[0;31m         \u001b[0mplot_data\u001b[0m \u001b[0;34m=\u001b[0m \u001b[0mnp\u001b[0m\u001b[0;34m.\u001b[0m\u001b[0mma\u001b[0m\u001b[0;34m.\u001b[0m\u001b[0mmasked_where\u001b[0m\u001b[0;34m(\u001b[0m\u001b[0mnp\u001b[0m\u001b[0;34m.\u001b[0m\u001b[0masarray\u001b[0m\u001b[0;34m(\u001b[0m\u001b[0mmask\u001b[0m\u001b[0;34m)\u001b[0m\u001b[0;34m,\u001b[0m \u001b[0mplot_data\u001b[0m\u001b[0;34m)\u001b[0m\u001b[0;34m\u001b[0m\u001b[0;34m\u001b[0m\u001b[0m\n\u001b[0m\u001b[1;32m    116\u001b[0m \u001b[0;34m\u001b[0m\u001b[0m\n\u001b[1;32m    117\u001b[0m         \u001b[0;31m# Get good names for the rows and columns\u001b[0m\u001b[0;34m\u001b[0m\u001b[0;34m\u001b[0m\u001b[0;34m\u001b[0m\u001b[0m\n",
      "\u001b[0;32m/usr/local/lib/python3.7/site-packages/numpy/ma/core.py\u001b[0m in \u001b[0;36mmasked_where\u001b[0;34m(condition, a, copy)\u001b[0m\n\u001b[1;32m   1936\u001b[0m     \u001b[0;32mif\u001b[0m \u001b[0mcshape\u001b[0m \u001b[0;32mand\u001b[0m \u001b[0mcshape\u001b[0m \u001b[0;34m!=\u001b[0m \u001b[0mashape\u001b[0m\u001b[0;34m:\u001b[0m\u001b[0;34m\u001b[0m\u001b[0;34m\u001b[0m\u001b[0m\n\u001b[1;32m   1937\u001b[0m         raise IndexError(\"Inconsistent shape between the condition and the input\"\n\u001b[0;32m-> 1938\u001b[0;31m                          \" (got %s and %s)\" % (cshape, ashape))\n\u001b[0m\u001b[1;32m   1939\u001b[0m     \u001b[0;32mif\u001b[0m \u001b[0mhasattr\u001b[0m\u001b[0;34m(\u001b[0m\u001b[0ma\u001b[0m\u001b[0;34m,\u001b[0m \u001b[0;34m'_mask'\u001b[0m\u001b[0;34m)\u001b[0m\u001b[0;34m:\u001b[0m\u001b[0;34m\u001b[0m\u001b[0;34m\u001b[0m\u001b[0m\n\u001b[1;32m   1940\u001b[0m         \u001b[0mcond\u001b[0m \u001b[0;34m=\u001b[0m \u001b[0mmask_or\u001b[0m\u001b[0;34m(\u001b[0m\u001b[0mcond\u001b[0m\u001b[0;34m,\u001b[0m \u001b[0ma\u001b[0m\u001b[0;34m.\u001b[0m\u001b[0m_mask\u001b[0m\u001b[0;34m)\u001b[0m\u001b[0;34m\u001b[0m\u001b[0;34m\u001b[0m\u001b[0m\n",
      "\u001b[0;31mIndexError\u001b[0m: Inconsistent shape between the condition and the input (got (10, 1) and (10,))"
     ]
    }
   ],
   "source": [
    "# Taking Correlations\n",
    "housing_corr = housing_complete.corr()\n",
    "sns.heatmap(housing_corr['Price'].sort_values(ascending = False)[:10])"
   ]
  },
  {
   "cell_type": "code",
   "execution_count": 85,
   "metadata": {},
   "outputs": [
    {
     "data": {
      "text/plain": [
       "Date            -0.025337\n",
       "Distance        -0.016720\n",
       "Bathroom         0.008228\n",
       "Car             -0.007424\n",
       "Landsize        -0.004022\n",
       "BuildingArea    -0.000404\n",
       "YearBuilt       -0.011306\n",
       "Lattitude        0.009210\n",
       "Longtitude       0.028703\n",
       "Propertycount    0.038841\n",
       "room_avg         0.003492\n",
       "Name: Price, dtype: float64"
      ]
     },
     "execution_count": 85,
     "metadata": {},
     "output_type": "execute_result"
    }
   ],
   "source": [
    "housing_corr['Price'].loc[num_cols]"
   ]
  },
  {
   "cell_type": "markdown",
   "metadata": {},
   "source": [
    "Among the numeric features, the number of properties in housing development (neighborhood) correlated highest with the price of the house. It seems as though housing prices were falling for the time from of this dataset because the date of the selling of the properties is actually negatively correlated with the price."
   ]
  },
  {
   "cell_type": "code",
   "execution_count": 89,
   "metadata": {},
   "outputs": [
    {
     "data": {
      "text/plain": [
       "Price                                  1.000000\n",
       "Suburb_Port Melbourne                  0.055444\n",
       "Postcode_3207.0                        0.055444\n",
       "Postcode_3072.0                        0.049946\n",
       "Suburb_Preston                         0.049946\n",
       "Suburb_Brunswick West                  0.047081\n",
       "Postcode_3055.0                        0.047081\n",
       "Postcode_3105.0                        0.042930\n",
       "Suburb_Bulleen                         0.042930\n",
       "Suburb_Bentleigh East                  0.041153\n",
       "Postcode_3165.0                        0.041153\n",
       "Suburb_Doncaster                       0.040047\n",
       "Postcode_3108.0                        0.040047\n",
       "Suburb_Bentleigh                       0.038873\n",
       "Propertycount                          0.038841\n",
       "Postcode_3204.0                        0.036721\n",
       "Postcode_3125.0                        0.035785\n",
       "Suburb_Burwood                         0.035785\n",
       "Suburb_Kew                             0.033859\n",
       "Postcode_3101.0                        0.033859\n",
       "CouncilArea_Manningham City Council    0.033122\n",
       "CouncilArea_Boroondara City Council    0.032177\n",
       "Longtitude                             0.028703\n",
       "Postcode_3056.0                        0.025907\n",
       "Suburb_Brunswick                       0.025907\n",
       "Regionname_Southern Metropolitan       0.025138\n",
       "Suburb_Diamond Creek                   0.025039\n",
       "Postcode_3089.0                        0.025039\n",
       "Suburb_Pascoe Vale                     0.023871\n",
       "Postcode_3044.0                        0.023871\n",
       "CouncilArea_Yarra City Council         0.023765\n",
       "Regionname_Northern Metropolitan       0.023406\n",
       "Suburb_Richmond                        0.022937\n",
       "Postcode_3034.0                        0.022669\n",
       "Suburb_Avondale Heights                0.022669\n",
       "CouncilArea_Melbourne City Council     0.022539\n",
       "Suburb_Collingwood                     0.022385\n",
       "Postcode_3066.0                        0.022385\n",
       "CouncilArea_Moreland City Council      0.022296\n",
       "Suburb_Melbourne                       0.021970\n",
       "Postcode_3000.0                        0.021970\n",
       "SellerG_Flannagan                      0.021167\n",
       "Regionname_Eastern Metropolitan        0.021112\n",
       "Postcode_3121.0                        0.021038\n",
       "Suburb_Kew East                        0.020025\n",
       "Postcode_3102.0                        0.020025\n",
       "Suburb_Eaglemont                       0.019458\n",
       "Suburb_St Kilda                        0.019233\n",
       "Postcode_3182.0                        0.019233\n",
       "SellerG_Fletchers                      0.019052\n",
       "Name: Price, dtype: float64"
      ]
     },
     "execution_count": 89,
     "metadata": {},
     "output_type": "execute_result"
    }
   ],
   "source": [
    "housing_corr['Price'].sort_values(ascending = False).head(50)"
   ]
  },
  {
   "cell_type": "markdown",
   "metadata": {},
   "source": [
    "The post code, regionname, and suburb were the greatest categorical variables that were indicators of the price."
   ]
  },
  {
   "cell_type": "markdown",
   "metadata": {},
   "source": [
    "Overall an 85% explained variance score was achieved by the random forest regression model which is pretty great."
   ]
  },
  {
   "cell_type": "code",
   "execution_count": null,
   "metadata": {},
   "outputs": [],
   "source": []
  }
 ],
 "metadata": {
  "kernelspec": {
   "display_name": "Python 3",
   "language": "python",
   "name": "python3"
  },
  "language_info": {
   "codemirror_mode": {
    "name": "ipython",
    "version": 3
   },
   "file_extension": ".py",
   "mimetype": "text/x-python",
   "name": "python",
   "nbconvert_exporter": "python",
   "pygments_lexer": "ipython3",
   "version": "3.7.4"
  }
 },
 "nbformat": 4,
 "nbformat_minor": 2
}
