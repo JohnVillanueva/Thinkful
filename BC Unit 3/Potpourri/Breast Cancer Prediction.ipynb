{
 "cells": [
  {
   "cell_type": "code",
   "execution_count": 1,
   "metadata": {},
   "outputs": [],
   "source": [
    "import pandas as pd\n",
    "import numpy as np\n",
    "import matplotlib.pyplot as plt\n",
    "%matplotlib inline"
   ]
  },
  {
   "cell_type": "code",
   "execution_count": 10,
   "metadata": {},
   "outputs": [
    {
     "data": {
      "text/html": [
       "<div>\n",
       "<style scoped>\n",
       "    .dataframe tbody tr th:only-of-type {\n",
       "        vertical-align: middle;\n",
       "    }\n",
       "\n",
       "    .dataframe tbody tr th {\n",
       "        vertical-align: top;\n",
       "    }\n",
       "\n",
       "    .dataframe thead th {\n",
       "        text-align: right;\n",
       "    }\n",
       "</style>\n",
       "<table border=\"1\" class=\"dataframe\">\n",
       "  <thead>\n",
       "    <tr style=\"text-align: right;\">\n",
       "      <th></th>\n",
       "      <th>0</th>\n",
       "      <th>1</th>\n",
       "      <th>2</th>\n",
       "      <th>3</th>\n",
       "      <th>4</th>\n",
       "      <th>5</th>\n",
       "      <th>6</th>\n",
       "      <th>7</th>\n",
       "      <th>8</th>\n",
       "      <th>9</th>\n",
       "      <th>10</th>\n",
       "    </tr>\n",
       "  </thead>\n",
       "  <tbody>\n",
       "    <tr>\n",
       "      <th>0</th>\n",
       "      <td>1000025</td>\n",
       "      <td>5</td>\n",
       "      <td>1</td>\n",
       "      <td>1</td>\n",
       "      <td>1</td>\n",
       "      <td>2</td>\n",
       "      <td>1</td>\n",
       "      <td>3</td>\n",
       "      <td>1</td>\n",
       "      <td>1</td>\n",
       "      <td>2</td>\n",
       "    </tr>\n",
       "    <tr>\n",
       "      <th>1</th>\n",
       "      <td>1002945</td>\n",
       "      <td>5</td>\n",
       "      <td>4</td>\n",
       "      <td>4</td>\n",
       "      <td>5</td>\n",
       "      <td>7</td>\n",
       "      <td>10</td>\n",
       "      <td>3</td>\n",
       "      <td>2</td>\n",
       "      <td>1</td>\n",
       "      <td>2</td>\n",
       "    </tr>\n",
       "    <tr>\n",
       "      <th>2</th>\n",
       "      <td>1015425</td>\n",
       "      <td>3</td>\n",
       "      <td>1</td>\n",
       "      <td>1</td>\n",
       "      <td>1</td>\n",
       "      <td>2</td>\n",
       "      <td>2</td>\n",
       "      <td>3</td>\n",
       "      <td>1</td>\n",
       "      <td>1</td>\n",
       "      <td>2</td>\n",
       "    </tr>\n",
       "    <tr>\n",
       "      <th>3</th>\n",
       "      <td>1016277</td>\n",
       "      <td>6</td>\n",
       "      <td>8</td>\n",
       "      <td>8</td>\n",
       "      <td>1</td>\n",
       "      <td>3</td>\n",
       "      <td>4</td>\n",
       "      <td>3</td>\n",
       "      <td>7</td>\n",
       "      <td>1</td>\n",
       "      <td>2</td>\n",
       "    </tr>\n",
       "    <tr>\n",
       "      <th>4</th>\n",
       "      <td>1017023</td>\n",
       "      <td>4</td>\n",
       "      <td>1</td>\n",
       "      <td>1</td>\n",
       "      <td>3</td>\n",
       "      <td>2</td>\n",
       "      <td>1</td>\n",
       "      <td>3</td>\n",
       "      <td>1</td>\n",
       "      <td>1</td>\n",
       "      <td>2</td>\n",
       "    </tr>\n",
       "  </tbody>\n",
       "</table>\n",
       "</div>"
      ],
      "text/plain": [
       "        0   1   2   3   4   5   6   7   8   9   10\n",
       "0  1000025   5   1   1   1   2   1   3   1   1   2\n",
       "1  1002945   5   4   4   5   7  10   3   2   1   2\n",
       "2  1015425   3   1   1   1   2   2   3   1   1   2\n",
       "3  1016277   6   8   8   1   3   4   3   7   1   2\n",
       "4  1017023   4   1   1   3   2   1   3   1   1   2"
      ]
     },
     "execution_count": 10,
     "metadata": {},
     "output_type": "execute_result"
    }
   ],
   "source": [
    "cancer = pd.read_csv('../../__DATA__/breast-cancer-wisconsin.data', header = None)\n",
    "cancer.head()"
   ]
  },
  {
   "cell_type": "code",
   "execution_count": 11,
   "metadata": {},
   "outputs": [
    {
     "data": {
      "text/html": [
       "<div>\n",
       "<style scoped>\n",
       "    .dataframe tbody tr th:only-of-type {\n",
       "        vertical-align: middle;\n",
       "    }\n",
       "\n",
       "    .dataframe tbody tr th {\n",
       "        vertical-align: top;\n",
       "    }\n",
       "\n",
       "    .dataframe thead th {\n",
       "        text-align: right;\n",
       "    }\n",
       "</style>\n",
       "<table border=\"1\" class=\"dataframe\">\n",
       "  <thead>\n",
       "    <tr style=\"text-align: right;\">\n",
       "      <th></th>\n",
       "      <th>0</th>\n",
       "      <th>1</th>\n",
       "      <th>2</th>\n",
       "      <th>3</th>\n",
       "      <th>4</th>\n",
       "      <th>5</th>\n",
       "      <th>6</th>\n",
       "      <th>7</th>\n",
       "      <th>8</th>\n",
       "      <th>9</th>\n",
       "      <th>10</th>\n",
       "    </tr>\n",
       "  </thead>\n",
       "  <tbody>\n",
       "    <tr>\n",
       "      <th>0</th>\n",
       "      <td>1000025</td>\n",
       "      <td>5</td>\n",
       "      <td>1</td>\n",
       "      <td>1</td>\n",
       "      <td>1</td>\n",
       "      <td>2</td>\n",
       "      <td>1</td>\n",
       "      <td>3</td>\n",
       "      <td>1</td>\n",
       "      <td>1</td>\n",
       "      <td>Benign</td>\n",
       "    </tr>\n",
       "    <tr>\n",
       "      <th>1</th>\n",
       "      <td>1002945</td>\n",
       "      <td>5</td>\n",
       "      <td>4</td>\n",
       "      <td>4</td>\n",
       "      <td>5</td>\n",
       "      <td>7</td>\n",
       "      <td>10</td>\n",
       "      <td>3</td>\n",
       "      <td>2</td>\n",
       "      <td>1</td>\n",
       "      <td>Benign</td>\n",
       "    </tr>\n",
       "    <tr>\n",
       "      <th>2</th>\n",
       "      <td>1015425</td>\n",
       "      <td>3</td>\n",
       "      <td>1</td>\n",
       "      <td>1</td>\n",
       "      <td>1</td>\n",
       "      <td>2</td>\n",
       "      <td>2</td>\n",
       "      <td>3</td>\n",
       "      <td>1</td>\n",
       "      <td>1</td>\n",
       "      <td>Benign</td>\n",
       "    </tr>\n",
       "    <tr>\n",
       "      <th>3</th>\n",
       "      <td>1016277</td>\n",
       "      <td>6</td>\n",
       "      <td>8</td>\n",
       "      <td>8</td>\n",
       "      <td>1</td>\n",
       "      <td>3</td>\n",
       "      <td>4</td>\n",
       "      <td>3</td>\n",
       "      <td>7</td>\n",
       "      <td>1</td>\n",
       "      <td>Benign</td>\n",
       "    </tr>\n",
       "    <tr>\n",
       "      <th>4</th>\n",
       "      <td>1017023</td>\n",
       "      <td>4</td>\n",
       "      <td>1</td>\n",
       "      <td>1</td>\n",
       "      <td>3</td>\n",
       "      <td>2</td>\n",
       "      <td>1</td>\n",
       "      <td>3</td>\n",
       "      <td>1</td>\n",
       "      <td>1</td>\n",
       "      <td>Benign</td>\n",
       "    </tr>\n",
       "  </tbody>\n",
       "</table>\n",
       "</div>"
      ],
      "text/plain": [
       "        0   1   2   3   4   5   6   7   8   9       10\n",
       "0  1000025   5   1   1   1   2   1   3   1   1  Benign\n",
       "1  1002945   5   4   4   5   7  10   3   2   1  Benign\n",
       "2  1015425   3   1   1   1   2   2   3   1   1  Benign\n",
       "3  1016277   6   8   8   1   3   4   3   7   1  Benign\n",
       "4  1017023   4   1   1   3   2   1   3   1   1  Benign"
      ]
     },
     "execution_count": 11,
     "metadata": {},
     "output_type": "execute_result"
    }
   ],
   "source": [
    "cancer = cancer.replace({10:{2:'Benign', 4:'Malignant'}})\n",
    "cancer.head()"
   ]
  },
  {
   "cell_type": "code",
   "execution_count": 12,
   "metadata": {},
   "outputs": [
    {
     "data": {
      "text/plain": [
       "0     0\n",
       "1     0\n",
       "2     0\n",
       "3     0\n",
       "4     0\n",
       "5     0\n",
       "6     0\n",
       "7     0\n",
       "8     0\n",
       "9     0\n",
       "10    0\n",
       "dtype: int64"
      ]
     },
     "execution_count": 12,
     "metadata": {},
     "output_type": "execute_result"
    }
   ],
   "source": [
    "cancer.isna().sum()"
   ]
  },
  {
   "cell_type": "code",
   "execution_count": 18,
   "metadata": {},
   "outputs": [
    {
     "data": {
      "text/plain": [
       "0      int64\n",
       "1      int64\n",
       "2      int64\n",
       "3      int64\n",
       "4      int64\n",
       "5      int64\n",
       "6     object\n",
       "7      int64\n",
       "8      int64\n",
       "9      int64\n",
       "10    object\n",
       "dtype: object"
      ]
     },
     "execution_count": 18,
     "metadata": {},
     "output_type": "execute_result"
    }
   ],
   "source": [
    "cancer.dtypes"
   ]
  },
  {
   "cell_type": "code",
   "execution_count": 15,
   "metadata": {},
   "outputs": [
    {
     "data": {
      "text/plain": [
       "0    13.675326\n",
       "1     0.592859\n",
       "2     1.233137\n",
       "3     1.161859\n",
       "4     1.524468\n",
       "5     1.712172\n",
       "7     1.099969\n",
       "8     1.422261\n",
       "9     3.560658\n",
       "dtype: float64"
      ]
     },
     "execution_count": 15,
     "metadata": {},
     "output_type": "execute_result"
    }
   ],
   "source": [
    "cancer.skew()"
   ]
  },
  {
   "cell_type": "markdown",
   "metadata": {},
   "source": [
    "It appears that only column 6 contains bad values we will proceed to remove them."
   ]
  },
  {
   "cell_type": "code",
   "execution_count": 36,
   "metadata": {},
   "outputs": [
    {
     "data": {
      "text/plain": [
       "0     0\n",
       "1     0\n",
       "2     0\n",
       "3     0\n",
       "4     0\n",
       "5     0\n",
       "6     0\n",
       "7     0\n",
       "8     0\n",
       "9     0\n",
       "10    0\n",
       "dtype: int64"
      ]
     },
     "execution_count": 36,
     "metadata": {},
     "output_type": "execute_result"
    }
   ],
   "source": [
    "cancer.replace({6:{'?':np.nan}})\n",
    "cancer.isna().sum()"
   ]
  },
  {
   "cell_type": "code",
   "execution_count": 46,
   "metadata": {},
   "outputs": [
    {
     "data": {
      "text/plain": [
       "[23, 40, 139, 145, 158, 164, 235, 249, 275, 292, 294, 297, 315, 321, 411, 617]"
      ]
     },
     "execution_count": 46,
     "metadata": {},
     "output_type": "execute_result"
    }
   ],
   "source": [
    "num_strings = ['1','2','3','4','5','6','7','8','9','10']\n",
    "rows_ind = ~cancer[6].isin(num_strings)\n",
    "rows_to_drop = [i for i in rows_ind.index if rows_ind[i] == True]\n",
    "rows_to_drop"
   ]
  },
  {
   "cell_type": "code",
   "execution_count": 47,
   "metadata": {},
   "outputs": [],
   "source": [
    "cancer_cleaned = cancer.drop(rows_to_drop)\n",
    "cancer_cleaned = "
   ]
  },
  {
   "cell_type": "code",
   "execution_count": 53,
   "metadata": {},
   "outputs": [
    {
     "data": {
      "text/plain": [
       "0    13.748410\n",
       "1    -0.458445\n",
       "2     0.653086\n",
       "3     0.542271\n",
       "4     0.857404\n",
       "5     0.712799\n",
       "6     0.685048\n",
       "7     0.100977\n",
       "8     0.959574\n",
       "9     2.421858\n",
       "dtype: float64"
      ]
     },
     "execution_count": 53,
     "metadata": {},
     "output_type": "execute_result"
    }
   ],
   "source": [
    "cancer_log = cancer_cleaned.copy()\n",
    "for col in cancer_cleaned.iloc[:,1:10].columns:\n",
    "    cancer_log[col] = cancer_cleaned[col].astype(int)\n",
    "    cancer_log[col] = np.log(cancer_log[col])\n",
    "cancer_log.skew()"
   ]
  },
  {
   "cell_type": "code",
   "execution_count": 55,
   "metadata": {},
   "outputs": [
    {
     "data": {
      "text/plain": [
       "0    13.748410\n",
       "1    -1.154863\n",
       "2     0.328286\n",
       "3     0.191275\n",
       "4     0.475816\n",
       "5    -0.848350\n",
       "6     0.467949\n",
       "7    -0.795973\n",
       "8     0.680200\n",
       "9     1.904772\n",
       "dtype: float64"
      ]
     },
     "execution_count": 55,
     "metadata": {},
     "output_type": "execute_result"
    }
   ],
   "source": [
    "cancer_inv = cancer_cleaned.copy()\n",
    "for col in cancer_cleaned.iloc[:,1:10].columns:\n",
    "    cancer_inv[col] = cancer_cleaned[col].astype(int)\n",
    "    cancer_inv[col] = -1/(cancer_inv[col])\n",
    "cancer_inv.skew()"
   ]
  },
  {
   "cell_type": "markdown",
   "metadata": {},
   "source": [
    "### Some exploratory analysis before modeling"
   ]
  },
  {
   "cell_type": "markdown",
   "metadata": {},
   "source": [
    "7. Attribute Information: (class attribute has been moved to last column)\n",
    "\n",
    "      Attribute                     Domain\n",
    "   -- -----------------------------------------\n",
    "   0. Sample code number            id number\n",
    "   1. Clump Thickness               1 - 10\n",
    "   2. Uniformity of Cell Size       1 - 10\n",
    "   3. Uniformity of Cell Shape      1 - 10\n",
    "   4. Marginal Adhesion             1 - 10\n",
    "   5. Single Epithelial Cell Size   1 - 10\n",
    "   6. Bare Nuclei                   1 - 10\n",
    "   7. Bland Chromatin               1 - 10\n",
    "   8. Normal Nucleoli               1 - 10\n",
    "   9. Mitoses                       1 - 10\n",
    "   10. Class:                       (2 for benign, 4 for malignant)"
   ]
  },
  {
   "cell_type": "code",
   "execution_count": 85,
   "metadata": {},
   "outputs": [
    {
     "data": {
      "text/plain": [
       "1    0.714790\n",
       "2    0.871118\n",
       "3    0.857951\n",
       "4    0.747059\n",
       "5    0.739315\n",
       "6    0.844576\n",
       "7    0.737336\n",
       "8    0.759357\n",
       "9    0.495474\n",
       "Name: 10, dtype: float64"
      ]
     },
     "execution_count": 85,
     "metadata": {},
     "output_type": "execute_result"
    }
   ],
   "source": [
    "# Individual Correlations of attributes with malignancy\n",
    "import seaborn as sns\n",
    "cancer_explore = cancer_log.copy().replace({10:{'Benign':0,'Malignant':1}})\n",
    "cormat = cancer_explore.corr()\n",
    "cormat.iloc[10,1:10]"
   ]
  },
  {
   "cell_type": "markdown",
   "metadata": {},
   "source": [
    "All attributes have a positive correlation with malignancy. The weakest attribute as a predictor of malignancy is mitoses. The strongest indicators of malignancy include Bare Nuclei, Uniformity of Cell shape, and the strongest indicator being uniformity of cell size. \n",
    "\n",
    "The midrange indicators (though still quite strong with correlations in the 0.7 region) include Normality of Nucleoli, Bland Chromatin, Single Epithelial Cell Size, Marginal Adhesion, and Clump Thickness."
   ]
  },
  {
   "cell_type": "code",
   "execution_count": 56,
   "metadata": {},
   "outputs": [],
   "source": [
    "from sklearn.model_selection import train_test_split\n",
    "\n",
    "X = cancer_log.iloc[:,1:10]\n",
    "Y = cancer_log.iloc[:,10]\n",
    "\n",
    "X_train, X_test, Y_train, Y_test = train_test_split(X,Y,test_size = 0.30)"
   ]
  },
  {
   "cell_type": "code",
   "execution_count": 75,
   "metadata": {},
   "outputs": [
    {
     "name": "stdout",
     "output_type": "stream",
     "text": [
      "Validation Scores:  [0.96350365 0.94890511 0.97080292 0.97080292 0.98518519]\n",
      "Overal Model Accuracy:  0.9658536585365853\n",
      "Precision (TrueMalignantPredictions/AllMalignantPrediction):  0.9324324324324325\n",
      "Recall (TrueMalignantPredictions/AllTrueMaligance): 0.971830985915493\n"
     ]
    }
   ],
   "source": [
    "from sklearn.linear_model import LogisticRegression\n",
    "from sklearn.model_selection import cross_val_score\n",
    "from sklearn.metrics import confusion_matrix\n",
    "\n",
    "lreg = LogisticRegression(penalty = 'none', solver = 'lbfgs') #penalty = 'none', solver = 'lbfgs'\n",
    "lreg.fit(X_train, Y_train)\n",
    "predict = lreg.predict(X_test)\n",
    "conmat = confusion_matrix(Y_test, predict)\n",
    "score = lreg.score(X_test, Y_test)\n",
    "\n",
    "cv_scores = cross_val_score(lreg, X, Y, cv = 5)\n",
    "precision = conmat[1,1]/conmat[:,1].sum()\n",
    "recall = conmat[1,1]/conmat[1,:].sum()\n",
    "print('Validation Scores: ', cv_scores)\n",
    "print('Overal Model Accuracy: ', score)\n",
    "print('Precision (TrueMalignantPredictions/AllMalignantPrediction): ', precision)\n",
    "print('Recall (TrueMalignantPredictions/AllTrueMaligance):', recall)"
   ]
  },
  {
   "cell_type": "markdown",
   "metadata": {},
   "source": [
    "Results are great but Recall must be as close to 100 percent as possible. False negatives in the case of can"
   ]
  },
  {
   "cell_type": "code",
   "execution_count": 88,
   "metadata": {},
   "outputs": [],
   "source": [
    "def cancerclassifier(clf):\n",
    "    clf.fit(X_train, Y_train)\n",
    "    predict = clf.predict(X_test)\n",
    "    conmat = confusion_matrix(Y_test, predict)\n",
    "    score = clf.score(X_test, Y_test)\n",
    "\n",
    "    cv_scores = cross_val_score(clf, X, Y, cv = 5)\n",
    "    precision = conmat[1,1]/conmat[:,1].sum()\n",
    "    recall = conmat[1,1]/conmat[1,:].sum()\n",
    "    print('Validation Scores: ', cv_scores)\n",
    "    print('Overall Model Accuracy: ', score)\n",
    "    print('Precision (TrueMalignantPredictions/AllMalignantPrediction): ', precision)\n",
    "    print('Recall (TrueMalignantPredictions/AllTrueMaligance):', recall)"
   ]
  },
  {
   "cell_type": "code",
   "execution_count": 69,
   "metadata": {},
   "outputs": [
    {
     "name": "stdout",
     "output_type": "stream",
     "text": [
      "Validation Scores:  [0.93430657 0.94890511 0.97080292 0.97080292 0.98518519]\n",
      "Overal Model Accuracy:  0.9658536585365853\n",
      "Precision (TrueMalignantPredictions/AllMalignantPrediction):  0.9444444444444444\n",
      "Recall (TrueMalignantPredictions/AllTrueMaligance): 0.9577464788732394\n"
     ]
    }
   ],
   "source": [
    "from sklearn.ensemble import RandomForestClassifier\n",
    "\n",
    "rfc = RandomForestClassifier(n_estimators=100)\n",
    "cancerclassifier(rfc)"
   ]
  },
  {
   "cell_type": "code",
   "execution_count": 78,
   "metadata": {},
   "outputs": [
    {
     "name": "stdout",
     "output_type": "stream",
     "text": [
      "Validation Scores:  [0.9270073  0.94890511 0.96350365 0.97810219 0.97037037]\n",
      "Overal Model Accuracy:  0.9609756097560975\n",
      "Precision (TrueMalignantPredictions/AllMalignantPrediction):  0.9315068493150684\n",
      "Recall (TrueMalignantPredictions/AllTrueMaligance): 0.9577464788732394\n"
     ]
    }
   ],
   "source": [
    "from sklearn.ensemble import GradientBoostingClassifier\n",
    "\n",
    "gbc = GradientBoostingClassifier(n_estimators = 100)\n",
    "cancerclassifier(gbc)"
   ]
  },
  {
   "cell_type": "code",
   "execution_count": 87,
   "metadata": {},
   "outputs": [
    {
     "name": "stdout",
     "output_type": "stream",
     "text": [
      "Validation Scores:  [0.96350365 0.94160584 0.97810219 0.98540146 0.97777778]\n",
      "Overal Model Accuracy:  0.9658536585365853\n",
      "Precision (TrueMalignantPredictions/AllMalignantPrediction):  0.9102564102564102\n",
      "Recall (TrueMalignantPredictions/AllTrueMaligance): 1.0\n"
     ]
    },
    {
     "name": "stderr",
     "output_type": "stream",
     "text": [
      "/usr/local/lib/python3.7/site-packages/sklearn/svm/base.py:193: FutureWarning: The default value of gamma will change from 'auto' to 'scale' in version 0.22 to account better for unscaled features. Set gamma explicitly to 'auto' or 'scale' to avoid this warning.\n",
      "  \"avoid this warning.\", FutureWarning)\n",
      "/usr/local/lib/python3.7/site-packages/sklearn/svm/base.py:193: FutureWarning: The default value of gamma will change from 'auto' to 'scale' in version 0.22 to account better for unscaled features. Set gamma explicitly to 'auto' or 'scale' to avoid this warning.\n",
      "  \"avoid this warning.\", FutureWarning)\n",
      "/usr/local/lib/python3.7/site-packages/sklearn/svm/base.py:193: FutureWarning: The default value of gamma will change from 'auto' to 'scale' in version 0.22 to account better for unscaled features. Set gamma explicitly to 'auto' or 'scale' to avoid this warning.\n",
      "  \"avoid this warning.\", FutureWarning)\n",
      "/usr/local/lib/python3.7/site-packages/sklearn/svm/base.py:193: FutureWarning: The default value of gamma will change from 'auto' to 'scale' in version 0.22 to account better for unscaled features. Set gamma explicitly to 'auto' or 'scale' to avoid this warning.\n",
      "  \"avoid this warning.\", FutureWarning)\n",
      "/usr/local/lib/python3.7/site-packages/sklearn/svm/base.py:193: FutureWarning: The default value of gamma will change from 'auto' to 'scale' in version 0.22 to account better for unscaled features. Set gamma explicitly to 'auto' or 'scale' to avoid this warning.\n",
      "  \"avoid this warning.\", FutureWarning)\n",
      "/usr/local/lib/python3.7/site-packages/sklearn/svm/base.py:193: FutureWarning: The default value of gamma will change from 'auto' to 'scale' in version 0.22 to account better for unscaled features. Set gamma explicitly to 'auto' or 'scale' to avoid this warning.\n",
      "  \"avoid this warning.\", FutureWarning)\n"
     ]
    }
   ],
   "source": [
    "from sklearn.svm import SVC\n",
    "\n",
    "svc = SVC()\n",
    "cancerclassifier(svc)"
   ]
  },
  {
   "cell_type": "markdown",
   "metadata": {},
   "source": [
    "Achieved a 100% recall rate with a support vector classifier.\n",
    "\n",
    "Priortizing this model to detect cancer will most likely allow that all true cases of cancer are detected. However, the SVC predicts true malignant cases with 100% accuracy at the expense of predicting benign cases with a lower accuracy than in other classification models. More than one model can be used in tandem in this case, SVC to capture all true positives, and another model to validate who among the predicted positives in the SVC model may potentially be benign."
   ]
  },
  {
   "cell_type": "code",
   "execution_count": null,
   "metadata": {},
   "outputs": [],
   "source": []
  }
 ],
 "metadata": {
  "kernelspec": {
   "display_name": "Python 3",
   "language": "python",
   "name": "python3"
  },
  "language_info": {
   "codemirror_mode": {
    "name": "ipython",
    "version": 3
   },
   "file_extension": ".py",
   "mimetype": "text/x-python",
   "name": "python",
   "nbconvert_exporter": "python",
   "pygments_lexer": "ipython3",
   "version": "3.7.4"
  }
 },
 "nbformat": 4,
 "nbformat_minor": 2
}
