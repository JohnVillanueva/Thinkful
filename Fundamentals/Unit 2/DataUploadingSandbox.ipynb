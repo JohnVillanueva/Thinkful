{
 "cells": [
  {
   "cell_type": "code",
   "execution_count": 19,
   "metadata": {},
   "outputs": [],
   "source": [
    "import pandas as pd\n",
    "import numpy as np\n",
    "import os"
   ]
  },
  {
   "cell_type": "code",
   "execution_count": 44,
   "metadata": {},
   "outputs": [],
   "source": [
    "df = pd.read_json('\"Working with Files\" Files/purchases.json')"
   ]
  },
  {
   "cell_type": "code",
   "execution_count": 46,
   "metadata": {},
   "outputs": [
    {
     "data": {
      "text/html": [
       "<div>\n",
       "<style scoped>\n",
       "    .dataframe tbody tr th:only-of-type {\n",
       "        vertical-align: middle;\n",
       "    }\n",
       "\n",
       "    .dataframe tbody tr th {\n",
       "        vertical-align: top;\n",
       "    }\n",
       "\n",
       "    .dataframe thead th {\n",
       "        text-align: right;\n",
       "    }\n",
       "</style>\n",
       "<table border=\"1\" class=\"dataframe\">\n",
       "  <thead>\n",
       "    <tr style=\"text-align: right;\">\n",
       "      <th></th>\n",
       "      <th>Unnamed: 0</th>\n",
       "      <th>country</th>\n",
       "      <th>ad_views</th>\n",
       "      <th>items_purchased</th>\n",
       "    </tr>\n",
       "  </thead>\n",
       "  <tbody>\n",
       "    <tr>\n",
       "      <th>0</th>\n",
       "      <td>George</td>\n",
       "      <td>US</td>\n",
       "      <td>16</td>\n",
       "      <td>2</td>\n",
       "    </tr>\n",
       "    <tr>\n",
       "      <th>1</th>\n",
       "      <td>John</td>\n",
       "      <td>CAN</td>\n",
       "      <td>42</td>\n",
       "      <td>1</td>\n",
       "    </tr>\n",
       "    <tr>\n",
       "      <th>2</th>\n",
       "      <td>Thomas</td>\n",
       "      <td>CAN</td>\n",
       "      <td>32</td>\n",
       "      <td>0</td>\n",
       "    </tr>\n",
       "    <tr>\n",
       "      <th>3</th>\n",
       "      <td>James</td>\n",
       "      <td>US</td>\n",
       "      <td>13</td>\n",
       "      <td>8</td>\n",
       "    </tr>\n",
       "    <tr>\n",
       "      <th>4</th>\n",
       "      <td>Andrew</td>\n",
       "      <td>CAN</td>\n",
       "      <td>63</td>\n",
       "      <td>0</td>\n",
       "    </tr>\n",
       "    <tr>\n",
       "      <th>5</th>\n",
       "      <td>Martin</td>\n",
       "      <td>US</td>\n",
       "      <td>19</td>\n",
       "      <td>5</td>\n",
       "    </tr>\n",
       "    <tr>\n",
       "      <th>6</th>\n",
       "      <td>William</td>\n",
       "      <td>US</td>\n",
       "      <td>65</td>\n",
       "      <td>7</td>\n",
       "    </tr>\n",
       "    <tr>\n",
       "      <th>7</th>\n",
       "      <td>Zachary</td>\n",
       "      <td>US</td>\n",
       "      <td>23</td>\n",
       "      <td>3</td>\n",
       "    </tr>\n",
       "    <tr>\n",
       "      <th>8</th>\n",
       "      <td>Millard</td>\n",
       "      <td>CAN</td>\n",
       "      <td>16</td>\n",
       "      <td>0</td>\n",
       "    </tr>\n",
       "    <tr>\n",
       "      <th>9</th>\n",
       "      <td>Franklin</td>\n",
       "      <td>US</td>\n",
       "      <td>77</td>\n",
       "      <td>5</td>\n",
       "    </tr>\n",
       "  </tbody>\n",
       "</table>\n",
       "</div>"
      ],
      "text/plain": [
       "  Unnamed: 0 country  ad_views  items_purchased\n",
       "0     George      US        16                2\n",
       "1       John     CAN        42                1\n",
       "2     Thomas     CAN        32                0\n",
       "3      James      US        13                8\n",
       "4     Andrew     CAN        63                0\n",
       "5     Martin      US        19                5\n",
       "6    William      US        65                7\n",
       "7    Zachary      US        23                3\n",
       "8    Millard     CAN        16                0\n",
       "9   Franklin      US        77                5"
      ]
     },
     "execution_count": 46,
     "metadata": {},
     "output_type": "execute_result"
    }
   ],
   "source": [
    "df"
   ]
  },
  {
   "cell_type": "code",
   "execution_count": 50,
   "metadata": {},
   "outputs": [
    {
     "name": "stdout",
     "output_type": "stream",
     "text": [
      "This poem is 19 lines long.\n",
      "['Beautiful is better than ugly.\\n', 'Explicit is better than implicit.\\n', 'Simple is better than complex.\\n', 'Complex is better than complicated.\\n', 'Flat is better than nested.\\n', 'Sparse is better than dense.\\n', 'Readability counts.\\n', \"Special cases aren't special enough to break the rules.\\n\", 'Although practicality beats purity.\\n', 'Errors should never pass silently.\\n', 'Unless explicitly silenced.\\n', 'In the face of ambiguity, refuse the temptation to guess.\\n', 'There should be one-- and preferably only one --obvious way to do it.\\n', \"Although that way may not be obvious at first unless you're Dutch.\\n\", 'Now is better than never.\\n', 'Although never is often better than *right* now.\\n', \"If the implementation is hard to explain, it's a bad idea.\\n\", 'If the implementation is easy to explain, it may be a good idea.\\n', \"Namespaces are one honking great idea -- let's do more of those!\"]\n"
     ]
    }
   ],
   "source": [
    "poem = open('\"Working with Files\" Files/poem.txt')\n",
    "text = poem.readlines()\n",
    "print(\"This poem is {} lines long.\".format(len(text)))\n",
    "print(text)"
   ]
  },
  {
   "cell_type": "code",
   "execution_count": 52,
   "metadata": {},
   "outputs": [
    {
     "name": "stdout",
     "output_type": "stream",
     "text": [
      "This file has 11 lines.\n",
      "[',country,ad_views,items_purchased\\n', 'George,US,16,2\\n', 'John,CAN,42,1\\n', 'Thomas,CAN,32,0\\n', 'James,US,13,8\\n', 'Andrew,CAN,63,0\\n', 'Martin,US,19,5\\n', 'William,US,65,7\\n', 'Zachary,US,23,3\\n', 'Millard,CAN,16,0\\n', 'Franklin,US,77,5']\n"
     ]
    }
   ],
   "source": [
    "purch_file = open('\"Working with Files\" Files/purchases.csv')\n",
    "purchases = purch_file.readlines()\n",
    "print(\"This file has {} lines.\".format(len(purchases)))\n",
    "print(purchases)"
   ]
  },
  {
   "cell_type": "code",
   "execution_count": 55,
   "metadata": {},
   "outputs": [
    {
     "ename": "SyntaxError",
     "evalue": "invalid syntax (<ipython-input-55-4b941dae8653>, line 1)",
     "output_type": "error",
     "traceback": [
      "\u001b[0;36m  File \u001b[0;32m\"<ipython-input-55-4b941dae8653>\"\u001b[0;36m, line \u001b[0;32m1\u001b[0m\n\u001b[0;31m    .close('\"Working with Files\" Files/poem.txt')\u001b[0m\n\u001b[0m    ^\u001b[0m\n\u001b[0;31mSyntaxError\u001b[0m\u001b[0;31m:\u001b[0m invalid syntax\n"
     ]
    }
   ],
   "source": [
    ".close('\"Working with Files\" Files/poem.txt')\n",
    ".close('\"Working with Files\" Files/purchases.csv')"
   ]
  },
  {
   "cell_type": "code",
   "execution_count": null,
   "metadata": {},
   "outputs": [],
   "source": []
  }
 ],
 "metadata": {
  "kernelspec": {
   "display_name": "Python 3",
   "language": "python",
   "name": "python3"
  },
  "language_info": {
   "codemirror_mode": {
    "name": "ipython",
    "version": 3
   },
   "file_extension": ".py",
   "mimetype": "text/x-python",
   "name": "python",
   "nbconvert_exporter": "python",
   "pygments_lexer": "ipython3",
   "version": "3.7.2"
  }
 },
 "nbformat": 4,
 "nbformat_minor": 2
}
