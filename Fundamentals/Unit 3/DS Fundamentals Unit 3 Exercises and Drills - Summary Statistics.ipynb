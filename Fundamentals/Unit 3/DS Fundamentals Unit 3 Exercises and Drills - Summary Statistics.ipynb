{
 "cells": [
  {
   "cell_type": "code",
   "execution_count": 1,
   "metadata": {},
   "outputs": [],
   "source": [
    "import pandas as pd\n",
    "import numpy as np\n",
    "import matplotlib.pyplot as plt\n",
    "%matplotlib inline"
   ]
  },
  {
   "cell_type": "code",
   "execution_count": 2,
   "metadata": {},
   "outputs": [
    {
     "data": {
      "image/png": "[encoded data removed]",
      "text/plain": [
       "<Figure size 432x288 with 2 Axes>"
      ]
     },
     "metadata": {
      "needs_background": "light"
     },
     "output_type": "display_data"
    },
    {
     "name": "stdout",
     "output_type": "stream",
     "text": [
      "low_var      95.235397\n",
      "high_var    414.431581\n",
      "dtype: float64\n",
      "low_var      22.911970\n",
      "high_var   -312.802792\n",
      "dtype: float64\n"
     ]
    }
   ],
   "source": [
    "# First, create an empty dataframe to store your variables-to-be.\n",
    "pop=pd.DataFrame()\n",
    "\n",
    "# Then create two variables with mean = 60, one with a low standard\n",
    "# deviation (sd=10) and one with a high standard deviation (sd=100).\n",
    "pop['low_var']=np.random.normal(60, 10, 10000)\n",
    "pop['high_var']=np.random.normal(60, 100, 10000)\n",
    "\n",
    "# Finally, create histograms of the two variables.\n",
    "pop.hist(layout=(2, 1), sharex=True)\n",
    "plt.show()\n",
    "\n",
    "# Calculate and print the maximum and minimum values for each variable.\n",
    "print(pop.max())\n",
    "print(pop.min())"
   ]
  },
  {
   "cell_type": "code",
   "execution_count": 8,
   "metadata": {},
   "outputs": [
    {
     "data": {
      "image/png": "[encoded data removed]",
      "text/plain": [
       "<Figure size 432x288 with 2 Axes>"
      ]
     },
     "metadata": {
      "needs_background": "light"
     },
     "output_type": "display_data"
    },
    {
     "name": "stdout",
     "output_type": "stream",
     "text": [
      "low_var     59.211848\n",
      "high_var    63.671044\n",
      "dtype: float64\n",
      "low_var       9.544141\n",
      "high_var    104.081577\n",
      "dtype: float64\n"
     ]
    }
   ],
   "source": [
    "# Take a random sample of 100 observations from each variable\n",
    "# and store it in a new dataframe.\n",
    "sample=pd.DataFrame()\n",
    "sample['low_var'] = np.random.choice(pop['low_var'], 1000)\n",
    "sample['high_var']=np.random.choice(pop['high_var'], 1000)\n",
    "\n",
    "# Again, visualize the data. Note that here we're using a pandas method to \n",
    "# create the histogram.\n",
    "sample.hist()\n",
    "plt.show()\n",
    "\n",
    "# Check how well the sample replicates the population.\n",
    "print(sample.mean())\n",
    "print(sample.std(ddof=1))"
   ]
  },
  {
   "cell_type": "code",
   "execution_count": 20,
   "metadata": {},
   "outputs": [
    {
     "data": {
      "text/html": [
       "<div>\n",
       "<style scoped>\n",
       "    .dataframe tbody tr th:only-of-type {\n",
       "        vertical-align: middle;\n",
       "    }\n",
       "\n",
       "    .dataframe tbody tr th {\n",
       "        vertical-align: top;\n",
       "    }\n",
       "\n",
       "    .dataframe thead th {\n",
       "        text-align: right;\n",
       "    }\n",
       "</style>\n",
       "<table border=\"1\" class=\"dataframe\">\n",
       "  <thead>\n",
       "    <tr style=\"text-align: right;\">\n",
       "      <th></th>\n",
       "      <th>age</th>\n",
       "    </tr>\n",
       "  </thead>\n",
       "  <tbody>\n",
       "    <tr>\n",
       "      <th>count</th>\n",
       "      <td>7.000000</td>\n",
       "    </tr>\n",
       "    <tr>\n",
       "      <th>mean</th>\n",
       "      <td>9.857143</td>\n",
       "    </tr>\n",
       "    <tr>\n",
       "      <th>std</th>\n",
       "      <td>2.734262</td>\n",
       "    </tr>\n",
       "    <tr>\n",
       "      <th>min</th>\n",
       "      <td>6.000000</td>\n",
       "    </tr>\n",
       "    <tr>\n",
       "      <th>25%</th>\n",
       "      <td>8.000000</td>\n",
       "    </tr>\n",
       "    <tr>\n",
       "      <th>50%</th>\n",
       "      <td>10.000000</td>\n",
       "    </tr>\n",
       "    <tr>\n",
       "      <th>75%</th>\n",
       "      <td>11.500000</td>\n",
       "    </tr>\n",
       "    <tr>\n",
       "      <th>max</th>\n",
       "      <td>14.000000</td>\n",
       "    </tr>\n",
       "  </tbody>\n",
       "</table>\n",
       "</div>"
      ],
      "text/plain": [
       "             age\n",
       "count   7.000000\n",
       "mean    9.857143\n",
       "std     2.734262\n",
       "min     6.000000\n",
       "25%     8.000000\n",
       "50%    10.000000\n",
       "75%    11.500000\n",
       "max    14.000000"
      ]
     },
     "execution_count": 20,
     "metadata": {},
     "output_type": "execute_result"
    }
   ],
   "source": [
    "#Drill 1. Brady Bunch\n",
    "bradies = pd.DataFrame()\n",
    "bradies['age'] = [14,12,11,10,8,6,8]\n",
    "bradies.describe()"
   ]
  },
  {
   "cell_type": "code",
   "execution_count": 15,
   "metadata": {},
   "outputs": [
    {
     "data": {
      "text/html": [
       "<div>\n",
       "<style scoped>\n",
       "    .dataframe tbody tr th:only-of-type {\n",
       "        vertical-align: middle;\n",
       "    }\n",
       "\n",
       "    .dataframe tbody tr th {\n",
       "        vertical-align: top;\n",
       "    }\n",
       "\n",
       "    .dataframe thead th {\n",
       "        text-align: right;\n",
       "    }\n",
       "</style>\n",
       "<table border=\"1\" class=\"dataframe\">\n",
       "  <thead>\n",
       "    <tr style=\"text-align: right;\">\n",
       "      <th></th>\n",
       "      <th>age</th>\n",
       "    </tr>\n",
       "  </thead>\n",
       "  <tbody>\n",
       "    <tr>\n",
       "      <th>0</th>\n",
       "      <td>8</td>\n",
       "    </tr>\n",
       "  </tbody>\n",
       "</table>\n",
       "</div>"
      ],
      "text/plain": [
       "   age\n",
       "0    8"
      ]
     },
     "execution_count": 15,
     "metadata": {},
     "output_type": "execute_result"
    }
   ],
   "source": [
    "bradies.mode()"
   ]
  },
  {
   "cell_type": "code",
   "execution_count": 16,
   "metadata": {},
   "outputs": [
    {
     "data": {
      "text/plain": [
       "age    7.47619\n",
       "dtype: float64"
      ]
     },
     "execution_count": 16,
     "metadata": {},
     "output_type": "execute_result"
    }
   ],
   "source": [
    "bradies.var()"
   ]
  },
  {
   "cell_type": "code",
   "execution_count": 21,
   "metadata": {},
   "outputs": [
    {
     "data": {
      "text/plain": [
       "age    2.734262\n",
       "dtype: float64"
      ]
     },
     "execution_count": 21,
     "metadata": {},
     "output_type": "execute_result"
    }
   ],
   "source": [
    "bradies.std()"
   ]
  },
  {
   "cell_type": "code",
   "execution_count": 18,
   "metadata": {},
   "outputs": [
    {
     "data": {
      "text/plain": [
       "2.4220580515285173"
      ]
     },
     "execution_count": 18,
     "metadata": {},
     "output_type": "execute_result"
    }
   ],
   "source": [
    "np.var(bradies['age'])/np.sqrt(len(bradies['age']))"
   ]
  },
  {
   "cell_type": "markdown",
   "metadata": {},
   "source": [
    "#Drill 2. Which estimate of central tendency and variance would I use? <br><br>\n",
    "I would use the mean as the best measure of central tendency for the Brady bunch kids because it gives a could sense about the everyone's general age, that everyone generally hovers around the age of 9.86 (or 10). The median does not give a proper sense of how old the oldest child might be or how young the youngest child might because, and furthermore, the measure of variance complements the mean since the mean is used to calculate the variances measures. I would not use the mode because with such a small data set, the mode is very limited in what it can say about the it's associated dataset.<br> For the variance measure, I would use the standard deviation, because it can be added and subtracted to the mean get a sense of how many people lie above and below certain age. The variance is only useful when comparing against variances of other data sets, but it does not have the same scale as it underlying data so it's difficult to use to get an intuitive sense of data's spread. Standard error is not useful at all in this examples because it is used to measure the precision of sample mean's estimate of population mean. These statistical calculations find the population stastistics and not the sample statistics.\n"
   ]
  },
  {
   "cell_type": "markdown",
   "metadata": {},
   "source": [
    "#Drill 3. Cindy has a Birthday. She is now 7. What changes about your statistics? <br><br>\n",
    "Without calculations, I already know that the only measure of central tendency that changes is the mean, since each value is used to calculate the statistic. Median and mode rely on the positioning and counts of the values respectively, and not the values of the numbers themselves, and because cindy neither surpasses another sibilings' or her cousin's age, nor matches any of their ages, everyone's positional age stay the same and so do the counts of each age. <br> The variance level is trickier to answer so we will calculate it below, but I can say that variance and standard deviation with decrease slightly based on the range (max - min) of ages decreasing."
   ]
  },
  {
   "cell_type": "code",
   "execution_count": 22,
   "metadata": {},
   "outputs": [
    {
     "data": {
      "text/plain": [
       "age    2.516611\n",
       "dtype: float64"
      ]
     },
     "execution_count": 22,
     "metadata": {},
     "output_type": "execute_result"
    }
   ],
   "source": [
    "bradies2 = pd.DataFrame()\n",
    "bradies2['age'] = [14,12,11,10,8,7,8]\n",
    "bradies2.std()"
   ]
  },
  {
   "cell_type": "markdown",
   "metadata": {},
   "source": [
    "Before Cindy had her birthday the std was 2.734262 and after turning 7 the std is 2.516611. The std decreased because as I mentioned previously, the range of ages decreased."
   ]
  },
  {
   "cell_type": "code",
   "execution_count": 24,
   "metadata": {},
   "outputs": [
    {
     "name": "stdout",
     "output_type": "stream",
     "text": [
      "             age\n",
      "count   7.000000\n",
      "mean    9.000000\n",
      "std     4.242641\n",
      "min     1.000000\n",
      "25%     7.500000\n",
      "50%    10.000000\n",
      "75%    11.500000\n",
      "max    14.000000\n",
      "   age\n",
      "0    1\n",
      "1    7\n",
      "2    8\n",
      "3   10\n",
      "4   11\n",
      "5   12\n",
      "6   14\n",
      "age    18.0\n",
      "dtype: float64\n",
      "age    4.242641\n",
      "dtype: float64\n"
     ]
    }
   ],
   "source": [
    "#Drill 3. Replacing cousing Oliver with 1 year old baby Jessica.\n",
    "bradies3 = pd.DataFrame()\n",
    "bradies3['age']= [14,12,11,10,8,7,1]\n",
    "print(bradies3.describe())\n",
    "print(bradies3.mode())\n",
    "print(bradies3.var())\n",
    "print(bradies3.std())"
   ]
  },
  {
   "cell_type": "markdown",
   "metadata": {},
   "source": [
    "While the average age decreased after swapping out Oliver for Jessica, it's not by very much: from 9.86 to 9. I would still use the both the average, however having the presenting the median along with with average becomes more useful - having the median alone does not provide enough insight and can't be used in tandem with the standard deviation. And again, the standard deviation is best measure of variance to choose for the same reasons as mentioned before - nothing about this dataset has fundamentally changed."
   ]
  },
  {
   "cell_type": "markdown",
   "metadata": {},
   "source": [
    "Drill 5. Estimating the proportion of the adult american population that are fans of the Brady Bunch. <br><br>\n",
    "This is a difficult question to answer based on the limited information given. Questions that immediately come to mind based on the data are: How representative are each of these magazine audiences representative of the general american population? How many people exactly or roughly were surveyed by each magazine? The SciPhi magazine readers are definitly not representative of the of the American population because, based on the name, the genre in interest is relatively niche. <br> <br>\n",
    "The other magazines cover a greater range of media interests and are a good proxy for the state of American popular entertainment. I will go ahead and assume the audience members provide a relatively unbiased sample of the American popoulation.<br><br>\n",
    "Because I'm unsure of the number of people that each magazine surveyed, I will equally weight each percentage of the their readers that are fans of the brady bunch. Equal weighting of the percentages assumes that the same of number of people were surveyed by each magazine. Thus taking the average of the percentages from those three magazines, it seems that 20% of the American population is a good indicator of. <br><br>\n",
    "Unfortunately, it is not possible to measure the spread or the standard error of this figure because we do not know how many people were surveyed.\n",
    "\n"
   ]
  }
 ],
 "metadata": {
  "kernelspec": {
   "display_name": "Python 3",
   "language": "python",
   "name": "python3"
  },
  "language_info": {
   "codemirror_mode": {
    "name": "ipython",
    "version": 3
   },
   "file_extension": ".py",
   "mimetype": "text/x-python",
   "name": "python",
   "nbconvert_exporter": "python",
   "pygments_lexer": "ipython3",
   "version": "3.7.2"
  }
 },
 "nbformat": 4,
 "nbformat_minor": 2
}
